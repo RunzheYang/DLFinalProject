{
 "cells": [
  {
   "cell_type": "markdown",
   "metadata": {},
   "source": [
    "#  Tone Classification Task"
   ]
  },
  {
   "cell_type": "markdown",
   "metadata": {},
   "source": [
    "## Data Preparation"
   ]
  },
  {
   "cell_type": "code",
   "execution_count": 204,
   "metadata": {
    "collapsed": false
   },
   "outputs": [],
   "source": [
    "require 'loader'\n",
    "require 'nn'\n",
    "MAX_LEN = 256\n",
    "max_len = 64\n",
    "-- Loader:new(obj, max_len)\n",
    "ldr = Loader:new(nil, MAX_LEN)"
   ]
  },
  {
   "cell_type": "code",
   "execution_count": 205,
   "metadata": {
    "collapsed": true
   },
   "outputs": [],
   "source": [
    "function moving_avg(vec, window)\n",
    "    local len = (#vec)[1]\n",
    "    local new_vec = torch.Tensor(len):fill(0.0)\n",
    "    for i = 1, (len - window - 1) do\n",
    "        local sum = vec[{{i, i + window - 1}}]:sum() / window\n",
    "        new_vec[i+1] = sum\n",
    "    end\n",
    "    return new_vec\n",
    "end"
   ]
  },
  {
   "cell_type": "code",
   "execution_count": 206,
   "metadata": {
    "collapsed": false
   },
   "outputs": [],
   "source": [
    "-- kick too large or too small values\n",
    "function kick(vec, topsmall, toplarge)\n",
    "    -- kick the smalls\n",
    "    for i = 1, topsmall do\n",
    "        vec:csub(vec:min())\n",
    "        new_vec = vec[vec:gt(0.0)]:clone()\n",
    "        vec = new_vec\n",
    "    end\n",
    "    for i = 1, toplarge do\n",
    "        _, inds = torch.max(vec, 1)\n",
    "--         print(inds)\n",
    "        for j = 1, (#inds)[1] do\n",
    "            vec[inds[j]] = 0.0\n",
    "        end\n",
    "        new_vec = vec[vec:gt(0.0)]:clone()\n",
    "        vec = new_vec\n",
    "    end\n",
    "    return new_vec\n",
    "end\n",
    "\n",
    "-- local i = 0\n",
    "-- local tester = torch.Tensor(10):apply(function() i = i + 1 return i end)\n",
    "-- print(tester)\n",
    "-- print(kick(tester, 1, 0))"
   ]
  },
  {
   "cell_type": "code",
   "execution_count": 207,
   "metadata": {
    "collapsed": false
   },
   "outputs": [],
   "source": [
    "local matrix = require \"matrix\"\n",
    "local fit = {}\n",
    "local function getresults( mtx )\n",
    "    assert( #mtx+1 == #mtx[1], \"Cannot calculate Results\" )\n",
    "    mtx:dogauss()\n",
    "    -- tresults\n",
    "    local cols = #mtx[1]\n",
    "    local tres = {}\n",
    "    for i = 1,#mtx do\n",
    "        tres[i] = mtx[i][cols]\n",
    "    end\n",
    "    return unpack( tres )\n",
    "end\n",
    "\n",
    "function fit.parabola( x_values,y_values )\n",
    "    -- x_values = { x1,x2,x3,...,xn }\n",
    "    -- y_values = { y1,y2,y3,...,yn }\n",
    "\n",
    "    -- values for A matrix\n",
    "    local a_vals = {}\n",
    "    -- values for Y vector\n",
    "    local y_vals = {}\n",
    "\n",
    "    for i,v in ipairs( x_values ) do\n",
    "        a_vals[i] = { 1, v, v*v }\n",
    "        y_vals[i] = { y_values[i] }\n",
    "    end\n",
    "\n",
    "    -- create both Matrixes\n",
    "    local A = matrix:new( a_vals )\n",
    "    local Y = matrix:new( y_vals )\n",
    "\n",
    "    local ATA = matrix.mul( matrix.transpose(A), A )\n",
    "    local ATY = matrix.mul( matrix.transpose(A), Y )\n",
    "\n",
    "    local ATAATY = matrix.concath(ATA,ATY)\n",
    "\n",
    "    return getresults( ATAATY )\n",
    "end\n",
    "\n",
    "function fit_quad(vec, targetLen)\n",
    "    local len = (#vec)[1]\n",
    "    local xs = {}\n",
    "    local ys = {}\n",
    "    local a, b, c\n",
    "    for i = 1, len do\n",
    "        table.insert(xs, i)\n",
    "        table.insert(ys, vec[i])\n",
    "    end\n",
    "    a, b, c = fit.parabola(xs, ys)\n",
    "    local res = torch.Tensor(targetLen)\n",
    "    for i = 1, targetLen do\n",
    "        local ii = (i - 1) / (targetLen - 1) * (len - 1) + 1\n",
    "        res[i] = a + b * ii + c * ii * ii\n",
    "    end\n",
    "    return res\n",
    "end"
   ]
  },
  {
   "cell_type": "code",
   "execution_count": 217,
   "metadata": {
    "collapsed": true
   },
   "outputs": [],
   "source": [
    "function make_linear_spine(vec, targetLen)\n",
    "    local len = (#vec)[1]\n",
    "    local ys = {}\n",
    "    \n",
    "    for i = 1, len do\n",
    "        table.insert(ys, vec[i])\n",
    "    end\n",
    "    \n",
    "    local res = torch.Tensor(targetLen)\n",
    "    \n",
    "    local i = 1\n",
    "    for ind = 1, targetLen do\n",
    "        local x = (ind - 1) * (len - 1) / (targetLen - 1) + 1\n",
    "        if  x > i then\n",
    "            i = i + 1\n",
    "        end\n",
    "        if x == i then \n",
    "            res[ind] = ys[i]\n",
    "        else\n",
    "            res[ind] = (ys[i] - ys[i - 1]) * (x - i + 1) + ys[i - 1]\n",
    "        end\n",
    "    end\n",
    "    return res\n",
    "end"
   ]
  },
  {
   "cell_type": "markdown",
   "metadata": {},
   "source": [
    "# Dataset!"
   ]
  },
  {
   "cell_type": "code",
   "execution_count": 230,
   "metadata": {
    "collapsed": false
   },
   "outputs": [],
   "source": [
    "function make_dataset(name)\n",
    "    local dataset = {data = ldr.data[name], label = ldr.label[name]}\n",
    "    function dataset:size() \n",
    "        return self.data:size(1) \n",
    "    end\n",
    "    for i = 1, 2 do\n",
    "        for j = 1, dataset:size() do\n",
    "            local std = dataset.data[{j, {}, i}]:std()\n",
    "            dataset.data[{j, {}, i}]:div(std)\n",
    "        end\n",
    "    end\n",
    "    for i = 1, 2 do\n",
    "        local std = dataset.data[{{}, {}, i}]:std()\n",
    "        dataset.data[{{}, {}, i}]:div(std)\n",
    "    end\n",
    "    local resized_collection = {\n",
    "        data = torch.Tensor(dataset:size(), max_len,2),\n",
    "        label = dataset.label\n",
    "    }\n",
    "    function resized_collection:size()\n",
    "        return self.data:size(1) \n",
    "    end\n",
    "    for i = 1, dataset:size() do\n",
    "        for j = 1, MAX_LEN do\n",
    "--             if (dataset.data[{i, j, 2}] < 2.0 or dataset.data[{i, j, 1}] < 1.35) then\n",
    "            if (dataset.data[{i, j, 2}] < 2.0) then\n",
    "                dataset.data[{i, j, 1}] = 0.0\n",
    "                dataset.data[{i, j, 2}] = 0.0\n",
    "            end\n",
    "        end\n",
    "        \n",
    "        \n",
    "        local shifted_F0 = torch.Tensor(max_len):fill(0.0)\n",
    "        local shifted_Engy = torch.Tensor(max_len):fill(0.0)\n",
    "        local data = dataset.data[{i, {}, {}}]\n",
    "        local tmpF0 = data[{{}, 1}][data[{{}, 1}]:gt(0.0)]:clone()\n",
    "        local tmpEngy = data[{{}, 2}][data[{{}, 2}]:gt(0.0)]:clone()\n",
    "        \n",
    "        \n",
    "--         tmpF0 = kick(tmpF0, 1, 1)\n",
    "--         tmpEngy = kick(tmpEngy, 0, 0)\n",
    "        \n",
    "        tmpF0 = moving_avg(tmpF0, 3)\n",
    "        tmpF0 = kick(tmpF0, 1, 0)\n",
    "        \n",
    "        tmpEngy = moving_avg(tmpEngy, 5)\n",
    "        tmpEngy = kick(tmpEngy, 1, 0)\n",
    "        \n",
    "--         shifted_F0[{{1, (#tmpF0)[1]}}] = tmpF0, 5\n",
    "--         shifted_Engy[{{1, (#tmpEngy)[1]}}] = tmpEngy\n",
    "        \n",
    "--         resized_collection.data[{i, {}, 1}] = shifted_F0\n",
    "--         resized_collection.data[{i, {}, 2}] = shifted_Engy\n",
    "        \n",
    "        resized_collection.data[{i, {}, 1}] = make_linear_spine(tmpF0, max_len)\n",
    "        peek = tmpF0\n",
    "        resized_collection.data[{i, {}, 2}] = make_linear_spine(tmpEngy, max_len)\n",
    "    \n",
    "    \n",
    "    end\n",
    "--     for i = 1, 2 do\n",
    "--         for j = 1, dataset:size() do\n",
    "--             local std = resized_collection.data[{j, {}, i}]:std()\n",
    "--             resized_collection.data[{j, {}, i}]:div(std)\n",
    "--         end\n",
    "--     end\n",
    "--     for i = 1, 2 do\n",
    "--         local std = resized_collection.data[{{}, {}, i}]:std()\n",
    "--         resized_collection.data[{{}, {}, i}]:div(std)\n",
    "--     end\n",
    "    \n",
    "    resized_collection.data[{{}, {}, 2}]:fill(0.0)\n",
    "    for i = 1, dataset:size() do\n",
    "        resized_collection[i] = {resized_collection.data[i], resized_collection.label[i]}\n",
    "    end\n",
    "    print(\"dataset \"..name..\" has been constructed!\")\n",
    "    return resized_collection\n",
    "end"
   ]
  },
  {
   "cell_type": "code",
   "execution_count": 231,
   "metadata": {
    "collapsed": false
   },
   "outputs": [
    {
     "data": {
      "text/plain": [
       "dataset train has been constructed!\t\n"
      ]
     },
     "execution_count": 231,
     "metadata": {},
     "output_type": "execute_result"
    },
    {
     "data": {
      "text/plain": [
       "dataset test has been constructed!\t\n"
      ]
     },
     "execution_count": 231,
     "metadata": {},
     "output_type": "execute_result"
    },
    {
     "data": {
      "text/plain": [
       "dataset test_new has been constructed!\t\n"
      ]
     },
     "execution_count": 231,
     "metadata": {},
     "output_type": "execute_result"
    }
   ],
   "source": [
    "trainset = make_dataset('train')\n",
    "testset = make_dataset('test')\n",
    "newtestset = make_dataset('test_new')"
   ]
  },
  {
   "cell_type": "code",
   "execution_count": 232,
   "metadata": {
    "collapsed": false
   },
   "outputs": [
    {
     "data": {
      "text/html": [
       "<script type=\"text/javascript\">\n",
       "$(function() {\n",
       "    if (typeof (window._bokeh_onload_callbacks) === \"undefined\"){\n",
       "  window._bokeh_onload_callbacks = [];\n",
       "    }\n",
       "    function load_lib(url, callback){\n",
       "  window._bokeh_onload_callbacks.push(callback);\n",
       "  if (window._bokeh_is_loading){\n",
       "      console.log(\"Bokeh: BokehJS is being loaded, scheduling callback at\", new Date());\n",
       "      return null;\n",
       "  }\n",
       "  console.log(\"Bokeh: BokehJS not loaded, scheduling load and callback at\", new Date());\n",
       "  window._bokeh_is_loading = true;\n",
       "  var s = document.createElement('script');\n",
       "  s.src = url;\n",
       "  s.async = true;\n",
       "  s.onreadystatechange = s.onload = function(){\n",
       "      Bokeh.embed.inject_css(\"https://cdn.pydata.org/bokeh-0.7.0.min.css\");\n",
       "      window._bokeh_onload_callbacks.forEach(function(callback){callback()});\n",
       "  };\n",
       "  s.onerror = function(){\n",
       "      console.warn(\"failed to load library \" + url);\n",
       "  };\n",
       "  document.getElementsByTagName(\"head\")[0].appendChild(s);\n",
       "    }\n",
       "\n",
       "    bokehjs_url = \"https://cdn.pydata.org/bokeh-0.7.0.min.js\"\n",
       "\n",
       "    var elt = document.getElementById(\"5250b07f-d2fa-4112-c1d3-edd08cc15824\");\n",
       "    if(elt==null) {\n",
       "  console.log(\"Bokeh: ERROR: autoload.js configured with elementid '5250b07f-d2fa-4112-c1d3-edd08cc15824'\"\n",
       "        + \"but no matching script tag was found. \")\n",
       "  return false;\n",
       "    }\n",
       "\n",
       "    if(typeof(Bokeh) !== \"undefined\") {\n",
       "  console.log(\"Bokeh: BokehJS loaded, going straight to plotting\");\n",
       "  var modelid = \"3ce02cec-6967-4b72-cbc0-9f3f2575b704\";\n",
       "  var modeltype = \"Plot\";\n",
       "  var all_models = [{\"id\":\"11ab1dcf-bb3a-418e-c131-d45e7588197b\",\"type\":\"ColumnDataSource\",\"attributes\":{\"data\":{\"y\":[3.3231157424538,3.2583992699729,3.1936827974919,3.1402595112908,3.0906006205163,3.0495280070386,3.0170416708578,2.9881970877558,2.9702777638901,2.9523584400245,2.9443792879922,2.9364001359599,2.9280571095518,2.9195927916852,2.9095183483597,2.8978337795752,2.8861824110495,2.8746306433,2.8630788755504,2.8525077913051,2.8419367070597,2.8318222825863,2.8218600780369,2.8123465860068,2.8032818064961,2.794716316223,2.7876486936628,2.7805810711025,2.7816414007368,2.7827017303711,2.786529516419,2.791279787938,2.7972959748888,2.8045780772713,2.8109187995535,2.8144353815348,2.8179519635161,2.8217363227863,2.8255206820564,2.8328429564358,2.8413445358516,2.8531032931737,2.868119228402,2.8823407413093,2.8941789872536,2.9060172331979,2.9139866335344,2.921956033871,2.9304920609623,2.9392169636387,2.9496330382301,2.9617402847366,2.9735632133214,2.9845331881413,2.9955031629612,3.00040932135,3.0053154797388,3.007915604664,3.009747051768,3.013746311648,3.0199133843041,3.0260043035973,3.0318667628017,3.0377292220061],\"x\":[1,2,3,4,5,6,7,8,9,10,11,12,13,14,15,16,17,18,19,20,21,22,23,24,25,26,27,28,29,30,31,32,33,34,35,36,37,38,39,40,41,42,43,44,45,46,47,48,49,50,51,52,53,54,55,56,57,58,59,60,61,62,63,64]},\"column_names\":[\"y\",\"x\"],\"cont_ranges\":{},\"discrete_ranges\":{},\"selected\":[],\"id\":\"11ab1dcf-bb3a-418e-c131-d45e7588197b\",\"doc\":null,\"tags\":[]}},{\"id\":\"491f0459-a72b-4b87-cb0a-03e857d7b118\",\"type\":\"Line\",\"attributes\":{\"fill_alpha\":{\"units\":\"data\",\"value\":0.2},\"line_alpha\":{\"units\":\"data\",\"value\":1},\"doc\":null,\"size\":{\"units\":\"screen\",\"value\":10},\"fill_color\":{\"value\":\"red\"},\"line_color\":{\"value\":\"red\"},\"x\":{\"units\":\"data\",\"field\":\"x\"},\"id\":\"491f0459-a72b-4b87-cb0a-03e857d7b118\",\"y\":{\"units\":\"data\",\"field\":\"y\"},\"tags\":[]}},{\"id\":\"66fc9386-d7ea-4a95-ca9e-28b7f13ed956\",\"type\":\"Line\",\"attributes\":{\"fill_alpha\":{\"units\":\"data\",\"value\":0.2},\"line_alpha\":{\"units\":\"data\",\"value\":1},\"doc\":null,\"size\":{\"units\":\"screen\",\"value\":10},\"fill_color\":{\"value\":\"red\"},\"line_color\":{\"value\":\"red\"},\"x\":{\"units\":\"data\",\"field\":\"x\"},\"id\":\"66fc9386-d7ea-4a95-ca9e-28b7f13ed956\",\"y\":{\"units\":\"data\",\"field\":\"y\"},\"tags\":[]}},{\"id\":\"dd394c47-3e94-46ef-c6a3-b0e98b8fdad6\",\"type\":\"GlyphRenderer\",\"attributes\":{\"name\":null,\"nonselection_glyph\":{\"type\":\"Line\",\"id\":\"66fc9386-d7ea-4a95-ca9e-28b7f13ed956\"},\"doc\":null,\"server_data_source\":null,\"data_source\":{\"type\":\"ColumnDataSource\",\"id\":\"11ab1dcf-bb3a-418e-c131-d45e7588197b\"},\"glyph\":{\"type\":\"Line\",\"id\":\"491f0459-a72b-4b87-cb0a-03e857d7b118\"},\"selection_glyph\":null,\"id\":\"dd394c47-3e94-46ef-c6a3-b0e98b8fdad6\",\"tags\":[]}},{\"id\":\"84197ed3-b08d-4ddd-cd1d-759194ec7c12\",\"type\":\"DataRange1d\",\"attributes\":{\"sources\":[{\"columns\":[\"x\"],\"source\":{\"type\":\"ColumnDataSource\",\"id\":\"11ab1dcf-bb3a-418e-c131-d45e7588197b\"}}],\"id\":\"84197ed3-b08d-4ddd-cd1d-759194ec7c12\",\"tags\":[],\"doc\":null}},{\"id\":\"ea11b15e-d0c7-415d-c188-f5e04c66443b\",\"type\":\"DataRange1d\",\"attributes\":{\"sources\":[{\"columns\":[\"y\"],\"source\":{\"type\":\"ColumnDataSource\",\"id\":\"11ab1dcf-bb3a-418e-c131-d45e7588197b\"}}],\"id\":\"ea11b15e-d0c7-415d-c188-f5e04c66443b\",\"tags\":[],\"doc\":null}},{\"id\":\"d082d08f-4ddb-4c80-cc06-8f81830f9c0f\",\"type\":\"ToolEvents\",\"attributes\":{\"tags\":[],\"id\":\"d082d08f-4ddb-4c80-cc06-8f81830f9c0f\",\"geometries\":[],\"doc\":null}},{\"id\":\"596d47b6-e4da-49af-c9af-e848ddb40512\",\"type\":\"BasicTickFormatter\",\"attributes\":{\"id\":\"596d47b6-e4da-49af-c9af-e848ddb40512\",\"tags\":[],\"doc\":null}},{\"id\":\"1915920a-039f-45ee-c5c5-6d5029874c58\",\"type\":\"BasicTicker\",\"attributes\":{\"num_minor_ticks\":5,\"id\":\"1915920a-039f-45ee-c5c5-6d5029874c58\",\"tags\":[],\"doc\":null}},{\"id\":\"50c897ba-6d6c-4888-c8e1-c2e5f3ee2fdc\",\"type\":\"LinearAxis\",\"attributes\":{\"formatter\":{\"type\":\"BasicTickFormatter\",\"id\":\"596d47b6-e4da-49af-c9af-e848ddb40512\"},\"ticker\":{\"type\":\"BasicTicker\",\"id\":\"1915920a-039f-45ee-c5c5-6d5029874c58\"},\"plot\":{\"id\":\"3ce02cec-6967-4b72-cbc0-9f3f2575b704\",\"type\":\"Plot\",\"subtype\":\"Figure\"},\"axis_label\":null,\"id\":\"50c897ba-6d6c-4888-c8e1-c2e5f3ee2fdc\",\"doc\":null,\"tags\":[]}},{\"id\":\"7000bf5f-fb5b-43b2-c3a9-a05a1323d67f\",\"type\":\"Grid\",\"attributes\":{\"dimension\":0,\"plot\":{\"id\":\"3ce02cec-6967-4b72-cbc0-9f3f2575b704\",\"type\":\"Plot\",\"subtype\":\"Figure\"},\"ticker\":{\"type\":\"BasicTicker\",\"id\":\"1915920a-039f-45ee-c5c5-6d5029874c58\"},\"id\":\"7000bf5f-fb5b-43b2-c3a9-a05a1323d67f\",\"doc\":null,\"tags\":[]}},{\"id\":\"36d8c6f9-ef20-417f-c1f3-555579c6da7e\",\"type\":\"BasicTickFormatter\",\"attributes\":{\"id\":\"36d8c6f9-ef20-417f-c1f3-555579c6da7e\",\"tags\":[],\"doc\":null}},{\"id\":\"fd3fd528-ed86-4f4e-cf3d-b89ac6bb6610\",\"type\":\"BasicTicker\",\"attributes\":{\"num_minor_ticks\":5,\"id\":\"fd3fd528-ed86-4f4e-cf3d-b89ac6bb6610\",\"tags\":[],\"doc\":null}},{\"id\":\"385a0d9a-43ca-4ad8-ca46-c83b16ae3e35\",\"type\":\"LinearAxis\",\"attributes\":{\"formatter\":{\"type\":\"BasicTickFormatter\",\"id\":\"36d8c6f9-ef20-417f-c1f3-555579c6da7e\"},\"ticker\":{\"type\":\"BasicTicker\",\"id\":\"fd3fd528-ed86-4f4e-cf3d-b89ac6bb6610\"},\"plot\":{\"id\":\"3ce02cec-6967-4b72-cbc0-9f3f2575b704\",\"type\":\"Plot\",\"subtype\":\"Figure\"},\"axis_label\":null,\"id\":\"385a0d9a-43ca-4ad8-ca46-c83b16ae3e35\",\"doc\":null,\"tags\":[]}},{\"id\":\"dc2843ef-6c0b-4724-c72e-ac2590a182e3\",\"type\":\"Grid\",\"attributes\":{\"dimension\":1,\"plot\":{\"id\":\"3ce02cec-6967-4b72-cbc0-9f3f2575b704\",\"type\":\"Plot\",\"subtype\":\"Figure\"},\"ticker\":{\"type\":\"BasicTicker\",\"id\":\"fd3fd528-ed86-4f4e-cf3d-b89ac6bb6610\"},\"id\":\"dc2843ef-6c0b-4724-c72e-ac2590a182e3\",\"doc\":null,\"tags\":[]}},{\"id\":\"145d38ee-c982-46a1-c615-319318aea150\",\"type\":\"PanTool\",\"attributes\":{\"plot\":{\"id\":\"3ce02cec-6967-4b72-cbc0-9f3f2575b704\",\"type\":\"Plot\",\"subtype\":\"Figure\"},\"dimensions\":[\"width\",\"height\"],\"id\":\"145d38ee-c982-46a1-c615-319318aea150\",\"doc\":null,\"tags\":[]}},{\"id\":\"54dd2a4b-970d-453e-c5eb-f93e2b0333bc\",\"type\":\"WheelZoomTool\",\"attributes\":{\"plot\":{\"id\":\"3ce02cec-6967-4b72-cbc0-9f3f2575b704\",\"type\":\"Plot\",\"subtype\":\"Figure\"},\"dimensions\":[\"width\",\"height\"],\"id\":\"54dd2a4b-970d-453e-c5eb-f93e2b0333bc\",\"doc\":null,\"tags\":[]}},{\"id\":\"68ae0b32-548e-4ddb-cdc1-c24bbaafe0d5\",\"type\":\"BoxZoomTool\",\"attributes\":{\"plot\":{\"id\":\"3ce02cec-6967-4b72-cbc0-9f3f2575b704\",\"type\":\"Plot\",\"subtype\":\"Figure\"},\"id\":\"68ae0b32-548e-4ddb-cdc1-c24bbaafe0d5\",\"tags\":[],\"doc\":null}},{\"id\":\"f480747b-b305-4591-c5a9-4bf69e3cce13\",\"type\":\"PreviewSaveTool\",\"attributes\":{\"plot\":{\"id\":\"3ce02cec-6967-4b72-cbc0-9f3f2575b704\",\"type\":\"Plot\",\"subtype\":\"Figure\"},\"id\":\"f480747b-b305-4591-c5a9-4bf69e3cce13\",\"tags\":[],\"doc\":null}},{\"id\":\"f56aa61b-b5db-4ea8-ce28-84505e3f1b16\",\"type\":\"ResizeTool\",\"attributes\":{\"plot\":{\"id\":\"3ce02cec-6967-4b72-cbc0-9f3f2575b704\",\"type\":\"Plot\",\"subtype\":\"Figure\"},\"id\":\"f56aa61b-b5db-4ea8-ce28-84505e3f1b16\",\"tags\":[],\"doc\":null}},{\"id\":\"37658d12-f679-4afb-ca46-86fba054659d\",\"type\":\"ResetTool\",\"attributes\":{\"plot\":{\"id\":\"3ce02cec-6967-4b72-cbc0-9f3f2575b704\",\"type\":\"Plot\",\"subtype\":\"Figure\"},\"id\":\"37658d12-f679-4afb-ca46-86fba054659d\",\"tags\":[],\"doc\":null}},{\"id\":\"b83f08f1-652d-4d4e-cd8c-2229800c4b3d\",\"type\":\"Legend\",\"attributes\":{\"plot\":{\"id\":\"3ce02cec-6967-4b72-cbc0-9f3f2575b704\",\"type\":\"Plot\",\"subtype\":\"Figure\"},\"legends\":[[\"f0\",[{\"type\":\"GlyphRenderer\",\"id\":\"dd394c47-3e94-46ef-c6a3-b0e98b8fdad6\"}]]],\"id\":\"b83f08f1-652d-4d4e-cd8c-2229800c4b3d\",\"doc\":null,\"tags\":[]}},{\"id\":\"3ce02cec-6967-4b72-cbc0-9f3f2575b704\",\"type\":\"Plot\",\"attributes\":{\"x_range\":{\"type\":\"DataRange1d\",\"id\":\"84197ed3-b08d-4ddd-cd1d-759194ec7c12\"},\"tool_events\":{\"type\":\"ToolEvents\",\"id\":\"d082d08f-4ddb-4c80-cc06-8f81830f9c0f\"},\"below\":[{\"type\":\"LinearAxis\",\"id\":\"50c897ba-6d6c-4888-c8e1-c2e5f3ee2fdc\"}],\"renderers\":[{\"type\":\"GlyphRenderer\",\"id\":\"dd394c47-3e94-46ef-c6a3-b0e98b8fdad6\"},{\"type\":\"LinearAxis\",\"id\":\"50c897ba-6d6c-4888-c8e1-c2e5f3ee2fdc\"},{\"type\":\"Grid\",\"id\":\"7000bf5f-fb5b-43b2-c3a9-a05a1323d67f\"},{\"type\":\"LinearAxis\",\"id\":\"385a0d9a-43ca-4ad8-ca46-c83b16ae3e35\"},{\"type\":\"Grid\",\"id\":\"dc2843ef-6c0b-4724-c72e-ac2590a182e3\"},{\"type\":\"Legend\",\"id\":\"b83f08f1-652d-4d4e-cd8c-2229800c4b3d\"}],\"above\":[],\"tools\":[{\"type\":\"PanTool\",\"id\":\"145d38ee-c982-46a1-c615-319318aea150\"},{\"type\":\"WheelZoomTool\",\"id\":\"54dd2a4b-970d-453e-c5eb-f93e2b0333bc\"},{\"type\":\"BoxZoomTool\",\"id\":\"68ae0b32-548e-4ddb-cdc1-c24bbaafe0d5\"},{\"type\":\"PreviewSaveTool\",\"id\":\"f480747b-b305-4591-c5a9-4bf69e3cce13\"},{\"type\":\"ResizeTool\",\"id\":\"f56aa61b-b5db-4ea8-ce28-84505e3f1b16\"},{\"type\":\"ResetTool\",\"id\":\"37658d12-f679-4afb-ca46-86fba054659d\"}],\"doc\":null,\"right\":[],\"title\":\"Feature Observation of a Tone 2\",\"extra_x_ranges\":{},\"left\":[{\"type\":\"LinearAxis\",\"id\":\"385a0d9a-43ca-4ad8-ca46-c83b16ae3e35\"}],\"y_range\":{\"type\":\"DataRange1d\",\"id\":\"ea11b15e-d0c7-415d-c188-f5e04c66443b\"},\"id\":\"3ce02cec-6967-4b72-cbc0-9f3f2575b704\",\"extra_y_ranges\":{},\"tags\":[]}}];\n",
       "  Bokeh.load_models(all_models);\n",
       "  var model = Bokeh.Collections(modeltype).get(modelid);\n",
       "  $(\"#5250b07f-d2fa-4112-c1d3-edd08cc15824\").html(''); // clear any previous plot in window_id\n",
       "  var view = new model.default_view({model: model, el: \"#5250b07f-d2fa-4112-c1d3-edd08cc15824\"});\n",
       "    } else {\n",
       "  load_lib(bokehjs_url, function() {\n",
       "      console.log(\"Bokeh: BokehJS plotting callback run at\", new Date())\n",
       "      var modelid = \"3ce02cec-6967-4b72-cbc0-9f3f2575b704\";\n",
       "      var modeltype = \"Plot\";\n",
       "      var all_models = [{\"id\":\"11ab1dcf-bb3a-418e-c131-d45e7588197b\",\"type\":\"ColumnDataSource\",\"attributes\":{\"data\":{\"y\":[3.3231157424538,3.2583992699729,3.1936827974919,3.1402595112908,3.0906006205163,3.0495280070386,3.0170416708578,2.9881970877558,2.9702777638901,2.9523584400245,2.9443792879922,2.9364001359599,2.9280571095518,2.9195927916852,2.9095183483597,2.8978337795752,2.8861824110495,2.8746306433,2.8630788755504,2.8525077913051,2.8419367070597,2.8318222825863,2.8218600780369,2.8123465860068,2.8032818064961,2.794716316223,2.7876486936628,2.7805810711025,2.7816414007368,2.7827017303711,2.786529516419,2.791279787938,2.7972959748888,2.8045780772713,2.8109187995535,2.8144353815348,2.8179519635161,2.8217363227863,2.8255206820564,2.8328429564358,2.8413445358516,2.8531032931737,2.868119228402,2.8823407413093,2.8941789872536,2.9060172331979,2.9139866335344,2.921956033871,2.9304920609623,2.9392169636387,2.9496330382301,2.9617402847366,2.9735632133214,2.9845331881413,2.9955031629612,3.00040932135,3.0053154797388,3.007915604664,3.009747051768,3.013746311648,3.0199133843041,3.0260043035973,3.0318667628017,3.0377292220061],\"x\":[1,2,3,4,5,6,7,8,9,10,11,12,13,14,15,16,17,18,19,20,21,22,23,24,25,26,27,28,29,30,31,32,33,34,35,36,37,38,39,40,41,42,43,44,45,46,47,48,49,50,51,52,53,54,55,56,57,58,59,60,61,62,63,64]},\"column_names\":[\"y\",\"x\"],\"cont_ranges\":{},\"discrete_ranges\":{},\"selected\":[],\"id\":\"11ab1dcf-bb3a-418e-c131-d45e7588197b\",\"doc\":null,\"tags\":[]}},{\"id\":\"491f0459-a72b-4b87-cb0a-03e857d7b118\",\"type\":\"Line\",\"attributes\":{\"fill_alpha\":{\"units\":\"data\",\"value\":0.2},\"line_alpha\":{\"units\":\"data\",\"value\":1},\"doc\":null,\"size\":{\"units\":\"screen\",\"value\":10},\"fill_color\":{\"value\":\"red\"},\"line_color\":{\"value\":\"red\"},\"x\":{\"units\":\"data\",\"field\":\"x\"},\"id\":\"491f0459-a72b-4b87-cb0a-03e857d7b118\",\"y\":{\"units\":\"data\",\"field\":\"y\"},\"tags\":[]}},{\"id\":\"66fc9386-d7ea-4a95-ca9e-28b7f13ed956\",\"type\":\"Line\",\"attributes\":{\"fill_alpha\":{\"units\":\"data\",\"value\":0.2},\"line_alpha\":{\"units\":\"data\",\"value\":1},\"doc\":null,\"size\":{\"units\":\"screen\",\"value\":10},\"fill_color\":{\"value\":\"red\"},\"line_color\":{\"value\":\"red\"},\"x\":{\"units\":\"data\",\"field\":\"x\"},\"id\":\"66fc9386-d7ea-4a95-ca9e-28b7f13ed956\",\"y\":{\"units\":\"data\",\"field\":\"y\"},\"tags\":[]}},{\"id\":\"dd394c47-3e94-46ef-c6a3-b0e98b8fdad6\",\"type\":\"GlyphRenderer\",\"attributes\":{\"name\":null,\"nonselection_glyph\":{\"type\":\"Line\",\"id\":\"66fc9386-d7ea-4a95-ca9e-28b7f13ed956\"},\"doc\":null,\"server_data_source\":null,\"data_source\":{\"type\":\"ColumnDataSource\",\"id\":\"11ab1dcf-bb3a-418e-c131-d45e7588197b\"},\"glyph\":{\"type\":\"Line\",\"id\":\"491f0459-a72b-4b87-cb0a-03e857d7b118\"},\"selection_glyph\":null,\"id\":\"dd394c47-3e94-46ef-c6a3-b0e98b8fdad6\",\"tags\":[]}},{\"id\":\"84197ed3-b08d-4ddd-cd1d-759194ec7c12\",\"type\":\"DataRange1d\",\"attributes\":{\"sources\":[{\"columns\":[\"x\"],\"source\":{\"type\":\"ColumnDataSource\",\"id\":\"11ab1dcf-bb3a-418e-c131-d45e7588197b\"}}],\"id\":\"84197ed3-b08d-4ddd-cd1d-759194ec7c12\",\"tags\":[],\"doc\":null}},{\"id\":\"ea11b15e-d0c7-415d-c188-f5e04c66443b\",\"type\":\"DataRange1d\",\"attributes\":{\"sources\":[{\"columns\":[\"y\"],\"source\":{\"type\":\"ColumnDataSource\",\"id\":\"11ab1dcf-bb3a-418e-c131-d45e7588197b\"}}],\"id\":\"ea11b15e-d0c7-415d-c188-f5e04c66443b\",\"tags\":[],\"doc\":null}},{\"id\":\"d082d08f-4ddb-4c80-cc06-8f81830f9c0f\",\"type\":\"ToolEvents\",\"attributes\":{\"tags\":[],\"id\":\"d082d08f-4ddb-4c80-cc06-8f81830f9c0f\",\"geometries\":[],\"doc\":null}},{\"id\":\"596d47b6-e4da-49af-c9af-e848ddb40512\",\"type\":\"BasicTickFormatter\",\"attributes\":{\"id\":\"596d47b6-e4da-49af-c9af-e848ddb40512\",\"tags\":[],\"doc\":null}},{\"id\":\"1915920a-039f-45ee-c5c5-6d5029874c58\",\"type\":\"BasicTicker\",\"attributes\":{\"num_minor_ticks\":5,\"id\":\"1915920a-039f-45ee-c5c5-6d5029874c58\",\"tags\":[],\"doc\":null}},{\"id\":\"50c897ba-6d6c-4888-c8e1-c2e5f3ee2fdc\",\"type\":\"LinearAxis\",\"attributes\":{\"formatter\":{\"type\":\"BasicTickFormatter\",\"id\":\"596d47b6-e4da-49af-c9af-e848ddb40512\"},\"ticker\":{\"type\":\"BasicTicker\",\"id\":\"1915920a-039f-45ee-c5c5-6d5029874c58\"},\"plot\":{\"id\":\"3ce02cec-6967-4b72-cbc0-9f3f2575b704\",\"type\":\"Plot\",\"subtype\":\"Figure\"},\"axis_label\":null,\"id\":\"50c897ba-6d6c-4888-c8e1-c2e5f3ee2fdc\",\"doc\":null,\"tags\":[]}},{\"id\":\"7000bf5f-fb5b-43b2-c3a9-a05a1323d67f\",\"type\":\"Grid\",\"attributes\":{\"dimension\":0,\"plot\":{\"id\":\"3ce02cec-6967-4b72-cbc0-9f3f2575b704\",\"type\":\"Plot\",\"subtype\":\"Figure\"},\"ticker\":{\"type\":\"BasicTicker\",\"id\":\"1915920a-039f-45ee-c5c5-6d5029874c58\"},\"id\":\"7000bf5f-fb5b-43b2-c3a9-a05a1323d67f\",\"doc\":null,\"tags\":[]}},{\"id\":\"36d8c6f9-ef20-417f-c1f3-555579c6da7e\",\"type\":\"BasicTickFormatter\",\"attributes\":{\"id\":\"36d8c6f9-ef20-417f-c1f3-555579c6da7e\",\"tags\":[],\"doc\":null}},{\"id\":\"fd3fd528-ed86-4f4e-cf3d-b89ac6bb6610\",\"type\":\"BasicTicker\",\"attributes\":{\"num_minor_ticks\":5,\"id\":\"fd3fd528-ed86-4f4e-cf3d-b89ac6bb6610\",\"tags\":[],\"doc\":null}},{\"id\":\"385a0d9a-43ca-4ad8-ca46-c83b16ae3e35\",\"type\":\"LinearAxis\",\"attributes\":{\"formatter\":{\"type\":\"BasicTickFormatter\",\"id\":\"36d8c6f9-ef20-417f-c1f3-555579c6da7e\"},\"ticker\":{\"type\":\"BasicTicker\",\"id\":\"fd3fd528-ed86-4f4e-cf3d-b89ac6bb6610\"},\"plot\":{\"id\":\"3ce02cec-6967-4b72-cbc0-9f3f2575b704\",\"type\":\"Plot\",\"subtype\":\"Figure\"},\"axis_label\":null,\"id\":\"385a0d9a-43ca-4ad8-ca46-c83b16ae3e35\",\"doc\":null,\"tags\":[]}},{\"id\":\"dc2843ef-6c0b-4724-c72e-ac2590a182e3\",\"type\":\"Grid\",\"attributes\":{\"dimension\":1,\"plot\":{\"id\":\"3ce02cec-6967-4b72-cbc0-9f3f2575b704\",\"type\":\"Plot\",\"subtype\":\"Figure\"},\"ticker\":{\"type\":\"BasicTicker\",\"id\":\"fd3fd528-ed86-4f4e-cf3d-b89ac6bb6610\"},\"id\":\"dc2843ef-6c0b-4724-c72e-ac2590a182e3\",\"doc\":null,\"tags\":[]}},{\"id\":\"145d38ee-c982-46a1-c615-319318aea150\",\"type\":\"PanTool\",\"attributes\":{\"plot\":{\"id\":\"3ce02cec-6967-4b72-cbc0-9f3f2575b704\",\"type\":\"Plot\",\"subtype\":\"Figure\"},\"dimensions\":[\"width\",\"height\"],\"id\":\"145d38ee-c982-46a1-c615-319318aea150\",\"doc\":null,\"tags\":[]}},{\"id\":\"54dd2a4b-970d-453e-c5eb-f93e2b0333bc\",\"type\":\"WheelZoomTool\",\"attributes\":{\"plot\":{\"id\":\"3ce02cec-6967-4b72-cbc0-9f3f2575b704\",\"type\":\"Plot\",\"subtype\":\"Figure\"},\"dimensions\":[\"width\",\"height\"],\"id\":\"54dd2a4b-970d-453e-c5eb-f93e2b0333bc\",\"doc\":null,\"tags\":[]}},{\"id\":\"68ae0b32-548e-4ddb-cdc1-c24bbaafe0d5\",\"type\":\"BoxZoomTool\",\"attributes\":{\"plot\":{\"id\":\"3ce02cec-6967-4b72-cbc0-9f3f2575b704\",\"type\":\"Plot\",\"subtype\":\"Figure\"},\"id\":\"68ae0b32-548e-4ddb-cdc1-c24bbaafe0d5\",\"tags\":[],\"doc\":null}},{\"id\":\"f480747b-b305-4591-c5a9-4bf69e3cce13\",\"type\":\"PreviewSaveTool\",\"attributes\":{\"plot\":{\"id\":\"3ce02cec-6967-4b72-cbc0-9f3f2575b704\",\"type\":\"Plot\",\"subtype\":\"Figure\"},\"id\":\"f480747b-b305-4591-c5a9-4bf69e3cce13\",\"tags\":[],\"doc\":null}},{\"id\":\"f56aa61b-b5db-4ea8-ce28-84505e3f1b16\",\"type\":\"ResizeTool\",\"attributes\":{\"plot\":{\"id\":\"3ce02cec-6967-4b72-cbc0-9f3f2575b704\",\"type\":\"Plot\",\"subtype\":\"Figure\"},\"id\":\"f56aa61b-b5db-4ea8-ce28-84505e3f1b16\",\"tags\":[],\"doc\":null}},{\"id\":\"37658d12-f679-4afb-ca46-86fba054659d\",\"type\":\"ResetTool\",\"attributes\":{\"plot\":{\"id\":\"3ce02cec-6967-4b72-cbc0-9f3f2575b704\",\"type\":\"Plot\",\"subtype\":\"Figure\"},\"id\":\"37658d12-f679-4afb-ca46-86fba054659d\",\"tags\":[],\"doc\":null}},{\"id\":\"b83f08f1-652d-4d4e-cd8c-2229800c4b3d\",\"type\":\"Legend\",\"attributes\":{\"plot\":{\"id\":\"3ce02cec-6967-4b72-cbc0-9f3f2575b704\",\"type\":\"Plot\",\"subtype\":\"Figure\"},\"legends\":[[\"f0\",[{\"type\":\"GlyphRenderer\",\"id\":\"dd394c47-3e94-46ef-c6a3-b0e98b8fdad6\"}]]],\"id\":\"b83f08f1-652d-4d4e-cd8c-2229800c4b3d\",\"doc\":null,\"tags\":[]}},{\"id\":\"3ce02cec-6967-4b72-cbc0-9f3f2575b704\",\"type\":\"Plot\",\"attributes\":{\"x_range\":{\"type\":\"DataRange1d\",\"id\":\"84197ed3-b08d-4ddd-cd1d-759194ec7c12\"},\"tool_events\":{\"type\":\"ToolEvents\",\"id\":\"d082d08f-4ddb-4c80-cc06-8f81830f9c0f\"},\"below\":[{\"type\":\"LinearAxis\",\"id\":\"50c897ba-6d6c-4888-c8e1-c2e5f3ee2fdc\"}],\"renderers\":[{\"type\":\"GlyphRenderer\",\"id\":\"dd394c47-3e94-46ef-c6a3-b0e98b8fdad6\"},{\"type\":\"LinearAxis\",\"id\":\"50c897ba-6d6c-4888-c8e1-c2e5f3ee2fdc\"},{\"type\":\"Grid\",\"id\":\"7000bf5f-fb5b-43b2-c3a9-a05a1323d67f\"},{\"type\":\"LinearAxis\",\"id\":\"385a0d9a-43ca-4ad8-ca46-c83b16ae3e35\"},{\"type\":\"Grid\",\"id\":\"dc2843ef-6c0b-4724-c72e-ac2590a182e3\"},{\"type\":\"Legend\",\"id\":\"b83f08f1-652d-4d4e-cd8c-2229800c4b3d\"}],\"above\":[],\"tools\":[{\"type\":\"PanTool\",\"id\":\"145d38ee-c982-46a1-c615-319318aea150\"},{\"type\":\"WheelZoomTool\",\"id\":\"54dd2a4b-970d-453e-c5eb-f93e2b0333bc\"},{\"type\":\"BoxZoomTool\",\"id\":\"68ae0b32-548e-4ddb-cdc1-c24bbaafe0d5\"},{\"type\":\"PreviewSaveTool\",\"id\":\"f480747b-b305-4591-c5a9-4bf69e3cce13\"},{\"type\":\"ResizeTool\",\"id\":\"f56aa61b-b5db-4ea8-ce28-84505e3f1b16\"},{\"type\":\"ResetTool\",\"id\":\"37658d12-f679-4afb-ca46-86fba054659d\"}],\"doc\":null,\"right\":[],\"title\":\"Feature Observation of a Tone 2\",\"extra_x_ranges\":{},\"left\":[{\"type\":\"LinearAxis\",\"id\":\"385a0d9a-43ca-4ad8-ca46-c83b16ae3e35\"}],\"y_range\":{\"type\":\"DataRange1d\",\"id\":\"ea11b15e-d0c7-415d-c188-f5e04c66443b\"},\"id\":\"3ce02cec-6967-4b72-cbc0-9f3f2575b704\",\"extra_y_ranges\":{},\"tags\":[]}}];\n",
       "      Bokeh.load_models(all_models);\n",
       "      var model = Bokeh.Collections(modeltype).get(modelid);\n",
       "      $(\"#5250b07f-d2fa-4112-c1d3-edd08cc15824\").html(''); // clear any previous plot in window_id\n",
       "      var view = new model.default_view({model: model, el: \"#5250b07f-d2fa-4112-c1d3-edd08cc15824\"});\n",
       "  });\n",
       "    }\n",
       "});\n",
       "</script>\n",
       "<div class=\"plotdiv\" id=\"5250b07f-d2fa-4112-c1d3-edd08cc15824\"></div>\n"
      ]
     },
     "metadata": {},
     "output_type": "display_data"
    },
    {
     "data": {
      "text/html": [
       "<script type=\"text/javascript\">\n",
       "$(function() {\n",
       "    if (typeof (window._bokeh_onload_callbacks) === \"undefined\"){\n",
       "  window._bokeh_onload_callbacks = [];\n",
       "    }\n",
       "    function load_lib(url, callback){\n",
       "  window._bokeh_onload_callbacks.push(callback);\n",
       "  if (window._bokeh_is_loading){\n",
       "      console.log(\"Bokeh: BokehJS is being loaded, scheduling callback at\", new Date());\n",
       "      return null;\n",
       "  }\n",
       "  console.log(\"Bokeh: BokehJS not loaded, scheduling load and callback at\", new Date());\n",
       "  window._bokeh_is_loading = true;\n",
       "  var s = document.createElement('script');\n",
       "  s.src = url;\n",
       "  s.async = true;\n",
       "  s.onreadystatechange = s.onload = function(){\n",
       "      Bokeh.embed.inject_css(\"https://cdn.pydata.org/bokeh-0.7.0.min.css\");\n",
       "      window._bokeh_onload_callbacks.forEach(function(callback){callback()});\n",
       "  };\n",
       "  s.onerror = function(){\n",
       "      console.warn(\"failed to load library \" + url);\n",
       "  };\n",
       "  document.getElementsByTagName(\"head\")[0].appendChild(s);\n",
       "    }\n",
       "\n",
       "    bokehjs_url = \"https://cdn.pydata.org/bokeh-0.7.0.min.js\"\n",
       "\n",
       "    var elt = document.getElementById(\"5250b07f-d2fa-4112-c1d3-edd08cc15824\");\n",
       "    if(elt==null) {\n",
       "  console.log(\"Bokeh: ERROR: autoload.js configured with elementid '5250b07f-d2fa-4112-c1d3-edd08cc15824'\"\n",
       "        + \"but no matching script tag was found. \")\n",
       "  return false;\n",
       "    }\n",
       "\n",
       "    if(typeof(Bokeh) !== \"undefined\") {\n",
       "  console.log(\"Bokeh: BokehJS loaded, going straight to plotting\");\n",
       "  var modelid = \"1ffa74c4-5d87-4aa6-caa7-2a24803de884\";\n",
       "  var modeltype = \"Plot\";\n",
       "  var all_models = [{\"id\":\"76e7cb86-dac8-4760-c795-a43815c207b4\",\"type\":\"ColumnDataSource\",\"attributes\":{\"data\":{\"y\":[3.3231157424538,3.2583992699729,3.1936827974919,3.1402595112908,3.0906006205163,3.0495280070386,3.0170416708578,2.9881970877558,2.9702777638901,2.9523584400245,2.9443792879922,2.9364001359599,2.9280571095518,2.9195927916852,2.9095183483597,2.8978337795752,2.8861824110495,2.8746306433,2.8630788755504,2.8525077913051,2.8419367070597,2.8318222825863,2.8218600780369,2.8123465860068,2.8032818064961,2.794716316223,2.7876486936628,2.7805810711025,2.7816414007368,2.7827017303711,2.786529516419,2.791279787938,2.7972959748888,2.8045780772713,2.8109187995535,2.8144353815348,2.8179519635161,2.8217363227863,2.8255206820564,2.8328429564358,2.8413445358516,2.8531032931737,2.868119228402,2.8823407413093,2.8941789872536,2.9060172331979,2.9139866335344,2.921956033871,2.9304920609623,2.9392169636387,2.9496330382301,2.9617402847366,2.9735632133214,2.9845331881413,2.9955031629612,3.00040932135,3.0053154797388,3.007915604664,3.009747051768,3.013746311648,3.0199133843041,3.0260043035973,3.0318667628017,3.0377292220061],\"x\":[1,2,3,4,5,6,7,8,9,10,11,12,13,14,15,16,17,18,19,20,21,22,23,24,25,26,27,28,29,30,31,32,33,34,35,36,37,38,39,40,41,42,43,44,45,46,47,48,49,50,51,52,53,54,55,56,57,58,59,60,61,62,63,64]},\"column_names\":[\"y\",\"x\"],\"cont_ranges\":{},\"discrete_ranges\":{},\"selected\":[],\"id\":\"76e7cb86-dac8-4760-c795-a43815c207b4\",\"doc\":null,\"tags\":[]}},{\"id\":\"0af1b5fc-a2ed-4ee1-ce4a-c1ac96a829e6\",\"type\":\"Line\",\"attributes\":{\"fill_alpha\":{\"units\":\"data\",\"value\":0.2},\"line_alpha\":{\"units\":\"data\",\"value\":1},\"doc\":null,\"size\":{\"units\":\"screen\",\"value\":10},\"fill_color\":{\"value\":\"red\"},\"line_color\":{\"value\":\"red\"},\"x\":{\"units\":\"data\",\"field\":\"x\"},\"id\":\"0af1b5fc-a2ed-4ee1-ce4a-c1ac96a829e6\",\"y\":{\"units\":\"data\",\"field\":\"y\"},\"tags\":[]}},{\"id\":\"42d3a093-5a2c-4846-c81d-22e0d18490df\",\"type\":\"Line\",\"attributes\":{\"fill_alpha\":{\"units\":\"data\",\"value\":0.2},\"line_alpha\":{\"units\":\"data\",\"value\":1},\"doc\":null,\"size\":{\"units\":\"screen\",\"value\":10},\"fill_color\":{\"value\":\"red\"},\"line_color\":{\"value\":\"red\"},\"x\":{\"units\":\"data\",\"field\":\"x\"},\"id\":\"42d3a093-5a2c-4846-c81d-22e0d18490df\",\"y\":{\"units\":\"data\",\"field\":\"y\"},\"tags\":[]}},{\"id\":\"56749734-a777-44e6-c416-a274d6a664b4\",\"type\":\"GlyphRenderer\",\"attributes\":{\"name\":null,\"nonselection_glyph\":{\"type\":\"Line\",\"id\":\"42d3a093-5a2c-4846-c81d-22e0d18490df\"},\"doc\":null,\"server_data_source\":null,\"data_source\":{\"type\":\"ColumnDataSource\",\"id\":\"76e7cb86-dac8-4760-c795-a43815c207b4\"},\"glyph\":{\"type\":\"Line\",\"id\":\"0af1b5fc-a2ed-4ee1-ce4a-c1ac96a829e6\"},\"selection_glyph\":null,\"id\":\"56749734-a777-44e6-c416-a274d6a664b4\",\"tags\":[]}},{\"id\":\"cb7543b9-47b0-49fe-c983-580389595dcf\",\"type\":\"ColumnDataSource\",\"attributes\":{\"data\":{\"y\":[0,0,0,0,0,0,0,0,0,0,0,0,0,0,0,0,0,0,0,0,0,0,0,0,0,0,0,0,0,0,0,0,0,0,0,0,0,0,0,0,0,0,0,0,0,0,0,0,0,0,0,0,0,0,0,0,0,0,0,0,0,0,0,0],\"x\":[1,2,3,4,5,6,7,8,9,10,11,12,13,14,15,16,17,18,19,20,21,22,23,24,25,26,27,28,29,30,31,32,33,34,35,36,37,38,39,40,41,42,43,44,45,46,47,48,49,50,51,52,53,54,55,56,57,58,59,60,61,62,63,64]},\"column_names\":[\"y\",\"x\"],\"cont_ranges\":{},\"discrete_ranges\":{},\"selected\":[],\"id\":\"cb7543b9-47b0-49fe-c983-580389595dcf\",\"doc\":null,\"tags\":[]}},{\"id\":\"173bf813-28e8-4eca-cedf-3bf393e469fb\",\"type\":\"Line\",\"attributes\":{\"fill_alpha\":{\"units\":\"data\",\"value\":0.2},\"line_alpha\":{\"units\":\"data\",\"value\":1},\"doc\":null,\"size\":{\"units\":\"screen\",\"value\":10},\"fill_color\":{\"value\":\"blue\"},\"line_color\":{\"value\":\"blue\"},\"x\":{\"units\":\"data\",\"field\":\"x\"},\"id\":\"173bf813-28e8-4eca-cedf-3bf393e469fb\",\"y\":{\"units\":\"data\",\"field\":\"y\"},\"tags\":[]}},{\"id\":\"686e2350-3e37-4905-c99c-4210c81823f9\",\"type\":\"Line\",\"attributes\":{\"fill_alpha\":{\"units\":\"data\",\"value\":0.2},\"line_alpha\":{\"units\":\"data\",\"value\":1},\"doc\":null,\"size\":{\"units\":\"screen\",\"value\":10},\"fill_color\":{\"value\":\"blue\"},\"line_color\":{\"value\":\"blue\"},\"x\":{\"units\":\"data\",\"field\":\"x\"},\"id\":\"686e2350-3e37-4905-c99c-4210c81823f9\",\"y\":{\"units\":\"data\",\"field\":\"y\"},\"tags\":[]}},{\"id\":\"318e2a5e-6f98-43a0-c359-ec1f3625397c\",\"type\":\"GlyphRenderer\",\"attributes\":{\"name\":null,\"nonselection_glyph\":{\"type\":\"Line\",\"id\":\"686e2350-3e37-4905-c99c-4210c81823f9\"},\"doc\":null,\"server_data_source\":null,\"data_source\":{\"type\":\"ColumnDataSource\",\"id\":\"cb7543b9-47b0-49fe-c983-580389595dcf\"},\"glyph\":{\"type\":\"Line\",\"id\":\"173bf813-28e8-4eca-cedf-3bf393e469fb\"},\"selection_glyph\":null,\"id\":\"318e2a5e-6f98-43a0-c359-ec1f3625397c\",\"tags\":[]}},{\"id\":\"4d0cef8f-b6cb-4a28-ca32-0cdd1bf92f04\",\"type\":\"DataRange1d\",\"attributes\":{\"sources\":[{\"columns\":[\"x\"],\"source\":{\"type\":\"ColumnDataSource\",\"id\":\"76e7cb86-dac8-4760-c795-a43815c207b4\"}},{\"columns\":[\"x\"],\"source\":{\"type\":\"ColumnDataSource\",\"id\":\"cb7543b9-47b0-49fe-c983-580389595dcf\"}}],\"id\":\"4d0cef8f-b6cb-4a28-ca32-0cdd1bf92f04\",\"tags\":[],\"doc\":null}},{\"id\":\"b0f668d7-0325-4f04-cfa8-d0416fe7876c\",\"type\":\"DataRange1d\",\"attributes\":{\"sources\":[{\"columns\":[\"y\"],\"source\":{\"type\":\"ColumnDataSource\",\"id\":\"76e7cb86-dac8-4760-c795-a43815c207b4\"}},{\"columns\":[\"y\"],\"source\":{\"type\":\"ColumnDataSource\",\"id\":\"cb7543b9-47b0-49fe-c983-580389595dcf\"}}],\"id\":\"b0f668d7-0325-4f04-cfa8-d0416fe7876c\",\"tags\":[],\"doc\":null}},{\"id\":\"4159ba34-f5d2-4ea0-ce6e-e2e5f7a7b162\",\"type\":\"ToolEvents\",\"attributes\":{\"tags\":[],\"id\":\"4159ba34-f5d2-4ea0-ce6e-e2e5f7a7b162\",\"geometries\":[],\"doc\":null}},{\"id\":\"e9a2bdaf-27e5-461a-c6c5-dae75e1fd175\",\"type\":\"BasicTickFormatter\",\"attributes\":{\"id\":\"e9a2bdaf-27e5-461a-c6c5-dae75e1fd175\",\"tags\":[],\"doc\":null}},{\"id\":\"5df0bb08-8faf-4951-c9bd-72dd81e95a5f\",\"type\":\"BasicTicker\",\"attributes\":{\"num_minor_ticks\":5,\"id\":\"5df0bb08-8faf-4951-c9bd-72dd81e95a5f\",\"tags\":[],\"doc\":null}},{\"id\":\"b04fea24-0c3b-484f-c8d0-bc8a4df85904\",\"type\":\"LinearAxis\",\"attributes\":{\"formatter\":{\"type\":\"BasicTickFormatter\",\"id\":\"e9a2bdaf-27e5-461a-c6c5-dae75e1fd175\"},\"ticker\":{\"type\":\"BasicTicker\",\"id\":\"5df0bb08-8faf-4951-c9bd-72dd81e95a5f\"},\"plot\":{\"id\":\"1ffa74c4-5d87-4aa6-caa7-2a24803de884\",\"type\":\"Plot\",\"subtype\":\"Figure\"},\"axis_label\":null,\"id\":\"b04fea24-0c3b-484f-c8d0-bc8a4df85904\",\"doc\":null,\"tags\":[]}},{\"id\":\"ebdc4e4e-69ab-4cff-cc2d-90258fe7567d\",\"type\":\"Grid\",\"attributes\":{\"dimension\":0,\"plot\":{\"id\":\"1ffa74c4-5d87-4aa6-caa7-2a24803de884\",\"type\":\"Plot\",\"subtype\":\"Figure\"},\"ticker\":{\"type\":\"BasicTicker\",\"id\":\"5df0bb08-8faf-4951-c9bd-72dd81e95a5f\"},\"id\":\"ebdc4e4e-69ab-4cff-cc2d-90258fe7567d\",\"doc\":null,\"tags\":[]}},{\"id\":\"b47b6c8b-7e72-4a1f-ca96-755775c504b2\",\"type\":\"BasicTickFormatter\",\"attributes\":{\"id\":\"b47b6c8b-7e72-4a1f-ca96-755775c504b2\",\"tags\":[],\"doc\":null}},{\"id\":\"d15fd737-1662-4b7f-cb82-2fff05d59e03\",\"type\":\"BasicTicker\",\"attributes\":{\"num_minor_ticks\":5,\"id\":\"d15fd737-1662-4b7f-cb82-2fff05d59e03\",\"tags\":[],\"doc\":null}},{\"id\":\"06aa0799-76b5-4dd2-cd9c-b74b2750c711\",\"type\":\"LinearAxis\",\"attributes\":{\"formatter\":{\"type\":\"BasicTickFormatter\",\"id\":\"b47b6c8b-7e72-4a1f-ca96-755775c504b2\"},\"ticker\":{\"type\":\"BasicTicker\",\"id\":\"d15fd737-1662-4b7f-cb82-2fff05d59e03\"},\"plot\":{\"id\":\"1ffa74c4-5d87-4aa6-caa7-2a24803de884\",\"type\":\"Plot\",\"subtype\":\"Figure\"},\"axis_label\":null,\"id\":\"06aa0799-76b5-4dd2-cd9c-b74b2750c711\",\"doc\":null,\"tags\":[]}},{\"id\":\"bbc58c9c-7f93-477e-c772-50b444ad44ae\",\"type\":\"Grid\",\"attributes\":{\"dimension\":1,\"plot\":{\"id\":\"1ffa74c4-5d87-4aa6-caa7-2a24803de884\",\"type\":\"Plot\",\"subtype\":\"Figure\"},\"ticker\":{\"type\":\"BasicTicker\",\"id\":\"d15fd737-1662-4b7f-cb82-2fff05d59e03\"},\"id\":\"bbc58c9c-7f93-477e-c772-50b444ad44ae\",\"doc\":null,\"tags\":[]}},{\"id\":\"04bd9b73-7f77-4204-c2e4-f5666eb52605\",\"type\":\"PanTool\",\"attributes\":{\"plot\":{\"id\":\"1ffa74c4-5d87-4aa6-caa7-2a24803de884\",\"type\":\"Plot\",\"subtype\":\"Figure\"},\"dimensions\":[\"width\",\"height\"],\"id\":\"04bd9b73-7f77-4204-c2e4-f5666eb52605\",\"doc\":null,\"tags\":[]}},{\"id\":\"e7c14258-8cf5-4d38-cdd9-5984b531bd85\",\"type\":\"WheelZoomTool\",\"attributes\":{\"plot\":{\"id\":\"1ffa74c4-5d87-4aa6-caa7-2a24803de884\",\"type\":\"Plot\",\"subtype\":\"Figure\"},\"dimensions\":[\"width\",\"height\"],\"id\":\"e7c14258-8cf5-4d38-cdd9-5984b531bd85\",\"doc\":null,\"tags\":[]}},{\"id\":\"a57dec09-6dc3-4a8b-ca87-838615770cfb\",\"type\":\"BoxZoomTool\",\"attributes\":{\"plot\":{\"id\":\"1ffa74c4-5d87-4aa6-caa7-2a24803de884\",\"type\":\"Plot\",\"subtype\":\"Figure\"},\"id\":\"a57dec09-6dc3-4a8b-ca87-838615770cfb\",\"tags\":[],\"doc\":null}},{\"id\":\"896bd361-7500-475c-c747-347ad275947c\",\"type\":\"PreviewSaveTool\",\"attributes\":{\"plot\":{\"id\":\"1ffa74c4-5d87-4aa6-caa7-2a24803de884\",\"type\":\"Plot\",\"subtype\":\"Figure\"},\"id\":\"896bd361-7500-475c-c747-347ad275947c\",\"tags\":[],\"doc\":null}},{\"id\":\"6d003e0e-be3f-421d-c2b9-9ac98a478aac\",\"type\":\"ResizeTool\",\"attributes\":{\"plot\":{\"id\":\"1ffa74c4-5d87-4aa6-caa7-2a24803de884\",\"type\":\"Plot\",\"subtype\":\"Figure\"},\"id\":\"6d003e0e-be3f-421d-c2b9-9ac98a478aac\",\"tags\":[],\"doc\":null}},{\"id\":\"e7abd6fb-c52d-41fd-c1d8-5f9f8c654055\",\"type\":\"ResetTool\",\"attributes\":{\"plot\":{\"id\":\"1ffa74c4-5d87-4aa6-caa7-2a24803de884\",\"type\":\"Plot\",\"subtype\":\"Figure\"},\"id\":\"e7abd6fb-c52d-41fd-c1d8-5f9f8c654055\",\"tags\":[],\"doc\":null}},{\"id\":\"7f231e27-7662-44be-c408-f5a702361637\",\"type\":\"Legend\",\"attributes\":{\"plot\":{\"id\":\"1ffa74c4-5d87-4aa6-caa7-2a24803de884\",\"type\":\"Plot\",\"subtype\":\"Figure\"},\"legends\":[[\"f0\",[{\"type\":\"GlyphRenderer\",\"id\":\"56749734-a777-44e6-c416-a274d6a664b4\"}]],[\"engy\",[{\"type\":\"GlyphRenderer\",\"id\":\"318e2a5e-6f98-43a0-c359-ec1f3625397c\"}]]],\"id\":\"7f231e27-7662-44be-c408-f5a702361637\",\"doc\":null,\"tags\":[]}},{\"id\":\"1ffa74c4-5d87-4aa6-caa7-2a24803de884\",\"type\":\"Plot\",\"attributes\":{\"x_range\":{\"type\":\"DataRange1d\",\"id\":\"4d0cef8f-b6cb-4a28-ca32-0cdd1bf92f04\"},\"tool_events\":{\"type\":\"ToolEvents\",\"id\":\"4159ba34-f5d2-4ea0-ce6e-e2e5f7a7b162\"},\"below\":[{\"type\":\"LinearAxis\",\"id\":\"b04fea24-0c3b-484f-c8d0-bc8a4df85904\"}],\"renderers\":[{\"type\":\"GlyphRenderer\",\"id\":\"56749734-a777-44e6-c416-a274d6a664b4\"},{\"type\":\"GlyphRenderer\",\"id\":\"318e2a5e-6f98-43a0-c359-ec1f3625397c\"},{\"type\":\"LinearAxis\",\"id\":\"b04fea24-0c3b-484f-c8d0-bc8a4df85904\"},{\"type\":\"Grid\",\"id\":\"ebdc4e4e-69ab-4cff-cc2d-90258fe7567d\"},{\"type\":\"LinearAxis\",\"id\":\"06aa0799-76b5-4dd2-cd9c-b74b2750c711\"},{\"type\":\"Grid\",\"id\":\"bbc58c9c-7f93-477e-c772-50b444ad44ae\"},{\"type\":\"Legend\",\"id\":\"7f231e27-7662-44be-c408-f5a702361637\"}],\"above\":[],\"tools\":[{\"type\":\"PanTool\",\"id\":\"04bd9b73-7f77-4204-c2e4-f5666eb52605\"},{\"type\":\"WheelZoomTool\",\"id\":\"e7c14258-8cf5-4d38-cdd9-5984b531bd85\"},{\"type\":\"BoxZoomTool\",\"id\":\"a57dec09-6dc3-4a8b-ca87-838615770cfb\"},{\"type\":\"PreviewSaveTool\",\"id\":\"896bd361-7500-475c-c747-347ad275947c\"},{\"type\":\"ResizeTool\",\"id\":\"6d003e0e-be3f-421d-c2b9-9ac98a478aac\"},{\"type\":\"ResetTool\",\"id\":\"e7abd6fb-c52d-41fd-c1d8-5f9f8c654055\"}],\"doc\":null,\"right\":[],\"title\":\"Feature Observation of a Tone 2\",\"extra_x_ranges\":{},\"left\":[{\"type\":\"LinearAxis\",\"id\":\"06aa0799-76b5-4dd2-cd9c-b74b2750c711\"}],\"y_range\":{\"type\":\"DataRange1d\",\"id\":\"b0f668d7-0325-4f04-cfa8-d0416fe7876c\"},\"id\":\"1ffa74c4-5d87-4aa6-caa7-2a24803de884\",\"extra_y_ranges\":{},\"tags\":[]}}];\n",
       "  Bokeh.load_models(all_models);\n",
       "  var model = Bokeh.Collections(modeltype).get(modelid);\n",
       "  $(\"#5250b07f-d2fa-4112-c1d3-edd08cc15824\").html(''); // clear any previous plot in window_id\n",
       "  var view = new model.default_view({model: model, el: \"#5250b07f-d2fa-4112-c1d3-edd08cc15824\"});\n",
       "    } else {\n",
       "  load_lib(bokehjs_url, function() {\n",
       "      console.log(\"Bokeh: BokehJS plotting callback run at\", new Date())\n",
       "      var modelid = \"1ffa74c4-5d87-4aa6-caa7-2a24803de884\";\n",
       "      var modeltype = \"Plot\";\n",
       "      var all_models = [{\"id\":\"76e7cb86-dac8-4760-c795-a43815c207b4\",\"type\":\"ColumnDataSource\",\"attributes\":{\"data\":{\"y\":[3.3231157424538,3.2583992699729,3.1936827974919,3.1402595112908,3.0906006205163,3.0495280070386,3.0170416708578,2.9881970877558,2.9702777638901,2.9523584400245,2.9443792879922,2.9364001359599,2.9280571095518,2.9195927916852,2.9095183483597,2.8978337795752,2.8861824110495,2.8746306433,2.8630788755504,2.8525077913051,2.8419367070597,2.8318222825863,2.8218600780369,2.8123465860068,2.8032818064961,2.794716316223,2.7876486936628,2.7805810711025,2.7816414007368,2.7827017303711,2.786529516419,2.791279787938,2.7972959748888,2.8045780772713,2.8109187995535,2.8144353815348,2.8179519635161,2.8217363227863,2.8255206820564,2.8328429564358,2.8413445358516,2.8531032931737,2.868119228402,2.8823407413093,2.8941789872536,2.9060172331979,2.9139866335344,2.921956033871,2.9304920609623,2.9392169636387,2.9496330382301,2.9617402847366,2.9735632133214,2.9845331881413,2.9955031629612,3.00040932135,3.0053154797388,3.007915604664,3.009747051768,3.013746311648,3.0199133843041,3.0260043035973,3.0318667628017,3.0377292220061],\"x\":[1,2,3,4,5,6,7,8,9,10,11,12,13,14,15,16,17,18,19,20,21,22,23,24,25,26,27,28,29,30,31,32,33,34,35,36,37,38,39,40,41,42,43,44,45,46,47,48,49,50,51,52,53,54,55,56,57,58,59,60,61,62,63,64]},\"column_names\":[\"y\",\"x\"],\"cont_ranges\":{},\"discrete_ranges\":{},\"selected\":[],\"id\":\"76e7cb86-dac8-4760-c795-a43815c207b4\",\"doc\":null,\"tags\":[]}},{\"id\":\"0af1b5fc-a2ed-4ee1-ce4a-c1ac96a829e6\",\"type\":\"Line\",\"attributes\":{\"fill_alpha\":{\"units\":\"data\",\"value\":0.2},\"line_alpha\":{\"units\":\"data\",\"value\":1},\"doc\":null,\"size\":{\"units\":\"screen\",\"value\":10},\"fill_color\":{\"value\":\"red\"},\"line_color\":{\"value\":\"red\"},\"x\":{\"units\":\"data\",\"field\":\"x\"},\"id\":\"0af1b5fc-a2ed-4ee1-ce4a-c1ac96a829e6\",\"y\":{\"units\":\"data\",\"field\":\"y\"},\"tags\":[]}},{\"id\":\"42d3a093-5a2c-4846-c81d-22e0d18490df\",\"type\":\"Line\",\"attributes\":{\"fill_alpha\":{\"units\":\"data\",\"value\":0.2},\"line_alpha\":{\"units\":\"data\",\"value\":1},\"doc\":null,\"size\":{\"units\":\"screen\",\"value\":10},\"fill_color\":{\"value\":\"red\"},\"line_color\":{\"value\":\"red\"},\"x\":{\"units\":\"data\",\"field\":\"x\"},\"id\":\"42d3a093-5a2c-4846-c81d-22e0d18490df\",\"y\":{\"units\":\"data\",\"field\":\"y\"},\"tags\":[]}},{\"id\":\"56749734-a777-44e6-c416-a274d6a664b4\",\"type\":\"GlyphRenderer\",\"attributes\":{\"name\":null,\"nonselection_glyph\":{\"type\":\"Line\",\"id\":\"42d3a093-5a2c-4846-c81d-22e0d18490df\"},\"doc\":null,\"server_data_source\":null,\"data_source\":{\"type\":\"ColumnDataSource\",\"id\":\"76e7cb86-dac8-4760-c795-a43815c207b4\"},\"glyph\":{\"type\":\"Line\",\"id\":\"0af1b5fc-a2ed-4ee1-ce4a-c1ac96a829e6\"},\"selection_glyph\":null,\"id\":\"56749734-a777-44e6-c416-a274d6a664b4\",\"tags\":[]}},{\"id\":\"cb7543b9-47b0-49fe-c983-580389595dcf\",\"type\":\"ColumnDataSource\",\"attributes\":{\"data\":{\"y\":[0,0,0,0,0,0,0,0,0,0,0,0,0,0,0,0,0,0,0,0,0,0,0,0,0,0,0,0,0,0,0,0,0,0,0,0,0,0,0,0,0,0,0,0,0,0,0,0,0,0,0,0,0,0,0,0,0,0,0,0,0,0,0,0],\"x\":[1,2,3,4,5,6,7,8,9,10,11,12,13,14,15,16,17,18,19,20,21,22,23,24,25,26,27,28,29,30,31,32,33,34,35,36,37,38,39,40,41,42,43,44,45,46,47,48,49,50,51,52,53,54,55,56,57,58,59,60,61,62,63,64]},\"column_names\":[\"y\",\"x\"],\"cont_ranges\":{},\"discrete_ranges\":{},\"selected\":[],\"id\":\"cb7543b9-47b0-49fe-c983-580389595dcf\",\"doc\":null,\"tags\":[]}},{\"id\":\"173bf813-28e8-4eca-cedf-3bf393e469fb\",\"type\":\"Line\",\"attributes\":{\"fill_alpha\":{\"units\":\"data\",\"value\":0.2},\"line_alpha\":{\"units\":\"data\",\"value\":1},\"doc\":null,\"size\":{\"units\":\"screen\",\"value\":10},\"fill_color\":{\"value\":\"blue\"},\"line_color\":{\"value\":\"blue\"},\"x\":{\"units\":\"data\",\"field\":\"x\"},\"id\":\"173bf813-28e8-4eca-cedf-3bf393e469fb\",\"y\":{\"units\":\"data\",\"field\":\"y\"},\"tags\":[]}},{\"id\":\"686e2350-3e37-4905-c99c-4210c81823f9\",\"type\":\"Line\",\"attributes\":{\"fill_alpha\":{\"units\":\"data\",\"value\":0.2},\"line_alpha\":{\"units\":\"data\",\"value\":1},\"doc\":null,\"size\":{\"units\":\"screen\",\"value\":10},\"fill_color\":{\"value\":\"blue\"},\"line_color\":{\"value\":\"blue\"},\"x\":{\"units\":\"data\",\"field\":\"x\"},\"id\":\"686e2350-3e37-4905-c99c-4210c81823f9\",\"y\":{\"units\":\"data\",\"field\":\"y\"},\"tags\":[]}},{\"id\":\"318e2a5e-6f98-43a0-c359-ec1f3625397c\",\"type\":\"GlyphRenderer\",\"attributes\":{\"name\":null,\"nonselection_glyph\":{\"type\":\"Line\",\"id\":\"686e2350-3e37-4905-c99c-4210c81823f9\"},\"doc\":null,\"server_data_source\":null,\"data_source\":{\"type\":\"ColumnDataSource\",\"id\":\"cb7543b9-47b0-49fe-c983-580389595dcf\"},\"glyph\":{\"type\":\"Line\",\"id\":\"173bf813-28e8-4eca-cedf-3bf393e469fb\"},\"selection_glyph\":null,\"id\":\"318e2a5e-6f98-43a0-c359-ec1f3625397c\",\"tags\":[]}},{\"id\":\"4d0cef8f-b6cb-4a28-ca32-0cdd1bf92f04\",\"type\":\"DataRange1d\",\"attributes\":{\"sources\":[{\"columns\":[\"x\"],\"source\":{\"type\":\"ColumnDataSource\",\"id\":\"76e7cb86-dac8-4760-c795-a43815c207b4\"}},{\"columns\":[\"x\"],\"source\":{\"type\":\"ColumnDataSource\",\"id\":\"cb7543b9-47b0-49fe-c983-580389595dcf\"}}],\"id\":\"4d0cef8f-b6cb-4a28-ca32-0cdd1bf92f04\",\"tags\":[],\"doc\":null}},{\"id\":\"b0f668d7-0325-4f04-cfa8-d0416fe7876c\",\"type\":\"DataRange1d\",\"attributes\":{\"sources\":[{\"columns\":[\"y\"],\"source\":{\"type\":\"ColumnDataSource\",\"id\":\"76e7cb86-dac8-4760-c795-a43815c207b4\"}},{\"columns\":[\"y\"],\"source\":{\"type\":\"ColumnDataSource\",\"id\":\"cb7543b9-47b0-49fe-c983-580389595dcf\"}}],\"id\":\"b0f668d7-0325-4f04-cfa8-d0416fe7876c\",\"tags\":[],\"doc\":null}},{\"id\":\"4159ba34-f5d2-4ea0-ce6e-e2e5f7a7b162\",\"type\":\"ToolEvents\",\"attributes\":{\"tags\":[],\"id\":\"4159ba34-f5d2-4ea0-ce6e-e2e5f7a7b162\",\"geometries\":[],\"doc\":null}},{\"id\":\"e9a2bdaf-27e5-461a-c6c5-dae75e1fd175\",\"type\":\"BasicTickFormatter\",\"attributes\":{\"id\":\"e9a2bdaf-27e5-461a-c6c5-dae75e1fd175\",\"tags\":[],\"doc\":null}},{\"id\":\"5df0bb08-8faf-4951-c9bd-72dd81e95a5f\",\"type\":\"BasicTicker\",\"attributes\":{\"num_minor_ticks\":5,\"id\":\"5df0bb08-8faf-4951-c9bd-72dd81e95a5f\",\"tags\":[],\"doc\":null}},{\"id\":\"b04fea24-0c3b-484f-c8d0-bc8a4df85904\",\"type\":\"LinearAxis\",\"attributes\":{\"formatter\":{\"type\":\"BasicTickFormatter\",\"id\":\"e9a2bdaf-27e5-461a-c6c5-dae75e1fd175\"},\"ticker\":{\"type\":\"BasicTicker\",\"id\":\"5df0bb08-8faf-4951-c9bd-72dd81e95a5f\"},\"plot\":{\"id\":\"1ffa74c4-5d87-4aa6-caa7-2a24803de884\",\"type\":\"Plot\",\"subtype\":\"Figure\"},\"axis_label\":null,\"id\":\"b04fea24-0c3b-484f-c8d0-bc8a4df85904\",\"doc\":null,\"tags\":[]}},{\"id\":\"ebdc4e4e-69ab-4cff-cc2d-90258fe7567d\",\"type\":\"Grid\",\"attributes\":{\"dimension\":0,\"plot\":{\"id\":\"1ffa74c4-5d87-4aa6-caa7-2a24803de884\",\"type\":\"Plot\",\"subtype\":\"Figure\"},\"ticker\":{\"type\":\"BasicTicker\",\"id\":\"5df0bb08-8faf-4951-c9bd-72dd81e95a5f\"},\"id\":\"ebdc4e4e-69ab-4cff-cc2d-90258fe7567d\",\"doc\":null,\"tags\":[]}},{\"id\":\"b47b6c8b-7e72-4a1f-ca96-755775c504b2\",\"type\":\"BasicTickFormatter\",\"attributes\":{\"id\":\"b47b6c8b-7e72-4a1f-ca96-755775c504b2\",\"tags\":[],\"doc\":null}},{\"id\":\"d15fd737-1662-4b7f-cb82-2fff05d59e03\",\"type\":\"BasicTicker\",\"attributes\":{\"num_minor_ticks\":5,\"id\":\"d15fd737-1662-4b7f-cb82-2fff05d59e03\",\"tags\":[],\"doc\":null}},{\"id\":\"06aa0799-76b5-4dd2-cd9c-b74b2750c711\",\"type\":\"LinearAxis\",\"attributes\":{\"formatter\":{\"type\":\"BasicTickFormatter\",\"id\":\"b47b6c8b-7e72-4a1f-ca96-755775c504b2\"},\"ticker\":{\"type\":\"BasicTicker\",\"id\":\"d15fd737-1662-4b7f-cb82-2fff05d59e03\"},\"plot\":{\"id\":\"1ffa74c4-5d87-4aa6-caa7-2a24803de884\",\"type\":\"Plot\",\"subtype\":\"Figure\"},\"axis_label\":null,\"id\":\"06aa0799-76b5-4dd2-cd9c-b74b2750c711\",\"doc\":null,\"tags\":[]}},{\"id\":\"bbc58c9c-7f93-477e-c772-50b444ad44ae\",\"type\":\"Grid\",\"attributes\":{\"dimension\":1,\"plot\":{\"id\":\"1ffa74c4-5d87-4aa6-caa7-2a24803de884\",\"type\":\"Plot\",\"subtype\":\"Figure\"},\"ticker\":{\"type\":\"BasicTicker\",\"id\":\"d15fd737-1662-4b7f-cb82-2fff05d59e03\"},\"id\":\"bbc58c9c-7f93-477e-c772-50b444ad44ae\",\"doc\":null,\"tags\":[]}},{\"id\":\"04bd9b73-7f77-4204-c2e4-f5666eb52605\",\"type\":\"PanTool\",\"attributes\":{\"plot\":{\"id\":\"1ffa74c4-5d87-4aa6-caa7-2a24803de884\",\"type\":\"Plot\",\"subtype\":\"Figure\"},\"dimensions\":[\"width\",\"height\"],\"id\":\"04bd9b73-7f77-4204-c2e4-f5666eb52605\",\"doc\":null,\"tags\":[]}},{\"id\":\"e7c14258-8cf5-4d38-cdd9-5984b531bd85\",\"type\":\"WheelZoomTool\",\"attributes\":{\"plot\":{\"id\":\"1ffa74c4-5d87-4aa6-caa7-2a24803de884\",\"type\":\"Plot\",\"subtype\":\"Figure\"},\"dimensions\":[\"width\",\"height\"],\"id\":\"e7c14258-8cf5-4d38-cdd9-5984b531bd85\",\"doc\":null,\"tags\":[]}},{\"id\":\"a57dec09-6dc3-4a8b-ca87-838615770cfb\",\"type\":\"BoxZoomTool\",\"attributes\":{\"plot\":{\"id\":\"1ffa74c4-5d87-4aa6-caa7-2a24803de884\",\"type\":\"Plot\",\"subtype\":\"Figure\"},\"id\":\"a57dec09-6dc3-4a8b-ca87-838615770cfb\",\"tags\":[],\"doc\":null}},{\"id\":\"896bd361-7500-475c-c747-347ad275947c\",\"type\":\"PreviewSaveTool\",\"attributes\":{\"plot\":{\"id\":\"1ffa74c4-5d87-4aa6-caa7-2a24803de884\",\"type\":\"Plot\",\"subtype\":\"Figure\"},\"id\":\"896bd361-7500-475c-c747-347ad275947c\",\"tags\":[],\"doc\":null}},{\"id\":\"6d003e0e-be3f-421d-c2b9-9ac98a478aac\",\"type\":\"ResizeTool\",\"attributes\":{\"plot\":{\"id\":\"1ffa74c4-5d87-4aa6-caa7-2a24803de884\",\"type\":\"Plot\",\"subtype\":\"Figure\"},\"id\":\"6d003e0e-be3f-421d-c2b9-9ac98a478aac\",\"tags\":[],\"doc\":null}},{\"id\":\"e7abd6fb-c52d-41fd-c1d8-5f9f8c654055\",\"type\":\"ResetTool\",\"attributes\":{\"plot\":{\"id\":\"1ffa74c4-5d87-4aa6-caa7-2a24803de884\",\"type\":\"Plot\",\"subtype\":\"Figure\"},\"id\":\"e7abd6fb-c52d-41fd-c1d8-5f9f8c654055\",\"tags\":[],\"doc\":null}},{\"id\":\"7f231e27-7662-44be-c408-f5a702361637\",\"type\":\"Legend\",\"attributes\":{\"plot\":{\"id\":\"1ffa74c4-5d87-4aa6-caa7-2a24803de884\",\"type\":\"Plot\",\"subtype\":\"Figure\"},\"legends\":[[\"f0\",[{\"type\":\"GlyphRenderer\",\"id\":\"56749734-a777-44e6-c416-a274d6a664b4\"}]],[\"engy\",[{\"type\":\"GlyphRenderer\",\"id\":\"318e2a5e-6f98-43a0-c359-ec1f3625397c\"}]]],\"id\":\"7f231e27-7662-44be-c408-f5a702361637\",\"doc\":null,\"tags\":[]}},{\"id\":\"1ffa74c4-5d87-4aa6-caa7-2a24803de884\",\"type\":\"Plot\",\"attributes\":{\"x_range\":{\"type\":\"DataRange1d\",\"id\":\"4d0cef8f-b6cb-4a28-ca32-0cdd1bf92f04\"},\"tool_events\":{\"type\":\"ToolEvents\",\"id\":\"4159ba34-f5d2-4ea0-ce6e-e2e5f7a7b162\"},\"below\":[{\"type\":\"LinearAxis\",\"id\":\"b04fea24-0c3b-484f-c8d0-bc8a4df85904\"}],\"renderers\":[{\"type\":\"GlyphRenderer\",\"id\":\"56749734-a777-44e6-c416-a274d6a664b4\"},{\"type\":\"GlyphRenderer\",\"id\":\"318e2a5e-6f98-43a0-c359-ec1f3625397c\"},{\"type\":\"LinearAxis\",\"id\":\"b04fea24-0c3b-484f-c8d0-bc8a4df85904\"},{\"type\":\"Grid\",\"id\":\"ebdc4e4e-69ab-4cff-cc2d-90258fe7567d\"},{\"type\":\"LinearAxis\",\"id\":\"06aa0799-76b5-4dd2-cd9c-b74b2750c711\"},{\"type\":\"Grid\",\"id\":\"bbc58c9c-7f93-477e-c772-50b444ad44ae\"},{\"type\":\"Legend\",\"id\":\"7f231e27-7662-44be-c408-f5a702361637\"}],\"above\":[],\"tools\":[{\"type\":\"PanTool\",\"id\":\"04bd9b73-7f77-4204-c2e4-f5666eb52605\"},{\"type\":\"WheelZoomTool\",\"id\":\"e7c14258-8cf5-4d38-cdd9-5984b531bd85\"},{\"type\":\"BoxZoomTool\",\"id\":\"a57dec09-6dc3-4a8b-ca87-838615770cfb\"},{\"type\":\"PreviewSaveTool\",\"id\":\"896bd361-7500-475c-c747-347ad275947c\"},{\"type\":\"ResizeTool\",\"id\":\"6d003e0e-be3f-421d-c2b9-9ac98a478aac\"},{\"type\":\"ResetTool\",\"id\":\"e7abd6fb-c52d-41fd-c1d8-5f9f8c654055\"}],\"doc\":null,\"right\":[],\"title\":\"Feature Observation of a Tone 2\",\"extra_x_ranges\":{},\"left\":[{\"type\":\"LinearAxis\",\"id\":\"06aa0799-76b5-4dd2-cd9c-b74b2750c711\"}],\"y_range\":{\"type\":\"DataRange1d\",\"id\":\"b0f668d7-0325-4f04-cfa8-d0416fe7876c\"},\"id\":\"1ffa74c4-5d87-4aa6-caa7-2a24803de884\",\"extra_y_ranges\":{},\"tags\":[]}}];\n",
       "      Bokeh.load_models(all_models);\n",
       "      var model = Bokeh.Collections(modeltype).get(modelid);\n",
       "      $(\"#5250b07f-d2fa-4112-c1d3-edd08cc15824\").html(''); // clear any previous plot in window_id\n",
       "      var view = new model.default_view({model: model, el: \"#5250b07f-d2fa-4112-c1d3-edd08cc15824\"});\n",
       "  });\n",
       "    }\n",
       "});\n",
       "</script>\n",
       "<div class=\"plotdiv\" id=\"969e9c7d-35cb-4289-c27d-e91e6c65af21\"></div>\n"
      ]
     },
     "metadata": {},
     "output_type": "display_data"
    }
   ],
   "source": [
    "Plot = require 'itorch.Plot'\n",
    "local x1 = torch.range(1,max_len)\n",
    "local sampleN = 57\n",
    "local y1 = newtestset.data[{sampleN,{},1}]\n",
    "local y2 = newtestset.data[{sampleN,{},2}]\n",
    "-- local x1 = torch.range(1,18)\n",
    "-- local y1 = peek\n",
    "plot = Plot():line(x1, y1,'red','f0'):legend(true):title('Feature Observation of a Tone '..newtestset.label[sampleN]):draw()\n",
    "plot:line(x1, y2,'blue','engy'):redraw()"
   ]
  },
  {
   "cell_type": "markdown",
   "metadata": {},
   "source": [
    "## Model"
   ]
  },
  {
   "cell_type": "code",
   "execution_count": 233,
   "metadata": {
    "collapsed": false
   },
   "outputs": [],
   "source": [
    "require 'dp'\n",
    "local inp = 2;  -- dimensionality of one sequence element \n",
    "local outp = 4; -- number of derived features for one sequence element\n",
    "local conv_kw = 4;   -- number of sequence element kernel operates on per step\n",
    "local conv_dw = 4;   -- step dw and go on to the next sequence element\n",
    "\n",
    "local pool_kw = 4;   -- number of sequence element pooled on per step\n",
    "local pool_dw = 4;   -- step dw and go on to the next sequence element\n",
    "\n",
    "local nOutputFrame = (max_len - conv_kw) / conv_dw + 1\n",
    "local nOutputFrame = (nOutputFrame - pool_kw) / pool_dw + 1\n",
    "\n",
    "net = nn.Sequential()\n",
    "peek = nn.TemporalConvolution(inp, outp, conv_kw, conv_dw)\n",
    "net:add(peek)\n",
    "net:add(nn.ReLU())\n",
    "net:add(nn.TemporalMaxPooling(pool_kw, pool_dw))\n",
    "net:add(nn.View(outp*nOutputFrame))\n",
    "net:add(nn.Linear(outp*nOutputFrame, 128))\n",
    "-- net:add(nn.BatchNormalization(64))\n",
    "net:add(nn.ReLU())\n",
    "net:add(nn.Linear(128, 4))\n",
    "net:add(nn.LogSoftMax())"
   ]
  },
  {
   "cell_type": "code",
   "execution_count": 234,
   "metadata": {
    "collapsed": false
   },
   "outputs": [
    {
     "data": {
      "text/plain": [
       "nn.Sequential {\n",
       "  [input -> (1) -> (2) -> (3) -> (4) -> (5) -> (6) -> (7) -> (8) -> output]\n",
       "  (1): nn.TemporalConvolution\n",
       "  (2): nn.ReLU\n",
       "  (3): nn.TemporalMaxPooling\n",
       "  (4): nn.View(16)\n",
       "  (5): nn.Linear(16 -> 128)\n",
       "  (6): nn.ReLU\n",
       "  (7): nn.Linear(128 -> 4)\n",
       "  (8): nn.LogSoftMax\n",
       "}\t\n"
      ]
     },
     "execution_count": 234,
     "metadata": {},
     "output_type": "execute_result"
    }
   ],
   "source": [
    "print (net:__tostring())"
   ]
  },
  {
   "cell_type": "code",
   "execution_count": 239,
   "metadata": {
    "collapsed": false
   },
   "outputs": [],
   "source": [
    "criterion = nn.ClassNLLCriterion();  \n",
    "trainer = nn.StochasticGradient(net, criterion)  \n",
    "trainer.learningRate = 0.001\n",
    "trainer.maxIteration = 200\n",
    "trainer.verbose = False"
   ]
  },
  {
   "cell_type": "code",
   "execution_count": 240,
   "metadata": {
    "collapsed": false
   },
   "outputs": [],
   "source": [
    "function cal_acc(dataset)\n",
    "    local acc = 0.0\n",
    "    for i = 1, dataset:size() do\n",
    "        _, output = torch.max(net:forward(dataset[i][1]), 1)\n",
    "        if output[1] == dataset[i][2] then\n",
    "            acc = acc + 1.0\n",
    "        end\n",
    "    end\n",
    "    acc = acc / dataset:size()\n",
    "    return acc\n",
    "end"
   ]
  },
  {
   "cell_type": "code",
   "execution_count": 241,
   "metadata": {
    "collapsed": false
   },
   "outputs": [],
   "source": [
    "recorder = {loss = {}, trainacc = {}, valacc = {}, testacc = {}}\n",
    "trainer.hookIteration = function(obj, iteration, currentError) \n",
    "    local trainacc = cal_acc(trainset)\n",
    "    local valacc = cal_acc(testset)\n",
    "    local testacc = cal_acc(newtestset)\n",
    "    table.insert(recorder.loss, currentError)\n",
    "    table.insert(recorder.trainacc, trainacc)\n",
    "    table.insert(recorder.valacc, valacc)\n",
    "    table.insert(recorder.testacc, testacc)\n",
    "    if (iteration % 10 == 0) then \n",
    "        print('Iteration '..iteration..': loss('..currentError..') train_acc('\n",
    "            ..trainacc..') test_acc('..valacc..') new_test_acc('..testacc..').')\n",
    "    end\n",
    "end"
   ]
  },
  {
   "cell_type": "code",
   "execution_count": 242,
   "metadata": {
    "collapsed": false
   },
   "outputs": [
    {
     "data": {
      "text/plain": [
       "# StochasticGradient: training\t\n"
      ]
     },
     "execution_count": 242,
     "metadata": {},
     "output_type": "execute_result"
    },
    {
     "data": {
      "text/plain": [
       "Iteration 10: loss(0.28919479782248) train_acc(0.9375) test_acc(0.95) new_test_acc(0.73245614035088).\t\n"
      ]
     },
     "execution_count": 242,
     "metadata": {},
     "output_type": "execute_result"
    },
    {
     "data": {
      "text/plain": [
       "Iteration 20: loss(0.28021395291023) train_acc(0.9375) test_acc(0.95) new_test_acc(0.73684210526316).\t\n"
      ]
     },
     "execution_count": 242,
     "metadata": {},
     "output_type": "execute_result"
    },
    {
     "data": {
      "text/plain": [
       "Iteration 30: loss(0.27176185013533) train_acc(0.94) test_acc(0.95) new_test_acc(0.75).\t\n"
      ]
     },
     "execution_count": 242,
     "metadata": {},
     "output_type": "execute_result"
    },
    {
     "data": {
      "text/plain": [
       "Iteration 40: loss(0.26450652715343) train_acc(0.945) test_acc(0.95) new_test_acc(0.75).\t\n"
      ]
     },
     "execution_count": 242,
     "metadata": {},
     "output_type": "execute_result"
    },
    {
     "data": {
      "text/plain": [
       "Iteration 50: loss(0.25814118818944) train_acc(0.9475) test_acc(0.95) new_test_acc(0.75438596491228).\t\n"
      ]
     },
     "execution_count": 242,
     "metadata": {},
     "output_type": "execute_result"
    },
    {
     "data": {
      "text/plain": [
       "Iteration 60: loss(0.25155124776513) train_acc(0.9475) test_acc(0.95) new_test_acc(0.75438596491228).\t\n"
      ]
     },
     "execution_count": 242,
     "metadata": {},
     "output_type": "execute_result"
    },
    {
     "data": {
      "text/plain": [
       "Iteration 70: loss(0.24666788355137) train_acc(0.95) test_acc(0.95) new_test_acc(0.75438596491228).\t\n"
      ]
     },
     "execution_count": 242,
     "metadata": {},
     "output_type": "execute_result"
    },
    {
     "data": {
      "text/plain": [
       "Iteration 80: loss(0.24134917899044) train_acc(0.95) test_acc(0.95) new_test_acc(0.75438596491228).\t\n"
      ]
     },
     "execution_count": 242,
     "metadata": {},
     "output_type": "execute_result"
    },
    {
     "data": {
      "text/plain": [
       "Iteration 90: loss(0.2376883515254) train_acc(0.95) test_acc(0.95) new_test_acc(0.75877192982456).\t\n"
      ]
     },
     "execution_count": 242,
     "metadata": {},
     "output_type": "execute_result"
    },
    {
     "data": {
      "text/plain": [
       "Iteration 100: loss(0.23325570004698) train_acc(0.95) test_acc(0.95) new_test_acc(0.75877192982456).\t\n"
      ]
     },
     "execution_count": 242,
     "metadata": {},
     "output_type": "execute_result"
    },
    {
     "data": {
      "text/plain": [
       "Iteration 110: loss(0.2303789247168) train_acc(0.95) test_acc(0.95) new_test_acc(0.76754385964912).\t\n"
      ]
     },
     "execution_count": 242,
     "metadata": {},
     "output_type": "execute_result"
    },
    {
     "data": {
      "text/plain": [
       "Iteration 120: loss(0.22772508098282) train_acc(0.95) test_acc(0.95) new_test_acc(0.75877192982456).\t\n"
      ]
     },
     "execution_count": 242,
     "metadata": {},
     "output_type": "execute_result"
    },
    {
     "data": {
      "text/plain": [
       "Iteration 130: loss(0.22492124393718) train_acc(0.95) test_acc(0.95) new_test_acc(0.75877192982456).\t\n"
      ]
     },
     "execution_count": 242,
     "metadata": {},
     "output_type": "execute_result"
    },
    {
     "data": {
      "text/plain": [
       "Iteration 140: loss(0.22195572939134) train_acc(0.95) test_acc(0.95) new_test_acc(0.76315789473684).\t\n"
      ]
     },
     "execution_count": 242,
     "metadata": {},
     "output_type": "execute_result"
    },
    {
     "data": {
      "text/plain": [
       "Iteration 150: loss(0.21986875991006) train_acc(0.95) test_acc(0.95) new_test_acc(0.76754385964912).\t\n"
      ]
     },
     "execution_count": 242,
     "metadata": {},
     "output_type": "execute_result"
    },
    {
     "data": {
      "text/plain": [
       "Iteration 160: loss(0.21794129024669) train_acc(0.95) test_acc(0.95) new_test_acc(0.76315789473684).\t\n"
      ]
     },
     "execution_count": 242,
     "metadata": {},
     "output_type": "execute_result"
    },
    {
     "data": {
      "text/plain": [
       "Iteration 170: loss(0.21617859049863) train_acc(0.95) test_acc(0.95) new_test_acc(0.76315789473684).\t\n"
      ]
     },
     "execution_count": 242,
     "metadata": {},
     "output_type": "execute_result"
    },
    {
     "data": {
      "text/plain": [
       "Iteration 180: loss(0.21458903595126) train_acc(0.9525) test_acc(0.95) new_test_acc(0.75877192982456).\t\n"
      ]
     },
     "execution_count": 242,
     "metadata": {},
     "output_type": "execute_result"
    },
    {
     "data": {
      "text/plain": [
       "Iteration 190: loss(0.21258571923968) train_acc(0.955) test_acc(0.95) new_test_acc(0.76315789473684).\t\n"
      ]
     },
     "execution_count": 242,
     "metadata": {},
     "output_type": "execute_result"
    },
    {
     "data": {
      "text/plain": [
       "Iteration 200: loss(0.21108299943349) train_acc(0.9525) test_acc(0.95) new_test_acc(0.75877192982456).\t\n",
       "# StochasticGradient: you have reached the maximum number of iterations\t\n",
       "# training error = 0.21108299943349\t\n",
       "\n"
      ]
     },
     "execution_count": 242,
     "metadata": {},
     "output_type": "execute_result"
    }
   ],
   "source": [
    "trainer:train(trainset)"
   ]
  },
  {
   "cell_type": "code",
   "execution_count": null,
   "metadata": {
    "collapsed": false
   },
   "outputs": [],
   "source": [
    "local x = torch.range(1, #recorder.loss)\n",
    "plt = Plot():line(x, recorder.loss,'red','loss'):legend(true):title('Train Loss'):draw()\n",
    "plt = Plot():line(x, recorder.trainacc,'blue','train_acc'):legend(true):title('Accuracy'):draw()\n",
    "plt:line(x, recorder.valacc,'green','val_acc'):redraw()"
   ]
  },
  {
   "cell_type": "code",
   "execution_count": 21,
   "metadata": {
    "collapsed": false
   },
   "outputs": [
    {
     "data": {
      "text/plain": [
       "accuracy on train set 0.9525\t\n"
      ]
     },
     "execution_count": 21,
     "metadata": {},
     "output_type": "execute_result"
    },
    {
     "data": {
      "text/plain": [
       "accuracy on test set 0.95\t\n"
      ]
     },
     "execution_count": 21,
     "metadata": {},
     "output_type": "execute_result"
    },
    {
     "data": {
      "text/plain": [
       "accuracy on new test set 0.78947368421053\t\n"
      ]
     },
     "execution_count": 21,
     "metadata": {},
     "output_type": "execute_result"
    }
   ],
   "source": [
    "print ('accuracy on train set '..cal_acc(trainset))\n",
    "print ('accuracy on test set '..cal_acc(testset))\n",
    "print ('accuracy on new test set '..cal_acc(newtestset))"
   ]
  },
  {
   "cell_type": "markdown",
   "metadata": {},
   "source": [
    "## To see why"
   ]
  },
  {
   "cell_type": "code",
   "execution_count": 22,
   "metadata": {
    "collapsed": false
   },
   "outputs": [],
   "source": [
    "mislabeled = {}\n",
    "local output\n",
    "for i = 1, newtestset:size() do\n",
    "    _, output = torch.max(net:forward(newtestset[i][1]), 1)\n",
    "    if output[1] ~= newtestset[i][2] then\n",
    "        table.insert(mislabeled, { data_id = i, pred = output[1], gt = newtestset[i][2]})\n",
    "    end\n",
    "end"
   ]
  },
  {
   "cell_type": "code",
   "execution_count": 23,
   "metadata": {
    "collapsed": false
   },
   "outputs": [
    {
     "data": {
      "text/plain": [
       "48\t\n"
      ]
     },
     "execution_count": 23,
     "metadata": {},
     "output_type": "execute_result"
    }
   ],
   "source": [
    "print(#mislabeled)"
   ]
  },
  {
   "cell_type": "code",
   "execution_count": 24,
   "metadata": {
    "collapsed": false
   },
   "outputs": [
    {
     "data": {
      "text/plain": [
       "{\n",
       "  1 : \n",
       "    {\n",
       "      data_id : 49\n",
       "      pred : 4\n",
       "      gt : 1\n",
       "    }\n",
       "  2 : \n",
       "    {\n",
       "      data_id : 53\n",
       "      pred : 4\n",
       "      gt : 1\n",
       "    }\n",
       "  3 : \n",
       "    {\n",
       "      data_id : 57\n",
       "      pred : 3\n",
       "      gt : 2\n",
       "    }\n",
       "  4 : \n",
       "    {\n",
       "      data_id : 58\n",
       "      pred : 3\n",
       "      gt : 2\n",
       "    }\n",
       "  5 : \n",
       "    {\n",
       "      data_id : 59\n",
       "      pred : 3\n",
       "      gt : 2\n",
       "    }\n",
       "  6 : \n",
       "    {\n",
       "      data_id : 60\n",
       "      pred : 3\n",
       "      gt : 2\n",
       "    }\n",
       "  7 : \n",
       "    {\n",
       "      data_id : 68\n",
       "      pred : 1\n",
       "      gt : 2\n",
       "    }\n",
       "  8 : \n",
       "    {\n",
       "      data_id : 70\n",
       "      pred : 1\n",
       "      gt : 2\n",
       "    }\n",
       "  9 : \n",
       "    {\n",
       "      data_id : 71\n",
       "      pred : 1\n"
      ]
     },
     "execution_count": 24,
     "metadata": {},
     "output_type": "execute_result"
    },
    {
     "data": {
      "text/plain": [
       "      gt : 2\n",
       "    }\n",
       "  10 : \n",
       "    {\n",
       "      data_id : 72\n",
       "      pred : 1\n",
       "      gt : 2\n",
       "    }\n",
       "  11 : \n",
       "    {\n",
       "      data_id : 73\n",
       "      pred : 4\n"
      ]
     },
     "execution_count": 24,
     "metadata": {},
     "output_type": "execute_result"
    },
    {
     "data": {
      "text/plain": [
       "      gt : 2\n",
       "    }\n",
       "  12 : \n",
       "    {\n",
       "      data_id : 76\n",
       "      pred : 4\n",
       "      gt : 2\n",
       "    }\n",
       "  13 : \n",
       "    {\n",
       "      data_id : 92\n",
       "      pred : 1\n",
       "      gt : 2\n",
       "    }\n",
       "  14 : \n",
       "    {\n",
       "      data_id : 93\n",
       "      pred : 1\n",
       "      gt : 2\n",
       "    }\n",
       "  15 : \n",
       "    {\n",
       "      data_id : 96\n",
       "      pred : 1\n",
       "      gt : 2\n",
       "    }\n",
       "  16 : \n",
       "    {\n",
       "      data_id : 98\n",
       "      pred : 1\n",
       "      gt : 2\n",
       "    }\n",
       "  17 : \n",
       "    {\n",
       "      data_id : 101\n",
       "      pred : 1\n",
       "      gt : 2\n",
       "    }\n",
       "  18 : \n",
       "    {\n",
       "      data_id : 104\n",
       "      pred : 1\n",
       "      gt : 2\n",
       "    }\n",
       "  19 : \n",
       "    {\n",
       "      data_id : 105\n",
       "      pred : 1\n",
       "      gt : 2\n",
       "    }\n",
       "  20 : \n",
       "    {\n",
       "      data_id : 108\n",
       "      pred : 3\n",
       "      gt : 2\n",
       "    }\n",
       "  21 : \n",
       "    {\n",
       "      data_id : 109\n",
       "      pred : 1\n",
       "      gt : 2\n",
       "    }\n",
       "  22 : \n",
       "    {\n",
       "      data_id : 113\n",
       "      pred : 4\n",
       "      gt : 2\n",
       "    }\n",
       "  23 : \n",
       "    {\n",
       "      data_id : 119\n",
       "      pred : 4\n",
       "      gt : 3\n",
       "    }\n",
       "  24 : \n",
       "    {\n",
       "      data_id : 123\n",
       "      pred : 2\n",
       "      gt : 3\n",
       "    }\n",
       "  25 : \n",
       "    {\n",
       "      data_id : 124\n",
       "      pred : 2\n",
       "      gt : 3\n",
       "    }\n",
       "  26 : \n",
       "    {\n",
       "      data_id : 125\n",
       "      pred : 2\n",
       "      gt : 3\n",
       "    }\n",
       "  27 : \n",
       "    {\n",
       "      data_id : 129\n",
       "      pred : 2\n",
       "      gt : 3\n"
      ]
     },
     "execution_count": 24,
     "metadata": {},
     "output_type": "execute_result"
    },
    {
     "data": {
      "text/plain": [
       "    }\n",
       "  28 : \n",
       "    {\n",
       "      data_id : 132\n",
       "      pred : 2\n",
       "      gt : 3\n",
       "    }\n",
       "  29 : \n",
       "    {\n",
       "      data_id : 137\n",
       "      pred : 1\n",
       "      gt : 3\n",
       "    }\n",
       "  30 : \n",
       "    {\n",
       "      data_id : 140\n",
       "      pred : 1\n",
       "      gt : 3\n",
       "    }\n",
       "  31 : \n",
       "    {\n",
       "      data_id : 144\n",
       "      pred : 1\n",
       "      gt : 3\n",
       "    }\n",
       "  32 : \n",
       "    {\n",
       "      data_id : 152\n",
       "      pred : 1\n",
       "      gt : 3\n",
       "    }\n",
       "  33 : \n",
       "    {\n",
       "      data_id : 159\n",
       "      pred : 4\n",
       "      gt : 3\n",
       "    }\n",
       "  34 : \n",
       "    {\n",
       "      data_id : 160\n",
       "      pred : 2\n",
       "      gt : 3\n",
       "    }\n",
       "  35 : \n",
       "    {\n",
       "      data_id : 161\n",
       "      pred : 1\n",
       "      gt : 3\n",
       "    }\n",
       "  36 : \n",
       "    {\n",
       "      data_id : 162\n",
       "      pred : 2\n",
       "      gt : 3\n",
       "    }\n",
       "  37 : \n",
       "    {\n",
       "      data_id : 171\n",
       "      pred : 2\n",
       "      gt : 3\n",
       "    }\n",
       "  38 : \n",
       "    {\n",
       "      data_id : 172\n",
       "      pred : 2\n",
       "      gt : 3\n",
       "    }\n",
       "  39 : \n",
       "    {\n",
       "      data_id : 174\n",
       "      pred : 2\n",
       "      gt : 3\n",
       "    }\n",
       "  40 : \n",
       "    {\n",
       "      data_id : 175\n",
       "      pred : 3\n",
       "      gt : 4\n",
       "    }\n",
       "  41 : \n",
       "    {\n",
       "      data_id : 185\n",
       "      pred : 3\n",
       "      gt : 4\n",
       "    }\n",
       "  42 : \n",
       "    {\n",
       "      data_id : 193\n"
      ]
     },
     "execution_count": 24,
     "metadata": {},
     "output_type": "execute_result"
    },
    {
     "data": {
      "text/plain": [
       "      pred : 1\n",
       "      gt : 4\n",
       "    }\n",
       "  43 : \n",
       "    {\n",
       "      data_id : 194\n",
       "      pred : 2\n",
       "      gt : 4\n",
       "    }\n",
       "  44 : \n",
       "    {\n",
       "      data_id : 195\n",
       "      pred : 3\n",
       "      gt : 4\n",
       "    }\n",
       "  45 : \n",
       "    {\n",
       "      data_id : 198\n",
       "      pred : 2\n",
       "      gt : 4\n",
       "    }\n",
       "  46 : \n",
       "    {\n",
       "      data_id : 199\n",
       "      pred : 1\n",
       "      gt : 4\n",
       "    }\n",
       "  47 : \n",
       "    {\n",
       "      data_id : 218\n",
       "      pred : 1\n",
       "      gt : 4\n",
       "    }\n",
       "  48 : \n",
       "    {\n",
       "      data_id : 222\n",
       "      pred : 1\n",
       "      gt : 4\n",
       "    }\n",
       "}\n"
      ]
     },
     "execution_count": 24,
     "metadata": {},
     "output_type": "execute_result"
    }
   ],
   "source": [
    "print(mislabeled)"
   ]
  },
  {
   "cell_type": "code",
   "execution_count": null,
   "metadata": {
    "collapsed": false
   },
   "outputs": [],
   "source": [
    "print(net:forward(newtestset[4][1]))\n",
    "-- print(peek:forward(newtestset[4][1]))\n",
    "print(peek.weight)\n",
    "-- local x1 = torch.range(1, MAX_LEN - 1)\n",
    "-- local sampleN = 7\n",
    "-- local y1 = newtestset.data[{sampleN,{},1}]\n",
    "-- local y2 = peek\n",
    "-- plot = Plot():line(x1, y1,'red','f0'):legend(true):title('Feature Observation of a Tone '..newtestset.label[sampleN]):draw()\n",
    "-- plot:line(x1, y2,'blue','engy'):redraw()"
   ]
  },
  {
   "cell_type": "markdown",
   "metadata": {
    "collapsed": true
   },
   "source": [
    "## Try Rules!"
   ]
  },
  {
   "cell_type": "code",
   "execution_count": null,
   "metadata": {
    "collapsed": true
   },
   "outputs": [],
   "source": [
    "function cal_acc_rule(dataset)\n",
    "    local acc = 0.0\n",
    "    for i = 1, dataset:size() do\n",
    "        output = simple_rule(dataset[i][1])\n",
    "        if output == dataset[i][2] then\n",
    "            acc = acc + 1.0\n",
    "        end\n",
    "    end\n",
    "    acc = acc / dataset:size()\n",
    "    return acc\n",
    "end"
   ]
  },
  {
   "cell_type": "code",
   "execution_count": null,
   "metadata": {
    "collapsed": false
   },
   "outputs": [],
   "source": [
    "function simple_rule(example)\n",
    "    -- only take f0\n",
    "    local f0 = example[{{}, 1}]\n",
    "    local max = f0:max()\n",
    "    if max < 0.3 then return 1 end\n",
    "    local totcnt = 0\n",
    "    local cnt = 0\n",
    "    for i = 1, (#f0)[1] - 1 do\n",
    "        if f0[i + 1] ~= 0 then totcnt = totcnt + 1 end\n",
    "        if f0[i + 1] - f0[i] < 0 then cnt = cnt + 1 end\n",
    "    end\n",
    "    if cnt > 0.8 * totcnt then return 4\n",
    "    elseif cnt < 0.2 * totcnt then return 2\n",
    "    else return 3 end\n",
    "end"
   ]
  },
  {
   "cell_type": "code",
   "execution_count": null,
   "metadata": {
    "collapsed": false
   },
   "outputs": [],
   "source": [
    "print ('accuracy on train set '..cal_acc_rule(trainset))\n",
    "print ('accuracy on test set '..cal_acc_rule(testset))\n",
    "print ('accuracy on new test set '..cal_acc_rule(newtestset))"
   ]
  },
  {
   "cell_type": "code",
   "execution_count": null,
   "metadata": {
    "collapsed": false
   },
   "outputs": [],
   "source": [
    "mislabeled_rule = {}\n",
    "local output\n",
    "for i = 1, newtestset:size() do\n",
    "    local output = simple_rule(newtestset[i][1])\n",
    "    if output ~= newtestset[i][2] then\n",
    "        table.insert(mislabeled_rule, { data_id = i, pred = output, gt = newtestset[i][2]})\n",
    "    end\n",
    "end"
   ]
  },
  {
   "cell_type": "code",
   "execution_count": null,
   "metadata": {
    "collapsed": false
   },
   "outputs": [],
   "source": [
    "print(#mislabeled_rule)"
   ]
  },
  {
   "cell_type": "code",
   "execution_count": null,
   "metadata": {
    "collapsed": false
   },
   "outputs": [],
   "source": [
    "print(mislabeled_rule)"
   ]
  },
  {
   "cell_type": "code",
   "execution_count": null,
   "metadata": {
    "collapsed": false
   },
   "outputs": [],
   "source": [
    "local i = 1.5\n",
    "local x = torch.Tensor{i, i * i}:reshape(1,2)\n",
    "print(x)"
   ]
  },
  {
   "cell_type": "code",
   "execution_count": null,
   "metadata": {
    "collapsed": true
   },
   "outputs": [],
   "source": []
  },
  {
   "cell_type": "code",
   "execution_count": 215,
   "metadata": {
    "collapsed": false
   },
   "outputs": [],
   "source": [
    "function make_linear_spine(vec, targetLen)\n",
    "    local len = (#vec)[1]\n",
    "    local ys = {}\n",
    "    \n",
    "    for i = 1, len do\n",
    "        table.insert(ys, vec[i])\n",
    "    end\n",
    "    \n",
    "    local res = torch.Tensor(targetLen)\n",
    "    \n",
    "    local i = 1\n",
    "    for ind = 1, targetLen do\n",
    "        local x = (ind - 1) * (len - 1) / (targetLen - 1) + 1\n",
    "        if  x > i then\n",
    "            i = i + 1\n",
    "        end\n",
    "        if x == i then \n",
    "            res[ind] = ys[i]\n",
    "        else\n",
    "            res[ind] = (ys[i] - ys[i - 1]) * (x - i + 1) + ys[i - 1]\n",
    "        end\n",
    "    end\n",
    "    return res\n",
    "end"
   ]
  },
  {
   "cell_type": "code",
   "execution_count": 216,
   "metadata": {
    "collapsed": false
   },
   "outputs": [
    {
     "data": {
      "text/plain": [
       " 2.2656\n",
       " 2.1000\n",
       " 1.9344\n",
       " 1.7688\n",
       " 1.8318\n",
       " 2.0003\n",
       " 2.1688\n",
       " 2.3338\n",
       " 2.4926\n",
       " 2.6513\n",
       " 2.8094\n",
       " 2.9550\n",
       " 3.1005\n",
       " 3.2460\n",
       " 3.2617\n",
       " 3.2310\n",
       " 3.2004\n",
       " 3.1677\n",
       " 3.1324\n",
       " 3.0971\n",
       " 3.0625\n",
       " 3.0348\n",
       " 3.0071\n",
       " 2.9794\n",
       " 2.9581\n",
       " 2.9385\n",
       " 2.9190\n",
       " 2.9036\n",
       " 2.8928\n",
       " 2.8820\n",
       " 2.8709\n",
       " 2.8581\n",
       " 2.8452\n",
       " 2.8323\n",
       " 2.8147\n",
       " 2.7963\n",
       " 2.7778\n",
       " 2.7568\n",
       " 2.7334\n",
       " 2.7101\n",
       " 2.6870\n",
       " 2.6644\n",
       " 2.6419\n",
       " 2.6193\n",
       " 2.5979\n",
       " 2.5766\n",
       " 2.5553\n",
       " 2.5295\n",
       " 2.5003\n",
       " 2.4711\n",
       " 2.4425\n",
       " 2.4154\n",
       " 2.3884\n",
       " 2.3613\n",
       " 2.3301\n",
       " 2.2987\n",
       " 2.2672\n",
       " 2.2400\n",
       " 2.2153\n",
       " 2.1905\n",
       " 2.1653\n",
       " 2.1390\n",
       " 2.1127\n",
       " 2.0864\n",
       "[torch.DoubleTensor of size 64]\n",
       "\n"
      ]
     },
     "execution_count": 216,
     "metadata": {},
     "output_type": "execute_result"
    }
   ],
   "source": [
    "-- print(peek)\n",
    "print(make_linear_spine(peek, 64))\n",
    "-- fit_quad(peek)"
   ]
  },
  {
   "cell_type": "code",
   "execution_count": null,
   "metadata": {
    "collapsed": true
   },
   "outputs": [],
   "source": []
  }
 ],
 "metadata": {
  "anaconda-cloud": {},
  "kernelspec": {
   "display_name": "iTorch",
   "language": "lua",
   "name": "itorch"
  },
  "language_info": {
   "name": "lua",
   "version": "5.1"
  }
 },
 "nbformat": 4,
 "nbformat_minor": 0
}

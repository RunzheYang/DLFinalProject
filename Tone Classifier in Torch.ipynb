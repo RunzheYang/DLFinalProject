{
 "cells": [
  {
   "cell_type": "markdown",
   "metadata": {},
   "source": [
    "#  Tone Classification Task"
   ]
  },
  {
   "cell_type": "markdown",
   "metadata": {},
   "source": [
    "## Data Preparation"
   ]
  },
  {
   "cell_type": "code",
   "execution_count": 50,
   "metadata": {
    "collapsed": false
   },
   "outputs": [],
   "source": [
    "require 'loader'\n",
    "MAX_LEN = 128\n",
    "-- Loader:new(obj, max_len)\n",
    "ldr = Loader:new(nil, MAX_LEN)"
   ]
  },
  {
   "cell_type": "code",
   "execution_count": 51,
   "metadata": {
    "collapsed": false
   },
   "outputs": [],
   "source": [
    "function make_dataset(name)\n",
    "    local dataset = {data = ldr.data[name], label = ldr.label[name]}\n",
    "    function dataset:size() \n",
    "        return self.data:size(1) \n",
    "    end\n",
    "    for i = 1, dataset:size() do\n",
    "        dataset[i] = {dataset.data[i], dataset.label[i]}\n",
    "    end\n",
    "    for i = 1, 2 do\n",
    "--         we abandon engy...\n",
    "        if i == 2 then\n",
    "            dataset.data[{{}, {}, i}]:fill(0)\n",
    "            break\n",
    "        end\n",
    "        local std = dataset.data[{{}, {}, i}]:std()\n",
    "        dataset.data[{{}, {}, i}]:div(std)\n",
    "--         for j = 1, dataset:size() do\n",
    "--             local std = dataset.data[{j, {}, i}]:std()\n",
    "--             dataset.data[{j, {}, i}]:div(std)\n",
    "--         end\n",
    "    end\n",
    "    return dataset\n",
    "end"
   ]
  },
  {
   "cell_type": "code",
   "execution_count": 52,
   "metadata": {
    "collapsed": false
   },
   "outputs": [],
   "source": [
    "trainset = make_dataset('train')\n",
    "testset = make_dataset('test')\n",
    "newtestset = make_dataset('test_new')"
   ]
  },
  {
   "cell_type": "code",
   "execution_count": 53,
   "metadata": {
    "collapsed": false
   },
   "outputs": [
    {
     "data": {
      "text/html": [
       "<script type=\"text/javascript\">\n",
       "$(function() {\n",
       "    if (typeof (window._bokeh_onload_callbacks) === \"undefined\"){\n",
       "  window._bokeh_onload_callbacks = [];\n",
       "    }\n",
       "    function load_lib(url, callback){\n",
       "  window._bokeh_onload_callbacks.push(callback);\n",
       "  if (window._bokeh_is_loading){\n",
       "      console.log(\"Bokeh: BokehJS is being loaded, scheduling callback at\", new Date());\n",
       "      return null;\n",
       "  }\n",
       "  console.log(\"Bokeh: BokehJS not loaded, scheduling load and callback at\", new Date());\n",
       "  window._bokeh_is_loading = true;\n",
       "  var s = document.createElement('script');\n",
       "  s.src = url;\n",
       "  s.async = true;\n",
       "  s.onreadystatechange = s.onload = function(){\n",
       "      Bokeh.embed.inject_css(\"https://cdn.pydata.org/bokeh-0.7.0.min.css\");\n",
       "      window._bokeh_onload_callbacks.forEach(function(callback){callback()});\n",
       "  };\n",
       "  s.onerror = function(){\n",
       "      console.warn(\"failed to load library \" + url);\n",
       "  };\n",
       "  document.getElementsByTagName(\"head\")[0].appendChild(s);\n",
       "    }\n",
       "\n",
       "    bokehjs_url = \"https://cdn.pydata.org/bokeh-0.7.0.min.js\"\n",
       "\n",
       "    var elt = document.getElementById(\"c673d072-e1b6-4e1b-ced1-3d1d7ebf2559\");\n",
       "    if(elt==null) {\n",
       "  console.log(\"Bokeh: ERROR: autoload.js configured with elementid 'c673d072-e1b6-4e1b-ced1-3d1d7ebf2559'\"\n",
       "        + \"but no matching script tag was found. \")\n",
       "  return false;\n",
       "    }\n",
       "\n",
       "    if(typeof(Bokeh) !== \"undefined\") {\n",
       "  console.log(\"Bokeh: BokehJS loaded, going straight to plotting\");\n",
       "  var modelid = \"6644b98a-a650-429b-c26a-67a6f878d194\";\n",
       "  var modeltype = \"Plot\";\n",
       "  var all_models = [{\"id\":\"90f8e2fb-03ab-4b59-cbf9-2fe81abd339f\",\"type\":\"ColumnDataSource\",\"attributes\":{\"data\":{\"y\":[0,1.9168363828047,1.9468058739572,1.8667689634957,1.8452844050424,1.835695230949,1.8414254779691,1.8237242918694,1.824306701391,1.8146972181159,1.8169756877136,1.8232188290451,1.83595916664,1.8781563292691,1.8456753149543,1.8337201516211,1.8169226480417,1.8125148482191,1.810843280864,1.806490840676,1.807960692979,1.7980421222142,1.8010240653543,1.7968598844346,1.7898651132201,1.7915206690293,1.7922674307939,1.7926859596716,1.7988681582452,1.7902624049311,1.7931309513369,1.7920276379278,1.7948313014424,1.7943526513017,1.7946170509853,1.7869762576326,1.7847886621149,1.7859928368533,1.7842544165402,1.7815324613513,1.7826925339791,1.7847864562487,1.7783116609367,1.7830197171778,1.7780225403391,1.7727596859356,1.767042909912,1.768425470766,1.7637116108148,1.7612286346035,1.7687783104703,1.7644505988027,1.761338311791,1.7723326834892,1.7723947824253,1.7758608295199,1.7825085647401,1.7718492717202,1.7739650244586,1.7841351019995,1.7821672183592,1.788688793247,1.7876642901118,1.7728562572355,1.7646303845024,1.7688491111681,1.7745385040254,1.7805483483864,1.7739376336858,1.7642235695347,1.7635120940226,1.7725850117603,1.7753846134386,1.776142982623,1.7912158791755,1.7772465318316,1.7672901266587,1.7775268289645,1.7791576562533,1.8019732495693,1.7928671373489,1.7690288968678,1.8121083907539,1.8330012446219,1.8023277094443,1.8337245633535,1.8264288359284,1.8760112156913,1.858516856168,1.7981053773284,1.8236221526591,1.8145808092334,1.7224213710474,1.8646529825643,1.8056671322141,1.993626258257,1.9190143409692,0,0,0,0,0,0,0,0,0,0,0,0,0,0,0,0,0,0,0,0,0,0,0,0,0,0,0,0,0,0,0],\"x\":[1,2,3,4,5,6,7,8,9,10,11,12,13,14,15,16,17,18,19,20,21,22,23,24,25,26,27,28,29,30,31,32,33,34,35,36,37,38,39,40,41,42,43,44,45,46,47,48,49,50,51,52,53,54,55,56,57,58,59,60,61,62,63,64,65,66,67,68,69,70,71,72,73,74,75,76,77,78,79,80,81,82,83,84,85,86,87,88,89,90,91,92,93,94,95,96,97,98,99,100,101,102,103,104,105,106,107,108,109,110,111,112,113,114,115,116,117,118,119,120,121,122,123,124,125,126,127,128]},\"column_names\":[\"y\",\"x\"],\"cont_ranges\":{},\"discrete_ranges\":{},\"selected\":[],\"id\":\"90f8e2fb-03ab-4b59-cbf9-2fe81abd339f\",\"doc\":null,\"tags\":[]}},{\"id\":\"e53ebf22-0490-4092-c0e9-5d468432554e\",\"type\":\"Line\",\"attributes\":{\"fill_alpha\":{\"units\":\"data\",\"value\":0.2},\"line_alpha\":{\"units\":\"data\",\"value\":1},\"doc\":null,\"size\":{\"units\":\"screen\",\"value\":10},\"fill_color\":{\"value\":\"red\"},\"line_color\":{\"value\":\"red\"},\"x\":{\"units\":\"data\",\"field\":\"x\"},\"id\":\"e53ebf22-0490-4092-c0e9-5d468432554e\",\"y\":{\"units\":\"data\",\"field\":\"y\"},\"tags\":[]}},{\"id\":\"6535aecf-8118-4c25-cc52-cf7dc99f9d7e\",\"type\":\"Line\",\"attributes\":{\"fill_alpha\":{\"units\":\"data\",\"value\":0.2},\"line_alpha\":{\"units\":\"data\",\"value\":1},\"doc\":null,\"size\":{\"units\":\"screen\",\"value\":10},\"fill_color\":{\"value\":\"red\"},\"line_color\":{\"value\":\"red\"},\"x\":{\"units\":\"data\",\"field\":\"x\"},\"id\":\"6535aecf-8118-4c25-cc52-cf7dc99f9d7e\",\"y\":{\"units\":\"data\",\"field\":\"y\"},\"tags\":[]}},{\"id\":\"34836c02-0902-4419-c45a-f86a2d0ebc39\",\"type\":\"GlyphRenderer\",\"attributes\":{\"name\":null,\"nonselection_glyph\":{\"type\":\"Line\",\"id\":\"6535aecf-8118-4c25-cc52-cf7dc99f9d7e\"},\"doc\":null,\"server_data_source\":null,\"data_source\":{\"type\":\"ColumnDataSource\",\"id\":\"90f8e2fb-03ab-4b59-cbf9-2fe81abd339f\"},\"glyph\":{\"type\":\"Line\",\"id\":\"e53ebf22-0490-4092-c0e9-5d468432554e\"},\"selection_glyph\":null,\"id\":\"34836c02-0902-4419-c45a-f86a2d0ebc39\",\"tags\":[]}},{\"id\":\"5d59f8d2-cd37-4343-c33b-2083647de025\",\"type\":\"DataRange1d\",\"attributes\":{\"sources\":[{\"columns\":[\"x\"],\"source\":{\"type\":\"ColumnDataSource\",\"id\":\"90f8e2fb-03ab-4b59-cbf9-2fe81abd339f\"}}],\"id\":\"5d59f8d2-cd37-4343-c33b-2083647de025\",\"tags\":[],\"doc\":null}},{\"id\":\"6aba9f36-a873-4c41-cccf-ee25baf691bd\",\"type\":\"DataRange1d\",\"attributes\":{\"sources\":[{\"columns\":[\"y\"],\"source\":{\"type\":\"ColumnDataSource\",\"id\":\"90f8e2fb-03ab-4b59-cbf9-2fe81abd339f\"}}],\"id\":\"6aba9f36-a873-4c41-cccf-ee25baf691bd\",\"tags\":[],\"doc\":null}},{\"id\":\"e0d500c7-b8fb-40e6-c07a-3ed870d3f85d\",\"type\":\"ToolEvents\",\"attributes\":{\"tags\":[],\"id\":\"e0d500c7-b8fb-40e6-c07a-3ed870d3f85d\",\"geometries\":[],\"doc\":null}},{\"id\":\"2ece7664-9345-499d-c946-d1dc98d3cb69\",\"type\":\"BasicTickFormatter\",\"attributes\":{\"id\":\"2ece7664-9345-499d-c946-d1dc98d3cb69\",\"tags\":[],\"doc\":null}},{\"id\":\"b661fccf-bbc6-43aa-c35a-ed70a2a52bbf\",\"type\":\"BasicTicker\",\"attributes\":{\"num_minor_ticks\":5,\"id\":\"b661fccf-bbc6-43aa-c35a-ed70a2a52bbf\",\"tags\":[],\"doc\":null}},{\"id\":\"39893efc-60af-4ed8-cef2-c0c1c7c70d70\",\"type\":\"LinearAxis\",\"attributes\":{\"formatter\":{\"type\":\"BasicTickFormatter\",\"id\":\"2ece7664-9345-499d-c946-d1dc98d3cb69\"},\"ticker\":{\"type\":\"BasicTicker\",\"id\":\"b661fccf-bbc6-43aa-c35a-ed70a2a52bbf\"},\"plot\":{\"id\":\"6644b98a-a650-429b-c26a-67a6f878d194\",\"type\":\"Plot\",\"subtype\":\"Figure\"},\"axis_label\":null,\"id\":\"39893efc-60af-4ed8-cef2-c0c1c7c70d70\",\"doc\":null,\"tags\":[]}},{\"id\":\"fefc02b0-0a14-47ef-c75b-871bc5d52587\",\"type\":\"Grid\",\"attributes\":{\"dimension\":0,\"plot\":{\"id\":\"6644b98a-a650-429b-c26a-67a6f878d194\",\"type\":\"Plot\",\"subtype\":\"Figure\"},\"ticker\":{\"type\":\"BasicTicker\",\"id\":\"b661fccf-bbc6-43aa-c35a-ed70a2a52bbf\"},\"id\":\"fefc02b0-0a14-47ef-c75b-871bc5d52587\",\"doc\":null,\"tags\":[]}},{\"id\":\"a25fc8b7-b1c7-4190-c1e0-68742757b7f5\",\"type\":\"BasicTickFormatter\",\"attributes\":{\"id\":\"a25fc8b7-b1c7-4190-c1e0-68742757b7f5\",\"tags\":[],\"doc\":null}},{\"id\":\"2ea2d0d8-2d41-4ac3-ca41-da77966ff34b\",\"type\":\"BasicTicker\",\"attributes\":{\"num_minor_ticks\":5,\"id\":\"2ea2d0d8-2d41-4ac3-ca41-da77966ff34b\",\"tags\":[],\"doc\":null}},{\"id\":\"2ce4f6a3-480a-4812-c8e5-98e3bddf6b57\",\"type\":\"LinearAxis\",\"attributes\":{\"formatter\":{\"type\":\"BasicTickFormatter\",\"id\":\"a25fc8b7-b1c7-4190-c1e0-68742757b7f5\"},\"ticker\":{\"type\":\"BasicTicker\",\"id\":\"2ea2d0d8-2d41-4ac3-ca41-da77966ff34b\"},\"plot\":{\"id\":\"6644b98a-a650-429b-c26a-67a6f878d194\",\"type\":\"Plot\",\"subtype\":\"Figure\"},\"axis_label\":null,\"id\":\"2ce4f6a3-480a-4812-c8e5-98e3bddf6b57\",\"doc\":null,\"tags\":[]}},{\"id\":\"a8dc7672-83d7-4d11-cd89-0640118c11e5\",\"type\":\"Grid\",\"attributes\":{\"dimension\":1,\"plot\":{\"id\":\"6644b98a-a650-429b-c26a-67a6f878d194\",\"type\":\"Plot\",\"subtype\":\"Figure\"},\"ticker\":{\"type\":\"BasicTicker\",\"id\":\"2ea2d0d8-2d41-4ac3-ca41-da77966ff34b\"},\"id\":\"a8dc7672-83d7-4d11-cd89-0640118c11e5\",\"doc\":null,\"tags\":[]}},{\"id\":\"03932453-5baf-46d3-c6ef-bb9ecec54d95\",\"type\":\"PanTool\",\"attributes\":{\"plot\":{\"id\":\"6644b98a-a650-429b-c26a-67a6f878d194\",\"type\":\"Plot\",\"subtype\":\"Figure\"},\"dimensions\":[\"width\",\"height\"],\"id\":\"03932453-5baf-46d3-c6ef-bb9ecec54d95\",\"doc\":null,\"tags\":[]}},{\"id\":\"9c821914-09de-4a3c-ca8d-c39cc16325f1\",\"type\":\"WheelZoomTool\",\"attributes\":{\"plot\":{\"id\":\"6644b98a-a650-429b-c26a-67a6f878d194\",\"type\":\"Plot\",\"subtype\":\"Figure\"},\"dimensions\":[\"width\",\"height\"],\"id\":\"9c821914-09de-4a3c-ca8d-c39cc16325f1\",\"doc\":null,\"tags\":[]}},{\"id\":\"f4ccbbad-0b64-49ef-c95c-20c73b51b69f\",\"type\":\"BoxZoomTool\",\"attributes\":{\"plot\":{\"id\":\"6644b98a-a650-429b-c26a-67a6f878d194\",\"type\":\"Plot\",\"subtype\":\"Figure\"},\"id\":\"f4ccbbad-0b64-49ef-c95c-20c73b51b69f\",\"tags\":[],\"doc\":null}},{\"id\":\"cbaf8735-abe9-4a47-cab9-23b3a0c822ee\",\"type\":\"PreviewSaveTool\",\"attributes\":{\"plot\":{\"id\":\"6644b98a-a650-429b-c26a-67a6f878d194\",\"type\":\"Plot\",\"subtype\":\"Figure\"},\"id\":\"cbaf8735-abe9-4a47-cab9-23b3a0c822ee\",\"tags\":[],\"doc\":null}},{\"id\":\"51ec30dd-eb8a-48b3-c891-348b11859120\",\"type\":\"ResizeTool\",\"attributes\":{\"plot\":{\"id\":\"6644b98a-a650-429b-c26a-67a6f878d194\",\"type\":\"Plot\",\"subtype\":\"Figure\"},\"id\":\"51ec30dd-eb8a-48b3-c891-348b11859120\",\"tags\":[],\"doc\":null}},{\"id\":\"cdb405e4-ae13-4a45-cadd-ae2c778f2ea8\",\"type\":\"ResetTool\",\"attributes\":{\"plot\":{\"id\":\"6644b98a-a650-429b-c26a-67a6f878d194\",\"type\":\"Plot\",\"subtype\":\"Figure\"},\"id\":\"cdb405e4-ae13-4a45-cadd-ae2c778f2ea8\",\"tags\":[],\"doc\":null}},{\"id\":\"13cc3acd-158a-4868-c8ad-6dfb981c6d8f\",\"type\":\"Legend\",\"attributes\":{\"plot\":{\"id\":\"6644b98a-a650-429b-c26a-67a6f878d194\",\"type\":\"Plot\",\"subtype\":\"Figure\"},\"legends\":[[\"f0\",[{\"type\":\"GlyphRenderer\",\"id\":\"34836c02-0902-4419-c45a-f86a2d0ebc39\"}]]],\"id\":\"13cc3acd-158a-4868-c8ad-6dfb981c6d8f\",\"doc\":null,\"tags\":[]}},{\"id\":\"6644b98a-a650-429b-c26a-67a6f878d194\",\"type\":\"Plot\",\"attributes\":{\"x_range\":{\"type\":\"DataRange1d\",\"id\":\"5d59f8d2-cd37-4343-c33b-2083647de025\"},\"tool_events\":{\"type\":\"ToolEvents\",\"id\":\"e0d500c7-b8fb-40e6-c07a-3ed870d3f85d\"},\"below\":[{\"type\":\"LinearAxis\",\"id\":\"39893efc-60af-4ed8-cef2-c0c1c7c70d70\"}],\"renderers\":[{\"type\":\"GlyphRenderer\",\"id\":\"34836c02-0902-4419-c45a-f86a2d0ebc39\"},{\"type\":\"LinearAxis\",\"id\":\"39893efc-60af-4ed8-cef2-c0c1c7c70d70\"},{\"type\":\"Grid\",\"id\":\"fefc02b0-0a14-47ef-c75b-871bc5d52587\"},{\"type\":\"LinearAxis\",\"id\":\"2ce4f6a3-480a-4812-c8e5-98e3bddf6b57\"},{\"type\":\"Grid\",\"id\":\"a8dc7672-83d7-4d11-cd89-0640118c11e5\"},{\"type\":\"Legend\",\"id\":\"13cc3acd-158a-4868-c8ad-6dfb981c6d8f\"}],\"above\":[],\"tools\":[{\"type\":\"PanTool\",\"id\":\"03932453-5baf-46d3-c6ef-bb9ecec54d95\"},{\"type\":\"WheelZoomTool\",\"id\":\"9c821914-09de-4a3c-ca8d-c39cc16325f1\"},{\"type\":\"BoxZoomTool\",\"id\":\"f4ccbbad-0b64-49ef-c95c-20c73b51b69f\"},{\"type\":\"PreviewSaveTool\",\"id\":\"cbaf8735-abe9-4a47-cab9-23b3a0c822ee\"},{\"type\":\"ResizeTool\",\"id\":\"51ec30dd-eb8a-48b3-c891-348b11859120\"},{\"type\":\"ResetTool\",\"id\":\"cdb405e4-ae13-4a45-cadd-ae2c778f2ea8\"}],\"doc\":null,\"right\":[],\"title\":\"Feature Observation of a Tone 1\",\"extra_x_ranges\":{},\"left\":[{\"type\":\"LinearAxis\",\"id\":\"2ce4f6a3-480a-4812-c8e5-98e3bddf6b57\"}],\"y_range\":{\"type\":\"DataRange1d\",\"id\":\"6aba9f36-a873-4c41-cccf-ee25baf691bd\"},\"id\":\"6644b98a-a650-429b-c26a-67a6f878d194\",\"extra_y_ranges\":{},\"tags\":[]}}];\n",
       "  Bokeh.load_models(all_models);\n",
       "  var model = Bokeh.Collections(modeltype).get(modelid);\n",
       "  $(\"#c673d072-e1b6-4e1b-ced1-3d1d7ebf2559\").html(''); // clear any previous plot in window_id\n",
       "  var view = new model.default_view({model: model, el: \"#c673d072-e1b6-4e1b-ced1-3d1d7ebf2559\"});\n",
       "    } else {\n",
       "  load_lib(bokehjs_url, function() {\n",
       "      console.log(\"Bokeh: BokehJS plotting callback run at\", new Date())\n",
       "      var modelid = \"6644b98a-a650-429b-c26a-67a6f878d194\";\n",
       "      var modeltype = \"Plot\";\n",
       "      var all_models = [{\"id\":\"90f8e2fb-03ab-4b59-cbf9-2fe81abd339f\",\"type\":\"ColumnDataSource\",\"attributes\":{\"data\":{\"y\":[0,1.9168363828047,1.9468058739572,1.8667689634957,1.8452844050424,1.835695230949,1.8414254779691,1.8237242918694,1.824306701391,1.8146972181159,1.8169756877136,1.8232188290451,1.83595916664,1.8781563292691,1.8456753149543,1.8337201516211,1.8169226480417,1.8125148482191,1.810843280864,1.806490840676,1.807960692979,1.7980421222142,1.8010240653543,1.7968598844346,1.7898651132201,1.7915206690293,1.7922674307939,1.7926859596716,1.7988681582452,1.7902624049311,1.7931309513369,1.7920276379278,1.7948313014424,1.7943526513017,1.7946170509853,1.7869762576326,1.7847886621149,1.7859928368533,1.7842544165402,1.7815324613513,1.7826925339791,1.7847864562487,1.7783116609367,1.7830197171778,1.7780225403391,1.7727596859356,1.767042909912,1.768425470766,1.7637116108148,1.7612286346035,1.7687783104703,1.7644505988027,1.761338311791,1.7723326834892,1.7723947824253,1.7758608295199,1.7825085647401,1.7718492717202,1.7739650244586,1.7841351019995,1.7821672183592,1.788688793247,1.7876642901118,1.7728562572355,1.7646303845024,1.7688491111681,1.7745385040254,1.7805483483864,1.7739376336858,1.7642235695347,1.7635120940226,1.7725850117603,1.7753846134386,1.776142982623,1.7912158791755,1.7772465318316,1.7672901266587,1.7775268289645,1.7791576562533,1.8019732495693,1.7928671373489,1.7690288968678,1.8121083907539,1.8330012446219,1.8023277094443,1.8337245633535,1.8264288359284,1.8760112156913,1.858516856168,1.7981053773284,1.8236221526591,1.8145808092334,1.7224213710474,1.8646529825643,1.8056671322141,1.993626258257,1.9190143409692,0,0,0,0,0,0,0,0,0,0,0,0,0,0,0,0,0,0,0,0,0,0,0,0,0,0,0,0,0,0,0],\"x\":[1,2,3,4,5,6,7,8,9,10,11,12,13,14,15,16,17,18,19,20,21,22,23,24,25,26,27,28,29,30,31,32,33,34,35,36,37,38,39,40,41,42,43,44,45,46,47,48,49,50,51,52,53,54,55,56,57,58,59,60,61,62,63,64,65,66,67,68,69,70,71,72,73,74,75,76,77,78,79,80,81,82,83,84,85,86,87,88,89,90,91,92,93,94,95,96,97,98,99,100,101,102,103,104,105,106,107,108,109,110,111,112,113,114,115,116,117,118,119,120,121,122,123,124,125,126,127,128]},\"column_names\":[\"y\",\"x\"],\"cont_ranges\":{},\"discrete_ranges\":{},\"selected\":[],\"id\":\"90f8e2fb-03ab-4b59-cbf9-2fe81abd339f\",\"doc\":null,\"tags\":[]}},{\"id\":\"e53ebf22-0490-4092-c0e9-5d468432554e\",\"type\":\"Line\",\"attributes\":{\"fill_alpha\":{\"units\":\"data\",\"value\":0.2},\"line_alpha\":{\"units\":\"data\",\"value\":1},\"doc\":null,\"size\":{\"units\":\"screen\",\"value\":10},\"fill_color\":{\"value\":\"red\"},\"line_color\":{\"value\":\"red\"},\"x\":{\"units\":\"data\",\"field\":\"x\"},\"id\":\"e53ebf22-0490-4092-c0e9-5d468432554e\",\"y\":{\"units\":\"data\",\"field\":\"y\"},\"tags\":[]}},{\"id\":\"6535aecf-8118-4c25-cc52-cf7dc99f9d7e\",\"type\":\"Line\",\"attributes\":{\"fill_alpha\":{\"units\":\"data\",\"value\":0.2},\"line_alpha\":{\"units\":\"data\",\"value\":1},\"doc\":null,\"size\":{\"units\":\"screen\",\"value\":10},\"fill_color\":{\"value\":\"red\"},\"line_color\":{\"value\":\"red\"},\"x\":{\"units\":\"data\",\"field\":\"x\"},\"id\":\"6535aecf-8118-4c25-cc52-cf7dc99f9d7e\",\"y\":{\"units\":\"data\",\"field\":\"y\"},\"tags\":[]}},{\"id\":\"34836c02-0902-4419-c45a-f86a2d0ebc39\",\"type\":\"GlyphRenderer\",\"attributes\":{\"name\":null,\"nonselection_glyph\":{\"type\":\"Line\",\"id\":\"6535aecf-8118-4c25-cc52-cf7dc99f9d7e\"},\"doc\":null,\"server_data_source\":null,\"data_source\":{\"type\":\"ColumnDataSource\",\"id\":\"90f8e2fb-03ab-4b59-cbf9-2fe81abd339f\"},\"glyph\":{\"type\":\"Line\",\"id\":\"e53ebf22-0490-4092-c0e9-5d468432554e\"},\"selection_glyph\":null,\"id\":\"34836c02-0902-4419-c45a-f86a2d0ebc39\",\"tags\":[]}},{\"id\":\"5d59f8d2-cd37-4343-c33b-2083647de025\",\"type\":\"DataRange1d\",\"attributes\":{\"sources\":[{\"columns\":[\"x\"],\"source\":{\"type\":\"ColumnDataSource\",\"id\":\"90f8e2fb-03ab-4b59-cbf9-2fe81abd339f\"}}],\"id\":\"5d59f8d2-cd37-4343-c33b-2083647de025\",\"tags\":[],\"doc\":null}},{\"id\":\"6aba9f36-a873-4c41-cccf-ee25baf691bd\",\"type\":\"DataRange1d\",\"attributes\":{\"sources\":[{\"columns\":[\"y\"],\"source\":{\"type\":\"ColumnDataSource\",\"id\":\"90f8e2fb-03ab-4b59-cbf9-2fe81abd339f\"}}],\"id\":\"6aba9f36-a873-4c41-cccf-ee25baf691bd\",\"tags\":[],\"doc\":null}},{\"id\":\"e0d500c7-b8fb-40e6-c07a-3ed870d3f85d\",\"type\":\"ToolEvents\",\"attributes\":{\"tags\":[],\"id\":\"e0d500c7-b8fb-40e6-c07a-3ed870d3f85d\",\"geometries\":[],\"doc\":null}},{\"id\":\"2ece7664-9345-499d-c946-d1dc98d3cb69\",\"type\":\"BasicTickFormatter\",\"attributes\":{\"id\":\"2ece7664-9345-499d-c946-d1dc98d3cb69\",\"tags\":[],\"doc\":null}},{\"id\":\"b661fccf-bbc6-43aa-c35a-ed70a2a52bbf\",\"type\":\"BasicTicker\",\"attributes\":{\"num_minor_ticks\":5,\"id\":\"b661fccf-bbc6-43aa-c35a-ed70a2a52bbf\",\"tags\":[],\"doc\":null}},{\"id\":\"39893efc-60af-4ed8-cef2-c0c1c7c70d70\",\"type\":\"LinearAxis\",\"attributes\":{\"formatter\":{\"type\":\"BasicTickFormatter\",\"id\":\"2ece7664-9345-499d-c946-d1dc98d3cb69\"},\"ticker\":{\"type\":\"BasicTicker\",\"id\":\"b661fccf-bbc6-43aa-c35a-ed70a2a52bbf\"},\"plot\":{\"id\":\"6644b98a-a650-429b-c26a-67a6f878d194\",\"type\":\"Plot\",\"subtype\":\"Figure\"},\"axis_label\":null,\"id\":\"39893efc-60af-4ed8-cef2-c0c1c7c70d70\",\"doc\":null,\"tags\":[]}},{\"id\":\"fefc02b0-0a14-47ef-c75b-871bc5d52587\",\"type\":\"Grid\",\"attributes\":{\"dimension\":0,\"plot\":{\"id\":\"6644b98a-a650-429b-c26a-67a6f878d194\",\"type\":\"Plot\",\"subtype\":\"Figure\"},\"ticker\":{\"type\":\"BasicTicker\",\"id\":\"b661fccf-bbc6-43aa-c35a-ed70a2a52bbf\"},\"id\":\"fefc02b0-0a14-47ef-c75b-871bc5d52587\",\"doc\":null,\"tags\":[]}},{\"id\":\"a25fc8b7-b1c7-4190-c1e0-68742757b7f5\",\"type\":\"BasicTickFormatter\",\"attributes\":{\"id\":\"a25fc8b7-b1c7-4190-c1e0-68742757b7f5\",\"tags\":[],\"doc\":null}},{\"id\":\"2ea2d0d8-2d41-4ac3-ca41-da77966ff34b\",\"type\":\"BasicTicker\",\"attributes\":{\"num_minor_ticks\":5,\"id\":\"2ea2d0d8-2d41-4ac3-ca41-da77966ff34b\",\"tags\":[],\"doc\":null}},{\"id\":\"2ce4f6a3-480a-4812-c8e5-98e3bddf6b57\",\"type\":\"LinearAxis\",\"attributes\":{\"formatter\":{\"type\":\"BasicTickFormatter\",\"id\":\"a25fc8b7-b1c7-4190-c1e0-68742757b7f5\"},\"ticker\":{\"type\":\"BasicTicker\",\"id\":\"2ea2d0d8-2d41-4ac3-ca41-da77966ff34b\"},\"plot\":{\"id\":\"6644b98a-a650-429b-c26a-67a6f878d194\",\"type\":\"Plot\",\"subtype\":\"Figure\"},\"axis_label\":null,\"id\":\"2ce4f6a3-480a-4812-c8e5-98e3bddf6b57\",\"doc\":null,\"tags\":[]}},{\"id\":\"a8dc7672-83d7-4d11-cd89-0640118c11e5\",\"type\":\"Grid\",\"attributes\":{\"dimension\":1,\"plot\":{\"id\":\"6644b98a-a650-429b-c26a-67a6f878d194\",\"type\":\"Plot\",\"subtype\":\"Figure\"},\"ticker\":{\"type\":\"BasicTicker\",\"id\":\"2ea2d0d8-2d41-4ac3-ca41-da77966ff34b\"},\"id\":\"a8dc7672-83d7-4d11-cd89-0640118c11e5\",\"doc\":null,\"tags\":[]}},{\"id\":\"03932453-5baf-46d3-c6ef-bb9ecec54d95\",\"type\":\"PanTool\",\"attributes\":{\"plot\":{\"id\":\"6644b98a-a650-429b-c26a-67a6f878d194\",\"type\":\"Plot\",\"subtype\":\"Figure\"},\"dimensions\":[\"width\",\"height\"],\"id\":\"03932453-5baf-46d3-c6ef-bb9ecec54d95\",\"doc\":null,\"tags\":[]}},{\"id\":\"9c821914-09de-4a3c-ca8d-c39cc16325f1\",\"type\":\"WheelZoomTool\",\"attributes\":{\"plot\":{\"id\":\"6644b98a-a650-429b-c26a-67a6f878d194\",\"type\":\"Plot\",\"subtype\":\"Figure\"},\"dimensions\":[\"width\",\"height\"],\"id\":\"9c821914-09de-4a3c-ca8d-c39cc16325f1\",\"doc\":null,\"tags\":[]}},{\"id\":\"f4ccbbad-0b64-49ef-c95c-20c73b51b69f\",\"type\":\"BoxZoomTool\",\"attributes\":{\"plot\":{\"id\":\"6644b98a-a650-429b-c26a-67a6f878d194\",\"type\":\"Plot\",\"subtype\":\"Figure\"},\"id\":\"f4ccbbad-0b64-49ef-c95c-20c73b51b69f\",\"tags\":[],\"doc\":null}},{\"id\":\"cbaf8735-abe9-4a47-cab9-23b3a0c822ee\",\"type\":\"PreviewSaveTool\",\"attributes\":{\"plot\":{\"id\":\"6644b98a-a650-429b-c26a-67a6f878d194\",\"type\":\"Plot\",\"subtype\":\"Figure\"},\"id\":\"cbaf8735-abe9-4a47-cab9-23b3a0c822ee\",\"tags\":[],\"doc\":null}},{\"id\":\"51ec30dd-eb8a-48b3-c891-348b11859120\",\"type\":\"ResizeTool\",\"attributes\":{\"plot\":{\"id\":\"6644b98a-a650-429b-c26a-67a6f878d194\",\"type\":\"Plot\",\"subtype\":\"Figure\"},\"id\":\"51ec30dd-eb8a-48b3-c891-348b11859120\",\"tags\":[],\"doc\":null}},{\"id\":\"cdb405e4-ae13-4a45-cadd-ae2c778f2ea8\",\"type\":\"ResetTool\",\"attributes\":{\"plot\":{\"id\":\"6644b98a-a650-429b-c26a-67a6f878d194\",\"type\":\"Plot\",\"subtype\":\"Figure\"},\"id\":\"cdb405e4-ae13-4a45-cadd-ae2c778f2ea8\",\"tags\":[],\"doc\":null}},{\"id\":\"13cc3acd-158a-4868-c8ad-6dfb981c6d8f\",\"type\":\"Legend\",\"attributes\":{\"plot\":{\"id\":\"6644b98a-a650-429b-c26a-67a6f878d194\",\"type\":\"Plot\",\"subtype\":\"Figure\"},\"legends\":[[\"f0\",[{\"type\":\"GlyphRenderer\",\"id\":\"34836c02-0902-4419-c45a-f86a2d0ebc39\"}]]],\"id\":\"13cc3acd-158a-4868-c8ad-6dfb981c6d8f\",\"doc\":null,\"tags\":[]}},{\"id\":\"6644b98a-a650-429b-c26a-67a6f878d194\",\"type\":\"Plot\",\"attributes\":{\"x_range\":{\"type\":\"DataRange1d\",\"id\":\"5d59f8d2-cd37-4343-c33b-2083647de025\"},\"tool_events\":{\"type\":\"ToolEvents\",\"id\":\"e0d500c7-b8fb-40e6-c07a-3ed870d3f85d\"},\"below\":[{\"type\":\"LinearAxis\",\"id\":\"39893efc-60af-4ed8-cef2-c0c1c7c70d70\"}],\"renderers\":[{\"type\":\"GlyphRenderer\",\"id\":\"34836c02-0902-4419-c45a-f86a2d0ebc39\"},{\"type\":\"LinearAxis\",\"id\":\"39893efc-60af-4ed8-cef2-c0c1c7c70d70\"},{\"type\":\"Grid\",\"id\":\"fefc02b0-0a14-47ef-c75b-871bc5d52587\"},{\"type\":\"LinearAxis\",\"id\":\"2ce4f6a3-480a-4812-c8e5-98e3bddf6b57\"},{\"type\":\"Grid\",\"id\":\"a8dc7672-83d7-4d11-cd89-0640118c11e5\"},{\"type\":\"Legend\",\"id\":\"13cc3acd-158a-4868-c8ad-6dfb981c6d8f\"}],\"above\":[],\"tools\":[{\"type\":\"PanTool\",\"id\":\"03932453-5baf-46d3-c6ef-bb9ecec54d95\"},{\"type\":\"WheelZoomTool\",\"id\":\"9c821914-09de-4a3c-ca8d-c39cc16325f1\"},{\"type\":\"BoxZoomTool\",\"id\":\"f4ccbbad-0b64-49ef-c95c-20c73b51b69f\"},{\"type\":\"PreviewSaveTool\",\"id\":\"cbaf8735-abe9-4a47-cab9-23b3a0c822ee\"},{\"type\":\"ResizeTool\",\"id\":\"51ec30dd-eb8a-48b3-c891-348b11859120\"},{\"type\":\"ResetTool\",\"id\":\"cdb405e4-ae13-4a45-cadd-ae2c778f2ea8\"}],\"doc\":null,\"right\":[],\"title\":\"Feature Observation of a Tone 1\",\"extra_x_ranges\":{},\"left\":[{\"type\":\"LinearAxis\",\"id\":\"2ce4f6a3-480a-4812-c8e5-98e3bddf6b57\"}],\"y_range\":{\"type\":\"DataRange1d\",\"id\":\"6aba9f36-a873-4c41-cccf-ee25baf691bd\"},\"id\":\"6644b98a-a650-429b-c26a-67a6f878d194\",\"extra_y_ranges\":{},\"tags\":[]}}];\n",
       "      Bokeh.load_models(all_models);\n",
       "      var model = Bokeh.Collections(modeltype).get(modelid);\n",
       "      $(\"#c673d072-e1b6-4e1b-ced1-3d1d7ebf2559\").html(''); // clear any previous plot in window_id\n",
       "      var view = new model.default_view({model: model, el: \"#c673d072-e1b6-4e1b-ced1-3d1d7ebf2559\"});\n",
       "  });\n",
       "    }\n",
       "});\n",
       "</script>\n",
       "<div class=\"plotdiv\" id=\"c673d072-e1b6-4e1b-ced1-3d1d7ebf2559\"></div>\n"
      ]
     },
     "metadata": {},
     "output_type": "display_data"
    },
    {
     "data": {
      "text/html": [
       "<script type=\"text/javascript\">\n",
       "$(function() {\n",
       "    if (typeof (window._bokeh_onload_callbacks) === \"undefined\"){\n",
       "  window._bokeh_onload_callbacks = [];\n",
       "    }\n",
       "    function load_lib(url, callback){\n",
       "  window._bokeh_onload_callbacks.push(callback);\n",
       "  if (window._bokeh_is_loading){\n",
       "      console.log(\"Bokeh: BokehJS is being loaded, scheduling callback at\", new Date());\n",
       "      return null;\n",
       "  }\n",
       "  console.log(\"Bokeh: BokehJS not loaded, scheduling load and callback at\", new Date());\n",
       "  window._bokeh_is_loading = true;\n",
       "  var s = document.createElement('script');\n",
       "  s.src = url;\n",
       "  s.async = true;\n",
       "  s.onreadystatechange = s.onload = function(){\n",
       "      Bokeh.embed.inject_css(\"https://cdn.pydata.org/bokeh-0.7.0.min.css\");\n",
       "      window._bokeh_onload_callbacks.forEach(function(callback){callback()});\n",
       "  };\n",
       "  s.onerror = function(){\n",
       "      console.warn(\"failed to load library \" + url);\n",
       "  };\n",
       "  document.getElementsByTagName(\"head\")[0].appendChild(s);\n",
       "    }\n",
       "\n",
       "    bokehjs_url = \"https://cdn.pydata.org/bokeh-0.7.0.min.js\"\n",
       "\n",
       "    var elt = document.getElementById(\"c673d072-e1b6-4e1b-ced1-3d1d7ebf2559\");\n",
       "    if(elt==null) {\n",
       "  console.log(\"Bokeh: ERROR: autoload.js configured with elementid 'c673d072-e1b6-4e1b-ced1-3d1d7ebf2559'\"\n",
       "        + \"but no matching script tag was found. \")\n",
       "  return false;\n",
       "    }\n",
       "\n",
       "    if(typeof(Bokeh) !== \"undefined\") {\n",
       "  console.log(\"Bokeh: BokehJS loaded, going straight to plotting\");\n",
       "  var modelid = \"916bc915-bb1a-4de5-cdb7-522ec3812e50\";\n",
       "  var modeltype = \"Plot\";\n",
       "  var all_models = [{\"id\":\"c46cc193-bf3e-414d-c147-ae95cf42ad56\",\"type\":\"ColumnDataSource\",\"attributes\":{\"data\":{\"y\":[0,1.9168363828047,1.9468058739572,1.8667689634957,1.8452844050424,1.835695230949,1.8414254779691,1.8237242918694,1.824306701391,1.8146972181159,1.8169756877136,1.8232188290451,1.83595916664,1.8781563292691,1.8456753149543,1.8337201516211,1.8169226480417,1.8125148482191,1.810843280864,1.806490840676,1.807960692979,1.7980421222142,1.8010240653543,1.7968598844346,1.7898651132201,1.7915206690293,1.7922674307939,1.7926859596716,1.7988681582452,1.7902624049311,1.7931309513369,1.7920276379278,1.7948313014424,1.7943526513017,1.7946170509853,1.7869762576326,1.7847886621149,1.7859928368533,1.7842544165402,1.7815324613513,1.7826925339791,1.7847864562487,1.7783116609367,1.7830197171778,1.7780225403391,1.7727596859356,1.767042909912,1.768425470766,1.7637116108148,1.7612286346035,1.7687783104703,1.7644505988027,1.761338311791,1.7723326834892,1.7723947824253,1.7758608295199,1.7825085647401,1.7718492717202,1.7739650244586,1.7841351019995,1.7821672183592,1.788688793247,1.7876642901118,1.7728562572355,1.7646303845024,1.7688491111681,1.7745385040254,1.7805483483864,1.7739376336858,1.7642235695347,1.7635120940226,1.7725850117603,1.7753846134386,1.776142982623,1.7912158791755,1.7772465318316,1.7672901266587,1.7775268289645,1.7791576562533,1.8019732495693,1.7928671373489,1.7690288968678,1.8121083907539,1.8330012446219,1.8023277094443,1.8337245633535,1.8264288359284,1.8760112156913,1.858516856168,1.7981053773284,1.8236221526591,1.8145808092334,1.7224213710474,1.8646529825643,1.8056671322141,1.993626258257,1.9190143409692,0,0,0,0,0,0,0,0,0,0,0,0,0,0,0,0,0,0,0,0,0,0,0,0,0,0,0,0,0,0,0],\"x\":[1,2,3,4,5,6,7,8,9,10,11,12,13,14,15,16,17,18,19,20,21,22,23,24,25,26,27,28,29,30,31,32,33,34,35,36,37,38,39,40,41,42,43,44,45,46,47,48,49,50,51,52,53,54,55,56,57,58,59,60,61,62,63,64,65,66,67,68,69,70,71,72,73,74,75,76,77,78,79,80,81,82,83,84,85,86,87,88,89,90,91,92,93,94,95,96,97,98,99,100,101,102,103,104,105,106,107,108,109,110,111,112,113,114,115,116,117,118,119,120,121,122,123,124,125,126,127,128]},\"column_names\":[\"y\",\"x\"],\"cont_ranges\":{},\"discrete_ranges\":{},\"selected\":[],\"id\":\"c46cc193-bf3e-414d-c147-ae95cf42ad56\",\"doc\":null,\"tags\":[]}},{\"id\":\"91480b3c-08f2-4228-c238-06d07201c6f6\",\"type\":\"Line\",\"attributes\":{\"fill_alpha\":{\"units\":\"data\",\"value\":0.2},\"line_alpha\":{\"units\":\"data\",\"value\":1},\"doc\":null,\"size\":{\"units\":\"screen\",\"value\":10},\"fill_color\":{\"value\":\"red\"},\"line_color\":{\"value\":\"red\"},\"x\":{\"units\":\"data\",\"field\":\"x\"},\"id\":\"91480b3c-08f2-4228-c238-06d07201c6f6\",\"y\":{\"units\":\"data\",\"field\":\"y\"},\"tags\":[]}},{\"id\":\"b1cf19d2-db59-4252-c2b8-fd3e61d23053\",\"type\":\"Line\",\"attributes\":{\"fill_alpha\":{\"units\":\"data\",\"value\":0.2},\"line_alpha\":{\"units\":\"data\",\"value\":1},\"doc\":null,\"size\":{\"units\":\"screen\",\"value\":10},\"fill_color\":{\"value\":\"red\"},\"line_color\":{\"value\":\"red\"},\"x\":{\"units\":\"data\",\"field\":\"x\"},\"id\":\"b1cf19d2-db59-4252-c2b8-fd3e61d23053\",\"y\":{\"units\":\"data\",\"field\":\"y\"},\"tags\":[]}},{\"id\":\"9baf0dbf-430b-4908-c9f1-d71a9de2fd2c\",\"type\":\"GlyphRenderer\",\"attributes\":{\"name\":null,\"nonselection_glyph\":{\"type\":\"Line\",\"id\":\"b1cf19d2-db59-4252-c2b8-fd3e61d23053\"},\"doc\":null,\"server_data_source\":null,\"data_source\":{\"type\":\"ColumnDataSource\",\"id\":\"c46cc193-bf3e-414d-c147-ae95cf42ad56\"},\"glyph\":{\"type\":\"Line\",\"id\":\"91480b3c-08f2-4228-c238-06d07201c6f6\"},\"selection_glyph\":null,\"id\":\"9baf0dbf-430b-4908-c9f1-d71a9de2fd2c\",\"tags\":[]}},{\"id\":\"75b4b478-a767-460b-c63e-dc90fda07add\",\"type\":\"ColumnDataSource\",\"attributes\":{\"data\":{\"y\":[0,0,0,0,0,0,0,0,0,0,0,0,0,0,0,0,0,0,0,0,0,0,0,0,0,0,0,0,0,0,0,0,0,0,0,0,0,0,0,0,0,0,0,0,0,0,0,0,0,0,0,0,0,0,0,0,0,0,0,0,0,0,0,0,0,0,0,0,0,0,0,0,0,0,0,0,0,0,0,0,0,0,0,0,0,0,0,0,0,0,0,0,0,0,0,0,0,0,0,0,0,0,0,0,0,0,0,0,0,0,0,0,0,0,0,0,0,0,0,0,0,0,0,0,0,0,0,0],\"x\":[1,2,3,4,5,6,7,8,9,10,11,12,13,14,15,16,17,18,19,20,21,22,23,24,25,26,27,28,29,30,31,32,33,34,35,36,37,38,39,40,41,42,43,44,45,46,47,48,49,50,51,52,53,54,55,56,57,58,59,60,61,62,63,64,65,66,67,68,69,70,71,72,73,74,75,76,77,78,79,80,81,82,83,84,85,86,87,88,89,90,91,92,93,94,95,96,97,98,99,100,101,102,103,104,105,106,107,108,109,110,111,112,113,114,115,116,117,118,119,120,121,122,123,124,125,126,127,128]},\"column_names\":[\"y\",\"x\"],\"cont_ranges\":{},\"discrete_ranges\":{},\"selected\":[],\"id\":\"75b4b478-a767-460b-c63e-dc90fda07add\",\"doc\":null,\"tags\":[]}},{\"id\":\"1ef6129d-0d6c-4677-c6a8-4afc47bdeeec\",\"type\":\"Line\",\"attributes\":{\"fill_alpha\":{\"units\":\"data\",\"value\":0.2},\"line_alpha\":{\"units\":\"data\",\"value\":1},\"doc\":null,\"size\":{\"units\":\"screen\",\"value\":10},\"fill_color\":{\"value\":\"blue\"},\"line_color\":{\"value\":\"blue\"},\"x\":{\"units\":\"data\",\"field\":\"x\"},\"id\":\"1ef6129d-0d6c-4677-c6a8-4afc47bdeeec\",\"y\":{\"units\":\"data\",\"field\":\"y\"},\"tags\":[]}},{\"id\":\"13011467-3884-4968-c9bb-1411f02da8af\",\"type\":\"Line\",\"attributes\":{\"fill_alpha\":{\"units\":\"data\",\"value\":0.2},\"line_alpha\":{\"units\":\"data\",\"value\":1},\"doc\":null,\"size\":{\"units\":\"screen\",\"value\":10},\"fill_color\":{\"value\":\"blue\"},\"line_color\":{\"value\":\"blue\"},\"x\":{\"units\":\"data\",\"field\":\"x\"},\"id\":\"13011467-3884-4968-c9bb-1411f02da8af\",\"y\":{\"units\":\"data\",\"field\":\"y\"},\"tags\":[]}},{\"id\":\"532ff06d-a5a1-4e0e-cedf-208370ba532a\",\"type\":\"GlyphRenderer\",\"attributes\":{\"name\":null,\"nonselection_glyph\":{\"type\":\"Line\",\"id\":\"13011467-3884-4968-c9bb-1411f02da8af\"},\"doc\":null,\"server_data_source\":null,\"data_source\":{\"type\":\"ColumnDataSource\",\"id\":\"75b4b478-a767-460b-c63e-dc90fda07add\"},\"glyph\":{\"type\":\"Line\",\"id\":\"1ef6129d-0d6c-4677-c6a8-4afc47bdeeec\"},\"selection_glyph\":null,\"id\":\"532ff06d-a5a1-4e0e-cedf-208370ba532a\",\"tags\":[]}},{\"id\":\"9d4d113d-7a10-4075-c0d4-d2ece70c7edd\",\"type\":\"DataRange1d\",\"attributes\":{\"sources\":[{\"columns\":[\"x\"],\"source\":{\"type\":\"ColumnDataSource\",\"id\":\"c46cc193-bf3e-414d-c147-ae95cf42ad56\"}},{\"columns\":[\"x\"],\"source\":{\"type\":\"ColumnDataSource\",\"id\":\"75b4b478-a767-460b-c63e-dc90fda07add\"}}],\"id\":\"9d4d113d-7a10-4075-c0d4-d2ece70c7edd\",\"tags\":[],\"doc\":null}},{\"id\":\"457bbe64-e7da-4450-c465-b36aa36524d2\",\"type\":\"DataRange1d\",\"attributes\":{\"sources\":[{\"columns\":[\"y\"],\"source\":{\"type\":\"ColumnDataSource\",\"id\":\"c46cc193-bf3e-414d-c147-ae95cf42ad56\"}},{\"columns\":[\"y\"],\"source\":{\"type\":\"ColumnDataSource\",\"id\":\"75b4b478-a767-460b-c63e-dc90fda07add\"}}],\"id\":\"457bbe64-e7da-4450-c465-b36aa36524d2\",\"tags\":[],\"doc\":null}},{\"id\":\"d31ab036-f2f1-4a02-caaf-fc896055be83\",\"type\":\"ToolEvents\",\"attributes\":{\"tags\":[],\"id\":\"d31ab036-f2f1-4a02-caaf-fc896055be83\",\"geometries\":[],\"doc\":null}},{\"id\":\"c863014b-61d9-45bd-c516-1243d0eb3029\",\"type\":\"BasicTickFormatter\",\"attributes\":{\"id\":\"c863014b-61d9-45bd-c516-1243d0eb3029\",\"tags\":[],\"doc\":null}},{\"id\":\"f06cc549-a84a-4167-c1e7-b120e99362a9\",\"type\":\"BasicTicker\",\"attributes\":{\"num_minor_ticks\":5,\"id\":\"f06cc549-a84a-4167-c1e7-b120e99362a9\",\"tags\":[],\"doc\":null}},{\"id\":\"df91e469-81e5-4abc-ca87-d1a8c9b622be\",\"type\":\"LinearAxis\",\"attributes\":{\"formatter\":{\"type\":\"BasicTickFormatter\",\"id\":\"c863014b-61d9-45bd-c516-1243d0eb3029\"},\"ticker\":{\"type\":\"BasicTicker\",\"id\":\"f06cc549-a84a-4167-c1e7-b120e99362a9\"},\"plot\":{\"id\":\"916bc915-bb1a-4de5-cdb7-522ec3812e50\",\"type\":\"Plot\",\"subtype\":\"Figure\"},\"axis_label\":null,\"id\":\"df91e469-81e5-4abc-ca87-d1a8c9b622be\",\"doc\":null,\"tags\":[]}},{\"id\":\"964de5d8-d745-4983-c947-14b21547e468\",\"type\":\"Grid\",\"attributes\":{\"dimension\":0,\"plot\":{\"id\":\"916bc915-bb1a-4de5-cdb7-522ec3812e50\",\"type\":\"Plot\",\"subtype\":\"Figure\"},\"ticker\":{\"type\":\"BasicTicker\",\"id\":\"f06cc549-a84a-4167-c1e7-b120e99362a9\"},\"id\":\"964de5d8-d745-4983-c947-14b21547e468\",\"doc\":null,\"tags\":[]}},{\"id\":\"529137d8-41c4-4cdc-cc42-8f6321e6e045\",\"type\":\"BasicTickFormatter\",\"attributes\":{\"id\":\"529137d8-41c4-4cdc-cc42-8f6321e6e045\",\"tags\":[],\"doc\":null}},{\"id\":\"8cdc222b-d938-4279-c2de-cbd7088db060\",\"type\":\"BasicTicker\",\"attributes\":{\"num_minor_ticks\":5,\"id\":\"8cdc222b-d938-4279-c2de-cbd7088db060\",\"tags\":[],\"doc\":null}},{\"id\":\"a27edf9f-f0fc-4e30-cefe-2fb4f5b757b9\",\"type\":\"LinearAxis\",\"attributes\":{\"formatter\":{\"type\":\"BasicTickFormatter\",\"id\":\"529137d8-41c4-4cdc-cc42-8f6321e6e045\"},\"ticker\":{\"type\":\"BasicTicker\",\"id\":\"8cdc222b-d938-4279-c2de-cbd7088db060\"},\"plot\":{\"id\":\"916bc915-bb1a-4de5-cdb7-522ec3812e50\",\"type\":\"Plot\",\"subtype\":\"Figure\"},\"axis_label\":null,\"id\":\"a27edf9f-f0fc-4e30-cefe-2fb4f5b757b9\",\"doc\":null,\"tags\":[]}},{\"id\":\"2c3230a2-fd04-4f48-cf50-3e345a1c1264\",\"type\":\"Grid\",\"attributes\":{\"dimension\":1,\"plot\":{\"id\":\"916bc915-bb1a-4de5-cdb7-522ec3812e50\",\"type\":\"Plot\",\"subtype\":\"Figure\"},\"ticker\":{\"type\":\"BasicTicker\",\"id\":\"8cdc222b-d938-4279-c2de-cbd7088db060\"},\"id\":\"2c3230a2-fd04-4f48-cf50-3e345a1c1264\",\"doc\":null,\"tags\":[]}},{\"id\":\"de28fe0c-c80a-4ea4-ce3e-94746ce63170\",\"type\":\"PanTool\",\"attributes\":{\"plot\":{\"id\":\"916bc915-bb1a-4de5-cdb7-522ec3812e50\",\"type\":\"Plot\",\"subtype\":\"Figure\"},\"dimensions\":[\"width\",\"height\"],\"id\":\"de28fe0c-c80a-4ea4-ce3e-94746ce63170\",\"doc\":null,\"tags\":[]}},{\"id\":\"9e87cb9f-442a-488f-c8ee-96ee4240fcc6\",\"type\":\"WheelZoomTool\",\"attributes\":{\"plot\":{\"id\":\"916bc915-bb1a-4de5-cdb7-522ec3812e50\",\"type\":\"Plot\",\"subtype\":\"Figure\"},\"dimensions\":[\"width\",\"height\"],\"id\":\"9e87cb9f-442a-488f-c8ee-96ee4240fcc6\",\"doc\":null,\"tags\":[]}},{\"id\":\"4d57ce83-dd1b-4b51-cb2e-571f75a4a82b\",\"type\":\"BoxZoomTool\",\"attributes\":{\"plot\":{\"id\":\"916bc915-bb1a-4de5-cdb7-522ec3812e50\",\"type\":\"Plot\",\"subtype\":\"Figure\"},\"id\":\"4d57ce83-dd1b-4b51-cb2e-571f75a4a82b\",\"tags\":[],\"doc\":null}},{\"id\":\"2997ad37-2878-40b3-c0ab-b80c36b5c077\",\"type\":\"PreviewSaveTool\",\"attributes\":{\"plot\":{\"id\":\"916bc915-bb1a-4de5-cdb7-522ec3812e50\",\"type\":\"Plot\",\"subtype\":\"Figure\"},\"id\":\"2997ad37-2878-40b3-c0ab-b80c36b5c077\",\"tags\":[],\"doc\":null}},{\"id\":\"f895015b-32bd-45e8-c5c6-e240055b3519\",\"type\":\"ResizeTool\",\"attributes\":{\"plot\":{\"id\":\"916bc915-bb1a-4de5-cdb7-522ec3812e50\",\"type\":\"Plot\",\"subtype\":\"Figure\"},\"id\":\"f895015b-32bd-45e8-c5c6-e240055b3519\",\"tags\":[],\"doc\":null}},{\"id\":\"e4cc8d72-fed9-49e6-c910-32773e676bd8\",\"type\":\"ResetTool\",\"attributes\":{\"plot\":{\"id\":\"916bc915-bb1a-4de5-cdb7-522ec3812e50\",\"type\":\"Plot\",\"subtype\":\"Figure\"},\"id\":\"e4cc8d72-fed9-49e6-c910-32773e676bd8\",\"tags\":[],\"doc\":null}},{\"id\":\"81fee176-74fe-4baf-cb64-d759a57a26cd\",\"type\":\"Legend\",\"attributes\":{\"plot\":{\"id\":\"916bc915-bb1a-4de5-cdb7-522ec3812e50\",\"type\":\"Plot\",\"subtype\":\"Figure\"},\"legends\":[[\"f0\",[{\"type\":\"GlyphRenderer\",\"id\":\"9baf0dbf-430b-4908-c9f1-d71a9de2fd2c\"}]],[\"engy\",[{\"type\":\"GlyphRenderer\",\"id\":\"532ff06d-a5a1-4e0e-cedf-208370ba532a\"}]]],\"id\":\"81fee176-74fe-4baf-cb64-d759a57a26cd\",\"doc\":null,\"tags\":[]}},{\"id\":\"916bc915-bb1a-4de5-cdb7-522ec3812e50\",\"type\":\"Plot\",\"attributes\":{\"x_range\":{\"type\":\"DataRange1d\",\"id\":\"9d4d113d-7a10-4075-c0d4-d2ece70c7edd\"},\"tool_events\":{\"type\":\"ToolEvents\",\"id\":\"d31ab036-f2f1-4a02-caaf-fc896055be83\"},\"below\":[{\"type\":\"LinearAxis\",\"id\":\"df91e469-81e5-4abc-ca87-d1a8c9b622be\"}],\"renderers\":[{\"type\":\"GlyphRenderer\",\"id\":\"9baf0dbf-430b-4908-c9f1-d71a9de2fd2c\"},{\"type\":\"GlyphRenderer\",\"id\":\"532ff06d-a5a1-4e0e-cedf-208370ba532a\"},{\"type\":\"LinearAxis\",\"id\":\"df91e469-81e5-4abc-ca87-d1a8c9b622be\"},{\"type\":\"Grid\",\"id\":\"964de5d8-d745-4983-c947-14b21547e468\"},{\"type\":\"LinearAxis\",\"id\":\"a27edf9f-f0fc-4e30-cefe-2fb4f5b757b9\"},{\"type\":\"Grid\",\"id\":\"2c3230a2-fd04-4f48-cf50-3e345a1c1264\"},{\"type\":\"Legend\",\"id\":\"81fee176-74fe-4baf-cb64-d759a57a26cd\"}],\"above\":[],\"tools\":[{\"type\":\"PanTool\",\"id\":\"de28fe0c-c80a-4ea4-ce3e-94746ce63170\"},{\"type\":\"WheelZoomTool\",\"id\":\"9e87cb9f-442a-488f-c8ee-96ee4240fcc6\"},{\"type\":\"BoxZoomTool\",\"id\":\"4d57ce83-dd1b-4b51-cb2e-571f75a4a82b\"},{\"type\":\"PreviewSaveTool\",\"id\":\"2997ad37-2878-40b3-c0ab-b80c36b5c077\"},{\"type\":\"ResizeTool\",\"id\":\"f895015b-32bd-45e8-c5c6-e240055b3519\"},{\"type\":\"ResetTool\",\"id\":\"e4cc8d72-fed9-49e6-c910-32773e676bd8\"}],\"doc\":null,\"right\":[],\"title\":\"Feature Observation of a Tone 1\",\"extra_x_ranges\":{},\"left\":[{\"type\":\"LinearAxis\",\"id\":\"a27edf9f-f0fc-4e30-cefe-2fb4f5b757b9\"}],\"y_range\":{\"type\":\"DataRange1d\",\"id\":\"457bbe64-e7da-4450-c465-b36aa36524d2\"},\"id\":\"916bc915-bb1a-4de5-cdb7-522ec3812e50\",\"extra_y_ranges\":{},\"tags\":[]}}];\n",
       "  Bokeh.load_models(all_models);\n",
       "  var model = Bokeh.Collections(modeltype).get(modelid);\n",
       "  $(\"#c673d072-e1b6-4e1b-ced1-3d1d7ebf2559\").html(''); // clear any previous plot in window_id\n",
       "  var view = new model.default_view({model: model, el: \"#c673d072-e1b6-4e1b-ced1-3d1d7ebf2559\"});\n",
       "    } else {\n",
       "  load_lib(bokehjs_url, function() {\n",
       "      console.log(\"Bokeh: BokehJS plotting callback run at\", new Date())\n",
       "      var modelid = \"916bc915-bb1a-4de5-cdb7-522ec3812e50\";\n",
       "      var modeltype = \"Plot\";\n",
       "      var all_models = [{\"id\":\"c46cc193-bf3e-414d-c147-ae95cf42ad56\",\"type\":\"ColumnDataSource\",\"attributes\":{\"data\":{\"y\":[0,1.9168363828047,1.9468058739572,1.8667689634957,1.8452844050424,1.835695230949,1.8414254779691,1.8237242918694,1.824306701391,1.8146972181159,1.8169756877136,1.8232188290451,1.83595916664,1.8781563292691,1.8456753149543,1.8337201516211,1.8169226480417,1.8125148482191,1.810843280864,1.806490840676,1.807960692979,1.7980421222142,1.8010240653543,1.7968598844346,1.7898651132201,1.7915206690293,1.7922674307939,1.7926859596716,1.7988681582452,1.7902624049311,1.7931309513369,1.7920276379278,1.7948313014424,1.7943526513017,1.7946170509853,1.7869762576326,1.7847886621149,1.7859928368533,1.7842544165402,1.7815324613513,1.7826925339791,1.7847864562487,1.7783116609367,1.7830197171778,1.7780225403391,1.7727596859356,1.767042909912,1.768425470766,1.7637116108148,1.7612286346035,1.7687783104703,1.7644505988027,1.761338311791,1.7723326834892,1.7723947824253,1.7758608295199,1.7825085647401,1.7718492717202,1.7739650244586,1.7841351019995,1.7821672183592,1.788688793247,1.7876642901118,1.7728562572355,1.7646303845024,1.7688491111681,1.7745385040254,1.7805483483864,1.7739376336858,1.7642235695347,1.7635120940226,1.7725850117603,1.7753846134386,1.776142982623,1.7912158791755,1.7772465318316,1.7672901266587,1.7775268289645,1.7791576562533,1.8019732495693,1.7928671373489,1.7690288968678,1.8121083907539,1.8330012446219,1.8023277094443,1.8337245633535,1.8264288359284,1.8760112156913,1.858516856168,1.7981053773284,1.8236221526591,1.8145808092334,1.7224213710474,1.8646529825643,1.8056671322141,1.993626258257,1.9190143409692,0,0,0,0,0,0,0,0,0,0,0,0,0,0,0,0,0,0,0,0,0,0,0,0,0,0,0,0,0,0,0],\"x\":[1,2,3,4,5,6,7,8,9,10,11,12,13,14,15,16,17,18,19,20,21,22,23,24,25,26,27,28,29,30,31,32,33,34,35,36,37,38,39,40,41,42,43,44,45,46,47,48,49,50,51,52,53,54,55,56,57,58,59,60,61,62,63,64,65,66,67,68,69,70,71,72,73,74,75,76,77,78,79,80,81,82,83,84,85,86,87,88,89,90,91,92,93,94,95,96,97,98,99,100,101,102,103,104,105,106,107,108,109,110,111,112,113,114,115,116,117,118,119,120,121,122,123,124,125,126,127,128]},\"column_names\":[\"y\",\"x\"],\"cont_ranges\":{},\"discrete_ranges\":{},\"selected\":[],\"id\":\"c46cc193-bf3e-414d-c147-ae95cf42ad56\",\"doc\":null,\"tags\":[]}},{\"id\":\"91480b3c-08f2-4228-c238-06d07201c6f6\",\"type\":\"Line\",\"attributes\":{\"fill_alpha\":{\"units\":\"data\",\"value\":0.2},\"line_alpha\":{\"units\":\"data\",\"value\":1},\"doc\":null,\"size\":{\"units\":\"screen\",\"value\":10},\"fill_color\":{\"value\":\"red\"},\"line_color\":{\"value\":\"red\"},\"x\":{\"units\":\"data\",\"field\":\"x\"},\"id\":\"91480b3c-08f2-4228-c238-06d07201c6f6\",\"y\":{\"units\":\"data\",\"field\":\"y\"},\"tags\":[]}},{\"id\":\"b1cf19d2-db59-4252-c2b8-fd3e61d23053\",\"type\":\"Line\",\"attributes\":{\"fill_alpha\":{\"units\":\"data\",\"value\":0.2},\"line_alpha\":{\"units\":\"data\",\"value\":1},\"doc\":null,\"size\":{\"units\":\"screen\",\"value\":10},\"fill_color\":{\"value\":\"red\"},\"line_color\":{\"value\":\"red\"},\"x\":{\"units\":\"data\",\"field\":\"x\"},\"id\":\"b1cf19d2-db59-4252-c2b8-fd3e61d23053\",\"y\":{\"units\":\"data\",\"field\":\"y\"},\"tags\":[]}},{\"id\":\"9baf0dbf-430b-4908-c9f1-d71a9de2fd2c\",\"type\":\"GlyphRenderer\",\"attributes\":{\"name\":null,\"nonselection_glyph\":{\"type\":\"Line\",\"id\":\"b1cf19d2-db59-4252-c2b8-fd3e61d23053\"},\"doc\":null,\"server_data_source\":null,\"data_source\":{\"type\":\"ColumnDataSource\",\"id\":\"c46cc193-bf3e-414d-c147-ae95cf42ad56\"},\"glyph\":{\"type\":\"Line\",\"id\":\"91480b3c-08f2-4228-c238-06d07201c6f6\"},\"selection_glyph\":null,\"id\":\"9baf0dbf-430b-4908-c9f1-d71a9de2fd2c\",\"tags\":[]}},{\"id\":\"75b4b478-a767-460b-c63e-dc90fda07add\",\"type\":\"ColumnDataSource\",\"attributes\":{\"data\":{\"y\":[0,0,0,0,0,0,0,0,0,0,0,0,0,0,0,0,0,0,0,0,0,0,0,0,0,0,0,0,0,0,0,0,0,0,0,0,0,0,0,0,0,0,0,0,0,0,0,0,0,0,0,0,0,0,0,0,0,0,0,0,0,0,0,0,0,0,0,0,0,0,0,0,0,0,0,0,0,0,0,0,0,0,0,0,0,0,0,0,0,0,0,0,0,0,0,0,0,0,0,0,0,0,0,0,0,0,0,0,0,0,0,0,0,0,0,0,0,0,0,0,0,0,0,0,0,0,0,0],\"x\":[1,2,3,4,5,6,7,8,9,10,11,12,13,14,15,16,17,18,19,20,21,22,23,24,25,26,27,28,29,30,31,32,33,34,35,36,37,38,39,40,41,42,43,44,45,46,47,48,49,50,51,52,53,54,55,56,57,58,59,60,61,62,63,64,65,66,67,68,69,70,71,72,73,74,75,76,77,78,79,80,81,82,83,84,85,86,87,88,89,90,91,92,93,94,95,96,97,98,99,100,101,102,103,104,105,106,107,108,109,110,111,112,113,114,115,116,117,118,119,120,121,122,123,124,125,126,127,128]},\"column_names\":[\"y\",\"x\"],\"cont_ranges\":{},\"discrete_ranges\":{},\"selected\":[],\"id\":\"75b4b478-a767-460b-c63e-dc90fda07add\",\"doc\":null,\"tags\":[]}},{\"id\":\"1ef6129d-0d6c-4677-c6a8-4afc47bdeeec\",\"type\":\"Line\",\"attributes\":{\"fill_alpha\":{\"units\":\"data\",\"value\":0.2},\"line_alpha\":{\"units\":\"data\",\"value\":1},\"doc\":null,\"size\":{\"units\":\"screen\",\"value\":10},\"fill_color\":{\"value\":\"blue\"},\"line_color\":{\"value\":\"blue\"},\"x\":{\"units\":\"data\",\"field\":\"x\"},\"id\":\"1ef6129d-0d6c-4677-c6a8-4afc47bdeeec\",\"y\":{\"units\":\"data\",\"field\":\"y\"},\"tags\":[]}},{\"id\":\"13011467-3884-4968-c9bb-1411f02da8af\",\"type\":\"Line\",\"attributes\":{\"fill_alpha\":{\"units\":\"data\",\"value\":0.2},\"line_alpha\":{\"units\":\"data\",\"value\":1},\"doc\":null,\"size\":{\"units\":\"screen\",\"value\":10},\"fill_color\":{\"value\":\"blue\"},\"line_color\":{\"value\":\"blue\"},\"x\":{\"units\":\"data\",\"field\":\"x\"},\"id\":\"13011467-3884-4968-c9bb-1411f02da8af\",\"y\":{\"units\":\"data\",\"field\":\"y\"},\"tags\":[]}},{\"id\":\"532ff06d-a5a1-4e0e-cedf-208370ba532a\",\"type\":\"GlyphRenderer\",\"attributes\":{\"name\":null,\"nonselection_glyph\":{\"type\":\"Line\",\"id\":\"13011467-3884-4968-c9bb-1411f02da8af\"},\"doc\":null,\"server_data_source\":null,\"data_source\":{\"type\":\"ColumnDataSource\",\"id\":\"75b4b478-a767-460b-c63e-dc90fda07add\"},\"glyph\":{\"type\":\"Line\",\"id\":\"1ef6129d-0d6c-4677-c6a8-4afc47bdeeec\"},\"selection_glyph\":null,\"id\":\"532ff06d-a5a1-4e0e-cedf-208370ba532a\",\"tags\":[]}},{\"id\":\"9d4d113d-7a10-4075-c0d4-d2ece70c7edd\",\"type\":\"DataRange1d\",\"attributes\":{\"sources\":[{\"columns\":[\"x\"],\"source\":{\"type\":\"ColumnDataSource\",\"id\":\"c46cc193-bf3e-414d-c147-ae95cf42ad56\"}},{\"columns\":[\"x\"],\"source\":{\"type\":\"ColumnDataSource\",\"id\":\"75b4b478-a767-460b-c63e-dc90fda07add\"}}],\"id\":\"9d4d113d-7a10-4075-c0d4-d2ece70c7edd\",\"tags\":[],\"doc\":null}},{\"id\":\"457bbe64-e7da-4450-c465-b36aa36524d2\",\"type\":\"DataRange1d\",\"attributes\":{\"sources\":[{\"columns\":[\"y\"],\"source\":{\"type\":\"ColumnDataSource\",\"id\":\"c46cc193-bf3e-414d-c147-ae95cf42ad56\"}},{\"columns\":[\"y\"],\"source\":{\"type\":\"ColumnDataSource\",\"id\":\"75b4b478-a767-460b-c63e-dc90fda07add\"}}],\"id\":\"457bbe64-e7da-4450-c465-b36aa36524d2\",\"tags\":[],\"doc\":null}},{\"id\":\"d31ab036-f2f1-4a02-caaf-fc896055be83\",\"type\":\"ToolEvents\",\"attributes\":{\"tags\":[],\"id\":\"d31ab036-f2f1-4a02-caaf-fc896055be83\",\"geometries\":[],\"doc\":null}},{\"id\":\"c863014b-61d9-45bd-c516-1243d0eb3029\",\"type\":\"BasicTickFormatter\",\"attributes\":{\"id\":\"c863014b-61d9-45bd-c516-1243d0eb3029\",\"tags\":[],\"doc\":null}},{\"id\":\"f06cc549-a84a-4167-c1e7-b120e99362a9\",\"type\":\"BasicTicker\",\"attributes\":{\"num_minor_ticks\":5,\"id\":\"f06cc549-a84a-4167-c1e7-b120e99362a9\",\"tags\":[],\"doc\":null}},{\"id\":\"df91e469-81e5-4abc-ca87-d1a8c9b622be\",\"type\":\"LinearAxis\",\"attributes\":{\"formatter\":{\"type\":\"BasicTickFormatter\",\"id\":\"c863014b-61d9-45bd-c516-1243d0eb3029\"},\"ticker\":{\"type\":\"BasicTicker\",\"id\":\"f06cc549-a84a-4167-c1e7-b120e99362a9\"},\"plot\":{\"id\":\"916bc915-bb1a-4de5-cdb7-522ec3812e50\",\"type\":\"Plot\",\"subtype\":\"Figure\"},\"axis_label\":null,\"id\":\"df91e469-81e5-4abc-ca87-d1a8c9b622be\",\"doc\":null,\"tags\":[]}},{\"id\":\"964de5d8-d745-4983-c947-14b21547e468\",\"type\":\"Grid\",\"attributes\":{\"dimension\":0,\"plot\":{\"id\":\"916bc915-bb1a-4de5-cdb7-522ec3812e50\",\"type\":\"Plot\",\"subtype\":\"Figure\"},\"ticker\":{\"type\":\"BasicTicker\",\"id\":\"f06cc549-a84a-4167-c1e7-b120e99362a9\"},\"id\":\"964de5d8-d745-4983-c947-14b21547e468\",\"doc\":null,\"tags\":[]}},{\"id\":\"529137d8-41c4-4cdc-cc42-8f6321e6e045\",\"type\":\"BasicTickFormatter\",\"attributes\":{\"id\":\"529137d8-41c4-4cdc-cc42-8f6321e6e045\",\"tags\":[],\"doc\":null}},{\"id\":\"8cdc222b-d938-4279-c2de-cbd7088db060\",\"type\":\"BasicTicker\",\"attributes\":{\"num_minor_ticks\":5,\"id\":\"8cdc222b-d938-4279-c2de-cbd7088db060\",\"tags\":[],\"doc\":null}},{\"id\":\"a27edf9f-f0fc-4e30-cefe-2fb4f5b757b9\",\"type\":\"LinearAxis\",\"attributes\":{\"formatter\":{\"type\":\"BasicTickFormatter\",\"id\":\"529137d8-41c4-4cdc-cc42-8f6321e6e045\"},\"ticker\":{\"type\":\"BasicTicker\",\"id\":\"8cdc222b-d938-4279-c2de-cbd7088db060\"},\"plot\":{\"id\":\"916bc915-bb1a-4de5-cdb7-522ec3812e50\",\"type\":\"Plot\",\"subtype\":\"Figure\"},\"axis_label\":null,\"id\":\"a27edf9f-f0fc-4e30-cefe-2fb4f5b757b9\",\"doc\":null,\"tags\":[]}},{\"id\":\"2c3230a2-fd04-4f48-cf50-3e345a1c1264\",\"type\":\"Grid\",\"attributes\":{\"dimension\":1,\"plot\":{\"id\":\"916bc915-bb1a-4de5-cdb7-522ec3812e50\",\"type\":\"Plot\",\"subtype\":\"Figure\"},\"ticker\":{\"type\":\"BasicTicker\",\"id\":\"8cdc222b-d938-4279-c2de-cbd7088db060\"},\"id\":\"2c3230a2-fd04-4f48-cf50-3e345a1c1264\",\"doc\":null,\"tags\":[]}},{\"id\":\"de28fe0c-c80a-4ea4-ce3e-94746ce63170\",\"type\":\"PanTool\",\"attributes\":{\"plot\":{\"id\":\"916bc915-bb1a-4de5-cdb7-522ec3812e50\",\"type\":\"Plot\",\"subtype\":\"Figure\"},\"dimensions\":[\"width\",\"height\"],\"id\":\"de28fe0c-c80a-4ea4-ce3e-94746ce63170\",\"doc\":null,\"tags\":[]}},{\"id\":\"9e87cb9f-442a-488f-c8ee-96ee4240fcc6\",\"type\":\"WheelZoomTool\",\"attributes\":{\"plot\":{\"id\":\"916bc915-bb1a-4de5-cdb7-522ec3812e50\",\"type\":\"Plot\",\"subtype\":\"Figure\"},\"dimensions\":[\"width\",\"height\"],\"id\":\"9e87cb9f-442a-488f-c8ee-96ee4240fcc6\",\"doc\":null,\"tags\":[]}},{\"id\":\"4d57ce83-dd1b-4b51-cb2e-571f75a4a82b\",\"type\":\"BoxZoomTool\",\"attributes\":{\"plot\":{\"id\":\"916bc915-bb1a-4de5-cdb7-522ec3812e50\",\"type\":\"Plot\",\"subtype\":\"Figure\"},\"id\":\"4d57ce83-dd1b-4b51-cb2e-571f75a4a82b\",\"tags\":[],\"doc\":null}},{\"id\":\"2997ad37-2878-40b3-c0ab-b80c36b5c077\",\"type\":\"PreviewSaveTool\",\"attributes\":{\"plot\":{\"id\":\"916bc915-bb1a-4de5-cdb7-522ec3812e50\",\"type\":\"Plot\",\"subtype\":\"Figure\"},\"id\":\"2997ad37-2878-40b3-c0ab-b80c36b5c077\",\"tags\":[],\"doc\":null}},{\"id\":\"f895015b-32bd-45e8-c5c6-e240055b3519\",\"type\":\"ResizeTool\",\"attributes\":{\"plot\":{\"id\":\"916bc915-bb1a-4de5-cdb7-522ec3812e50\",\"type\":\"Plot\",\"subtype\":\"Figure\"},\"id\":\"f895015b-32bd-45e8-c5c6-e240055b3519\",\"tags\":[],\"doc\":null}},{\"id\":\"e4cc8d72-fed9-49e6-c910-32773e676bd8\",\"type\":\"ResetTool\",\"attributes\":{\"plot\":{\"id\":\"916bc915-bb1a-4de5-cdb7-522ec3812e50\",\"type\":\"Plot\",\"subtype\":\"Figure\"},\"id\":\"e4cc8d72-fed9-49e6-c910-32773e676bd8\",\"tags\":[],\"doc\":null}},{\"id\":\"81fee176-74fe-4baf-cb64-d759a57a26cd\",\"type\":\"Legend\",\"attributes\":{\"plot\":{\"id\":\"916bc915-bb1a-4de5-cdb7-522ec3812e50\",\"type\":\"Plot\",\"subtype\":\"Figure\"},\"legends\":[[\"f0\",[{\"type\":\"GlyphRenderer\",\"id\":\"9baf0dbf-430b-4908-c9f1-d71a9de2fd2c\"}]],[\"engy\",[{\"type\":\"GlyphRenderer\",\"id\":\"532ff06d-a5a1-4e0e-cedf-208370ba532a\"}]]],\"id\":\"81fee176-74fe-4baf-cb64-d759a57a26cd\",\"doc\":null,\"tags\":[]}},{\"id\":\"916bc915-bb1a-4de5-cdb7-522ec3812e50\",\"type\":\"Plot\",\"attributes\":{\"x_range\":{\"type\":\"DataRange1d\",\"id\":\"9d4d113d-7a10-4075-c0d4-d2ece70c7edd\"},\"tool_events\":{\"type\":\"ToolEvents\",\"id\":\"d31ab036-f2f1-4a02-caaf-fc896055be83\"},\"below\":[{\"type\":\"LinearAxis\",\"id\":\"df91e469-81e5-4abc-ca87-d1a8c9b622be\"}],\"renderers\":[{\"type\":\"GlyphRenderer\",\"id\":\"9baf0dbf-430b-4908-c9f1-d71a9de2fd2c\"},{\"type\":\"GlyphRenderer\",\"id\":\"532ff06d-a5a1-4e0e-cedf-208370ba532a\"},{\"type\":\"LinearAxis\",\"id\":\"df91e469-81e5-4abc-ca87-d1a8c9b622be\"},{\"type\":\"Grid\",\"id\":\"964de5d8-d745-4983-c947-14b21547e468\"},{\"type\":\"LinearAxis\",\"id\":\"a27edf9f-f0fc-4e30-cefe-2fb4f5b757b9\"},{\"type\":\"Grid\",\"id\":\"2c3230a2-fd04-4f48-cf50-3e345a1c1264\"},{\"type\":\"Legend\",\"id\":\"81fee176-74fe-4baf-cb64-d759a57a26cd\"}],\"above\":[],\"tools\":[{\"type\":\"PanTool\",\"id\":\"de28fe0c-c80a-4ea4-ce3e-94746ce63170\"},{\"type\":\"WheelZoomTool\",\"id\":\"9e87cb9f-442a-488f-c8ee-96ee4240fcc6\"},{\"type\":\"BoxZoomTool\",\"id\":\"4d57ce83-dd1b-4b51-cb2e-571f75a4a82b\"},{\"type\":\"PreviewSaveTool\",\"id\":\"2997ad37-2878-40b3-c0ab-b80c36b5c077\"},{\"type\":\"ResizeTool\",\"id\":\"f895015b-32bd-45e8-c5c6-e240055b3519\"},{\"type\":\"ResetTool\",\"id\":\"e4cc8d72-fed9-49e6-c910-32773e676bd8\"}],\"doc\":null,\"right\":[],\"title\":\"Feature Observation of a Tone 1\",\"extra_x_ranges\":{},\"left\":[{\"type\":\"LinearAxis\",\"id\":\"a27edf9f-f0fc-4e30-cefe-2fb4f5b757b9\"}],\"y_range\":{\"type\":\"DataRange1d\",\"id\":\"457bbe64-e7da-4450-c465-b36aa36524d2\"},\"id\":\"916bc915-bb1a-4de5-cdb7-522ec3812e50\",\"extra_y_ranges\":{},\"tags\":[]}}];\n",
       "      Bokeh.load_models(all_models);\n",
       "      var model = Bokeh.Collections(modeltype).get(modelid);\n",
       "      $(\"#c673d072-e1b6-4e1b-ced1-3d1d7ebf2559\").html(''); // clear any previous plot in window_id\n",
       "      var view = new model.default_view({model: model, el: \"#c673d072-e1b6-4e1b-ced1-3d1d7ebf2559\"});\n",
       "  });\n",
       "    }\n",
       "});\n",
       "</script>\n",
       "<div class=\"plotdiv\" id=\"44b249a6-fcd5-4c74-ccb1-3919a6a77a5f\"></div>\n"
      ]
     },
     "metadata": {},
     "output_type": "display_data"
    }
   ],
   "source": [
    "Plot = require 'itorch.Plot'\n",
    "local x1 = torch.range(1,MAX_LEN)\n",
    "local sampleN = 4\n",
    "local y1 = newtestset.data[{sampleN,{},1}]\n",
    "local y2 = newtestset.data[{sampleN,{},2}]\n",
    "plot = Plot():line(x1, y1,'red','f0'):legend(true):title('Feature Observation of a Tone '..newtestset.label[sampleN]):draw()\n",
    "plot:line(x1, y2,'blue','engy'):redraw()"
   ]
  },
  {
   "cell_type": "markdown",
   "metadata": {},
   "source": [
    "## Model"
   ]
  },
  {
   "cell_type": "code",
   "execution_count": 54,
   "metadata": {
    "collapsed": false
   },
   "outputs": [],
   "source": [
    "require 'dp'\n",
    "local inp = 2;  -- dimensionality of one sequence element \n",
    "local outp = 4; -- number of derived features for one sequence element\n",
    "local conv_kw = 4;   -- number of sequence element kernel operates on per step\n",
    "local conv_dw = 4;   -- step dw and go on to the next sequence element\n",
    "\n",
    "local pool_kw = 4;   -- number of sequence element pooled on per step\n",
    "local pool_dw = 4;   -- step dw and go on to the next sequence element\n",
    "\n",
    "local nOutputFrame = (MAX_LEN - conv_kw) / conv_dw + 1\n",
    "local nOutputFrame = (nOutputFrame - pool_kw) / pool_dw + 1\n",
    "\n",
    "net = nn.Sequential()\n",
    "peek = nn.TemporalConvolution(inp, outp, conv_kw, conv_dw)\n",
    "net:add(peek)\n",
    "net:add(nn.ReLU())\n",
    "net:add(nn.TemporalMaxPooling(pool_kw, pool_dw))\n",
    "net:add(nn.View(outp*nOutputFrame))\n",
    "net:add(nn.Linear(outp*nOutputFrame, 64))\n",
    "-- net:add(nn.BatchNormalization(64))\n",
    "net:add(nn.ReLU())\n",
    "net:add(nn.Linear(64, 4))\n",
    "net:add(nn.LogSoftMax())"
   ]
  },
  {
   "cell_type": "code",
   "execution_count": 55,
   "metadata": {
    "collapsed": false
   },
   "outputs": [
    {
     "data": {
      "text/plain": [
       "nn.Sequential {\n",
       "  [input -> (1) -> (2) -> (3) -> (4) -> (5) -> (6) -> (7) -> (8) -> output]\n",
       "  (1): nn.TemporalConvolution\n",
       "  (2): nn.ReLU\n",
       "  (3): nn.TemporalMaxPooling\n",
       "  (4): nn.View(32)\n",
       "  (5): nn.Linear(32 -> 64)\n",
       "  (6): nn.ReLU\n",
       "  (7): nn.Linear(64 -> 4)\n",
       "  (8): nn.LogSoftMax\n",
       "}\t\n"
      ]
     },
     "execution_count": 55,
     "metadata": {},
     "output_type": "execute_result"
    }
   ],
   "source": [
    "print (net:__tostring())"
   ]
  },
  {
   "cell_type": "code",
   "execution_count": 56,
   "metadata": {
    "collapsed": false
   },
   "outputs": [],
   "source": [
    "criterion = nn.ClassNLLCriterion();  \n",
    "trainer = nn.StochasticGradient(net, criterion)  \n",
    "trainer.learningRate = 0.001\n",
    "trainer.maxIteration = 200\n",
    "trainer.verbose = False"
   ]
  },
  {
   "cell_type": "code",
   "execution_count": 57,
   "metadata": {
    "collapsed": false
   },
   "outputs": [],
   "source": [
    "function cal_acc(dataset)\n",
    "    local acc = 0.0\n",
    "    for i = 1, dataset:size() do\n",
    "        _, output = torch.max(net:forward(dataset[i][1]), 1)\n",
    "        if output[1] == dataset[i][2] then\n",
    "            acc = acc + 1.0\n",
    "        end\n",
    "    end\n",
    "    acc = acc / dataset:size()\n",
    "    return acc\n",
    "end"
   ]
  },
  {
   "cell_type": "code",
   "execution_count": 58,
   "metadata": {
    "collapsed": false
   },
   "outputs": [],
   "source": [
    "recorder = {loss = {}, trainacc = {}, valacc = {}, testacc = {}}\n",
    "trainer.hookIteration = function(obj, iteration, currentError) \n",
    "    local trainacc = cal_acc(trainset)\n",
    "    local valacc = cal_acc(testset)\n",
    "    local testacc = cal_acc(newtestset)\n",
    "    table.insert(recorder.loss, currentError)\n",
    "    table.insert(recorder.trainacc, trainacc)\n",
    "    table.insert(recorder.valacc, valacc)\n",
    "    table.insert(recorder.testacc, testacc)\n",
    "    if (iteration % 10 == 0) then \n",
    "        print('Iteration '..iteration..': loss('..currentError..') train_acc('\n",
    "            ..trainacc..') test_acc('..valacc..') new_test_acc('..testacc..').')\n",
    "    end\n",
    "end"
   ]
  },
  {
   "cell_type": "code",
   "execution_count": 59,
   "metadata": {
    "collapsed": false
   },
   "outputs": [
    {
     "data": {
      "text/plain": [
       "# StochasticGradient: training\t\n"
      ]
     },
     "execution_count": 59,
     "metadata": {},
     "output_type": "execute_result"
    },
    {
     "data": {
      "text/plain": [
       "Iteration 10: loss(0.58058444184859) train_acc(0.81) test_acc(0.825) new_test_acc(0.59649122807018).\t\n"
      ]
     },
     "execution_count": 59,
     "metadata": {},
     "output_type": "execute_result"
    },
    {
     "data": {
      "text/plain": [
       "Iteration 20: loss(0.38598727272817) train_acc(0.88) test_acc(0.85) new_test_acc(0.66666666666667).\t\n"
      ]
     },
     "execution_count": 59,
     "metadata": {},
     "output_type": "execute_result"
    },
    {
     "data": {
      "text/plain": [
       "Iteration 30: loss(0.30057962028006) train_acc(0.93) test_acc(0.9) new_test_acc(0.73684210526316).\t\n"
      ]
     },
     "execution_count": 59,
     "metadata": {},
     "output_type": "execute_result"
    },
    {
     "data": {
      "text/plain": [
       "Iteration 40: loss(0.26742195250152) train_acc(0.9325) test_acc(0.925) new_test_acc(0.76315789473684).\t\n"
      ]
     },
     "execution_count": 59,
     "metadata": {},
     "output_type": "execute_result"
    },
    {
     "data": {
      "text/plain": [
       "Iteration 50: loss(0.24729133893393) train_acc(0.9375) test_acc(0.95) new_test_acc(0.76315789473684).\t\n"
      ]
     },
     "execution_count": 59,
     "metadata": {},
     "output_type": "execute_result"
    },
    {
     "data": {
      "text/plain": [
       "Iteration 60: loss(0.23177166137612) train_acc(0.9475) test_acc(0.95) new_test_acc(0.76315789473684).\t\n"
      ]
     },
     "execution_count": 59,
     "metadata": {},
     "output_type": "execute_result"
    },
    {
     "data": {
      "text/plain": [
       "Iteration 70: loss(0.21812069219248) train_acc(0.9525) test_acc(0.975) new_test_acc(0.76315789473684).\t\n"
      ]
     },
     "execution_count": 59,
     "metadata": {},
     "output_type": "execute_result"
    },
    {
     "data": {
      "text/plain": [
       "Iteration 80: loss(0.20552871232689) train_acc(0.96) test_acc(0.975) new_test_acc(0.7719298245614).\t\n"
      ]
     },
     "execution_count": 59,
     "metadata": {},
     "output_type": "execute_result"
    },
    {
     "data": {
      "text/plain": [
       "Iteration 90: loss(0.19394969755269) train_acc(0.96) test_acc(0.975) new_test_acc(0.77631578947368).\t\n"
      ]
     },
     "execution_count": 59,
     "metadata": {},
     "output_type": "execute_result"
    },
    {
     "data": {
      "text/plain": [
       "Iteration 100: loss(0.18362369003796) train_acc(0.9625) test_acc(0.975) new_test_acc(0.79824561403509).\t\n"
      ]
     },
     "execution_count": 59,
     "metadata": {},
     "output_type": "execute_result"
    },
    {
     "data": {
      "text/plain": [
       "Iteration 110: loss(0.17361821509937) train_acc(0.9675) test_acc(0.975) new_test_acc(0.80701754385965).\t\n"
      ]
     },
     "execution_count": 59,
     "metadata": {},
     "output_type": "execute_result"
    },
    {
     "data": {
      "text/plain": [
       "Iteration 120: loss(0.16486260974478) train_acc(0.9675) test_acc(0.975) new_test_acc(0.80701754385965).\t\n"
      ]
     },
     "execution_count": 59,
     "metadata": {},
     "output_type": "execute_result"
    },
    {
     "data": {
      "text/plain": [
       "Iteration 130: loss(0.15666555778528) train_acc(0.9675) test_acc(0.975) new_test_acc(0.80701754385965).\t\n"
      ]
     },
     "execution_count": 59,
     "metadata": {},
     "output_type": "execute_result"
    },
    {
     "data": {
      "text/plain": [
       "Iteration 140: loss(0.14944550493351) train_acc(0.97) test_acc(0.975) new_test_acc(0.80701754385965).\t\n"
      ]
     },
     "execution_count": 59,
     "metadata": {},
     "output_type": "execute_result"
    },
    {
     "data": {
      "text/plain": [
       "Iteration 150: loss(0.14247199150861) train_acc(0.97) test_acc(0.975) new_test_acc(0.80701754385965).\t\n"
      ]
     },
     "execution_count": 59,
     "metadata": {},
     "output_type": "execute_result"
    },
    {
     "data": {
      "text/plain": [
       "Iteration 160: loss(0.13665207386385) train_acc(0.975) test_acc(0.975) new_test_acc(0.80701754385965).\t\n"
      ]
     },
     "execution_count": 59,
     "metadata": {},
     "output_type": "execute_result"
    },
    {
     "data": {
      "text/plain": [
       "Iteration 170: loss(0.13184267851597) train_acc(0.9775) test_acc(0.975) new_test_acc(0.81140350877193).\t\n"
      ]
     },
     "execution_count": 59,
     "metadata": {},
     "output_type": "execute_result"
    },
    {
     "data": {
      "text/plain": [
       "Iteration 180: loss(0.12836403703631) train_acc(0.9775) test_acc(0.975) new_test_acc(0.81140350877193).\t\n"
      ]
     },
     "execution_count": 59,
     "metadata": {},
     "output_type": "execute_result"
    },
    {
     "data": {
      "text/plain": [
       "Iteration 190: loss(0.12537567936725) train_acc(0.9775) test_acc(0.975) new_test_acc(0.81140350877193).\t\n"
      ]
     },
     "execution_count": 59,
     "metadata": {},
     "output_type": "execute_result"
    },
    {
     "data": {
      "text/plain": [
       "Iteration 200: loss(0.12258618229321) train_acc(0.9775) test_acc(0.975) new_test_acc(0.81140350877193).\t\n",
       "# StochasticGradient: you have reached the maximum number of iterations\t\n",
       "# training error = 0.12258618229321\t\n",
       "\n"
      ]
     },
     "execution_count": 59,
     "metadata": {},
     "output_type": "execute_result"
    }
   ],
   "source": [
    "trainer:train(trainset)"
   ]
  },
  {
   "cell_type": "code",
   "execution_count": 60,
   "metadata": {
    "collapsed": false
   },
   "outputs": [
    {
     "data": {
      "text/html": [
       "<script type=\"text/javascript\">\n",
       "$(function() {\n",
       "    if (typeof (window._bokeh_onload_callbacks) === \"undefined\"){\n",
       "  window._bokeh_onload_callbacks = [];\n",
       "    }\n",
       "    function load_lib(url, callback){\n",
       "  window._bokeh_onload_callbacks.push(callback);\n",
       "  if (window._bokeh_is_loading){\n",
       "      console.log(\"Bokeh: BokehJS is being loaded, scheduling callback at\", new Date());\n",
       "      return null;\n",
       "  }\n",
       "  console.log(\"Bokeh: BokehJS not loaded, scheduling load and callback at\", new Date());\n",
       "  window._bokeh_is_loading = true;\n",
       "  var s = document.createElement('script');\n",
       "  s.src = url;\n",
       "  s.async = true;\n",
       "  s.onreadystatechange = s.onload = function(){\n",
       "      Bokeh.embed.inject_css(\"https://cdn.pydata.org/bokeh-0.7.0.min.css\");\n",
       "      window._bokeh_onload_callbacks.forEach(function(callback){callback()});\n",
       "  };\n",
       "  s.onerror = function(){\n",
       "      console.warn(\"failed to load library \" + url);\n",
       "  };\n",
       "  document.getElementsByTagName(\"head\")[0].appendChild(s);\n",
       "    }\n",
       "\n",
       "    bokehjs_url = \"https://cdn.pydata.org/bokeh-0.7.0.min.js\"\n",
       "\n",
       "    var elt = document.getElementById(\"fbf9de6c-fa39-4c96-cc1b-5c1c04618cb6\");\n",
       "    if(elt==null) {\n",
       "  console.log(\"Bokeh: ERROR: autoload.js configured with elementid 'fbf9de6c-fa39-4c96-cc1b-5c1c04618cb6'\"\n",
       "        + \"but no matching script tag was found. \")\n",
       "  return false;\n",
       "    }\n",
       "\n",
       "    if(typeof(Bokeh) !== \"undefined\") {\n",
       "  console.log(\"Bokeh: BokehJS loaded, going straight to plotting\");\n",
       "  var modelid = \"bc29ef9b-2f2d-4b2f-cb53-04cf6e1c59e6\";\n",
       "  var modeltype = \"Plot\";\n",
       "  var all_models = [{\"id\":\"70c21479-4ce1-4a1e-ca58-0bd59aa88a22\",\"type\":\"ColumnDataSource\",\"attributes\":{\"data\":{\"y\":[1.4031972530274,1.3712120161362,1.3389262210002,1.2858946263714,1.190503050266,1.0368739108697,0.85864067397059,0.72008682235037,0.6335282760613,0.58058444184859,0.54540869918541,0.51898627838273,0.4974077785448,0.47853451899577,0.46126015078419,0.44493550857347,0.42928679451507,0.41420719124966,0.39968905054369,0.38598727272817,0.3732240169026,0.36149662575544,0.35065102444415,0.34091503649792,0.3322012087154,0.32459346740856,0.31780426868582,0.3116477399855,0.30576525615726,0.30057962028006,0.29590542022366,0.29150068971799,0.28763241258565,0.28415109174868,0.28075624029143,0.27785644536809,0.27507024513283,0.27245019187931,0.26988134535827,0.26742195250152,0.26504038377054,0.26280506134016,0.2605765832142,0.25842333661241,0.25646361351739,0.25450771192364,0.25257617575432,0.25079787520288,0.24894985590874,0.24729133893393,0.24573066859866,0.24402552228423,0.24246752053718,0.24088326968877,0.23940226258257,0.23793285952824,0.23639133715947,0.2347746414243,0.23328122094187,0.23177166137612,0.23036362480487,0.2288651160789,0.22753097735604,0.22619413356891,0.22487371669057,0.22349254809244,0.2221046261354,0.22074620834885,0.21945524419588,0.21812069219248,0.21685720444708,0.21562491707819,0.21429485719056,0.21313498021197,0.21189575103557,0.21056663121769,0.20928816308613,0.20798980109569,0.20676662666023,0.20552871232689,0.20425277624085,0.20304338632778,0.20189489875156,0.20071110569472,0.19939537190172,0.1984858629889,0.19735839688641,0.1961945728906,0.1950686005176,0.19394969755269,0.19287010593044,0.19184778089397,0.19075927926691,0.1897387560241,0.18864006445412,0.18753972478201,0.18668675736028,0.18558448861613,0.18440449802022,0.18362369003796,0.18255387847812,0.18136900909987,0.18057123005129,0.17952557539235,0.17834818513863,0.17734850839229,0.17640642318821,0.17543090559249,0.17445643241692,0.17361821509937,0.17276000196823,0.17172548274322,0.1709549179579,0.17005946044711,0.16904915499643,0.16834363117411,0.16733077955546,0.16667425735713,0.16560579889726,0.16486260974478,0.16406651906821,0.16320504152351,0.16232122619855,0.16159352949717,0.16066216207561,0.1598911019644,0.15922135210745,0.15831461931795,0.15765863770332,0.15666555778528,0.1559735670519,0.1551844847882,0.15448329133885,0.15375004833611,0.1530262526688,0.15219127175925,0.15153831529473,0.15064585439385,0.1499332061852,0.14944550493351,0.14857693557281,0.14796791008709,0.14716738849284,0.14649822698721,0.14571348094491,0.14530491074951,0.14443490523438,0.14375355484277,0.1431746767526,0.14247199150861,0.14178769652713,0.14120309751274,0.14051880068844,0.13996588349823,0.13957068378166,0.13874385355177,0.13832640476369,0.13779775261204,0.13721801410096,0.13665207386385,0.1362559172635,0.13583106197413,0.13508605912878,0.13457669894778,0.13427771456871,0.13359710815781,0.13324928220666,0.13274177166501,0.13239873808852,0.13184267851597,0.13152860914355,0.13112717855974,0.130778726718,0.13046438526131,0.1300964867287,0.12960825552622,0.12938426986315,0.1291492605217,0.12874261234215,0.12836403703631,0.12793156545193,0.12788190079743,0.1274713642451,0.12702747139222,0.12692001724921,0.12659969679683,0.12621784313509,0.12583196055817,0.12564989775508,0.12537567936725,0.12505019071491,0.12481429351922,0.1244630159164,0.12412255758011,0.123962846042,0.12365867599387,0.1233726123362,0.12309723525867,0.12278407000672,0.12258618229321],\"x\":[1,2,3,4,5,6,7,8,9,10,11,12,13,14,15,16,17,18,19,20,21,22,23,24,25,26,27,28,29,30,31,32,33,34,35,36,37,38,39,40,41,42,43,44,45,46,47,48,49,50,51,52,53,54,55,56,57,58,59,60,61,62,63,64,65,66,67,68,69,70,71,72,73,74,75,76,77,78,79,80,81,82,83,84,85,86,87,88,89,90,91,92,93,94,95,96,97,98,99,100,101,102,103,104,105,106,107,108,109,110,111,112,113,114,115,116,117,118,119,120,121,122,123,124,125,126,127,128,129,130,131,132,133,134,135,136,137,138,139,140,141,142,143,144,145,146,147,148,149,150,151,152,153,154,155,156,157,158,159,160,161,162,163,164,165,166,167,168,169,170,171,172,173,174,175,176,177,178,179,180,181,182,183,184,185,186,187,188,189,190,191,192,193,194,195,196,197,198,199,200]},\"column_names\":[\"y\",\"x\"],\"cont_ranges\":{},\"discrete_ranges\":{},\"selected\":[],\"id\":\"70c21479-4ce1-4a1e-ca58-0bd59aa88a22\",\"doc\":null,\"tags\":[]}},{\"id\":\"5e23918a-9e6c-4e81-ce31-f47d3a8f1c8c\",\"type\":\"Line\",\"attributes\":{\"fill_alpha\":{\"units\":\"data\",\"value\":0.2},\"line_alpha\":{\"units\":\"data\",\"value\":1},\"doc\":null,\"size\":{\"units\":\"screen\",\"value\":10},\"fill_color\":{\"value\":\"red\"},\"line_color\":{\"value\":\"red\"},\"x\":{\"units\":\"data\",\"field\":\"x\"},\"id\":\"5e23918a-9e6c-4e81-ce31-f47d3a8f1c8c\",\"y\":{\"units\":\"data\",\"field\":\"y\"},\"tags\":[]}},{\"id\":\"970ff8a8-f9f1-4ba2-cb4f-17f035aea1a0\",\"type\":\"Line\",\"attributes\":{\"fill_alpha\":{\"units\":\"data\",\"value\":0.2},\"line_alpha\":{\"units\":\"data\",\"value\":1},\"doc\":null,\"size\":{\"units\":\"screen\",\"value\":10},\"fill_color\":{\"value\":\"red\"},\"line_color\":{\"value\":\"red\"},\"x\":{\"units\":\"data\",\"field\":\"x\"},\"id\":\"970ff8a8-f9f1-4ba2-cb4f-17f035aea1a0\",\"y\":{\"units\":\"data\",\"field\":\"y\"},\"tags\":[]}},{\"id\":\"d7db4a74-5111-4e5b-ce4e-9d47816431ca\",\"type\":\"GlyphRenderer\",\"attributes\":{\"name\":null,\"nonselection_glyph\":{\"type\":\"Line\",\"id\":\"970ff8a8-f9f1-4ba2-cb4f-17f035aea1a0\"},\"doc\":null,\"server_data_source\":null,\"data_source\":{\"type\":\"ColumnDataSource\",\"id\":\"70c21479-4ce1-4a1e-ca58-0bd59aa88a22\"},\"glyph\":{\"type\":\"Line\",\"id\":\"5e23918a-9e6c-4e81-ce31-f47d3a8f1c8c\"},\"selection_glyph\":null,\"id\":\"d7db4a74-5111-4e5b-ce4e-9d47816431ca\",\"tags\":[]}},{\"id\":\"59e96a8e-fbd0-4c61-cc41-36c64cd1b7fe\",\"type\":\"DataRange1d\",\"attributes\":{\"sources\":[{\"columns\":[\"x\"],\"source\":{\"type\":\"ColumnDataSource\",\"id\":\"70c21479-4ce1-4a1e-ca58-0bd59aa88a22\"}}],\"id\":\"59e96a8e-fbd0-4c61-cc41-36c64cd1b7fe\",\"tags\":[],\"doc\":null}},{\"id\":\"99fddbbf-c947-4d98-cd9d-cfde08543b2e\",\"type\":\"DataRange1d\",\"attributes\":{\"sources\":[{\"columns\":[\"y\"],\"source\":{\"type\":\"ColumnDataSource\",\"id\":\"70c21479-4ce1-4a1e-ca58-0bd59aa88a22\"}}],\"id\":\"99fddbbf-c947-4d98-cd9d-cfde08543b2e\",\"tags\":[],\"doc\":null}},{\"id\":\"d9429efd-3f36-4672-c672-a6a995104dcd\",\"type\":\"ToolEvents\",\"attributes\":{\"tags\":[],\"id\":\"d9429efd-3f36-4672-c672-a6a995104dcd\",\"geometries\":[],\"doc\":null}},{\"id\":\"b56b3649-6fb0-47c7-c7d2-652fc99b2547\",\"type\":\"BasicTickFormatter\",\"attributes\":{\"id\":\"b56b3649-6fb0-47c7-c7d2-652fc99b2547\",\"tags\":[],\"doc\":null}},{\"id\":\"b03d1662-fdba-4a38-cacf-b7c35dc5bc28\",\"type\":\"BasicTicker\",\"attributes\":{\"num_minor_ticks\":5,\"id\":\"b03d1662-fdba-4a38-cacf-b7c35dc5bc28\",\"tags\":[],\"doc\":null}},{\"id\":\"f7da0849-091d-4e82-ce77-0410d8b4e4f1\",\"type\":\"LinearAxis\",\"attributes\":{\"formatter\":{\"type\":\"BasicTickFormatter\",\"id\":\"b56b3649-6fb0-47c7-c7d2-652fc99b2547\"},\"ticker\":{\"type\":\"BasicTicker\",\"id\":\"b03d1662-fdba-4a38-cacf-b7c35dc5bc28\"},\"plot\":{\"id\":\"bc29ef9b-2f2d-4b2f-cb53-04cf6e1c59e6\",\"type\":\"Plot\",\"subtype\":\"Figure\"},\"axis_label\":null,\"id\":\"f7da0849-091d-4e82-ce77-0410d8b4e4f1\",\"doc\":null,\"tags\":[]}},{\"id\":\"b9ad490e-9ff6-4745-c7e0-67605ce7dc13\",\"type\":\"Grid\",\"attributes\":{\"dimension\":0,\"plot\":{\"id\":\"bc29ef9b-2f2d-4b2f-cb53-04cf6e1c59e6\",\"type\":\"Plot\",\"subtype\":\"Figure\"},\"ticker\":{\"type\":\"BasicTicker\",\"id\":\"b03d1662-fdba-4a38-cacf-b7c35dc5bc28\"},\"id\":\"b9ad490e-9ff6-4745-c7e0-67605ce7dc13\",\"doc\":null,\"tags\":[]}},{\"id\":\"af1800bf-195c-4260-c2cd-fad0d22d1d04\",\"type\":\"BasicTickFormatter\",\"attributes\":{\"id\":\"af1800bf-195c-4260-c2cd-fad0d22d1d04\",\"tags\":[],\"doc\":null}},{\"id\":\"7055d031-4ed8-4731-c75c-b4a8180ba9bf\",\"type\":\"BasicTicker\",\"attributes\":{\"num_minor_ticks\":5,\"id\":\"7055d031-4ed8-4731-c75c-b4a8180ba9bf\",\"tags\":[],\"doc\":null}},{\"id\":\"e006cdfb-80eb-4595-c560-40766cacb47a\",\"type\":\"LinearAxis\",\"attributes\":{\"formatter\":{\"type\":\"BasicTickFormatter\",\"id\":\"af1800bf-195c-4260-c2cd-fad0d22d1d04\"},\"ticker\":{\"type\":\"BasicTicker\",\"id\":\"7055d031-4ed8-4731-c75c-b4a8180ba9bf\"},\"plot\":{\"id\":\"bc29ef9b-2f2d-4b2f-cb53-04cf6e1c59e6\",\"type\":\"Plot\",\"subtype\":\"Figure\"},\"axis_label\":null,\"id\":\"e006cdfb-80eb-4595-c560-40766cacb47a\",\"doc\":null,\"tags\":[]}},{\"id\":\"35ac0dcd-c2d7-47e9-c7c6-aad71a405360\",\"type\":\"Grid\",\"attributes\":{\"dimension\":1,\"plot\":{\"id\":\"bc29ef9b-2f2d-4b2f-cb53-04cf6e1c59e6\",\"type\":\"Plot\",\"subtype\":\"Figure\"},\"ticker\":{\"type\":\"BasicTicker\",\"id\":\"7055d031-4ed8-4731-c75c-b4a8180ba9bf\"},\"id\":\"35ac0dcd-c2d7-47e9-c7c6-aad71a405360\",\"doc\":null,\"tags\":[]}},{\"id\":\"8098eaa1-a02d-4540-c5cf-8211b6989969\",\"type\":\"PanTool\",\"attributes\":{\"plot\":{\"id\":\"bc29ef9b-2f2d-4b2f-cb53-04cf6e1c59e6\",\"type\":\"Plot\",\"subtype\":\"Figure\"},\"dimensions\":[\"width\",\"height\"],\"id\":\"8098eaa1-a02d-4540-c5cf-8211b6989969\",\"doc\":null,\"tags\":[]}},{\"id\":\"ffc75395-8da6-4811-c885-f20da365339f\",\"type\":\"WheelZoomTool\",\"attributes\":{\"plot\":{\"id\":\"bc29ef9b-2f2d-4b2f-cb53-04cf6e1c59e6\",\"type\":\"Plot\",\"subtype\":\"Figure\"},\"dimensions\":[\"width\",\"height\"],\"id\":\"ffc75395-8da6-4811-c885-f20da365339f\",\"doc\":null,\"tags\":[]}},{\"id\":\"e3e101e3-7e9b-462a-c66e-db0231d9963e\",\"type\":\"BoxZoomTool\",\"attributes\":{\"plot\":{\"id\":\"bc29ef9b-2f2d-4b2f-cb53-04cf6e1c59e6\",\"type\":\"Plot\",\"subtype\":\"Figure\"},\"id\":\"e3e101e3-7e9b-462a-c66e-db0231d9963e\",\"tags\":[],\"doc\":null}},{\"id\":\"bac18925-f8de-4306-c35a-806b09282122\",\"type\":\"PreviewSaveTool\",\"attributes\":{\"plot\":{\"id\":\"bc29ef9b-2f2d-4b2f-cb53-04cf6e1c59e6\",\"type\":\"Plot\",\"subtype\":\"Figure\"},\"id\":\"bac18925-f8de-4306-c35a-806b09282122\",\"tags\":[],\"doc\":null}},{\"id\":\"2147c563-08ee-4b19-cbe4-a707e5e3a7ac\",\"type\":\"ResizeTool\",\"attributes\":{\"plot\":{\"id\":\"bc29ef9b-2f2d-4b2f-cb53-04cf6e1c59e6\",\"type\":\"Plot\",\"subtype\":\"Figure\"},\"id\":\"2147c563-08ee-4b19-cbe4-a707e5e3a7ac\",\"tags\":[],\"doc\":null}},{\"id\":\"20c3458f-c893-472d-c7ea-b516d8f3887c\",\"type\":\"ResetTool\",\"attributes\":{\"plot\":{\"id\":\"bc29ef9b-2f2d-4b2f-cb53-04cf6e1c59e6\",\"type\":\"Plot\",\"subtype\":\"Figure\"},\"id\":\"20c3458f-c893-472d-c7ea-b516d8f3887c\",\"tags\":[],\"doc\":null}},{\"id\":\"e20071fd-22f1-4eeb-cea5-b26656d5198f\",\"type\":\"Legend\",\"attributes\":{\"plot\":{\"id\":\"bc29ef9b-2f2d-4b2f-cb53-04cf6e1c59e6\",\"type\":\"Plot\",\"subtype\":\"Figure\"},\"legends\":[[\"loss\",[{\"type\":\"GlyphRenderer\",\"id\":\"d7db4a74-5111-4e5b-ce4e-9d47816431ca\"}]]],\"id\":\"e20071fd-22f1-4eeb-cea5-b26656d5198f\",\"doc\":null,\"tags\":[]}},{\"id\":\"bc29ef9b-2f2d-4b2f-cb53-04cf6e1c59e6\",\"type\":\"Plot\",\"attributes\":{\"x_range\":{\"type\":\"DataRange1d\",\"id\":\"59e96a8e-fbd0-4c61-cc41-36c64cd1b7fe\"},\"tool_events\":{\"type\":\"ToolEvents\",\"id\":\"d9429efd-3f36-4672-c672-a6a995104dcd\"},\"below\":[{\"type\":\"LinearAxis\",\"id\":\"f7da0849-091d-4e82-ce77-0410d8b4e4f1\"}],\"renderers\":[{\"type\":\"GlyphRenderer\",\"id\":\"d7db4a74-5111-4e5b-ce4e-9d47816431ca\"},{\"type\":\"LinearAxis\",\"id\":\"f7da0849-091d-4e82-ce77-0410d8b4e4f1\"},{\"type\":\"Grid\",\"id\":\"b9ad490e-9ff6-4745-c7e0-67605ce7dc13\"},{\"type\":\"LinearAxis\",\"id\":\"e006cdfb-80eb-4595-c560-40766cacb47a\"},{\"type\":\"Grid\",\"id\":\"35ac0dcd-c2d7-47e9-c7c6-aad71a405360\"},{\"type\":\"Legend\",\"id\":\"e20071fd-22f1-4eeb-cea5-b26656d5198f\"}],\"above\":[],\"tools\":[{\"type\":\"PanTool\",\"id\":\"8098eaa1-a02d-4540-c5cf-8211b6989969\"},{\"type\":\"WheelZoomTool\",\"id\":\"ffc75395-8da6-4811-c885-f20da365339f\"},{\"type\":\"BoxZoomTool\",\"id\":\"e3e101e3-7e9b-462a-c66e-db0231d9963e\"},{\"type\":\"PreviewSaveTool\",\"id\":\"bac18925-f8de-4306-c35a-806b09282122\"},{\"type\":\"ResizeTool\",\"id\":\"2147c563-08ee-4b19-cbe4-a707e5e3a7ac\"},{\"type\":\"ResetTool\",\"id\":\"20c3458f-c893-472d-c7ea-b516d8f3887c\"}],\"doc\":null,\"right\":[],\"title\":\"Train Loss\",\"extra_x_ranges\":{},\"left\":[{\"type\":\"LinearAxis\",\"id\":\"e006cdfb-80eb-4595-c560-40766cacb47a\"}],\"y_range\":{\"type\":\"DataRange1d\",\"id\":\"99fddbbf-c947-4d98-cd9d-cfde08543b2e\"},\"id\":\"bc29ef9b-2f2d-4b2f-cb53-04cf6e1c59e6\",\"extra_y_ranges\":{},\"tags\":[]}}];\n",
       "  Bokeh.load_models(all_models);\n",
       "  var model = Bokeh.Collections(modeltype).get(modelid);\n",
       "  $(\"#fbf9de6c-fa39-4c96-cc1b-5c1c04618cb6\").html(''); // clear any previous plot in window_id\n",
       "  var view = new model.default_view({model: model, el: \"#fbf9de6c-fa39-4c96-cc1b-5c1c04618cb6\"});\n",
       "    } else {\n",
       "  load_lib(bokehjs_url, function() {\n",
       "      console.log(\"Bokeh: BokehJS plotting callback run at\", new Date())\n",
       "      var modelid = \"bc29ef9b-2f2d-4b2f-cb53-04cf6e1c59e6\";\n",
       "      var modeltype = \"Plot\";\n",
       "      var all_models = [{\"id\":\"70c21479-4ce1-4a1e-ca58-0bd59aa88a22\",\"type\":\"ColumnDataSource\",\"attributes\":{\"data\":{\"y\":[1.4031972530274,1.3712120161362,1.3389262210002,1.2858946263714,1.190503050266,1.0368739108697,0.85864067397059,0.72008682235037,0.6335282760613,0.58058444184859,0.54540869918541,0.51898627838273,0.4974077785448,0.47853451899577,0.46126015078419,0.44493550857347,0.42928679451507,0.41420719124966,0.39968905054369,0.38598727272817,0.3732240169026,0.36149662575544,0.35065102444415,0.34091503649792,0.3322012087154,0.32459346740856,0.31780426868582,0.3116477399855,0.30576525615726,0.30057962028006,0.29590542022366,0.29150068971799,0.28763241258565,0.28415109174868,0.28075624029143,0.27785644536809,0.27507024513283,0.27245019187931,0.26988134535827,0.26742195250152,0.26504038377054,0.26280506134016,0.2605765832142,0.25842333661241,0.25646361351739,0.25450771192364,0.25257617575432,0.25079787520288,0.24894985590874,0.24729133893393,0.24573066859866,0.24402552228423,0.24246752053718,0.24088326968877,0.23940226258257,0.23793285952824,0.23639133715947,0.2347746414243,0.23328122094187,0.23177166137612,0.23036362480487,0.2288651160789,0.22753097735604,0.22619413356891,0.22487371669057,0.22349254809244,0.2221046261354,0.22074620834885,0.21945524419588,0.21812069219248,0.21685720444708,0.21562491707819,0.21429485719056,0.21313498021197,0.21189575103557,0.21056663121769,0.20928816308613,0.20798980109569,0.20676662666023,0.20552871232689,0.20425277624085,0.20304338632778,0.20189489875156,0.20071110569472,0.19939537190172,0.1984858629889,0.19735839688641,0.1961945728906,0.1950686005176,0.19394969755269,0.19287010593044,0.19184778089397,0.19075927926691,0.1897387560241,0.18864006445412,0.18753972478201,0.18668675736028,0.18558448861613,0.18440449802022,0.18362369003796,0.18255387847812,0.18136900909987,0.18057123005129,0.17952557539235,0.17834818513863,0.17734850839229,0.17640642318821,0.17543090559249,0.17445643241692,0.17361821509937,0.17276000196823,0.17172548274322,0.1709549179579,0.17005946044711,0.16904915499643,0.16834363117411,0.16733077955546,0.16667425735713,0.16560579889726,0.16486260974478,0.16406651906821,0.16320504152351,0.16232122619855,0.16159352949717,0.16066216207561,0.1598911019644,0.15922135210745,0.15831461931795,0.15765863770332,0.15666555778528,0.1559735670519,0.1551844847882,0.15448329133885,0.15375004833611,0.1530262526688,0.15219127175925,0.15153831529473,0.15064585439385,0.1499332061852,0.14944550493351,0.14857693557281,0.14796791008709,0.14716738849284,0.14649822698721,0.14571348094491,0.14530491074951,0.14443490523438,0.14375355484277,0.1431746767526,0.14247199150861,0.14178769652713,0.14120309751274,0.14051880068844,0.13996588349823,0.13957068378166,0.13874385355177,0.13832640476369,0.13779775261204,0.13721801410096,0.13665207386385,0.1362559172635,0.13583106197413,0.13508605912878,0.13457669894778,0.13427771456871,0.13359710815781,0.13324928220666,0.13274177166501,0.13239873808852,0.13184267851597,0.13152860914355,0.13112717855974,0.130778726718,0.13046438526131,0.1300964867287,0.12960825552622,0.12938426986315,0.1291492605217,0.12874261234215,0.12836403703631,0.12793156545193,0.12788190079743,0.1274713642451,0.12702747139222,0.12692001724921,0.12659969679683,0.12621784313509,0.12583196055817,0.12564989775508,0.12537567936725,0.12505019071491,0.12481429351922,0.1244630159164,0.12412255758011,0.123962846042,0.12365867599387,0.1233726123362,0.12309723525867,0.12278407000672,0.12258618229321],\"x\":[1,2,3,4,5,6,7,8,9,10,11,12,13,14,15,16,17,18,19,20,21,22,23,24,25,26,27,28,29,30,31,32,33,34,35,36,37,38,39,40,41,42,43,44,45,46,47,48,49,50,51,52,53,54,55,56,57,58,59,60,61,62,63,64,65,66,67,68,69,70,71,72,73,74,75,76,77,78,79,80,81,82,83,84,85,86,87,88,89,90,91,92,93,94,95,96,97,98,99,100,101,102,103,104,105,106,107,108,109,110,111,112,113,114,115,116,117,118,119,120,121,122,123,124,125,126,127,128,129,130,131,132,133,134,135,136,137,138,139,140,141,142,143,144,145,146,147,148,149,150,151,152,153,154,155,156,157,158,159,160,161,162,163,164,165,166,167,168,169,170,171,172,173,174,175,176,177,178,179,180,181,182,183,184,185,186,187,188,189,190,191,192,193,194,195,196,197,198,199,200]},\"column_names\":[\"y\",\"x\"],\"cont_ranges\":{},\"discrete_ranges\":{},\"selected\":[],\"id\":\"70c21479-4ce1-4a1e-ca58-0bd59aa88a22\",\"doc\":null,\"tags\":[]}},{\"id\":\"5e23918a-9e6c-4e81-ce31-f47d3a8f1c8c\",\"type\":\"Line\",\"attributes\":{\"fill_alpha\":{\"units\":\"data\",\"value\":0.2},\"line_alpha\":{\"units\":\"data\",\"value\":1},\"doc\":null,\"size\":{\"units\":\"screen\",\"value\":10},\"fill_color\":{\"value\":\"red\"},\"line_color\":{\"value\":\"red\"},\"x\":{\"units\":\"data\",\"field\":\"x\"},\"id\":\"5e23918a-9e6c-4e81-ce31-f47d3a8f1c8c\",\"y\":{\"units\":\"data\",\"field\":\"y\"},\"tags\":[]}},{\"id\":\"970ff8a8-f9f1-4ba2-cb4f-17f035aea1a0\",\"type\":\"Line\",\"attributes\":{\"fill_alpha\":{\"units\":\"data\",\"value\":0.2},\"line_alpha\":{\"units\":\"data\",\"value\":1},\"doc\":null,\"size\":{\"units\":\"screen\",\"value\":10},\"fill_color\":{\"value\":\"red\"},\"line_color\":{\"value\":\"red\"},\"x\":{\"units\":\"data\",\"field\":\"x\"},\"id\":\"970ff8a8-f9f1-4ba2-cb4f-17f035aea1a0\",\"y\":{\"units\":\"data\",\"field\":\"y\"},\"tags\":[]}},{\"id\":\"d7db4a74-5111-4e5b-ce4e-9d47816431ca\",\"type\":\"GlyphRenderer\",\"attributes\":{\"name\":null,\"nonselection_glyph\":{\"type\":\"Line\",\"id\":\"970ff8a8-f9f1-4ba2-cb4f-17f035aea1a0\"},\"doc\":null,\"server_data_source\":null,\"data_source\":{\"type\":\"ColumnDataSource\",\"id\":\"70c21479-4ce1-4a1e-ca58-0bd59aa88a22\"},\"glyph\":{\"type\":\"Line\",\"id\":\"5e23918a-9e6c-4e81-ce31-f47d3a8f1c8c\"},\"selection_glyph\":null,\"id\":\"d7db4a74-5111-4e5b-ce4e-9d47816431ca\",\"tags\":[]}},{\"id\":\"59e96a8e-fbd0-4c61-cc41-36c64cd1b7fe\",\"type\":\"DataRange1d\",\"attributes\":{\"sources\":[{\"columns\":[\"x\"],\"source\":{\"type\":\"ColumnDataSource\",\"id\":\"70c21479-4ce1-4a1e-ca58-0bd59aa88a22\"}}],\"id\":\"59e96a8e-fbd0-4c61-cc41-36c64cd1b7fe\",\"tags\":[],\"doc\":null}},{\"id\":\"99fddbbf-c947-4d98-cd9d-cfde08543b2e\",\"type\":\"DataRange1d\",\"attributes\":{\"sources\":[{\"columns\":[\"y\"],\"source\":{\"type\":\"ColumnDataSource\",\"id\":\"70c21479-4ce1-4a1e-ca58-0bd59aa88a22\"}}],\"id\":\"99fddbbf-c947-4d98-cd9d-cfde08543b2e\",\"tags\":[],\"doc\":null}},{\"id\":\"d9429efd-3f36-4672-c672-a6a995104dcd\",\"type\":\"ToolEvents\",\"attributes\":{\"tags\":[],\"id\":\"d9429efd-3f36-4672-c672-a6a995104dcd\",\"geometries\":[],\"doc\":null}},{\"id\":\"b56b3649-6fb0-47c7-c7d2-652fc99b2547\",\"type\":\"BasicTickFormatter\",\"attributes\":{\"id\":\"b56b3649-6fb0-47c7-c7d2-652fc99b2547\",\"tags\":[],\"doc\":null}},{\"id\":\"b03d1662-fdba-4a38-cacf-b7c35dc5bc28\",\"type\":\"BasicTicker\",\"attributes\":{\"num_minor_ticks\":5,\"id\":\"b03d1662-fdba-4a38-cacf-b7c35dc5bc28\",\"tags\":[],\"doc\":null}},{\"id\":\"f7da0849-091d-4e82-ce77-0410d8b4e4f1\",\"type\":\"LinearAxis\",\"attributes\":{\"formatter\":{\"type\":\"BasicTickFormatter\",\"id\":\"b56b3649-6fb0-47c7-c7d2-652fc99b2547\"},\"ticker\":{\"type\":\"BasicTicker\",\"id\":\"b03d1662-fdba-4a38-cacf-b7c35dc5bc28\"},\"plot\":{\"id\":\"bc29ef9b-2f2d-4b2f-cb53-04cf6e1c59e6\",\"type\":\"Plot\",\"subtype\":\"Figure\"},\"axis_label\":null,\"id\":\"f7da0849-091d-4e82-ce77-0410d8b4e4f1\",\"doc\":null,\"tags\":[]}},{\"id\":\"b9ad490e-9ff6-4745-c7e0-67605ce7dc13\",\"type\":\"Grid\",\"attributes\":{\"dimension\":0,\"plot\":{\"id\":\"bc29ef9b-2f2d-4b2f-cb53-04cf6e1c59e6\",\"type\":\"Plot\",\"subtype\":\"Figure\"},\"ticker\":{\"type\":\"BasicTicker\",\"id\":\"b03d1662-fdba-4a38-cacf-b7c35dc5bc28\"},\"id\":\"b9ad490e-9ff6-4745-c7e0-67605ce7dc13\",\"doc\":null,\"tags\":[]}},{\"id\":\"af1800bf-195c-4260-c2cd-fad0d22d1d04\",\"type\":\"BasicTickFormatter\",\"attributes\":{\"id\":\"af1800bf-195c-4260-c2cd-fad0d22d1d04\",\"tags\":[],\"doc\":null}},{\"id\":\"7055d031-4ed8-4731-c75c-b4a8180ba9bf\",\"type\":\"BasicTicker\",\"attributes\":{\"num_minor_ticks\":5,\"id\":\"7055d031-4ed8-4731-c75c-b4a8180ba9bf\",\"tags\":[],\"doc\":null}},{\"id\":\"e006cdfb-80eb-4595-c560-40766cacb47a\",\"type\":\"LinearAxis\",\"attributes\":{\"formatter\":{\"type\":\"BasicTickFormatter\",\"id\":\"af1800bf-195c-4260-c2cd-fad0d22d1d04\"},\"ticker\":{\"type\":\"BasicTicker\",\"id\":\"7055d031-4ed8-4731-c75c-b4a8180ba9bf\"},\"plot\":{\"id\":\"bc29ef9b-2f2d-4b2f-cb53-04cf6e1c59e6\",\"type\":\"Plot\",\"subtype\":\"Figure\"},\"axis_label\":null,\"id\":\"e006cdfb-80eb-4595-c560-40766cacb47a\",\"doc\":null,\"tags\":[]}},{\"id\":\"35ac0dcd-c2d7-47e9-c7c6-aad71a405360\",\"type\":\"Grid\",\"attributes\":{\"dimension\":1,\"plot\":{\"id\":\"bc29ef9b-2f2d-4b2f-cb53-04cf6e1c59e6\",\"type\":\"Plot\",\"subtype\":\"Figure\"},\"ticker\":{\"type\":\"BasicTicker\",\"id\":\"7055d031-4ed8-4731-c75c-b4a8180ba9bf\"},\"id\":\"35ac0dcd-c2d7-47e9-c7c6-aad71a405360\",\"doc\":null,\"tags\":[]}},{\"id\":\"8098eaa1-a02d-4540-c5cf-8211b6989969\",\"type\":\"PanTool\",\"attributes\":{\"plot\":{\"id\":\"bc29ef9b-2f2d-4b2f-cb53-04cf6e1c59e6\",\"type\":\"Plot\",\"subtype\":\"Figure\"},\"dimensions\":[\"width\",\"height\"],\"id\":\"8098eaa1-a02d-4540-c5cf-8211b6989969\",\"doc\":null,\"tags\":[]}},{\"id\":\"ffc75395-8da6-4811-c885-f20da365339f\",\"type\":\"WheelZoomTool\",\"attributes\":{\"plot\":{\"id\":\"bc29ef9b-2f2d-4b2f-cb53-04cf6e1c59e6\",\"type\":\"Plot\",\"subtype\":\"Figure\"},\"dimensions\":[\"width\",\"height\"],\"id\":\"ffc75395-8da6-4811-c885-f20da365339f\",\"doc\":null,\"tags\":[]}},{\"id\":\"e3e101e3-7e9b-462a-c66e-db0231d9963e\",\"type\":\"BoxZoomTool\",\"attributes\":{\"plot\":{\"id\":\"bc29ef9b-2f2d-4b2f-cb53-04cf6e1c59e6\",\"type\":\"Plot\",\"subtype\":\"Figure\"},\"id\":\"e3e101e3-7e9b-462a-c66e-db0231d9963e\",\"tags\":[],\"doc\":null}},{\"id\":\"bac18925-f8de-4306-c35a-806b09282122\",\"type\":\"PreviewSaveTool\",\"attributes\":{\"plot\":{\"id\":\"bc29ef9b-2f2d-4b2f-cb53-04cf6e1c59e6\",\"type\":\"Plot\",\"subtype\":\"Figure\"},\"id\":\"bac18925-f8de-4306-c35a-806b09282122\",\"tags\":[],\"doc\":null}},{\"id\":\"2147c563-08ee-4b19-cbe4-a707e5e3a7ac\",\"type\":\"ResizeTool\",\"attributes\":{\"plot\":{\"id\":\"bc29ef9b-2f2d-4b2f-cb53-04cf6e1c59e6\",\"type\":\"Plot\",\"subtype\":\"Figure\"},\"id\":\"2147c563-08ee-4b19-cbe4-a707e5e3a7ac\",\"tags\":[],\"doc\":null}},{\"id\":\"20c3458f-c893-472d-c7ea-b516d8f3887c\",\"type\":\"ResetTool\",\"attributes\":{\"plot\":{\"id\":\"bc29ef9b-2f2d-4b2f-cb53-04cf6e1c59e6\",\"type\":\"Plot\",\"subtype\":\"Figure\"},\"id\":\"20c3458f-c893-472d-c7ea-b516d8f3887c\",\"tags\":[],\"doc\":null}},{\"id\":\"e20071fd-22f1-4eeb-cea5-b26656d5198f\",\"type\":\"Legend\",\"attributes\":{\"plot\":{\"id\":\"bc29ef9b-2f2d-4b2f-cb53-04cf6e1c59e6\",\"type\":\"Plot\",\"subtype\":\"Figure\"},\"legends\":[[\"loss\",[{\"type\":\"GlyphRenderer\",\"id\":\"d7db4a74-5111-4e5b-ce4e-9d47816431ca\"}]]],\"id\":\"e20071fd-22f1-4eeb-cea5-b26656d5198f\",\"doc\":null,\"tags\":[]}},{\"id\":\"bc29ef9b-2f2d-4b2f-cb53-04cf6e1c59e6\",\"type\":\"Plot\",\"attributes\":{\"x_range\":{\"type\":\"DataRange1d\",\"id\":\"59e96a8e-fbd0-4c61-cc41-36c64cd1b7fe\"},\"tool_events\":{\"type\":\"ToolEvents\",\"id\":\"d9429efd-3f36-4672-c672-a6a995104dcd\"},\"below\":[{\"type\":\"LinearAxis\",\"id\":\"f7da0849-091d-4e82-ce77-0410d8b4e4f1\"}],\"renderers\":[{\"type\":\"GlyphRenderer\",\"id\":\"d7db4a74-5111-4e5b-ce4e-9d47816431ca\"},{\"type\":\"LinearAxis\",\"id\":\"f7da0849-091d-4e82-ce77-0410d8b4e4f1\"},{\"type\":\"Grid\",\"id\":\"b9ad490e-9ff6-4745-c7e0-67605ce7dc13\"},{\"type\":\"LinearAxis\",\"id\":\"e006cdfb-80eb-4595-c560-40766cacb47a\"},{\"type\":\"Grid\",\"id\":\"35ac0dcd-c2d7-47e9-c7c6-aad71a405360\"},{\"type\":\"Legend\",\"id\":\"e20071fd-22f1-4eeb-cea5-b26656d5198f\"}],\"above\":[],\"tools\":[{\"type\":\"PanTool\",\"id\":\"8098eaa1-a02d-4540-c5cf-8211b6989969\"},{\"type\":\"WheelZoomTool\",\"id\":\"ffc75395-8da6-4811-c885-f20da365339f\"},{\"type\":\"BoxZoomTool\",\"id\":\"e3e101e3-7e9b-462a-c66e-db0231d9963e\"},{\"type\":\"PreviewSaveTool\",\"id\":\"bac18925-f8de-4306-c35a-806b09282122\"},{\"type\":\"ResizeTool\",\"id\":\"2147c563-08ee-4b19-cbe4-a707e5e3a7ac\"},{\"type\":\"ResetTool\",\"id\":\"20c3458f-c893-472d-c7ea-b516d8f3887c\"}],\"doc\":null,\"right\":[],\"title\":\"Train Loss\",\"extra_x_ranges\":{},\"left\":[{\"type\":\"LinearAxis\",\"id\":\"e006cdfb-80eb-4595-c560-40766cacb47a\"}],\"y_range\":{\"type\":\"DataRange1d\",\"id\":\"99fddbbf-c947-4d98-cd9d-cfde08543b2e\"},\"id\":\"bc29ef9b-2f2d-4b2f-cb53-04cf6e1c59e6\",\"extra_y_ranges\":{},\"tags\":[]}}];\n",
       "      Bokeh.load_models(all_models);\n",
       "      var model = Bokeh.Collections(modeltype).get(modelid);\n",
       "      $(\"#fbf9de6c-fa39-4c96-cc1b-5c1c04618cb6\").html(''); // clear any previous plot in window_id\n",
       "      var view = new model.default_view({model: model, el: \"#fbf9de6c-fa39-4c96-cc1b-5c1c04618cb6\"});\n",
       "  });\n",
       "    }\n",
       "});\n",
       "</script>\n",
       "<div class=\"plotdiv\" id=\"fbf9de6c-fa39-4c96-cc1b-5c1c04618cb6\"></div>\n"
      ]
     },
     "metadata": {},
     "output_type": "display_data"
    },
    {
     "data": {
      "text/html": [
       "<script type=\"text/javascript\">\n",
       "$(function() {\n",
       "    if (typeof (window._bokeh_onload_callbacks) === \"undefined\"){\n",
       "  window._bokeh_onload_callbacks = [];\n",
       "    }\n",
       "    function load_lib(url, callback){\n",
       "  window._bokeh_onload_callbacks.push(callback);\n",
       "  if (window._bokeh_is_loading){\n",
       "      console.log(\"Bokeh: BokehJS is being loaded, scheduling callback at\", new Date());\n",
       "      return null;\n",
       "  }\n",
       "  console.log(\"Bokeh: BokehJS not loaded, scheduling load and callback at\", new Date());\n",
       "  window._bokeh_is_loading = true;\n",
       "  var s = document.createElement('script');\n",
       "  s.src = url;\n",
       "  s.async = true;\n",
       "  s.onreadystatechange = s.onload = function(){\n",
       "      Bokeh.embed.inject_css(\"https://cdn.pydata.org/bokeh-0.7.0.min.css\");\n",
       "      window._bokeh_onload_callbacks.forEach(function(callback){callback()});\n",
       "  };\n",
       "  s.onerror = function(){\n",
       "      console.warn(\"failed to load library \" + url);\n",
       "  };\n",
       "  document.getElementsByTagName(\"head\")[0].appendChild(s);\n",
       "    }\n",
       "\n",
       "    bokehjs_url = \"https://cdn.pydata.org/bokeh-0.7.0.min.js\"\n",
       "\n",
       "    var elt = document.getElementById(\"003765cd-5c32-43f4-c335-04e396ab005d\");\n",
       "    if(elt==null) {\n",
       "  console.log(\"Bokeh: ERROR: autoload.js configured with elementid '003765cd-5c32-43f4-c335-04e396ab005d'\"\n",
       "        + \"but no matching script tag was found. \")\n",
       "  return false;\n",
       "    }\n",
       "\n",
       "    if(typeof(Bokeh) !== \"undefined\") {\n",
       "  console.log(\"Bokeh: BokehJS loaded, going straight to plotting\");\n",
       "  var modelid = \"fba2a041-142b-406c-c0c9-0be5453da036\";\n",
       "  var modeltype = \"Plot\";\n",
       "  var all_models = [{\"id\":\"f6a70f69-ea55-4bf5-cb0b-73fd74787678\",\"type\":\"ColumnDataSource\",\"attributes\":{\"data\":{\"y\":[0.25,0.25,0.2625,0.5625,0.715,0.76,0.825,0.7925,0.8,0.81,0.8125,0.8225,0.8325,0.8425,0.85,0.855,0.86,0.865,0.875,0.88,0.8925,0.905,0.9125,0.915,0.92,0.925,0.93,0.93,0.93,0.93,0.93,0.935,0.935,0.9325,0.9325,0.935,0.935,0.935,0.9325,0.9325,0.9325,0.935,0.935,0.935,0.935,0.9375,0.935,0.9375,0.9375,0.9375,0.9375,0.9375,0.9375,0.9375,0.9375,0.9375,0.94,0.9425,0.945,0.9475,0.9475,0.9475,0.95,0.95,0.95,0.95,0.9525,0.9525,0.9525,0.9525,0.9525,0.9525,0.9525,0.9525,0.955,0.955,0.955,0.9575,0.9575,0.96,0.96,0.9625,0.9625,0.9625,0.96,0.96,0.9625,0.96,0.96,0.96,0.96,0.96,0.9625,0.9625,0.9625,0.9625,0.9625,0.9625,0.9625,0.9625,0.965,0.9625,0.965,0.965,0.9675,0.9675,0.9675,0.9675,0.9675,0.9675,0.9675,0.9675,0.9675,0.9675,0.9675,0.9675,0.9675,0.9675,0.9675,0.9675,0.9675,0.9675,0.9675,0.9675,0.9675,0.9675,0.9675,0.9675,0.97,0.9675,0.97,0.97,0.97,0.97,0.97,0.97,0.97,0.97,0.97,0.97,0.97,0.97,0.97,0.97,0.97,0.97,0.97,0.97,0.97,0.97,0.97,0.9725,0.97,0.9725,0.975,0.975,0.9725,0.975,0.9775,0.975,0.9775,0.9775,0.9775,0.9775,0.9775,0.9775,0.9775,0.9775,0.9775,0.9775,0.9775,0.9775,0.9775,0.9775,0.9775,0.9775,0.9775,0.9775,0.9775,0.9775,0.9775,0.9775,0.9775,0.9775,0.9775,0.9775,0.9775,0.9775,0.9775,0.9775,0.9775,0.9775,0.9775,0.9775,0.9775,0.9775,0.9775,0.9775,0.9775,0.9775],\"x\":[1,2,3,4,5,6,7,8,9,10,11,12,13,14,15,16,17,18,19,20,21,22,23,24,25,26,27,28,29,30,31,32,33,34,35,36,37,38,39,40,41,42,43,44,45,46,47,48,49,50,51,52,53,54,55,56,57,58,59,60,61,62,63,64,65,66,67,68,69,70,71,72,73,74,75,76,77,78,79,80,81,82,83,84,85,86,87,88,89,90,91,92,93,94,95,96,97,98,99,100,101,102,103,104,105,106,107,108,109,110,111,112,113,114,115,116,117,118,119,120,121,122,123,124,125,126,127,128,129,130,131,132,133,134,135,136,137,138,139,140,141,142,143,144,145,146,147,148,149,150,151,152,153,154,155,156,157,158,159,160,161,162,163,164,165,166,167,168,169,170,171,172,173,174,175,176,177,178,179,180,181,182,183,184,185,186,187,188,189,190,191,192,193,194,195,196,197,198,199,200]},\"column_names\":[\"y\",\"x\"],\"cont_ranges\":{},\"discrete_ranges\":{},\"selected\":[],\"id\":\"f6a70f69-ea55-4bf5-cb0b-73fd74787678\",\"doc\":null,\"tags\":[]}},{\"id\":\"b9418c92-e6fc-4e00-cedc-9ef170f77adb\",\"type\":\"Line\",\"attributes\":{\"fill_alpha\":{\"units\":\"data\",\"value\":0.2},\"line_alpha\":{\"units\":\"data\",\"value\":1},\"doc\":null,\"size\":{\"units\":\"screen\",\"value\":10},\"fill_color\":{\"value\":\"blue\"},\"line_color\":{\"value\":\"blue\"},\"x\":{\"units\":\"data\",\"field\":\"x\"},\"id\":\"b9418c92-e6fc-4e00-cedc-9ef170f77adb\",\"y\":{\"units\":\"data\",\"field\":\"y\"},\"tags\":[]}},{\"id\":\"d6350dd5-9452-45e7-c55d-a445e2af7b9c\",\"type\":\"Line\",\"attributes\":{\"fill_alpha\":{\"units\":\"data\",\"value\":0.2},\"line_alpha\":{\"units\":\"data\",\"value\":1},\"doc\":null,\"size\":{\"units\":\"screen\",\"value\":10},\"fill_color\":{\"value\":\"blue\"},\"line_color\":{\"value\":\"blue\"},\"x\":{\"units\":\"data\",\"field\":\"x\"},\"id\":\"d6350dd5-9452-45e7-c55d-a445e2af7b9c\",\"y\":{\"units\":\"data\",\"field\":\"y\"},\"tags\":[]}},{\"id\":\"d38c3022-048d-4649-c637-ad1c7274e365\",\"type\":\"GlyphRenderer\",\"attributes\":{\"name\":null,\"nonselection_glyph\":{\"type\":\"Line\",\"id\":\"d6350dd5-9452-45e7-c55d-a445e2af7b9c\"},\"doc\":null,\"server_data_source\":null,\"data_source\":{\"type\":\"ColumnDataSource\",\"id\":\"f6a70f69-ea55-4bf5-cb0b-73fd74787678\"},\"glyph\":{\"type\":\"Line\",\"id\":\"b9418c92-e6fc-4e00-cedc-9ef170f77adb\"},\"selection_glyph\":null,\"id\":\"d38c3022-048d-4649-c637-ad1c7274e365\",\"tags\":[]}},{\"id\":\"6ed035db-b29e-41ca-c190-5b310af57b5b\",\"type\":\"DataRange1d\",\"attributes\":{\"sources\":[{\"columns\":[\"x\"],\"source\":{\"type\":\"ColumnDataSource\",\"id\":\"f6a70f69-ea55-4bf5-cb0b-73fd74787678\"}}],\"id\":\"6ed035db-b29e-41ca-c190-5b310af57b5b\",\"tags\":[],\"doc\":null}},{\"id\":\"eeedc0fc-5865-4b2f-cb6f-af87665e0fb5\",\"type\":\"DataRange1d\",\"attributes\":{\"sources\":[{\"columns\":[\"y\"],\"source\":{\"type\":\"ColumnDataSource\",\"id\":\"f6a70f69-ea55-4bf5-cb0b-73fd74787678\"}}],\"id\":\"eeedc0fc-5865-4b2f-cb6f-af87665e0fb5\",\"tags\":[],\"doc\":null}},{\"id\":\"02912a3a-0461-4132-c1e7-7ae6f3a2823c\",\"type\":\"ToolEvents\",\"attributes\":{\"tags\":[],\"id\":\"02912a3a-0461-4132-c1e7-7ae6f3a2823c\",\"geometries\":[],\"doc\":null}},{\"id\":\"00bfd2e2-5e1b-4253-c240-c7c9c7ff2ce8\",\"type\":\"BasicTickFormatter\",\"attributes\":{\"id\":\"00bfd2e2-5e1b-4253-c240-c7c9c7ff2ce8\",\"tags\":[],\"doc\":null}},{\"id\":\"05c565dc-093f-4e26-ce8f-75510b139f87\",\"type\":\"BasicTicker\",\"attributes\":{\"num_minor_ticks\":5,\"id\":\"05c565dc-093f-4e26-ce8f-75510b139f87\",\"tags\":[],\"doc\":null}},{\"id\":\"f892b728-56d3-4b21-cb2e-dc8a55a3ff17\",\"type\":\"LinearAxis\",\"attributes\":{\"formatter\":{\"type\":\"BasicTickFormatter\",\"id\":\"00bfd2e2-5e1b-4253-c240-c7c9c7ff2ce8\"},\"ticker\":{\"type\":\"BasicTicker\",\"id\":\"05c565dc-093f-4e26-ce8f-75510b139f87\"},\"plot\":{\"id\":\"fba2a041-142b-406c-c0c9-0be5453da036\",\"type\":\"Plot\",\"subtype\":\"Figure\"},\"axis_label\":null,\"id\":\"f892b728-56d3-4b21-cb2e-dc8a55a3ff17\",\"doc\":null,\"tags\":[]}},{\"id\":\"5cb527e6-8ee8-44e2-c412-a670de6ec1c3\",\"type\":\"Grid\",\"attributes\":{\"dimension\":0,\"plot\":{\"id\":\"fba2a041-142b-406c-c0c9-0be5453da036\",\"type\":\"Plot\",\"subtype\":\"Figure\"},\"ticker\":{\"type\":\"BasicTicker\",\"id\":\"05c565dc-093f-4e26-ce8f-75510b139f87\"},\"id\":\"5cb527e6-8ee8-44e2-c412-a670de6ec1c3\",\"doc\":null,\"tags\":[]}},{\"id\":\"14b6b789-2ef6-4e91-cee8-89e4208dd193\",\"type\":\"BasicTickFormatter\",\"attributes\":{\"id\":\"14b6b789-2ef6-4e91-cee8-89e4208dd193\",\"tags\":[],\"doc\":null}},{\"id\":\"a89ac8ac-f663-481e-c84f-8995c805ca40\",\"type\":\"BasicTicker\",\"attributes\":{\"num_minor_ticks\":5,\"id\":\"a89ac8ac-f663-481e-c84f-8995c805ca40\",\"tags\":[],\"doc\":null}},{\"id\":\"f0a80c1d-49fd-4bbc-cbdc-d9194da2a893\",\"type\":\"LinearAxis\",\"attributes\":{\"formatter\":{\"type\":\"BasicTickFormatter\",\"id\":\"14b6b789-2ef6-4e91-cee8-89e4208dd193\"},\"ticker\":{\"type\":\"BasicTicker\",\"id\":\"a89ac8ac-f663-481e-c84f-8995c805ca40\"},\"plot\":{\"id\":\"fba2a041-142b-406c-c0c9-0be5453da036\",\"type\":\"Plot\",\"subtype\":\"Figure\"},\"axis_label\":null,\"id\":\"f0a80c1d-49fd-4bbc-cbdc-d9194da2a893\",\"doc\":null,\"tags\":[]}},{\"id\":\"c5083ecd-8591-487d-c849-2481b455152b\",\"type\":\"Grid\",\"attributes\":{\"dimension\":1,\"plot\":{\"id\":\"fba2a041-142b-406c-c0c9-0be5453da036\",\"type\":\"Plot\",\"subtype\":\"Figure\"},\"ticker\":{\"type\":\"BasicTicker\",\"id\":\"a89ac8ac-f663-481e-c84f-8995c805ca40\"},\"id\":\"c5083ecd-8591-487d-c849-2481b455152b\",\"doc\":null,\"tags\":[]}},{\"id\":\"e68dd2f2-4c55-43bc-c3ec-3046d30a1d3d\",\"type\":\"PanTool\",\"attributes\":{\"plot\":{\"id\":\"fba2a041-142b-406c-c0c9-0be5453da036\",\"type\":\"Plot\",\"subtype\":\"Figure\"},\"dimensions\":[\"width\",\"height\"],\"id\":\"e68dd2f2-4c55-43bc-c3ec-3046d30a1d3d\",\"doc\":null,\"tags\":[]}},{\"id\":\"39f2a439-5012-4c52-cca5-d24eae95c4ab\",\"type\":\"WheelZoomTool\",\"attributes\":{\"plot\":{\"id\":\"fba2a041-142b-406c-c0c9-0be5453da036\",\"type\":\"Plot\",\"subtype\":\"Figure\"},\"dimensions\":[\"width\",\"height\"],\"id\":\"39f2a439-5012-4c52-cca5-d24eae95c4ab\",\"doc\":null,\"tags\":[]}},{\"id\":\"c3ed202a-2f24-43bf-c37c-3d3647d248d7\",\"type\":\"BoxZoomTool\",\"attributes\":{\"plot\":{\"id\":\"fba2a041-142b-406c-c0c9-0be5453da036\",\"type\":\"Plot\",\"subtype\":\"Figure\"},\"id\":\"c3ed202a-2f24-43bf-c37c-3d3647d248d7\",\"tags\":[],\"doc\":null}},{\"id\":\"5d814c77-c1f3-4578-c5ae-937f6fd00400\",\"type\":\"PreviewSaveTool\",\"attributes\":{\"plot\":{\"id\":\"fba2a041-142b-406c-c0c9-0be5453da036\",\"type\":\"Plot\",\"subtype\":\"Figure\"},\"id\":\"5d814c77-c1f3-4578-c5ae-937f6fd00400\",\"tags\":[],\"doc\":null}},{\"id\":\"9f1f57ca-c242-4e6d-ce83-4beb8aeeb92a\",\"type\":\"ResizeTool\",\"attributes\":{\"plot\":{\"id\":\"fba2a041-142b-406c-c0c9-0be5453da036\",\"type\":\"Plot\",\"subtype\":\"Figure\"},\"id\":\"9f1f57ca-c242-4e6d-ce83-4beb8aeeb92a\",\"tags\":[],\"doc\":null}},{\"id\":\"b460de3f-07d7-4af5-cac5-4a8fe282382f\",\"type\":\"ResetTool\",\"attributes\":{\"plot\":{\"id\":\"fba2a041-142b-406c-c0c9-0be5453da036\",\"type\":\"Plot\",\"subtype\":\"Figure\"},\"id\":\"b460de3f-07d7-4af5-cac5-4a8fe282382f\",\"tags\":[],\"doc\":null}},{\"id\":\"1227d2df-af85-4d7e-cd2c-c19ae7669cc8\",\"type\":\"Legend\",\"attributes\":{\"plot\":{\"id\":\"fba2a041-142b-406c-c0c9-0be5453da036\",\"type\":\"Plot\",\"subtype\":\"Figure\"},\"legends\":[[\"train_acc\",[{\"type\":\"GlyphRenderer\",\"id\":\"d38c3022-048d-4649-c637-ad1c7274e365\"}]]],\"id\":\"1227d2df-af85-4d7e-cd2c-c19ae7669cc8\",\"doc\":null,\"tags\":[]}},{\"id\":\"fba2a041-142b-406c-c0c9-0be5453da036\",\"type\":\"Plot\",\"attributes\":{\"x_range\":{\"type\":\"DataRange1d\",\"id\":\"6ed035db-b29e-41ca-c190-5b310af57b5b\"},\"tool_events\":{\"type\":\"ToolEvents\",\"id\":\"02912a3a-0461-4132-c1e7-7ae6f3a2823c\"},\"below\":[{\"type\":\"LinearAxis\",\"id\":\"f892b728-56d3-4b21-cb2e-dc8a55a3ff17\"}],\"renderers\":[{\"type\":\"GlyphRenderer\",\"id\":\"d38c3022-048d-4649-c637-ad1c7274e365\"},{\"type\":\"LinearAxis\",\"id\":\"f892b728-56d3-4b21-cb2e-dc8a55a3ff17\"},{\"type\":\"Grid\",\"id\":\"5cb527e6-8ee8-44e2-c412-a670de6ec1c3\"},{\"type\":\"LinearAxis\",\"id\":\"f0a80c1d-49fd-4bbc-cbdc-d9194da2a893\"},{\"type\":\"Grid\",\"id\":\"c5083ecd-8591-487d-c849-2481b455152b\"},{\"type\":\"Legend\",\"id\":\"1227d2df-af85-4d7e-cd2c-c19ae7669cc8\"}],\"above\":[],\"tools\":[{\"type\":\"PanTool\",\"id\":\"e68dd2f2-4c55-43bc-c3ec-3046d30a1d3d\"},{\"type\":\"WheelZoomTool\",\"id\":\"39f2a439-5012-4c52-cca5-d24eae95c4ab\"},{\"type\":\"BoxZoomTool\",\"id\":\"c3ed202a-2f24-43bf-c37c-3d3647d248d7\"},{\"type\":\"PreviewSaveTool\",\"id\":\"5d814c77-c1f3-4578-c5ae-937f6fd00400\"},{\"type\":\"ResizeTool\",\"id\":\"9f1f57ca-c242-4e6d-ce83-4beb8aeeb92a\"},{\"type\":\"ResetTool\",\"id\":\"b460de3f-07d7-4af5-cac5-4a8fe282382f\"}],\"doc\":null,\"right\":[],\"title\":\"Accuracy\",\"extra_x_ranges\":{},\"left\":[{\"type\":\"LinearAxis\",\"id\":\"f0a80c1d-49fd-4bbc-cbdc-d9194da2a893\"}],\"y_range\":{\"type\":\"DataRange1d\",\"id\":\"eeedc0fc-5865-4b2f-cb6f-af87665e0fb5\"},\"id\":\"fba2a041-142b-406c-c0c9-0be5453da036\",\"extra_y_ranges\":{},\"tags\":[]}}];\n",
       "  Bokeh.load_models(all_models);\n",
       "  var model = Bokeh.Collections(modeltype).get(modelid);\n",
       "  $(\"#003765cd-5c32-43f4-c335-04e396ab005d\").html(''); // clear any previous plot in window_id\n",
       "  var view = new model.default_view({model: model, el: \"#003765cd-5c32-43f4-c335-04e396ab005d\"});\n",
       "    } else {\n",
       "  load_lib(bokehjs_url, function() {\n",
       "      console.log(\"Bokeh: BokehJS plotting callback run at\", new Date())\n",
       "      var modelid = \"fba2a041-142b-406c-c0c9-0be5453da036\";\n",
       "      var modeltype = \"Plot\";\n",
       "      var all_models = [{\"id\":\"f6a70f69-ea55-4bf5-cb0b-73fd74787678\",\"type\":\"ColumnDataSource\",\"attributes\":{\"data\":{\"y\":[0.25,0.25,0.2625,0.5625,0.715,0.76,0.825,0.7925,0.8,0.81,0.8125,0.8225,0.8325,0.8425,0.85,0.855,0.86,0.865,0.875,0.88,0.8925,0.905,0.9125,0.915,0.92,0.925,0.93,0.93,0.93,0.93,0.93,0.935,0.935,0.9325,0.9325,0.935,0.935,0.935,0.9325,0.9325,0.9325,0.935,0.935,0.935,0.935,0.9375,0.935,0.9375,0.9375,0.9375,0.9375,0.9375,0.9375,0.9375,0.9375,0.9375,0.94,0.9425,0.945,0.9475,0.9475,0.9475,0.95,0.95,0.95,0.95,0.9525,0.9525,0.9525,0.9525,0.9525,0.9525,0.9525,0.9525,0.955,0.955,0.955,0.9575,0.9575,0.96,0.96,0.9625,0.9625,0.9625,0.96,0.96,0.9625,0.96,0.96,0.96,0.96,0.96,0.9625,0.9625,0.9625,0.9625,0.9625,0.9625,0.9625,0.9625,0.965,0.9625,0.965,0.965,0.9675,0.9675,0.9675,0.9675,0.9675,0.9675,0.9675,0.9675,0.9675,0.9675,0.9675,0.9675,0.9675,0.9675,0.9675,0.9675,0.9675,0.9675,0.9675,0.9675,0.9675,0.9675,0.9675,0.9675,0.97,0.9675,0.97,0.97,0.97,0.97,0.97,0.97,0.97,0.97,0.97,0.97,0.97,0.97,0.97,0.97,0.97,0.97,0.97,0.97,0.97,0.97,0.97,0.9725,0.97,0.9725,0.975,0.975,0.9725,0.975,0.9775,0.975,0.9775,0.9775,0.9775,0.9775,0.9775,0.9775,0.9775,0.9775,0.9775,0.9775,0.9775,0.9775,0.9775,0.9775,0.9775,0.9775,0.9775,0.9775,0.9775,0.9775,0.9775,0.9775,0.9775,0.9775,0.9775,0.9775,0.9775,0.9775,0.9775,0.9775,0.9775,0.9775,0.9775,0.9775,0.9775,0.9775,0.9775,0.9775,0.9775,0.9775],\"x\":[1,2,3,4,5,6,7,8,9,10,11,12,13,14,15,16,17,18,19,20,21,22,23,24,25,26,27,28,29,30,31,32,33,34,35,36,37,38,39,40,41,42,43,44,45,46,47,48,49,50,51,52,53,54,55,56,57,58,59,60,61,62,63,64,65,66,67,68,69,70,71,72,73,74,75,76,77,78,79,80,81,82,83,84,85,86,87,88,89,90,91,92,93,94,95,96,97,98,99,100,101,102,103,104,105,106,107,108,109,110,111,112,113,114,115,116,117,118,119,120,121,122,123,124,125,126,127,128,129,130,131,132,133,134,135,136,137,138,139,140,141,142,143,144,145,146,147,148,149,150,151,152,153,154,155,156,157,158,159,160,161,162,163,164,165,166,167,168,169,170,171,172,173,174,175,176,177,178,179,180,181,182,183,184,185,186,187,188,189,190,191,192,193,194,195,196,197,198,199,200]},\"column_names\":[\"y\",\"x\"],\"cont_ranges\":{},\"discrete_ranges\":{},\"selected\":[],\"id\":\"f6a70f69-ea55-4bf5-cb0b-73fd74787678\",\"doc\":null,\"tags\":[]}},{\"id\":\"b9418c92-e6fc-4e00-cedc-9ef170f77adb\",\"type\":\"Line\",\"attributes\":{\"fill_alpha\":{\"units\":\"data\",\"value\":0.2},\"line_alpha\":{\"units\":\"data\",\"value\":1},\"doc\":null,\"size\":{\"units\":\"screen\",\"value\":10},\"fill_color\":{\"value\":\"blue\"},\"line_color\":{\"value\":\"blue\"},\"x\":{\"units\":\"data\",\"field\":\"x\"},\"id\":\"b9418c92-e6fc-4e00-cedc-9ef170f77adb\",\"y\":{\"units\":\"data\",\"field\":\"y\"},\"tags\":[]}},{\"id\":\"d6350dd5-9452-45e7-c55d-a445e2af7b9c\",\"type\":\"Line\",\"attributes\":{\"fill_alpha\":{\"units\":\"data\",\"value\":0.2},\"line_alpha\":{\"units\":\"data\",\"value\":1},\"doc\":null,\"size\":{\"units\":\"screen\",\"value\":10},\"fill_color\":{\"value\":\"blue\"},\"line_color\":{\"value\":\"blue\"},\"x\":{\"units\":\"data\",\"field\":\"x\"},\"id\":\"d6350dd5-9452-45e7-c55d-a445e2af7b9c\",\"y\":{\"units\":\"data\",\"field\":\"y\"},\"tags\":[]}},{\"id\":\"d38c3022-048d-4649-c637-ad1c7274e365\",\"type\":\"GlyphRenderer\",\"attributes\":{\"name\":null,\"nonselection_glyph\":{\"type\":\"Line\",\"id\":\"d6350dd5-9452-45e7-c55d-a445e2af7b9c\"},\"doc\":null,\"server_data_source\":null,\"data_source\":{\"type\":\"ColumnDataSource\",\"id\":\"f6a70f69-ea55-4bf5-cb0b-73fd74787678\"},\"glyph\":{\"type\":\"Line\",\"id\":\"b9418c92-e6fc-4e00-cedc-9ef170f77adb\"},\"selection_glyph\":null,\"id\":\"d38c3022-048d-4649-c637-ad1c7274e365\",\"tags\":[]}},{\"id\":\"6ed035db-b29e-41ca-c190-5b310af57b5b\",\"type\":\"DataRange1d\",\"attributes\":{\"sources\":[{\"columns\":[\"x\"],\"source\":{\"type\":\"ColumnDataSource\",\"id\":\"f6a70f69-ea55-4bf5-cb0b-73fd74787678\"}}],\"id\":\"6ed035db-b29e-41ca-c190-5b310af57b5b\",\"tags\":[],\"doc\":null}},{\"id\":\"eeedc0fc-5865-4b2f-cb6f-af87665e0fb5\",\"type\":\"DataRange1d\",\"attributes\":{\"sources\":[{\"columns\":[\"y\"],\"source\":{\"type\":\"ColumnDataSource\",\"id\":\"f6a70f69-ea55-4bf5-cb0b-73fd74787678\"}}],\"id\":\"eeedc0fc-5865-4b2f-cb6f-af87665e0fb5\",\"tags\":[],\"doc\":null}},{\"id\":\"02912a3a-0461-4132-c1e7-7ae6f3a2823c\",\"type\":\"ToolEvents\",\"attributes\":{\"tags\":[],\"id\":\"02912a3a-0461-4132-c1e7-7ae6f3a2823c\",\"geometries\":[],\"doc\":null}},{\"id\":\"00bfd2e2-5e1b-4253-c240-c7c9c7ff2ce8\",\"type\":\"BasicTickFormatter\",\"attributes\":{\"id\":\"00bfd2e2-5e1b-4253-c240-c7c9c7ff2ce8\",\"tags\":[],\"doc\":null}},{\"id\":\"05c565dc-093f-4e26-ce8f-75510b139f87\",\"type\":\"BasicTicker\",\"attributes\":{\"num_minor_ticks\":5,\"id\":\"05c565dc-093f-4e26-ce8f-75510b139f87\",\"tags\":[],\"doc\":null}},{\"id\":\"f892b728-56d3-4b21-cb2e-dc8a55a3ff17\",\"type\":\"LinearAxis\",\"attributes\":{\"formatter\":{\"type\":\"BasicTickFormatter\",\"id\":\"00bfd2e2-5e1b-4253-c240-c7c9c7ff2ce8\"},\"ticker\":{\"type\":\"BasicTicker\",\"id\":\"05c565dc-093f-4e26-ce8f-75510b139f87\"},\"plot\":{\"id\":\"fba2a041-142b-406c-c0c9-0be5453da036\",\"type\":\"Plot\",\"subtype\":\"Figure\"},\"axis_label\":null,\"id\":\"f892b728-56d3-4b21-cb2e-dc8a55a3ff17\",\"doc\":null,\"tags\":[]}},{\"id\":\"5cb527e6-8ee8-44e2-c412-a670de6ec1c3\",\"type\":\"Grid\",\"attributes\":{\"dimension\":0,\"plot\":{\"id\":\"fba2a041-142b-406c-c0c9-0be5453da036\",\"type\":\"Plot\",\"subtype\":\"Figure\"},\"ticker\":{\"type\":\"BasicTicker\",\"id\":\"05c565dc-093f-4e26-ce8f-75510b139f87\"},\"id\":\"5cb527e6-8ee8-44e2-c412-a670de6ec1c3\",\"doc\":null,\"tags\":[]}},{\"id\":\"14b6b789-2ef6-4e91-cee8-89e4208dd193\",\"type\":\"BasicTickFormatter\",\"attributes\":{\"id\":\"14b6b789-2ef6-4e91-cee8-89e4208dd193\",\"tags\":[],\"doc\":null}},{\"id\":\"a89ac8ac-f663-481e-c84f-8995c805ca40\",\"type\":\"BasicTicker\",\"attributes\":{\"num_minor_ticks\":5,\"id\":\"a89ac8ac-f663-481e-c84f-8995c805ca40\",\"tags\":[],\"doc\":null}},{\"id\":\"f0a80c1d-49fd-4bbc-cbdc-d9194da2a893\",\"type\":\"LinearAxis\",\"attributes\":{\"formatter\":{\"type\":\"BasicTickFormatter\",\"id\":\"14b6b789-2ef6-4e91-cee8-89e4208dd193\"},\"ticker\":{\"type\":\"BasicTicker\",\"id\":\"a89ac8ac-f663-481e-c84f-8995c805ca40\"},\"plot\":{\"id\":\"fba2a041-142b-406c-c0c9-0be5453da036\",\"type\":\"Plot\",\"subtype\":\"Figure\"},\"axis_label\":null,\"id\":\"f0a80c1d-49fd-4bbc-cbdc-d9194da2a893\",\"doc\":null,\"tags\":[]}},{\"id\":\"c5083ecd-8591-487d-c849-2481b455152b\",\"type\":\"Grid\",\"attributes\":{\"dimension\":1,\"plot\":{\"id\":\"fba2a041-142b-406c-c0c9-0be5453da036\",\"type\":\"Plot\",\"subtype\":\"Figure\"},\"ticker\":{\"type\":\"BasicTicker\",\"id\":\"a89ac8ac-f663-481e-c84f-8995c805ca40\"},\"id\":\"c5083ecd-8591-487d-c849-2481b455152b\",\"doc\":null,\"tags\":[]}},{\"id\":\"e68dd2f2-4c55-43bc-c3ec-3046d30a1d3d\",\"type\":\"PanTool\",\"attributes\":{\"plot\":{\"id\":\"fba2a041-142b-406c-c0c9-0be5453da036\",\"type\":\"Plot\",\"subtype\":\"Figure\"},\"dimensions\":[\"width\",\"height\"],\"id\":\"e68dd2f2-4c55-43bc-c3ec-3046d30a1d3d\",\"doc\":null,\"tags\":[]}},{\"id\":\"39f2a439-5012-4c52-cca5-d24eae95c4ab\",\"type\":\"WheelZoomTool\",\"attributes\":{\"plot\":{\"id\":\"fba2a041-142b-406c-c0c9-0be5453da036\",\"type\":\"Plot\",\"subtype\":\"Figure\"},\"dimensions\":[\"width\",\"height\"],\"id\":\"39f2a439-5012-4c52-cca5-d24eae95c4ab\",\"doc\":null,\"tags\":[]}},{\"id\":\"c3ed202a-2f24-43bf-c37c-3d3647d248d7\",\"type\":\"BoxZoomTool\",\"attributes\":{\"plot\":{\"id\":\"fba2a041-142b-406c-c0c9-0be5453da036\",\"type\":\"Plot\",\"subtype\":\"Figure\"},\"id\":\"c3ed202a-2f24-43bf-c37c-3d3647d248d7\",\"tags\":[],\"doc\":null}},{\"id\":\"5d814c77-c1f3-4578-c5ae-937f6fd00400\",\"type\":\"PreviewSaveTool\",\"attributes\":{\"plot\":{\"id\":\"fba2a041-142b-406c-c0c9-0be5453da036\",\"type\":\"Plot\",\"subtype\":\"Figure\"},\"id\":\"5d814c77-c1f3-4578-c5ae-937f6fd00400\",\"tags\":[],\"doc\":null}},{\"id\":\"9f1f57ca-c242-4e6d-ce83-4beb8aeeb92a\",\"type\":\"ResizeTool\",\"attributes\":{\"plot\":{\"id\":\"fba2a041-142b-406c-c0c9-0be5453da036\",\"type\":\"Plot\",\"subtype\":\"Figure\"},\"id\":\"9f1f57ca-c242-4e6d-ce83-4beb8aeeb92a\",\"tags\":[],\"doc\":null}},{\"id\":\"b460de3f-07d7-4af5-cac5-4a8fe282382f\",\"type\":\"ResetTool\",\"attributes\":{\"plot\":{\"id\":\"fba2a041-142b-406c-c0c9-0be5453da036\",\"type\":\"Plot\",\"subtype\":\"Figure\"},\"id\":\"b460de3f-07d7-4af5-cac5-4a8fe282382f\",\"tags\":[],\"doc\":null}},{\"id\":\"1227d2df-af85-4d7e-cd2c-c19ae7669cc8\",\"type\":\"Legend\",\"attributes\":{\"plot\":{\"id\":\"fba2a041-142b-406c-c0c9-0be5453da036\",\"type\":\"Plot\",\"subtype\":\"Figure\"},\"legends\":[[\"train_acc\",[{\"type\":\"GlyphRenderer\",\"id\":\"d38c3022-048d-4649-c637-ad1c7274e365\"}]]],\"id\":\"1227d2df-af85-4d7e-cd2c-c19ae7669cc8\",\"doc\":null,\"tags\":[]}},{\"id\":\"fba2a041-142b-406c-c0c9-0be5453da036\",\"type\":\"Plot\",\"attributes\":{\"x_range\":{\"type\":\"DataRange1d\",\"id\":\"6ed035db-b29e-41ca-c190-5b310af57b5b\"},\"tool_events\":{\"type\":\"ToolEvents\",\"id\":\"02912a3a-0461-4132-c1e7-7ae6f3a2823c\"},\"below\":[{\"type\":\"LinearAxis\",\"id\":\"f892b728-56d3-4b21-cb2e-dc8a55a3ff17\"}],\"renderers\":[{\"type\":\"GlyphRenderer\",\"id\":\"d38c3022-048d-4649-c637-ad1c7274e365\"},{\"type\":\"LinearAxis\",\"id\":\"f892b728-56d3-4b21-cb2e-dc8a55a3ff17\"},{\"type\":\"Grid\",\"id\":\"5cb527e6-8ee8-44e2-c412-a670de6ec1c3\"},{\"type\":\"LinearAxis\",\"id\":\"f0a80c1d-49fd-4bbc-cbdc-d9194da2a893\"},{\"type\":\"Grid\",\"id\":\"c5083ecd-8591-487d-c849-2481b455152b\"},{\"type\":\"Legend\",\"id\":\"1227d2df-af85-4d7e-cd2c-c19ae7669cc8\"}],\"above\":[],\"tools\":[{\"type\":\"PanTool\",\"id\":\"e68dd2f2-4c55-43bc-c3ec-3046d30a1d3d\"},{\"type\":\"WheelZoomTool\",\"id\":\"39f2a439-5012-4c52-cca5-d24eae95c4ab\"},{\"type\":\"BoxZoomTool\",\"id\":\"c3ed202a-2f24-43bf-c37c-3d3647d248d7\"},{\"type\":\"PreviewSaveTool\",\"id\":\"5d814c77-c1f3-4578-c5ae-937f6fd00400\"},{\"type\":\"ResizeTool\",\"id\":\"9f1f57ca-c242-4e6d-ce83-4beb8aeeb92a\"},{\"type\":\"ResetTool\",\"id\":\"b460de3f-07d7-4af5-cac5-4a8fe282382f\"}],\"doc\":null,\"right\":[],\"title\":\"Accuracy\",\"extra_x_ranges\":{},\"left\":[{\"type\":\"LinearAxis\",\"id\":\"f0a80c1d-49fd-4bbc-cbdc-d9194da2a893\"}],\"y_range\":{\"type\":\"DataRange1d\",\"id\":\"eeedc0fc-5865-4b2f-cb6f-af87665e0fb5\"},\"id\":\"fba2a041-142b-406c-c0c9-0be5453da036\",\"extra_y_ranges\":{},\"tags\":[]}}];\n",
       "      Bokeh.load_models(all_models);\n",
       "      var model = Bokeh.Collections(modeltype).get(modelid);\n",
       "      $(\"#003765cd-5c32-43f4-c335-04e396ab005d\").html(''); // clear any previous plot in window_id\n",
       "      var view = new model.default_view({model: model, el: \"#003765cd-5c32-43f4-c335-04e396ab005d\"});\n",
       "  });\n",
       "    }\n",
       "});\n",
       "</script>\n",
       "<div class=\"plotdiv\" id=\"003765cd-5c32-43f4-c335-04e396ab005d\"></div>\n"
      ]
     },
     "metadata": {},
     "output_type": "display_data"
    },
    {
     "data": {
      "text/html": [
       "<script type=\"text/javascript\">\n",
       "$(function() {\n",
       "    if (typeof (window._bokeh_onload_callbacks) === \"undefined\"){\n",
       "  window._bokeh_onload_callbacks = [];\n",
       "    }\n",
       "    function load_lib(url, callback){\n",
       "  window._bokeh_onload_callbacks.push(callback);\n",
       "  if (window._bokeh_is_loading){\n",
       "      console.log(\"Bokeh: BokehJS is being loaded, scheduling callback at\", new Date());\n",
       "      return null;\n",
       "  }\n",
       "  console.log(\"Bokeh: BokehJS not loaded, scheduling load and callback at\", new Date());\n",
       "  window._bokeh_is_loading = true;\n",
       "  var s = document.createElement('script');\n",
       "  s.src = url;\n",
       "  s.async = true;\n",
       "  s.onreadystatechange = s.onload = function(){\n",
       "      Bokeh.embed.inject_css(\"https://cdn.pydata.org/bokeh-0.7.0.min.css\");\n",
       "      window._bokeh_onload_callbacks.forEach(function(callback){callback()});\n",
       "  };\n",
       "  s.onerror = function(){\n",
       "      console.warn(\"failed to load library \" + url);\n",
       "  };\n",
       "  document.getElementsByTagName(\"head\")[0].appendChild(s);\n",
       "    }\n",
       "\n",
       "    bokehjs_url = \"https://cdn.pydata.org/bokeh-0.7.0.min.js\"\n",
       "\n",
       "    var elt = document.getElementById(\"003765cd-5c32-43f4-c335-04e396ab005d\");\n",
       "    if(elt==null) {\n",
       "  console.log(\"Bokeh: ERROR: autoload.js configured with elementid '003765cd-5c32-43f4-c335-04e396ab005d'\"\n",
       "        + \"but no matching script tag was found. \")\n",
       "  return false;\n",
       "    }\n",
       "\n",
       "    if(typeof(Bokeh) !== \"undefined\") {\n",
       "  console.log(\"Bokeh: BokehJS loaded, going straight to plotting\");\n",
       "  var modelid = \"430b3412-6160-45e0-c544-afa10d677d4c\";\n",
       "  var modeltype = \"Plot\";\n",
       "  var all_models = [{\"id\":\"88ad14e3-7a37-4ee1-ce47-ca1e9f9d5b56\",\"type\":\"ColumnDataSource\",\"attributes\":{\"data\":{\"y\":[0.25,0.25,0.2625,0.5625,0.715,0.76,0.825,0.7925,0.8,0.81,0.8125,0.8225,0.8325,0.8425,0.85,0.855,0.86,0.865,0.875,0.88,0.8925,0.905,0.9125,0.915,0.92,0.925,0.93,0.93,0.93,0.93,0.93,0.935,0.935,0.9325,0.9325,0.935,0.935,0.935,0.9325,0.9325,0.9325,0.935,0.935,0.935,0.935,0.9375,0.935,0.9375,0.9375,0.9375,0.9375,0.9375,0.9375,0.9375,0.9375,0.9375,0.94,0.9425,0.945,0.9475,0.9475,0.9475,0.95,0.95,0.95,0.95,0.9525,0.9525,0.9525,0.9525,0.9525,0.9525,0.9525,0.9525,0.955,0.955,0.955,0.9575,0.9575,0.96,0.96,0.9625,0.9625,0.9625,0.96,0.96,0.9625,0.96,0.96,0.96,0.96,0.96,0.9625,0.9625,0.9625,0.9625,0.9625,0.9625,0.9625,0.9625,0.965,0.9625,0.965,0.965,0.9675,0.9675,0.9675,0.9675,0.9675,0.9675,0.9675,0.9675,0.9675,0.9675,0.9675,0.9675,0.9675,0.9675,0.9675,0.9675,0.9675,0.9675,0.9675,0.9675,0.9675,0.9675,0.9675,0.9675,0.97,0.9675,0.97,0.97,0.97,0.97,0.97,0.97,0.97,0.97,0.97,0.97,0.97,0.97,0.97,0.97,0.97,0.97,0.97,0.97,0.97,0.97,0.97,0.9725,0.97,0.9725,0.975,0.975,0.9725,0.975,0.9775,0.975,0.9775,0.9775,0.9775,0.9775,0.9775,0.9775,0.9775,0.9775,0.9775,0.9775,0.9775,0.9775,0.9775,0.9775,0.9775,0.9775,0.9775,0.9775,0.9775,0.9775,0.9775,0.9775,0.9775,0.9775,0.9775,0.9775,0.9775,0.9775,0.9775,0.9775,0.9775,0.9775,0.9775,0.9775,0.9775,0.9775,0.9775,0.9775,0.9775,0.9775],\"x\":[1,2,3,4,5,6,7,8,9,10,11,12,13,14,15,16,17,18,19,20,21,22,23,24,25,26,27,28,29,30,31,32,33,34,35,36,37,38,39,40,41,42,43,44,45,46,47,48,49,50,51,52,53,54,55,56,57,58,59,60,61,62,63,64,65,66,67,68,69,70,71,72,73,74,75,76,77,78,79,80,81,82,83,84,85,86,87,88,89,90,91,92,93,94,95,96,97,98,99,100,101,102,103,104,105,106,107,108,109,110,111,112,113,114,115,116,117,118,119,120,121,122,123,124,125,126,127,128,129,130,131,132,133,134,135,136,137,138,139,140,141,142,143,144,145,146,147,148,149,150,151,152,153,154,155,156,157,158,159,160,161,162,163,164,165,166,167,168,169,170,171,172,173,174,175,176,177,178,179,180,181,182,183,184,185,186,187,188,189,190,191,192,193,194,195,196,197,198,199,200]},\"column_names\":[\"y\",\"x\"],\"cont_ranges\":{},\"discrete_ranges\":{},\"selected\":[],\"id\":\"88ad14e3-7a37-4ee1-ce47-ca1e9f9d5b56\",\"doc\":null,\"tags\":[]}},{\"id\":\"a8245cc8-4914-4f5a-cfc9-4c89b70bcdc7\",\"type\":\"Line\",\"attributes\":{\"fill_alpha\":{\"units\":\"data\",\"value\":0.2},\"line_alpha\":{\"units\":\"data\",\"value\":1},\"doc\":null,\"size\":{\"units\":\"screen\",\"value\":10},\"fill_color\":{\"value\":\"blue\"},\"line_color\":{\"value\":\"blue\"},\"x\":{\"units\":\"data\",\"field\":\"x\"},\"id\":\"a8245cc8-4914-4f5a-cfc9-4c89b70bcdc7\",\"y\":{\"units\":\"data\",\"field\":\"y\"},\"tags\":[]}},{\"id\":\"4a2b0906-a65d-478e-c75a-8d2c8464e4ed\",\"type\":\"Line\",\"attributes\":{\"fill_alpha\":{\"units\":\"data\",\"value\":0.2},\"line_alpha\":{\"units\":\"data\",\"value\":1},\"doc\":null,\"size\":{\"units\":\"screen\",\"value\":10},\"fill_color\":{\"value\":\"blue\"},\"line_color\":{\"value\":\"blue\"},\"x\":{\"units\":\"data\",\"field\":\"x\"},\"id\":\"4a2b0906-a65d-478e-c75a-8d2c8464e4ed\",\"y\":{\"units\":\"data\",\"field\":\"y\"},\"tags\":[]}},{\"id\":\"29d5ebd2-9fbd-42d3-c2b9-fac420214c37\",\"type\":\"GlyphRenderer\",\"attributes\":{\"name\":null,\"nonselection_glyph\":{\"type\":\"Line\",\"id\":\"4a2b0906-a65d-478e-c75a-8d2c8464e4ed\"},\"doc\":null,\"server_data_source\":null,\"data_source\":{\"type\":\"ColumnDataSource\",\"id\":\"88ad14e3-7a37-4ee1-ce47-ca1e9f9d5b56\"},\"glyph\":{\"type\":\"Line\",\"id\":\"a8245cc8-4914-4f5a-cfc9-4c89b70bcdc7\"},\"selection_glyph\":null,\"id\":\"29d5ebd2-9fbd-42d3-c2b9-fac420214c37\",\"tags\":[]}},{\"id\":\"1a1280f1-9345-4dab-cd73-75b571378a73\",\"type\":\"ColumnDataSource\",\"attributes\":{\"data\":{\"y\":[0.25,0.25,0.25,0.55,0.7,0.65,0.775,0.8,0.825,0.825,0.85,0.85,0.85,0.85,0.85,0.85,0.85,0.85,0.85,0.85,0.85,0.875,0.875,0.875,0.875,0.875,0.875,0.875,0.875,0.9,0.9,0.9,0.9,0.9,0.9,0.9,0.9,0.925,0.925,0.925,0.925,0.925,0.925,0.925,0.925,0.925,0.95,0.95,0.95,0.95,0.95,0.95,0.95,0.95,0.95,0.95,0.95,0.95,0.95,0.95,0.95,0.95,0.95,0.95,0.95,0.95,0.975,0.975,0.975,0.975,0.975,0.975,0.975,0.975,0.975,0.975,0.975,0.975,0.975,0.975,0.975,0.975,0.975,0.975,0.975,0.975,0.975,0.975,0.975,0.975,0.975,0.975,0.975,0.975,0.975,0.975,0.975,0.975,0.975,0.975,0.975,0.975,0.975,0.975,0.975,0.975,0.975,0.975,0.975,0.975,0.975,0.975,0.975,0.975,0.975,0.975,0.975,0.975,0.975,0.975,0.975,0.975,0.975,0.975,0.975,0.975,0.975,0.975,0.975,0.975,0.975,0.975,0.975,0.975,0.975,0.975,0.975,0.975,0.975,0.975,0.975,0.975,0.975,0.975,0.975,0.975,0.975,0.975,0.975,0.975,0.975,0.975,0.975,0.975,0.975,0.975,0.975,0.975,0.975,0.975,0.975,0.975,0.975,0.975,0.975,0.975,0.975,0.975,0.975,0.975,0.975,0.975,0.975,0.975,0.975,0.975,0.975,0.975,0.975,0.975,0.975,0.975,0.975,0.975,0.975,0.975,0.975,0.975,0.975,0.975,0.975,0.975,0.975,0.975,0.975,0.975,0.975,0.975,0.975,0.975],\"x\":[1,2,3,4,5,6,7,8,9,10,11,12,13,14,15,16,17,18,19,20,21,22,23,24,25,26,27,28,29,30,31,32,33,34,35,36,37,38,39,40,41,42,43,44,45,46,47,48,49,50,51,52,53,54,55,56,57,58,59,60,61,62,63,64,65,66,67,68,69,70,71,72,73,74,75,76,77,78,79,80,81,82,83,84,85,86,87,88,89,90,91,92,93,94,95,96,97,98,99,100,101,102,103,104,105,106,107,108,109,110,111,112,113,114,115,116,117,118,119,120,121,122,123,124,125,126,127,128,129,130,131,132,133,134,135,136,137,138,139,140,141,142,143,144,145,146,147,148,149,150,151,152,153,154,155,156,157,158,159,160,161,162,163,164,165,166,167,168,169,170,171,172,173,174,175,176,177,178,179,180,181,182,183,184,185,186,187,188,189,190,191,192,193,194,195,196,197,198,199,200]},\"column_names\":[\"y\",\"x\"],\"cont_ranges\":{},\"discrete_ranges\":{},\"selected\":[],\"id\":\"1a1280f1-9345-4dab-cd73-75b571378a73\",\"doc\":null,\"tags\":[]}},{\"id\":\"94ce86a3-da84-4dee-cdfa-8447154fa2e6\",\"type\":\"Line\",\"attributes\":{\"fill_alpha\":{\"units\":\"data\",\"value\":0.2},\"line_alpha\":{\"units\":\"data\",\"value\":1},\"doc\":null,\"size\":{\"units\":\"screen\",\"value\":10},\"fill_color\":{\"value\":\"green\"},\"line_color\":{\"value\":\"green\"},\"x\":{\"units\":\"data\",\"field\":\"x\"},\"id\":\"94ce86a3-da84-4dee-cdfa-8447154fa2e6\",\"y\":{\"units\":\"data\",\"field\":\"y\"},\"tags\":[]}},{\"id\":\"31eb89b1-e332-42b8-c211-6066176782c3\",\"type\":\"Line\",\"attributes\":{\"fill_alpha\":{\"units\":\"data\",\"value\":0.2},\"line_alpha\":{\"units\":\"data\",\"value\":1},\"doc\":null,\"size\":{\"units\":\"screen\",\"value\":10},\"fill_color\":{\"value\":\"green\"},\"line_color\":{\"value\":\"green\"},\"x\":{\"units\":\"data\",\"field\":\"x\"},\"id\":\"31eb89b1-e332-42b8-c211-6066176782c3\",\"y\":{\"units\":\"data\",\"field\":\"y\"},\"tags\":[]}},{\"id\":\"122b56ae-d653-44e6-c41d-25a11cd2e046\",\"type\":\"GlyphRenderer\",\"attributes\":{\"name\":null,\"nonselection_glyph\":{\"type\":\"Line\",\"id\":\"31eb89b1-e332-42b8-c211-6066176782c3\"},\"doc\":null,\"server_data_source\":null,\"data_source\":{\"type\":\"ColumnDataSource\",\"id\":\"1a1280f1-9345-4dab-cd73-75b571378a73\"},\"glyph\":{\"type\":\"Line\",\"id\":\"94ce86a3-da84-4dee-cdfa-8447154fa2e6\"},\"selection_glyph\":null,\"id\":\"122b56ae-d653-44e6-c41d-25a11cd2e046\",\"tags\":[]}},{\"id\":\"260b6d04-e5d0-4609-c6ea-9944ef20c76e\",\"type\":\"DataRange1d\",\"attributes\":{\"sources\":[{\"columns\":[\"x\"],\"source\":{\"type\":\"ColumnDataSource\",\"id\":\"88ad14e3-7a37-4ee1-ce47-ca1e9f9d5b56\"}},{\"columns\":[\"x\"],\"source\":{\"type\":\"ColumnDataSource\",\"id\":\"1a1280f1-9345-4dab-cd73-75b571378a73\"}}],\"id\":\"260b6d04-e5d0-4609-c6ea-9944ef20c76e\",\"tags\":[],\"doc\":null}},{\"id\":\"4838e0b9-4add-450b-c5f5-551e47611112\",\"type\":\"DataRange1d\",\"attributes\":{\"sources\":[{\"columns\":[\"y\"],\"source\":{\"type\":\"ColumnDataSource\",\"id\":\"88ad14e3-7a37-4ee1-ce47-ca1e9f9d5b56\"}},{\"columns\":[\"y\"],\"source\":{\"type\":\"ColumnDataSource\",\"id\":\"1a1280f1-9345-4dab-cd73-75b571378a73\"}}],\"id\":\"4838e0b9-4add-450b-c5f5-551e47611112\",\"tags\":[],\"doc\":null}},{\"id\":\"8ce7e478-99ae-4fb6-cfdb-11f1e811af52\",\"type\":\"ToolEvents\",\"attributes\":{\"tags\":[],\"id\":\"8ce7e478-99ae-4fb6-cfdb-11f1e811af52\",\"geometries\":[],\"doc\":null}},{\"id\":\"9cd3c40f-16d9-4213-c22d-be8d815b8e5c\",\"type\":\"BasicTickFormatter\",\"attributes\":{\"id\":\"9cd3c40f-16d9-4213-c22d-be8d815b8e5c\",\"tags\":[],\"doc\":null}},{\"id\":\"f994c54d-e84f-42a8-c28e-c78974388163\",\"type\":\"BasicTicker\",\"attributes\":{\"num_minor_ticks\":5,\"id\":\"f994c54d-e84f-42a8-c28e-c78974388163\",\"tags\":[],\"doc\":null}},{\"id\":\"e79af5cc-efc5-43c1-c37a-9a90b4408df9\",\"type\":\"LinearAxis\",\"attributes\":{\"formatter\":{\"type\":\"BasicTickFormatter\",\"id\":\"9cd3c40f-16d9-4213-c22d-be8d815b8e5c\"},\"ticker\":{\"type\":\"BasicTicker\",\"id\":\"f994c54d-e84f-42a8-c28e-c78974388163\"},\"plot\":{\"id\":\"430b3412-6160-45e0-c544-afa10d677d4c\",\"type\":\"Plot\",\"subtype\":\"Figure\"},\"axis_label\":null,\"id\":\"e79af5cc-efc5-43c1-c37a-9a90b4408df9\",\"doc\":null,\"tags\":[]}},{\"id\":\"6baeb8ec-71f8-4791-c78e-0775d233351a\",\"type\":\"Grid\",\"attributes\":{\"dimension\":0,\"plot\":{\"id\":\"430b3412-6160-45e0-c544-afa10d677d4c\",\"type\":\"Plot\",\"subtype\":\"Figure\"},\"ticker\":{\"type\":\"BasicTicker\",\"id\":\"f994c54d-e84f-42a8-c28e-c78974388163\"},\"id\":\"6baeb8ec-71f8-4791-c78e-0775d233351a\",\"doc\":null,\"tags\":[]}},{\"id\":\"a8d8ccfd-77d8-4a91-ca7f-1e9a5d4ae66a\",\"type\":\"BasicTickFormatter\",\"attributes\":{\"id\":\"a8d8ccfd-77d8-4a91-ca7f-1e9a5d4ae66a\",\"tags\":[],\"doc\":null}},{\"id\":\"bf9dd448-a658-44b6-c452-9272d6a08d6e\",\"type\":\"BasicTicker\",\"attributes\":{\"num_minor_ticks\":5,\"id\":\"bf9dd448-a658-44b6-c452-9272d6a08d6e\",\"tags\":[],\"doc\":null}},{\"id\":\"08dae103-9a8f-4a9d-caeb-5edd39abfa12\",\"type\":\"LinearAxis\",\"attributes\":{\"formatter\":{\"type\":\"BasicTickFormatter\",\"id\":\"a8d8ccfd-77d8-4a91-ca7f-1e9a5d4ae66a\"},\"ticker\":{\"type\":\"BasicTicker\",\"id\":\"bf9dd448-a658-44b6-c452-9272d6a08d6e\"},\"plot\":{\"id\":\"430b3412-6160-45e0-c544-afa10d677d4c\",\"type\":\"Plot\",\"subtype\":\"Figure\"},\"axis_label\":null,\"id\":\"08dae103-9a8f-4a9d-caeb-5edd39abfa12\",\"doc\":null,\"tags\":[]}},{\"id\":\"5cca7155-eac3-47e9-c7d1-08494d2af29d\",\"type\":\"Grid\",\"attributes\":{\"dimension\":1,\"plot\":{\"id\":\"430b3412-6160-45e0-c544-afa10d677d4c\",\"type\":\"Plot\",\"subtype\":\"Figure\"},\"ticker\":{\"type\":\"BasicTicker\",\"id\":\"bf9dd448-a658-44b6-c452-9272d6a08d6e\"},\"id\":\"5cca7155-eac3-47e9-c7d1-08494d2af29d\",\"doc\":null,\"tags\":[]}},{\"id\":\"3d50d0a6-b080-42fa-c233-bbf2b46f5f9f\",\"type\":\"PanTool\",\"attributes\":{\"plot\":{\"id\":\"430b3412-6160-45e0-c544-afa10d677d4c\",\"type\":\"Plot\",\"subtype\":\"Figure\"},\"dimensions\":[\"width\",\"height\"],\"id\":\"3d50d0a6-b080-42fa-c233-bbf2b46f5f9f\",\"doc\":null,\"tags\":[]}},{\"id\":\"8d094fc7-9b80-44cd-c4b9-90f0034ad1a2\",\"type\":\"WheelZoomTool\",\"attributes\":{\"plot\":{\"id\":\"430b3412-6160-45e0-c544-afa10d677d4c\",\"type\":\"Plot\",\"subtype\":\"Figure\"},\"dimensions\":[\"width\",\"height\"],\"id\":\"8d094fc7-9b80-44cd-c4b9-90f0034ad1a2\",\"doc\":null,\"tags\":[]}},{\"id\":\"0fd98f6c-4ce9-4e97-ce4d-1fd823c2f4cc\",\"type\":\"BoxZoomTool\",\"attributes\":{\"plot\":{\"id\":\"430b3412-6160-45e0-c544-afa10d677d4c\",\"type\":\"Plot\",\"subtype\":\"Figure\"},\"id\":\"0fd98f6c-4ce9-4e97-ce4d-1fd823c2f4cc\",\"tags\":[],\"doc\":null}},{\"id\":\"c39d99d6-dc45-433c-c3d9-b1c6c0bc81d1\",\"type\":\"PreviewSaveTool\",\"attributes\":{\"plot\":{\"id\":\"430b3412-6160-45e0-c544-afa10d677d4c\",\"type\":\"Plot\",\"subtype\":\"Figure\"},\"id\":\"c39d99d6-dc45-433c-c3d9-b1c6c0bc81d1\",\"tags\":[],\"doc\":null}},{\"id\":\"37bd3785-7142-4424-c4a1-2a321703613f\",\"type\":\"ResizeTool\",\"attributes\":{\"plot\":{\"id\":\"430b3412-6160-45e0-c544-afa10d677d4c\",\"type\":\"Plot\",\"subtype\":\"Figure\"},\"id\":\"37bd3785-7142-4424-c4a1-2a321703613f\",\"tags\":[],\"doc\":null}},{\"id\":\"6f9c1f67-9cee-44f4-c47d-2a80f1cc5e5f\",\"type\":\"ResetTool\",\"attributes\":{\"plot\":{\"id\":\"430b3412-6160-45e0-c544-afa10d677d4c\",\"type\":\"Plot\",\"subtype\":\"Figure\"},\"id\":\"6f9c1f67-9cee-44f4-c47d-2a80f1cc5e5f\",\"tags\":[],\"doc\":null}},{\"id\":\"181e2fe9-8af1-4f7f-cfde-0b363530311a\",\"type\":\"Legend\",\"attributes\":{\"plot\":{\"id\":\"430b3412-6160-45e0-c544-afa10d677d4c\",\"type\":\"Plot\",\"subtype\":\"Figure\"},\"legends\":[[\"train_acc\",[{\"type\":\"GlyphRenderer\",\"id\":\"29d5ebd2-9fbd-42d3-c2b9-fac420214c37\"}]],[\"val_acc\",[{\"type\":\"GlyphRenderer\",\"id\":\"122b56ae-d653-44e6-c41d-25a11cd2e046\"}]]],\"id\":\"181e2fe9-8af1-4f7f-cfde-0b363530311a\",\"doc\":null,\"tags\":[]}},{\"id\":\"430b3412-6160-45e0-c544-afa10d677d4c\",\"type\":\"Plot\",\"attributes\":{\"x_range\":{\"type\":\"DataRange1d\",\"id\":\"260b6d04-e5d0-4609-c6ea-9944ef20c76e\"},\"tool_events\":{\"type\":\"ToolEvents\",\"id\":\"8ce7e478-99ae-4fb6-cfdb-11f1e811af52\"},\"below\":[{\"type\":\"LinearAxis\",\"id\":\"e79af5cc-efc5-43c1-c37a-9a90b4408df9\"}],\"renderers\":[{\"type\":\"GlyphRenderer\",\"id\":\"29d5ebd2-9fbd-42d3-c2b9-fac420214c37\"},{\"type\":\"GlyphRenderer\",\"id\":\"122b56ae-d653-44e6-c41d-25a11cd2e046\"},{\"type\":\"LinearAxis\",\"id\":\"e79af5cc-efc5-43c1-c37a-9a90b4408df9\"},{\"type\":\"Grid\",\"id\":\"6baeb8ec-71f8-4791-c78e-0775d233351a\"},{\"type\":\"LinearAxis\",\"id\":\"08dae103-9a8f-4a9d-caeb-5edd39abfa12\"},{\"type\":\"Grid\",\"id\":\"5cca7155-eac3-47e9-c7d1-08494d2af29d\"},{\"type\":\"Legend\",\"id\":\"181e2fe9-8af1-4f7f-cfde-0b363530311a\"}],\"above\":[],\"tools\":[{\"type\":\"PanTool\",\"id\":\"3d50d0a6-b080-42fa-c233-bbf2b46f5f9f\"},{\"type\":\"WheelZoomTool\",\"id\":\"8d094fc7-9b80-44cd-c4b9-90f0034ad1a2\"},{\"type\":\"BoxZoomTool\",\"id\":\"0fd98f6c-4ce9-4e97-ce4d-1fd823c2f4cc\"},{\"type\":\"PreviewSaveTool\",\"id\":\"c39d99d6-dc45-433c-c3d9-b1c6c0bc81d1\"},{\"type\":\"ResizeTool\",\"id\":\"37bd3785-7142-4424-c4a1-2a321703613f\"},{\"type\":\"ResetTool\",\"id\":\"6f9c1f67-9cee-44f4-c47d-2a80f1cc5e5f\"}],\"doc\":null,\"right\":[],\"title\":\"Accuracy\",\"extra_x_ranges\":{},\"left\":[{\"type\":\"LinearAxis\",\"id\":\"08dae103-9a8f-4a9d-caeb-5edd39abfa12\"}],\"y_range\":{\"type\":\"DataRange1d\",\"id\":\"4838e0b9-4add-450b-c5f5-551e47611112\"},\"id\":\"430b3412-6160-45e0-c544-afa10d677d4c\",\"extra_y_ranges\":{},\"tags\":[]}}];\n",
       "  Bokeh.load_models(all_models);\n",
       "  var model = Bokeh.Collections(modeltype).get(modelid);\n",
       "  $(\"#003765cd-5c32-43f4-c335-04e396ab005d\").html(''); // clear any previous plot in window_id\n",
       "  var view = new model.default_view({model: model, el: \"#003765cd-5c32-43f4-c335-04e396ab005d\"});\n",
       "    } else {\n",
       "  load_lib(bokehjs_url, function() {\n",
       "      console.log(\"Bokeh: BokehJS plotting callback run at\", new Date())\n",
       "      var modelid = \"430b3412-6160-45e0-c544-afa10d677d4c\";\n",
       "      var modeltype = \"Plot\";\n",
       "      var all_models = [{\"id\":\"88ad14e3-7a37-4ee1-ce47-ca1e9f9d5b56\",\"type\":\"ColumnDataSource\",\"attributes\":{\"data\":{\"y\":[0.25,0.25,0.2625,0.5625,0.715,0.76,0.825,0.7925,0.8,0.81,0.8125,0.8225,0.8325,0.8425,0.85,0.855,0.86,0.865,0.875,0.88,0.8925,0.905,0.9125,0.915,0.92,0.925,0.93,0.93,0.93,0.93,0.93,0.935,0.935,0.9325,0.9325,0.935,0.935,0.935,0.9325,0.9325,0.9325,0.935,0.935,0.935,0.935,0.9375,0.935,0.9375,0.9375,0.9375,0.9375,0.9375,0.9375,0.9375,0.9375,0.9375,0.94,0.9425,0.945,0.9475,0.9475,0.9475,0.95,0.95,0.95,0.95,0.9525,0.9525,0.9525,0.9525,0.9525,0.9525,0.9525,0.9525,0.955,0.955,0.955,0.9575,0.9575,0.96,0.96,0.9625,0.9625,0.9625,0.96,0.96,0.9625,0.96,0.96,0.96,0.96,0.96,0.9625,0.9625,0.9625,0.9625,0.9625,0.9625,0.9625,0.9625,0.965,0.9625,0.965,0.965,0.9675,0.9675,0.9675,0.9675,0.9675,0.9675,0.9675,0.9675,0.9675,0.9675,0.9675,0.9675,0.9675,0.9675,0.9675,0.9675,0.9675,0.9675,0.9675,0.9675,0.9675,0.9675,0.9675,0.9675,0.97,0.9675,0.97,0.97,0.97,0.97,0.97,0.97,0.97,0.97,0.97,0.97,0.97,0.97,0.97,0.97,0.97,0.97,0.97,0.97,0.97,0.97,0.97,0.9725,0.97,0.9725,0.975,0.975,0.9725,0.975,0.9775,0.975,0.9775,0.9775,0.9775,0.9775,0.9775,0.9775,0.9775,0.9775,0.9775,0.9775,0.9775,0.9775,0.9775,0.9775,0.9775,0.9775,0.9775,0.9775,0.9775,0.9775,0.9775,0.9775,0.9775,0.9775,0.9775,0.9775,0.9775,0.9775,0.9775,0.9775,0.9775,0.9775,0.9775,0.9775,0.9775,0.9775,0.9775,0.9775,0.9775,0.9775],\"x\":[1,2,3,4,5,6,7,8,9,10,11,12,13,14,15,16,17,18,19,20,21,22,23,24,25,26,27,28,29,30,31,32,33,34,35,36,37,38,39,40,41,42,43,44,45,46,47,48,49,50,51,52,53,54,55,56,57,58,59,60,61,62,63,64,65,66,67,68,69,70,71,72,73,74,75,76,77,78,79,80,81,82,83,84,85,86,87,88,89,90,91,92,93,94,95,96,97,98,99,100,101,102,103,104,105,106,107,108,109,110,111,112,113,114,115,116,117,118,119,120,121,122,123,124,125,126,127,128,129,130,131,132,133,134,135,136,137,138,139,140,141,142,143,144,145,146,147,148,149,150,151,152,153,154,155,156,157,158,159,160,161,162,163,164,165,166,167,168,169,170,171,172,173,174,175,176,177,178,179,180,181,182,183,184,185,186,187,188,189,190,191,192,193,194,195,196,197,198,199,200]},\"column_names\":[\"y\",\"x\"],\"cont_ranges\":{},\"discrete_ranges\":{},\"selected\":[],\"id\":\"88ad14e3-7a37-4ee1-ce47-ca1e9f9d5b56\",\"doc\":null,\"tags\":[]}},{\"id\":\"a8245cc8-4914-4f5a-cfc9-4c89b70bcdc7\",\"type\":\"Line\",\"attributes\":{\"fill_alpha\":{\"units\":\"data\",\"value\":0.2},\"line_alpha\":{\"units\":\"data\",\"value\":1},\"doc\":null,\"size\":{\"units\":\"screen\",\"value\":10},\"fill_color\":{\"value\":\"blue\"},\"line_color\":{\"value\":\"blue\"},\"x\":{\"units\":\"data\",\"field\":\"x\"},\"id\":\"a8245cc8-4914-4f5a-cfc9-4c89b70bcdc7\",\"y\":{\"units\":\"data\",\"field\":\"y\"},\"tags\":[]}},{\"id\":\"4a2b0906-a65d-478e-c75a-8d2c8464e4ed\",\"type\":\"Line\",\"attributes\":{\"fill_alpha\":{\"units\":\"data\",\"value\":0.2},\"line_alpha\":{\"units\":\"data\",\"value\":1},\"doc\":null,\"size\":{\"units\":\"screen\",\"value\":10},\"fill_color\":{\"value\":\"blue\"},\"line_color\":{\"value\":\"blue\"},\"x\":{\"units\":\"data\",\"field\":\"x\"},\"id\":\"4a2b0906-a65d-478e-c75a-8d2c8464e4ed\",\"y\":{\"units\":\"data\",\"field\":\"y\"},\"tags\":[]}},{\"id\":\"29d5ebd2-9fbd-42d3-c2b9-fac420214c37\",\"type\":\"GlyphRenderer\",\"attributes\":{\"name\":null,\"nonselection_glyph\":{\"type\":\"Line\",\"id\":\"4a2b0906-a65d-478e-c75a-8d2c8464e4ed\"},\"doc\":null,\"server_data_source\":null,\"data_source\":{\"type\":\"ColumnDataSource\",\"id\":\"88ad14e3-7a37-4ee1-ce47-ca1e9f9d5b56\"},\"glyph\":{\"type\":\"Line\",\"id\":\"a8245cc8-4914-4f5a-cfc9-4c89b70bcdc7\"},\"selection_glyph\":null,\"id\":\"29d5ebd2-9fbd-42d3-c2b9-fac420214c37\",\"tags\":[]}},{\"id\":\"1a1280f1-9345-4dab-cd73-75b571378a73\",\"type\":\"ColumnDataSource\",\"attributes\":{\"data\":{\"y\":[0.25,0.25,0.25,0.55,0.7,0.65,0.775,0.8,0.825,0.825,0.85,0.85,0.85,0.85,0.85,0.85,0.85,0.85,0.85,0.85,0.85,0.875,0.875,0.875,0.875,0.875,0.875,0.875,0.875,0.9,0.9,0.9,0.9,0.9,0.9,0.9,0.9,0.925,0.925,0.925,0.925,0.925,0.925,0.925,0.925,0.925,0.95,0.95,0.95,0.95,0.95,0.95,0.95,0.95,0.95,0.95,0.95,0.95,0.95,0.95,0.95,0.95,0.95,0.95,0.95,0.95,0.975,0.975,0.975,0.975,0.975,0.975,0.975,0.975,0.975,0.975,0.975,0.975,0.975,0.975,0.975,0.975,0.975,0.975,0.975,0.975,0.975,0.975,0.975,0.975,0.975,0.975,0.975,0.975,0.975,0.975,0.975,0.975,0.975,0.975,0.975,0.975,0.975,0.975,0.975,0.975,0.975,0.975,0.975,0.975,0.975,0.975,0.975,0.975,0.975,0.975,0.975,0.975,0.975,0.975,0.975,0.975,0.975,0.975,0.975,0.975,0.975,0.975,0.975,0.975,0.975,0.975,0.975,0.975,0.975,0.975,0.975,0.975,0.975,0.975,0.975,0.975,0.975,0.975,0.975,0.975,0.975,0.975,0.975,0.975,0.975,0.975,0.975,0.975,0.975,0.975,0.975,0.975,0.975,0.975,0.975,0.975,0.975,0.975,0.975,0.975,0.975,0.975,0.975,0.975,0.975,0.975,0.975,0.975,0.975,0.975,0.975,0.975,0.975,0.975,0.975,0.975,0.975,0.975,0.975,0.975,0.975,0.975,0.975,0.975,0.975,0.975,0.975,0.975,0.975,0.975,0.975,0.975,0.975,0.975],\"x\":[1,2,3,4,5,6,7,8,9,10,11,12,13,14,15,16,17,18,19,20,21,22,23,24,25,26,27,28,29,30,31,32,33,34,35,36,37,38,39,40,41,42,43,44,45,46,47,48,49,50,51,52,53,54,55,56,57,58,59,60,61,62,63,64,65,66,67,68,69,70,71,72,73,74,75,76,77,78,79,80,81,82,83,84,85,86,87,88,89,90,91,92,93,94,95,96,97,98,99,100,101,102,103,104,105,106,107,108,109,110,111,112,113,114,115,116,117,118,119,120,121,122,123,124,125,126,127,128,129,130,131,132,133,134,135,136,137,138,139,140,141,142,143,144,145,146,147,148,149,150,151,152,153,154,155,156,157,158,159,160,161,162,163,164,165,166,167,168,169,170,171,172,173,174,175,176,177,178,179,180,181,182,183,184,185,186,187,188,189,190,191,192,193,194,195,196,197,198,199,200]},\"column_names\":[\"y\",\"x\"],\"cont_ranges\":{},\"discrete_ranges\":{},\"selected\":[],\"id\":\"1a1280f1-9345-4dab-cd73-75b571378a73\",\"doc\":null,\"tags\":[]}},{\"id\":\"94ce86a3-da84-4dee-cdfa-8447154fa2e6\",\"type\":\"Line\",\"attributes\":{\"fill_alpha\":{\"units\":\"data\",\"value\":0.2},\"line_alpha\":{\"units\":\"data\",\"value\":1},\"doc\":null,\"size\":{\"units\":\"screen\",\"value\":10},\"fill_color\":{\"value\":\"green\"},\"line_color\":{\"value\":\"green\"},\"x\":{\"units\":\"data\",\"field\":\"x\"},\"id\":\"94ce86a3-da84-4dee-cdfa-8447154fa2e6\",\"y\":{\"units\":\"data\",\"field\":\"y\"},\"tags\":[]}},{\"id\":\"31eb89b1-e332-42b8-c211-6066176782c3\",\"type\":\"Line\",\"attributes\":{\"fill_alpha\":{\"units\":\"data\",\"value\":0.2},\"line_alpha\":{\"units\":\"data\",\"value\":1},\"doc\":null,\"size\":{\"units\":\"screen\",\"value\":10},\"fill_color\":{\"value\":\"green\"},\"line_color\":{\"value\":\"green\"},\"x\":{\"units\":\"data\",\"field\":\"x\"},\"id\":\"31eb89b1-e332-42b8-c211-6066176782c3\",\"y\":{\"units\":\"data\",\"field\":\"y\"},\"tags\":[]}},{\"id\":\"122b56ae-d653-44e6-c41d-25a11cd2e046\",\"type\":\"GlyphRenderer\",\"attributes\":{\"name\":null,\"nonselection_glyph\":{\"type\":\"Line\",\"id\":\"31eb89b1-e332-42b8-c211-6066176782c3\"},\"doc\":null,\"server_data_source\":null,\"data_source\":{\"type\":\"ColumnDataSource\",\"id\":\"1a1280f1-9345-4dab-cd73-75b571378a73\"},\"glyph\":{\"type\":\"Line\",\"id\":\"94ce86a3-da84-4dee-cdfa-8447154fa2e6\"},\"selection_glyph\":null,\"id\":\"122b56ae-d653-44e6-c41d-25a11cd2e046\",\"tags\":[]}},{\"id\":\"260b6d04-e5d0-4609-c6ea-9944ef20c76e\",\"type\":\"DataRange1d\",\"attributes\":{\"sources\":[{\"columns\":[\"x\"],\"source\":{\"type\":\"ColumnDataSource\",\"id\":\"88ad14e3-7a37-4ee1-ce47-ca1e9f9d5b56\"}},{\"columns\":[\"x\"],\"source\":{\"type\":\"ColumnDataSource\",\"id\":\"1a1280f1-9345-4dab-cd73-75b571378a73\"}}],\"id\":\"260b6d04-e5d0-4609-c6ea-9944ef20c76e\",\"tags\":[],\"doc\":null}},{\"id\":\"4838e0b9-4add-450b-c5f5-551e47611112\",\"type\":\"DataRange1d\",\"attributes\":{\"sources\":[{\"columns\":[\"y\"],\"source\":{\"type\":\"ColumnDataSource\",\"id\":\"88ad14e3-7a37-4ee1-ce47-ca1e9f9d5b56\"}},{\"columns\":[\"y\"],\"source\":{\"type\":\"ColumnDataSource\",\"id\":\"1a1280f1-9345-4dab-cd73-75b571378a73\"}}],\"id\":\"4838e0b9-4add-450b-c5f5-551e47611112\",\"tags\":[],\"doc\":null}},{\"id\":\"8ce7e478-99ae-4fb6-cfdb-11f1e811af52\",\"type\":\"ToolEvents\",\"attributes\":{\"tags\":[],\"id\":\"8ce7e478-99ae-4fb6-cfdb-11f1e811af52\",\"geometries\":[],\"doc\":null}},{\"id\":\"9cd3c40f-16d9-4213-c22d-be8d815b8e5c\",\"type\":\"BasicTickFormatter\",\"attributes\":{\"id\":\"9cd3c40f-16d9-4213-c22d-be8d815b8e5c\",\"tags\":[],\"doc\":null}},{\"id\":\"f994c54d-e84f-42a8-c28e-c78974388163\",\"type\":\"BasicTicker\",\"attributes\":{\"num_minor_ticks\":5,\"id\":\"f994c54d-e84f-42a8-c28e-c78974388163\",\"tags\":[],\"doc\":null}},{\"id\":\"e79af5cc-efc5-43c1-c37a-9a90b4408df9\",\"type\":\"LinearAxis\",\"attributes\":{\"formatter\":{\"type\":\"BasicTickFormatter\",\"id\":\"9cd3c40f-16d9-4213-c22d-be8d815b8e5c\"},\"ticker\":{\"type\":\"BasicTicker\",\"id\":\"f994c54d-e84f-42a8-c28e-c78974388163\"},\"plot\":{\"id\":\"430b3412-6160-45e0-c544-afa10d677d4c\",\"type\":\"Plot\",\"subtype\":\"Figure\"},\"axis_label\":null,\"id\":\"e79af5cc-efc5-43c1-c37a-9a90b4408df9\",\"doc\":null,\"tags\":[]}},{\"id\":\"6baeb8ec-71f8-4791-c78e-0775d233351a\",\"type\":\"Grid\",\"attributes\":{\"dimension\":0,\"plot\":{\"id\":\"430b3412-6160-45e0-c544-afa10d677d4c\",\"type\":\"Plot\",\"subtype\":\"Figure\"},\"ticker\":{\"type\":\"BasicTicker\",\"id\":\"f994c54d-e84f-42a8-c28e-c78974388163\"},\"id\":\"6baeb8ec-71f8-4791-c78e-0775d233351a\",\"doc\":null,\"tags\":[]}},{\"id\":\"a8d8ccfd-77d8-4a91-ca7f-1e9a5d4ae66a\",\"type\":\"BasicTickFormatter\",\"attributes\":{\"id\":\"a8d8ccfd-77d8-4a91-ca7f-1e9a5d4ae66a\",\"tags\":[],\"doc\":null}},{\"id\":\"bf9dd448-a658-44b6-c452-9272d6a08d6e\",\"type\":\"BasicTicker\",\"attributes\":{\"num_minor_ticks\":5,\"id\":\"bf9dd448-a658-44b6-c452-9272d6a08d6e\",\"tags\":[],\"doc\":null}},{\"id\":\"08dae103-9a8f-4a9d-caeb-5edd39abfa12\",\"type\":\"LinearAxis\",\"attributes\":{\"formatter\":{\"type\":\"BasicTickFormatter\",\"id\":\"a8d8ccfd-77d8-4a91-ca7f-1e9a5d4ae66a\"},\"ticker\":{\"type\":\"BasicTicker\",\"id\":\"bf9dd448-a658-44b6-c452-9272d6a08d6e\"},\"plot\":{\"id\":\"430b3412-6160-45e0-c544-afa10d677d4c\",\"type\":\"Plot\",\"subtype\":\"Figure\"},\"axis_label\":null,\"id\":\"08dae103-9a8f-4a9d-caeb-5edd39abfa12\",\"doc\":null,\"tags\":[]}},{\"id\":\"5cca7155-eac3-47e9-c7d1-08494d2af29d\",\"type\":\"Grid\",\"attributes\":{\"dimension\":1,\"plot\":{\"id\":\"430b3412-6160-45e0-c544-afa10d677d4c\",\"type\":\"Plot\",\"subtype\":\"Figure\"},\"ticker\":{\"type\":\"BasicTicker\",\"id\":\"bf9dd448-a658-44b6-c452-9272d6a08d6e\"},\"id\":\"5cca7155-eac3-47e9-c7d1-08494d2af29d\",\"doc\":null,\"tags\":[]}},{\"id\":\"3d50d0a6-b080-42fa-c233-bbf2b46f5f9f\",\"type\":\"PanTool\",\"attributes\":{\"plot\":{\"id\":\"430b3412-6160-45e0-c544-afa10d677d4c\",\"type\":\"Plot\",\"subtype\":\"Figure\"},\"dimensions\":[\"width\",\"height\"],\"id\":\"3d50d0a6-b080-42fa-c233-bbf2b46f5f9f\",\"doc\":null,\"tags\":[]}},{\"id\":\"8d094fc7-9b80-44cd-c4b9-90f0034ad1a2\",\"type\":\"WheelZoomTool\",\"attributes\":{\"plot\":{\"id\":\"430b3412-6160-45e0-c544-afa10d677d4c\",\"type\":\"Plot\",\"subtype\":\"Figure\"},\"dimensions\":[\"width\",\"height\"],\"id\":\"8d094fc7-9b80-44cd-c4b9-90f0034ad1a2\",\"doc\":null,\"tags\":[]}},{\"id\":\"0fd98f6c-4ce9-4e97-ce4d-1fd823c2f4cc\",\"type\":\"BoxZoomTool\",\"attributes\":{\"plot\":{\"id\":\"430b3412-6160-45e0-c544-afa10d677d4c\",\"type\":\"Plot\",\"subtype\":\"Figure\"},\"id\":\"0fd98f6c-4ce9-4e97-ce4d-1fd823c2f4cc\",\"tags\":[],\"doc\":null}},{\"id\":\"c39d99d6-dc45-433c-c3d9-b1c6c0bc81d1\",\"type\":\"PreviewSaveTool\",\"attributes\":{\"plot\":{\"id\":\"430b3412-6160-45e0-c544-afa10d677d4c\",\"type\":\"Plot\",\"subtype\":\"Figure\"},\"id\":\"c39d99d6-dc45-433c-c3d9-b1c6c0bc81d1\",\"tags\":[],\"doc\":null}},{\"id\":\"37bd3785-7142-4424-c4a1-2a321703613f\",\"type\":\"ResizeTool\",\"attributes\":{\"plot\":{\"id\":\"430b3412-6160-45e0-c544-afa10d677d4c\",\"type\":\"Plot\",\"subtype\":\"Figure\"},\"id\":\"37bd3785-7142-4424-c4a1-2a321703613f\",\"tags\":[],\"doc\":null}},{\"id\":\"6f9c1f67-9cee-44f4-c47d-2a80f1cc5e5f\",\"type\":\"ResetTool\",\"attributes\":{\"plot\":{\"id\":\"430b3412-6160-45e0-c544-afa10d677d4c\",\"type\":\"Plot\",\"subtype\":\"Figure\"},\"id\":\"6f9c1f67-9cee-44f4-c47d-2a80f1cc5e5f\",\"tags\":[],\"doc\":null}},{\"id\":\"181e2fe9-8af1-4f7f-cfde-0b363530311a\",\"type\":\"Legend\",\"attributes\":{\"plot\":{\"id\":\"430b3412-6160-45e0-c544-afa10d677d4c\",\"type\":\"Plot\",\"subtype\":\"Figure\"},\"legends\":[[\"train_acc\",[{\"type\":\"GlyphRenderer\",\"id\":\"29d5ebd2-9fbd-42d3-c2b9-fac420214c37\"}]],[\"val_acc\",[{\"type\":\"GlyphRenderer\",\"id\":\"122b56ae-d653-44e6-c41d-25a11cd2e046\"}]]],\"id\":\"181e2fe9-8af1-4f7f-cfde-0b363530311a\",\"doc\":null,\"tags\":[]}},{\"id\":\"430b3412-6160-45e0-c544-afa10d677d4c\",\"type\":\"Plot\",\"attributes\":{\"x_range\":{\"type\":\"DataRange1d\",\"id\":\"260b6d04-e5d0-4609-c6ea-9944ef20c76e\"},\"tool_events\":{\"type\":\"ToolEvents\",\"id\":\"8ce7e478-99ae-4fb6-cfdb-11f1e811af52\"},\"below\":[{\"type\":\"LinearAxis\",\"id\":\"e79af5cc-efc5-43c1-c37a-9a90b4408df9\"}],\"renderers\":[{\"type\":\"GlyphRenderer\",\"id\":\"29d5ebd2-9fbd-42d3-c2b9-fac420214c37\"},{\"type\":\"GlyphRenderer\",\"id\":\"122b56ae-d653-44e6-c41d-25a11cd2e046\"},{\"type\":\"LinearAxis\",\"id\":\"e79af5cc-efc5-43c1-c37a-9a90b4408df9\"},{\"type\":\"Grid\",\"id\":\"6baeb8ec-71f8-4791-c78e-0775d233351a\"},{\"type\":\"LinearAxis\",\"id\":\"08dae103-9a8f-4a9d-caeb-5edd39abfa12\"},{\"type\":\"Grid\",\"id\":\"5cca7155-eac3-47e9-c7d1-08494d2af29d\"},{\"type\":\"Legend\",\"id\":\"181e2fe9-8af1-4f7f-cfde-0b363530311a\"}],\"above\":[],\"tools\":[{\"type\":\"PanTool\",\"id\":\"3d50d0a6-b080-42fa-c233-bbf2b46f5f9f\"},{\"type\":\"WheelZoomTool\",\"id\":\"8d094fc7-9b80-44cd-c4b9-90f0034ad1a2\"},{\"type\":\"BoxZoomTool\",\"id\":\"0fd98f6c-4ce9-4e97-ce4d-1fd823c2f4cc\"},{\"type\":\"PreviewSaveTool\",\"id\":\"c39d99d6-dc45-433c-c3d9-b1c6c0bc81d1\"},{\"type\":\"ResizeTool\",\"id\":\"37bd3785-7142-4424-c4a1-2a321703613f\"},{\"type\":\"ResetTool\",\"id\":\"6f9c1f67-9cee-44f4-c47d-2a80f1cc5e5f\"}],\"doc\":null,\"right\":[],\"title\":\"Accuracy\",\"extra_x_ranges\":{},\"left\":[{\"type\":\"LinearAxis\",\"id\":\"08dae103-9a8f-4a9d-caeb-5edd39abfa12\"}],\"y_range\":{\"type\":\"DataRange1d\",\"id\":\"4838e0b9-4add-450b-c5f5-551e47611112\"},\"id\":\"430b3412-6160-45e0-c544-afa10d677d4c\",\"extra_y_ranges\":{},\"tags\":[]}}];\n",
       "      Bokeh.load_models(all_models);\n",
       "      var model = Bokeh.Collections(modeltype).get(modelid);\n",
       "      $(\"#003765cd-5c32-43f4-c335-04e396ab005d\").html(''); // clear any previous plot in window_id\n",
       "      var view = new model.default_view({model: model, el: \"#003765cd-5c32-43f4-c335-04e396ab005d\"});\n",
       "  });\n",
       "    }\n",
       "});\n",
       "</script>\n",
       "<div class=\"plotdiv\" id=\"46ac2411-7b33-4688-c6c9-e3a9dd6ea761\"></div>\n"
      ]
     },
     "metadata": {},
     "output_type": "display_data"
    }
   ],
   "source": [
    "local x = torch.range(1, #recorder.loss)\n",
    "plt = Plot():line(x, recorder.loss,'red','loss'):legend(true):title('Train Loss'):draw()\n",
    "plt = Plot():line(x, recorder.trainacc,'blue','train_acc'):legend(true):title('Accuracy'):draw()\n",
    "plt:line(x, recorder.valacc,'green','val_acc'):redraw()"
   ]
  },
  {
   "cell_type": "code",
   "execution_count": 66,
   "metadata": {
    "collapsed": false
   },
   "outputs": [
    {
     "data": {
      "text/plain": [
       "accuracy on train set 0.9775\t\n"
      ]
     },
     "execution_count": 66,
     "metadata": {},
     "output_type": "execute_result"
    },
    {
     "data": {
      "text/plain": [
       "accuracy on test set 0.975\t\n"
      ]
     },
     "execution_count": 66,
     "metadata": {},
     "output_type": "execute_result"
    },
    {
     "data": {
      "text/plain": [
       "accuracy on new test set 0.81140350877193\t\n"
      ]
     },
     "execution_count": 66,
     "metadata": {},
     "output_type": "execute_result"
    }
   ],
   "source": [
    "print ('accuracy on train set '..cal_acc(trainset))\n",
    "print ('accuracy on test set '..cal_acc(testset))\n",
    "print ('accuracy on new test set '..cal_acc(newtestset))"
   ]
  },
  {
   "cell_type": "markdown",
   "metadata": {},
   "source": [
    "## To see why"
   ]
  },
  {
   "cell_type": "code",
   "execution_count": 77,
   "metadata": {
    "collapsed": false
   },
   "outputs": [],
   "source": [
    "mislabeled = {}\n",
    "local output\n",
    "for i = 1, newtestset:size() do\n",
    "    _, output = torch.max(net:forward(newtestset[i][1]), 1)\n",
    "    if output[1] ~= newtestset[i][2] then\n",
    "        table.insert(mislabeled, { data_id = i, pred = output[1], gt = newtestset[i][2]})\n",
    "    end\n",
    "end"
   ]
  },
  {
   "cell_type": "code",
   "execution_count": 78,
   "metadata": {
    "collapsed": false
   },
   "outputs": [
    {
     "data": {
      "text/plain": [
       "43\t\n"
      ]
     },
     "execution_count": 78,
     "metadata": {},
     "output_type": "execute_result"
    }
   ],
   "source": [
    "print(#mislabeled)"
   ]
  },
  {
   "cell_type": "code",
   "execution_count": 79,
   "metadata": {
    "collapsed": false
   },
   "outputs": [
    {
     "data": {
      "text/plain": [
       "{\n",
       "  1 : \n",
       "    {\n",
       "      data_id : 1\n",
       "      pred : 3\n",
       "      gt : 1\n",
       "    }\n",
       "  2 : \n",
       "    {\n",
       "      data_id : 3\n",
       "      pred : 3\n",
       "      gt : 1\n",
       "    }\n",
       "  3 : \n",
       "    {\n",
       "      data_id : 4\n",
       "      pred : 3\n",
       "      gt : 1\n",
       "    }\n",
       "  4 : \n",
       "    {\n",
       "      data_id : 5\n",
       "      pred : 3\n",
       "      gt : 1\n",
       "    }\n",
       "  5 : \n",
       "    {\n",
       "      data_id : 6\n",
       "      pred : 3\n",
       "      gt : 1\n",
       "    }\n",
       "  6 : \n",
       "    {\n",
       "      data_id : 7\n",
       "      pred : 3\n",
       "      gt : 1\n",
       "    }\n",
       "  7 : \n",
       "    {\n",
       "      data_id : 8\n",
       "      pred : 3\n",
       "      gt : 1\n",
       "    }\n",
       "  8 : \n",
       "    {\n",
       "      data_id : 9\n",
       "      pred : 3\n",
       "      gt : 1\n",
       "    }\n",
       "  9 : \n",
       "    {\n",
       "      data_id : 10\n",
       "      pred : 3\n",
       "      gt : 1\n",
       "    }\n",
       "  10 : \n",
       "    {\n",
       "      data_id : 11\n",
       "      pred : 3\n",
       "      gt : 1\n",
       "    }\n",
       "  11 : \n",
       "    {\n",
       "      data_id : 12\n",
       "      pred : 3\n",
       "      gt : 1\n",
       "    }\n",
       "  12 : \n",
       "    {\n",
       "      data_id : 18\n",
       "      pred : 3\n",
       "      gt : 1\n",
       "    }\n",
       "  13 : \n",
       "    {\n",
       "      data_id : 20\n",
       "      pred : 2\n",
       "      gt : 1\n",
       "    }\n",
       "  14 : \n",
       "    {\n",
       "      data_id : 26\n",
       "      pred : 3\n",
       "      gt : 1\n",
       "    }\n",
       "  15 : \n",
       "    {\n",
       "      data_id : 28\n",
       "      pred : 3\n",
       "      gt : 1\n",
       "    }\n",
       "  16 : \n",
       "    {\n",
       "      data_id : 31\n",
       "      pred : 2\n",
       "      gt : 1\n",
       "    }\n"
      ]
     },
     "execution_count": 79,
     "metadata": {},
     "output_type": "execute_result"
    },
    {
     "data": {
      "text/plain": [
       "  17 : \n",
       "    {\n",
       "      data_id : 37\n",
       "      pred : 2\n",
       "      gt : 1\n",
       "    }\n",
       "  18 : \n",
       "    {\n",
       "      data_id : 41\n",
       "      pred : 2\n",
       "      gt : 1\n",
       "    }\n",
       "  19 : \n",
       "    {\n",
       "      data_id : 56\n",
       "      pred : 3\n",
       "      gt : 2\n",
       "    }\n",
       "  20 : \n",
       "    {\n",
       "      data_id : 59\n",
       "      pred : 4\n",
       "      gt : 2\n",
       "    }\n",
       "  21 : \n",
       "    {\n",
       "      data_id : 62\n",
       "      pred : 3\n",
       "      gt : 2\n",
       "    }\n",
       "  22 : \n",
       "    {\n",
       "      data_id : 91\n",
       "      pred : 1\n",
       "      gt : 2\n",
       "    }\n",
       "  23 : \n",
       "    {\n",
       "      data_id : 93\n",
       "      pred : 1\n",
       "      gt : 2\n",
       "    }\n",
       "  24 : \n",
       "    {\n",
       "      data_id : 95\n",
       "      pred : 1\n",
       "      gt : 2\n",
       "    }\n",
       "  25 : \n",
       "    {\n",
       "      data_id : 96\n",
       "      pred : 1\n",
       "      gt : 2\n",
       "    }\n",
       "  26 : \n",
       "    {\n",
       "      data_id : 101\n",
       "      pred : 4\n",
       "      gt : 2\n",
       "    }\n",
       "  27 : \n",
       "    {\n",
       "      data_id : 105\n",
       "      pred : 1\n",
       "      gt : 2\n",
       "    }\n",
       "  28 : \n",
       "    {\n",
       "      data_id : 108\n",
       "      pred : 1\n",
       "      gt : 2\n",
       "    }\n",
       "  29 : \n",
       "    {\n",
       "      data_id : 109\n",
       "      pred : 1\n",
       "      gt : 2\n",
       "    }\n",
       "  30 : \n",
       "    {\n",
       "      data_id : 114\n",
       "      pred : 1\n",
       "      gt : 2\n",
       "    }\n",
       "  31 : \n",
       "    {\n",
       "      data_id : 119\n",
       "      pred : 1\n",
       "      gt : 3\n",
       "    }\n",
       "  32 : \n",
       "    {\n",
       "      data_id : 158\n",
       "      pred : 1\n",
       "      gt : 3\n",
       "    }\n",
       "  33 : \n",
       "    {\n",
       "      data_id : 159\n",
       "      pred : 1\n",
       "      gt : 3\n",
       "    }\n",
       "  34 : \n",
       "    {\n",
       "      data_id : 160\n",
       "      pred : 1\n",
       "      gt : 3\n",
       "    }\n",
       "  35 : \n",
       "    {\n",
       "      data_id : 161\n",
       "      pred : 1\n",
       "      gt : 3\n",
       "    }\n",
       "  36 : \n",
       "    {\n",
       "      data_id : 162\n",
       "      pred : 1\n",
       "      gt : 3\n",
       "    }\n",
       "  37 : \n",
       "    {\n",
       "      data_id : 178\n",
       "      pred : 3\n",
       "      gt : 4\n",
       "    }\n",
       "  38 : \n",
       "    {\n",
       "      data_id : 194\n",
       "      pred : 2\n",
       "      gt : 4\n"
      ]
     },
     "execution_count": 79,
     "metadata": {},
     "output_type": "execute_result"
    },
    {
     "data": {
      "text/plain": [
       "    }\n",
       "  39 : \n",
       "    {\n",
       "      data_id : 195\n",
       "      pred : 1\n",
       "      gt : 4\n",
       "    }\n",
       "  40 : \n",
       "    {\n",
       "      data_id : 198\n",
       "      pred : 1\n",
       "      gt : 4\n",
       "    }\n",
       "  41 : \n",
       "    {\n",
       "      data_id : 222\n",
       "      pred : 1\n",
       "      gt : 4\n",
       "    }\n",
       "  42 : \n",
       "    {\n",
       "      data_id : 225\n",
       "      pred : 1\n",
       "      gt : 4\n",
       "    }\n",
       "  43 : \n",
       "    {\n",
       "      data_id : 228\n",
       "      pred : 1\n",
       "      gt : 4\n",
       "    }\n",
       "}\n"
      ]
     },
     "execution_count": 79,
     "metadata": {},
     "output_type": "execute_result"
    }
   ],
   "source": [
    "print(mislabeled)"
   ]
  },
  {
   "cell_type": "code",
   "execution_count": 65,
   "metadata": {
    "collapsed": false
   },
   "outputs": [
    {
     "data": {
      "text/plain": [
       "-10.3447\n",
       " -5.6717\n",
       " -0.0035\n",
       "-13.9952\n",
       "[torch.DoubleTensor of size 4]\n",
       "\n",
       " 0.0278  0.2201 -0.3358  0.2727 -0.0591  0.3355  0.1564 -0.3124\n",
       " 1.2147  0.2346  1.0240  0.2417  0.7668 -0.2452  0.7629 -0.2245\n",
       " 0.6831 -0.3430  0.6562  0.3469  0.5395  0.3016  0.4841 -0.0978\n",
       " 0.2870 -0.2614  0.7241 -0.2310  0.8362 -0.0810  0.2077  0.3248\n",
       "[torch.DoubleTensor of size 4x8]\n",
       "\n"
      ]
     },
     "execution_count": 65,
     "metadata": {},
     "output_type": "execute_result"
    }
   ],
   "source": [
    "print(net:forward(newtestset[4][1]))\n",
    "-- print(peek:forward(newtestset[4][1]))\n",
    "print(peek.weight)\n",
    "-- local x1 = torch.range(1, MAX_LEN - 1)\n",
    "-- local sampleN = 7\n",
    "-- local y1 = newtestset.data[{sampleN,{},1}]\n",
    "-- local y2 = peek\n",
    "-- plot = Plot():line(x1, y1,'red','f0'):legend(true):title('Feature Observation of a Tone '..newtestset.label[sampleN]):draw()\n",
    "-- plot:line(x1, y2,'blue','engy'):redraw()"
   ]
  },
  {
   "cell_type": "code",
   "execution_count": null,
   "metadata": {
    "collapsed": true
   },
   "outputs": [],
   "source": []
  }
 ],
 "metadata": {
  "anaconda-cloud": {},
  "kernelspec": {
   "display_name": "iTorch",
   "language": "lua",
   "name": "itorch"
  },
  "language_info": {
   "name": "lua",
   "version": "5.1"
  }
 },
 "nbformat": 4,
 "nbformat_minor": 0
}

{
 "cells": [
  {
   "cell_type": "markdown",
   "metadata": {},
   "source": [
    "#  Tone Classification Task"
   ]
  },
  {
   "cell_type": "markdown",
   "metadata": {},
   "source": [
    "## Data Preparation"
   ]
  },
  {
   "cell_type": "code",
   "execution_count": 1,
   "metadata": {
    "collapsed": false
   },
   "outputs": [],
   "source": [
    "require 'loader'\n",
    "MAX_LEN = 256\n",
    "-- Loader:new(obj, max_len)\n",
    "ldr = Loader:new(nil, MAX_LEN)"
   ]
  },
  {
   "cell_type": "code",
   "execution_count": 2,
   "metadata": {
    "collapsed": false
   },
   "outputs": [],
   "source": [
    "function make_dataset(name)\n",
    "    local dataset = {data = ldr.data[name], label = ldr.label[name]}\n",
    "    function dataset:size() \n",
    "        return self.data:size(1) \n",
    "    end\n",
    "    for i = 1, dataset:size() do\n",
    "        dataset[i] = {dataset.data[i], dataset.label[i]}\n",
    "    end\n",
    "    for i = 1, 2 do\n",
    "--         we abandon engy...\n",
    "        if i == 2 then\n",
    "            dataset.data[{{}, {}, i}]:fill(0)\n",
    "            break\n",
    "        end\n",
    "        local std = dataset.data[{{}, {}, i}]:std()\n",
    "        dataset.data[{{}, {}, i}]:div(std)\n",
    "    end\n",
    "    return dataset\n",
    "end"
   ]
  },
  {
   "cell_type": "code",
   "execution_count": 3,
   "metadata": {
    "collapsed": false
   },
   "outputs": [],
   "source": [
    "trainset = make_dataset('train')\n",
    "testset = make_dataset('test')\n",
    "newtestset = make_dataset('test_new')"
   ]
  },
  {
   "cell_type": "code",
   "execution_count": 4,
   "metadata": {
    "collapsed": false
   },
   "outputs": [
    {
     "data": {
      "text/html": [
       "<script type=\"text/javascript\">\n",
       "$(function() {\n",
       "    if (typeof (window._bokeh_onload_callbacks) === \"undefined\"){\n",
       "  window._bokeh_onload_callbacks = [];\n",
       "    }\n",
       "    function load_lib(url, callback){\n",
       "  window._bokeh_onload_callbacks.push(callback);\n",
       "  if (window._bokeh_is_loading){\n",
       "      console.log(\"Bokeh: BokehJS is being loaded, scheduling callback at\", new Date());\n",
       "      return null;\n",
       "  }\n",
       "  console.log(\"Bokeh: BokehJS not loaded, scheduling load and callback at\", new Date());\n",
       "  window._bokeh_is_loading = true;\n",
       "  var s = document.createElement('script');\n",
       "  s.src = url;\n",
       "  s.async = true;\n",
       "  s.onreadystatechange = s.onload = function(){\n",
       "      Bokeh.embed.inject_css(\"https://cdn.pydata.org/bokeh-0.7.0.min.css\");\n",
       "      window._bokeh_onload_callbacks.forEach(function(callback){callback()});\n",
       "  };\n",
       "  s.onerror = function(){\n",
       "      console.warn(\"failed to load library \" + url);\n",
       "  };\n",
       "  document.getElementsByTagName(\"head\")[0].appendChild(s);\n",
       "    }\n",
       "\n",
       "    bokehjs_url = \"https://cdn.pydata.org/bokeh-0.7.0.min.js\"\n",
       "\n",
       "    var elt = document.getElementById(\"6ea307e2-93aa-4cdd-cc53-0fe234bdd645\");\n",
       "    if(elt==null) {\n",
       "  console.log(\"Bokeh: ERROR: autoload.js configured with elementid '6ea307e2-93aa-4cdd-cc53-0fe234bdd645'\"\n",
       "        + \"but no matching script tag was found. \")\n",
       "  return false;\n",
       "    }\n",
       "\n",
       "    if(typeof(Bokeh) !== \"undefined\") {\n",
       "  console.log(\"Bokeh: BokehJS loaded, going straight to plotting\");\n",
       "  var modelid = \"b87a236e-39de-4871-c8d4-3339d14ca9fe\";\n",
       "  var modeltype = \"Plot\";\n",
       "  var all_models = [{\"id\":\"81fcbe51-b5ee-4db9-cdc0-b8a407dd40eb\",\"type\":\"ColumnDataSource\",\"attributes\":{\"data\":{\"y\":[0,1.9701235606146,1.9138180304827,1.8704354882855,1.84086911801,1.8168852545709,1.8107733175052,1.7697748058135,1.7745549253197,1.73994570538,1.7445232384484,1.736894199513,1.7289571808467,1.7276052069128,1.7235768327759,1.7199777299104,1.7345086070744,1.7454611048778,1.7469469959778,1.7700355556636,1.7755645755896,1.7786523964004,1.7903661320354,1.7939645190148,1.826368745027,1.8028765743986,1.8519070200822,1.8469711349413,1.8876851981675,1.9183090250214,1.9836772719976,2.0176231352447,2.036804184662,2.1041617951275,2.1333082471356,2.1659418727698,2.1679746449823,2.2291842730576,2.2722145621592,2.2514491733725,2.2502240321226,2.2641980987425,2.3207219555067,2.3160648289323,2.3433341349042,2.2448947536848,2.1192612717115,0,0,0,0,0,0,0,0,0,0,0,0,0,0,0,0,0,0,0,0,0,0,0,0,0,0,0,0,0,0,0,0,0,0,0,0,0,0,0,0,0,0,0,0,0,0,0,0,0,0,0,0,0,0,0,0,0,0,0,0,0,0,0,0,0,0,0,0,0,0,0,0,0,0,0,0,0,0,0,0,0,0,0,0,0,0,0,0,0,0,0,0,0,0,0,0,0,0,0,0,0,0,0,0,0,0,0,0,0,0,0,0,0,0,0,0,0,0,0,0,0,0,0,0,0,0,0,0,0,0,0,0,0,0,0,0,0,0,0,0,0,0,0,0,0,0,0,0,0,0,0,0,0,0,0,0,0,0,0,0,0,0,0,0,0,0,0,0,0,0,0,0,0,0,0,0,0,0,0,0,0,0,0,0,0,0,0,0,0,0,0,0,0,0,0,0,0,0,0,0,0,0,0,0,0,0,0,0,0],\"x\":[1,2,3,4,5,6,7,8,9,10,11,12,13,14,15,16,17,18,19,20,21,22,23,24,25,26,27,28,29,30,31,32,33,34,35,36,37,38,39,40,41,42,43,44,45,46,47,48,49,50,51,52,53,54,55,56,57,58,59,60,61,62,63,64,65,66,67,68,69,70,71,72,73,74,75,76,77,78,79,80,81,82,83,84,85,86,87,88,89,90,91,92,93,94,95,96,97,98,99,100,101,102,103,104,105,106,107,108,109,110,111,112,113,114,115,116,117,118,119,120,121,122,123,124,125,126,127,128,129,130,131,132,133,134,135,136,137,138,139,140,141,142,143,144,145,146,147,148,149,150,151,152,153,154,155,156,157,158,159,160,161,162,163,164,165,166,167,168,169,170,171,172,173,174,175,176,177,178,179,180,181,182,183,184,185,186,187,188,189,190,191,192,193,194,195,196,197,198,199,200,201,202,203,204,205,206,207,208,209,210,211,212,213,214,215,216,217,218,219,220,221,222,223,224,225,226,227,228,229,230,231,232,233,234,235,236,237,238,239,240,241,242,243,244,245,246,247,248,249,250,251,252,253,254,255,256]},\"column_names\":[\"y\",\"x\"],\"cont_ranges\":{},\"discrete_ranges\":{},\"selected\":[],\"id\":\"81fcbe51-b5ee-4db9-cdc0-b8a407dd40eb\",\"doc\":null,\"tags\":[]}},{\"id\":\"dc92eb86-db89-4bee-cb2f-cecbba231d70\",\"type\":\"Line\",\"attributes\":{\"fill_alpha\":{\"units\":\"data\",\"value\":0.2},\"line_alpha\":{\"units\":\"data\",\"value\":1},\"doc\":null,\"size\":{\"units\":\"screen\",\"value\":10},\"fill_color\":{\"value\":\"red\"},\"line_color\":{\"value\":\"red\"},\"x\":{\"units\":\"data\",\"field\":\"x\"},\"id\":\"dc92eb86-db89-4bee-cb2f-cecbba231d70\",\"y\":{\"units\":\"data\",\"field\":\"y\"},\"tags\":[]}},{\"id\":\"fbfc8de8-bb8e-45f2-c544-0110242eab1d\",\"type\":\"Line\",\"attributes\":{\"fill_alpha\":{\"units\":\"data\",\"value\":0.2},\"line_alpha\":{\"units\":\"data\",\"value\":1},\"doc\":null,\"size\":{\"units\":\"screen\",\"value\":10},\"fill_color\":{\"value\":\"red\"},\"line_color\":{\"value\":\"red\"},\"x\":{\"units\":\"data\",\"field\":\"x\"},\"id\":\"fbfc8de8-bb8e-45f2-c544-0110242eab1d\",\"y\":{\"units\":\"data\",\"field\":\"y\"},\"tags\":[]}},{\"id\":\"3ec781e8-420c-4d75-cdcb-dee6b0d0068c\",\"type\":\"GlyphRenderer\",\"attributes\":{\"name\":null,\"nonselection_glyph\":{\"type\":\"Line\",\"id\":\"fbfc8de8-bb8e-45f2-c544-0110242eab1d\"},\"doc\":null,\"server_data_source\":null,\"data_source\":{\"type\":\"ColumnDataSource\",\"id\":\"81fcbe51-b5ee-4db9-cdc0-b8a407dd40eb\"},\"glyph\":{\"type\":\"Line\",\"id\":\"dc92eb86-db89-4bee-cb2f-cecbba231d70\"},\"selection_glyph\":null,\"id\":\"3ec781e8-420c-4d75-cdcb-dee6b0d0068c\",\"tags\":[]}},{\"id\":\"d3c40fd8-8b54-4e08-cecf-70e347496f7d\",\"type\":\"DataRange1d\",\"attributes\":{\"sources\":[{\"columns\":[\"x\"],\"source\":{\"type\":\"ColumnDataSource\",\"id\":\"81fcbe51-b5ee-4db9-cdc0-b8a407dd40eb\"}}],\"id\":\"d3c40fd8-8b54-4e08-cecf-70e347496f7d\",\"tags\":[],\"doc\":null}},{\"id\":\"295bbb71-c767-4e62-cea9-fd82614afb58\",\"type\":\"DataRange1d\",\"attributes\":{\"sources\":[{\"columns\":[\"y\"],\"source\":{\"type\":\"ColumnDataSource\",\"id\":\"81fcbe51-b5ee-4db9-cdc0-b8a407dd40eb\"}}],\"id\":\"295bbb71-c767-4e62-cea9-fd82614afb58\",\"tags\":[],\"doc\":null}},{\"id\":\"676a8e95-a689-4ce2-ccdf-bc8ad9f32418\",\"type\":\"ToolEvents\",\"attributes\":{\"tags\":[],\"id\":\"676a8e95-a689-4ce2-ccdf-bc8ad9f32418\",\"geometries\":[],\"doc\":null}},{\"id\":\"525beeef-1526-4bb9-cbcf-5fed4d9e2200\",\"type\":\"BasicTickFormatter\",\"attributes\":{\"id\":\"525beeef-1526-4bb9-cbcf-5fed4d9e2200\",\"tags\":[],\"doc\":null}},{\"id\":\"fb8d1727-b786-45ce-c531-9c54b5609220\",\"type\":\"BasicTicker\",\"attributes\":{\"num_minor_ticks\":5,\"id\":\"fb8d1727-b786-45ce-c531-9c54b5609220\",\"tags\":[],\"doc\":null}},{\"id\":\"598729a1-0cf7-497a-c946-bb2b6c2bb0b4\",\"type\":\"LinearAxis\",\"attributes\":{\"formatter\":{\"type\":\"BasicTickFormatter\",\"id\":\"525beeef-1526-4bb9-cbcf-5fed4d9e2200\"},\"ticker\":{\"type\":\"BasicTicker\",\"id\":\"fb8d1727-b786-45ce-c531-9c54b5609220\"},\"plot\":{\"id\":\"b87a236e-39de-4871-c8d4-3339d14ca9fe\",\"type\":\"Plot\",\"subtype\":\"Figure\"},\"axis_label\":null,\"id\":\"598729a1-0cf7-497a-c946-bb2b6c2bb0b4\",\"doc\":null,\"tags\":[]}},{\"id\":\"294bc1d6-012f-4c1b-ccc7-8ff65da8cfb9\",\"type\":\"Grid\",\"attributes\":{\"dimension\":0,\"plot\":{\"id\":\"b87a236e-39de-4871-c8d4-3339d14ca9fe\",\"type\":\"Plot\",\"subtype\":\"Figure\"},\"ticker\":{\"type\":\"BasicTicker\",\"id\":\"fb8d1727-b786-45ce-c531-9c54b5609220\"},\"id\":\"294bc1d6-012f-4c1b-ccc7-8ff65da8cfb9\",\"doc\":null,\"tags\":[]}},{\"id\":\"8065d0d8-e099-4afe-ca1c-cd2fa32b7fc2\",\"type\":\"BasicTickFormatter\",\"attributes\":{\"id\":\"8065d0d8-e099-4afe-ca1c-cd2fa32b7fc2\",\"tags\":[],\"doc\":null}},{\"id\":\"b8bff12f-b404-43d6-c3ca-4404aedee39e\",\"type\":\"BasicTicker\",\"attributes\":{\"num_minor_ticks\":5,\"id\":\"b8bff12f-b404-43d6-c3ca-4404aedee39e\",\"tags\":[],\"doc\":null}},{\"id\":\"90ac4a97-417d-4903-c98b-ed9a675d4918\",\"type\":\"LinearAxis\",\"attributes\":{\"formatter\":{\"type\":\"BasicTickFormatter\",\"id\":\"8065d0d8-e099-4afe-ca1c-cd2fa32b7fc2\"},\"ticker\":{\"type\":\"BasicTicker\",\"id\":\"b8bff12f-b404-43d6-c3ca-4404aedee39e\"},\"plot\":{\"id\":\"b87a236e-39de-4871-c8d4-3339d14ca9fe\",\"type\":\"Plot\",\"subtype\":\"Figure\"},\"axis_label\":null,\"id\":\"90ac4a97-417d-4903-c98b-ed9a675d4918\",\"doc\":null,\"tags\":[]}},{\"id\":\"50ab886e-2ffc-4562-c531-022fe52b2fa8\",\"type\":\"Grid\",\"attributes\":{\"dimension\":1,\"plot\":{\"id\":\"b87a236e-39de-4871-c8d4-3339d14ca9fe\",\"type\":\"Plot\",\"subtype\":\"Figure\"},\"ticker\":{\"type\":\"BasicTicker\",\"id\":\"b8bff12f-b404-43d6-c3ca-4404aedee39e\"},\"id\":\"50ab886e-2ffc-4562-c531-022fe52b2fa8\",\"doc\":null,\"tags\":[]}},{\"id\":\"22748664-18c5-491a-c983-aa6519a2cf3d\",\"type\":\"PanTool\",\"attributes\":{\"plot\":{\"id\":\"b87a236e-39de-4871-c8d4-3339d14ca9fe\",\"type\":\"Plot\",\"subtype\":\"Figure\"},\"dimensions\":[\"width\",\"height\"],\"id\":\"22748664-18c5-491a-c983-aa6519a2cf3d\",\"doc\":null,\"tags\":[]}},{\"id\":\"dfc5d210-21c2-4941-c9e8-e315d3e43f11\",\"type\":\"WheelZoomTool\",\"attributes\":{\"plot\":{\"id\":\"b87a236e-39de-4871-c8d4-3339d14ca9fe\",\"type\":\"Plot\",\"subtype\":\"Figure\"},\"dimensions\":[\"width\",\"height\"],\"id\":\"dfc5d210-21c2-4941-c9e8-e315d3e43f11\",\"doc\":null,\"tags\":[]}},{\"id\":\"dbcc3eaa-b727-47b6-c720-42663355dce0\",\"type\":\"BoxZoomTool\",\"attributes\":{\"plot\":{\"id\":\"b87a236e-39de-4871-c8d4-3339d14ca9fe\",\"type\":\"Plot\",\"subtype\":\"Figure\"},\"id\":\"dbcc3eaa-b727-47b6-c720-42663355dce0\",\"tags\":[],\"doc\":null}},{\"id\":\"5009ef23-82c9-4a61-ca83-74682f17fda2\",\"type\":\"PreviewSaveTool\",\"attributes\":{\"plot\":{\"id\":\"b87a236e-39de-4871-c8d4-3339d14ca9fe\",\"type\":\"Plot\",\"subtype\":\"Figure\"},\"id\":\"5009ef23-82c9-4a61-ca83-74682f17fda2\",\"tags\":[],\"doc\":null}},{\"id\":\"cb31dc76-94d6-465b-c6f7-be2f9280a00e\",\"type\":\"ResizeTool\",\"attributes\":{\"plot\":{\"id\":\"b87a236e-39de-4871-c8d4-3339d14ca9fe\",\"type\":\"Plot\",\"subtype\":\"Figure\"},\"id\":\"cb31dc76-94d6-465b-c6f7-be2f9280a00e\",\"tags\":[],\"doc\":null}},{\"id\":\"2ce6d563-645b-437e-c3e5-955c0880629e\",\"type\":\"ResetTool\",\"attributes\":{\"plot\":{\"id\":\"b87a236e-39de-4871-c8d4-3339d14ca9fe\",\"type\":\"Plot\",\"subtype\":\"Figure\"},\"id\":\"2ce6d563-645b-437e-c3e5-955c0880629e\",\"tags\":[],\"doc\":null}},{\"id\":\"ae9bdc2a-8636-481f-c89f-c93e65dd2be2\",\"type\":\"Legend\",\"attributes\":{\"plot\":{\"id\":\"b87a236e-39de-4871-c8d4-3339d14ca9fe\",\"type\":\"Plot\",\"subtype\":\"Figure\"},\"legends\":[[\"f0\",[{\"type\":\"GlyphRenderer\",\"id\":\"3ec781e8-420c-4d75-cdcb-dee6b0d0068c\"}]]],\"id\":\"ae9bdc2a-8636-481f-c89f-c93e65dd2be2\",\"doc\":null,\"tags\":[]}},{\"id\":\"b87a236e-39de-4871-c8d4-3339d14ca9fe\",\"type\":\"Plot\",\"attributes\":{\"x_range\":{\"type\":\"DataRange1d\",\"id\":\"d3c40fd8-8b54-4e08-cecf-70e347496f7d\"},\"tool_events\":{\"type\":\"ToolEvents\",\"id\":\"676a8e95-a689-4ce2-ccdf-bc8ad9f32418\"},\"below\":[{\"type\":\"LinearAxis\",\"id\":\"598729a1-0cf7-497a-c946-bb2b6c2bb0b4\"}],\"renderers\":[{\"type\":\"GlyphRenderer\",\"id\":\"3ec781e8-420c-4d75-cdcb-dee6b0d0068c\"},{\"type\":\"LinearAxis\",\"id\":\"598729a1-0cf7-497a-c946-bb2b6c2bb0b4\"},{\"type\":\"Grid\",\"id\":\"294bc1d6-012f-4c1b-ccc7-8ff65da8cfb9\"},{\"type\":\"LinearAxis\",\"id\":\"90ac4a97-417d-4903-c98b-ed9a675d4918\"},{\"type\":\"Grid\",\"id\":\"50ab886e-2ffc-4562-c531-022fe52b2fa8\"},{\"type\":\"Legend\",\"id\":\"ae9bdc2a-8636-481f-c89f-c93e65dd2be2\"}],\"above\":[],\"tools\":[{\"type\":\"PanTool\",\"id\":\"22748664-18c5-491a-c983-aa6519a2cf3d\"},{\"type\":\"WheelZoomTool\",\"id\":\"dfc5d210-21c2-4941-c9e8-e315d3e43f11\"},{\"type\":\"BoxZoomTool\",\"id\":\"dbcc3eaa-b727-47b6-c720-42663355dce0\"},{\"type\":\"PreviewSaveTool\",\"id\":\"5009ef23-82c9-4a61-ca83-74682f17fda2\"},{\"type\":\"ResizeTool\",\"id\":\"cb31dc76-94d6-465b-c6f7-be2f9280a00e\"},{\"type\":\"ResetTool\",\"id\":\"2ce6d563-645b-437e-c3e5-955c0880629e\"}],\"doc\":null,\"right\":[],\"title\":\"Feature Observation of a Tone 2\",\"extra_x_ranges\":{},\"left\":[{\"type\":\"LinearAxis\",\"id\":\"90ac4a97-417d-4903-c98b-ed9a675d4918\"}],\"y_range\":{\"type\":\"DataRange1d\",\"id\":\"295bbb71-c767-4e62-cea9-fd82614afb58\"},\"id\":\"b87a236e-39de-4871-c8d4-3339d14ca9fe\",\"extra_y_ranges\":{},\"tags\":[]}}];\n",
       "  Bokeh.load_models(all_models);\n",
       "  var model = Bokeh.Collections(modeltype).get(modelid);\n",
       "  $(\"#6ea307e2-93aa-4cdd-cc53-0fe234bdd645\").html(''); // clear any previous plot in window_id\n",
       "  var view = new model.default_view({model: model, el: \"#6ea307e2-93aa-4cdd-cc53-0fe234bdd645\"});\n",
       "    } else {\n",
       "  load_lib(bokehjs_url, function() {\n",
       "      console.log(\"Bokeh: BokehJS plotting callback run at\", new Date())\n",
       "      var modelid = \"b87a236e-39de-4871-c8d4-3339d14ca9fe\";\n",
       "      var modeltype = \"Plot\";\n",
       "      var all_models = [{\"id\":\"81fcbe51-b5ee-4db9-cdc0-b8a407dd40eb\",\"type\":\"ColumnDataSource\",\"attributes\":{\"data\":{\"y\":[0,1.9701235606146,1.9138180304827,1.8704354882855,1.84086911801,1.8168852545709,1.8107733175052,1.7697748058135,1.7745549253197,1.73994570538,1.7445232384484,1.736894199513,1.7289571808467,1.7276052069128,1.7235768327759,1.7199777299104,1.7345086070744,1.7454611048778,1.7469469959778,1.7700355556636,1.7755645755896,1.7786523964004,1.7903661320354,1.7939645190148,1.826368745027,1.8028765743986,1.8519070200822,1.8469711349413,1.8876851981675,1.9183090250214,1.9836772719976,2.0176231352447,2.036804184662,2.1041617951275,2.1333082471356,2.1659418727698,2.1679746449823,2.2291842730576,2.2722145621592,2.2514491733725,2.2502240321226,2.2641980987425,2.3207219555067,2.3160648289323,2.3433341349042,2.2448947536848,2.1192612717115,0,0,0,0,0,0,0,0,0,0,0,0,0,0,0,0,0,0,0,0,0,0,0,0,0,0,0,0,0,0,0,0,0,0,0,0,0,0,0,0,0,0,0,0,0,0,0,0,0,0,0,0,0,0,0,0,0,0,0,0,0,0,0,0,0,0,0,0,0,0,0,0,0,0,0,0,0,0,0,0,0,0,0,0,0,0,0,0,0,0,0,0,0,0,0,0,0,0,0,0,0,0,0,0,0,0,0,0,0,0,0,0,0,0,0,0,0,0,0,0,0,0,0,0,0,0,0,0,0,0,0,0,0,0,0,0,0,0,0,0,0,0,0,0,0,0,0,0,0,0,0,0,0,0,0,0,0,0,0,0,0,0,0,0,0,0,0,0,0,0,0,0,0,0,0,0,0,0,0,0,0,0,0,0,0,0,0,0,0,0,0,0,0,0,0,0,0,0,0,0,0,0,0,0,0,0,0,0,0],\"x\":[1,2,3,4,5,6,7,8,9,10,11,12,13,14,15,16,17,18,19,20,21,22,23,24,25,26,27,28,29,30,31,32,33,34,35,36,37,38,39,40,41,42,43,44,45,46,47,48,49,50,51,52,53,54,55,56,57,58,59,60,61,62,63,64,65,66,67,68,69,70,71,72,73,74,75,76,77,78,79,80,81,82,83,84,85,86,87,88,89,90,91,92,93,94,95,96,97,98,99,100,101,102,103,104,105,106,107,108,109,110,111,112,113,114,115,116,117,118,119,120,121,122,123,124,125,126,127,128,129,130,131,132,133,134,135,136,137,138,139,140,141,142,143,144,145,146,147,148,149,150,151,152,153,154,155,156,157,158,159,160,161,162,163,164,165,166,167,168,169,170,171,172,173,174,175,176,177,178,179,180,181,182,183,184,185,186,187,188,189,190,191,192,193,194,195,196,197,198,199,200,201,202,203,204,205,206,207,208,209,210,211,212,213,214,215,216,217,218,219,220,221,222,223,224,225,226,227,228,229,230,231,232,233,234,235,236,237,238,239,240,241,242,243,244,245,246,247,248,249,250,251,252,253,254,255,256]},\"column_names\":[\"y\",\"x\"],\"cont_ranges\":{},\"discrete_ranges\":{},\"selected\":[],\"id\":\"81fcbe51-b5ee-4db9-cdc0-b8a407dd40eb\",\"doc\":null,\"tags\":[]}},{\"id\":\"dc92eb86-db89-4bee-cb2f-cecbba231d70\",\"type\":\"Line\",\"attributes\":{\"fill_alpha\":{\"units\":\"data\",\"value\":0.2},\"line_alpha\":{\"units\":\"data\",\"value\":1},\"doc\":null,\"size\":{\"units\":\"screen\",\"value\":10},\"fill_color\":{\"value\":\"red\"},\"line_color\":{\"value\":\"red\"},\"x\":{\"units\":\"data\",\"field\":\"x\"},\"id\":\"dc92eb86-db89-4bee-cb2f-cecbba231d70\",\"y\":{\"units\":\"data\",\"field\":\"y\"},\"tags\":[]}},{\"id\":\"fbfc8de8-bb8e-45f2-c544-0110242eab1d\",\"type\":\"Line\",\"attributes\":{\"fill_alpha\":{\"units\":\"data\",\"value\":0.2},\"line_alpha\":{\"units\":\"data\",\"value\":1},\"doc\":null,\"size\":{\"units\":\"screen\",\"value\":10},\"fill_color\":{\"value\":\"red\"},\"line_color\":{\"value\":\"red\"},\"x\":{\"units\":\"data\",\"field\":\"x\"},\"id\":\"fbfc8de8-bb8e-45f2-c544-0110242eab1d\",\"y\":{\"units\":\"data\",\"field\":\"y\"},\"tags\":[]}},{\"id\":\"3ec781e8-420c-4d75-cdcb-dee6b0d0068c\",\"type\":\"GlyphRenderer\",\"attributes\":{\"name\":null,\"nonselection_glyph\":{\"type\":\"Line\",\"id\":\"fbfc8de8-bb8e-45f2-c544-0110242eab1d\"},\"doc\":null,\"server_data_source\":null,\"data_source\":{\"type\":\"ColumnDataSource\",\"id\":\"81fcbe51-b5ee-4db9-cdc0-b8a407dd40eb\"},\"glyph\":{\"type\":\"Line\",\"id\":\"dc92eb86-db89-4bee-cb2f-cecbba231d70\"},\"selection_glyph\":null,\"id\":\"3ec781e8-420c-4d75-cdcb-dee6b0d0068c\",\"tags\":[]}},{\"id\":\"d3c40fd8-8b54-4e08-cecf-70e347496f7d\",\"type\":\"DataRange1d\",\"attributes\":{\"sources\":[{\"columns\":[\"x\"],\"source\":{\"type\":\"ColumnDataSource\",\"id\":\"81fcbe51-b5ee-4db9-cdc0-b8a407dd40eb\"}}],\"id\":\"d3c40fd8-8b54-4e08-cecf-70e347496f7d\",\"tags\":[],\"doc\":null}},{\"id\":\"295bbb71-c767-4e62-cea9-fd82614afb58\",\"type\":\"DataRange1d\",\"attributes\":{\"sources\":[{\"columns\":[\"y\"],\"source\":{\"type\":\"ColumnDataSource\",\"id\":\"81fcbe51-b5ee-4db9-cdc0-b8a407dd40eb\"}}],\"id\":\"295bbb71-c767-4e62-cea9-fd82614afb58\",\"tags\":[],\"doc\":null}},{\"id\":\"676a8e95-a689-4ce2-ccdf-bc8ad9f32418\",\"type\":\"ToolEvents\",\"attributes\":{\"tags\":[],\"id\":\"676a8e95-a689-4ce2-ccdf-bc8ad9f32418\",\"geometries\":[],\"doc\":null}},{\"id\":\"525beeef-1526-4bb9-cbcf-5fed4d9e2200\",\"type\":\"BasicTickFormatter\",\"attributes\":{\"id\":\"525beeef-1526-4bb9-cbcf-5fed4d9e2200\",\"tags\":[],\"doc\":null}},{\"id\":\"fb8d1727-b786-45ce-c531-9c54b5609220\",\"type\":\"BasicTicker\",\"attributes\":{\"num_minor_ticks\":5,\"id\":\"fb8d1727-b786-45ce-c531-9c54b5609220\",\"tags\":[],\"doc\":null}},{\"id\":\"598729a1-0cf7-497a-c946-bb2b6c2bb0b4\",\"type\":\"LinearAxis\",\"attributes\":{\"formatter\":{\"type\":\"BasicTickFormatter\",\"id\":\"525beeef-1526-4bb9-cbcf-5fed4d9e2200\"},\"ticker\":{\"type\":\"BasicTicker\",\"id\":\"fb8d1727-b786-45ce-c531-9c54b5609220\"},\"plot\":{\"id\":\"b87a236e-39de-4871-c8d4-3339d14ca9fe\",\"type\":\"Plot\",\"subtype\":\"Figure\"},\"axis_label\":null,\"id\":\"598729a1-0cf7-497a-c946-bb2b6c2bb0b4\",\"doc\":null,\"tags\":[]}},{\"id\":\"294bc1d6-012f-4c1b-ccc7-8ff65da8cfb9\",\"type\":\"Grid\",\"attributes\":{\"dimension\":0,\"plot\":{\"id\":\"b87a236e-39de-4871-c8d4-3339d14ca9fe\",\"type\":\"Plot\",\"subtype\":\"Figure\"},\"ticker\":{\"type\":\"BasicTicker\",\"id\":\"fb8d1727-b786-45ce-c531-9c54b5609220\"},\"id\":\"294bc1d6-012f-4c1b-ccc7-8ff65da8cfb9\",\"doc\":null,\"tags\":[]}},{\"id\":\"8065d0d8-e099-4afe-ca1c-cd2fa32b7fc2\",\"type\":\"BasicTickFormatter\",\"attributes\":{\"id\":\"8065d0d8-e099-4afe-ca1c-cd2fa32b7fc2\",\"tags\":[],\"doc\":null}},{\"id\":\"b8bff12f-b404-43d6-c3ca-4404aedee39e\",\"type\":\"BasicTicker\",\"attributes\":{\"num_minor_ticks\":5,\"id\":\"b8bff12f-b404-43d6-c3ca-4404aedee39e\",\"tags\":[],\"doc\":null}},{\"id\":\"90ac4a97-417d-4903-c98b-ed9a675d4918\",\"type\":\"LinearAxis\",\"attributes\":{\"formatter\":{\"type\":\"BasicTickFormatter\",\"id\":\"8065d0d8-e099-4afe-ca1c-cd2fa32b7fc2\"},\"ticker\":{\"type\":\"BasicTicker\",\"id\":\"b8bff12f-b404-43d6-c3ca-4404aedee39e\"},\"plot\":{\"id\":\"b87a236e-39de-4871-c8d4-3339d14ca9fe\",\"type\":\"Plot\",\"subtype\":\"Figure\"},\"axis_label\":null,\"id\":\"90ac4a97-417d-4903-c98b-ed9a675d4918\",\"doc\":null,\"tags\":[]}},{\"id\":\"50ab886e-2ffc-4562-c531-022fe52b2fa8\",\"type\":\"Grid\",\"attributes\":{\"dimension\":1,\"plot\":{\"id\":\"b87a236e-39de-4871-c8d4-3339d14ca9fe\",\"type\":\"Plot\",\"subtype\":\"Figure\"},\"ticker\":{\"type\":\"BasicTicker\",\"id\":\"b8bff12f-b404-43d6-c3ca-4404aedee39e\"},\"id\":\"50ab886e-2ffc-4562-c531-022fe52b2fa8\",\"doc\":null,\"tags\":[]}},{\"id\":\"22748664-18c5-491a-c983-aa6519a2cf3d\",\"type\":\"PanTool\",\"attributes\":{\"plot\":{\"id\":\"b87a236e-39de-4871-c8d4-3339d14ca9fe\",\"type\":\"Plot\",\"subtype\":\"Figure\"},\"dimensions\":[\"width\",\"height\"],\"id\":\"22748664-18c5-491a-c983-aa6519a2cf3d\",\"doc\":null,\"tags\":[]}},{\"id\":\"dfc5d210-21c2-4941-c9e8-e315d3e43f11\",\"type\":\"WheelZoomTool\",\"attributes\":{\"plot\":{\"id\":\"b87a236e-39de-4871-c8d4-3339d14ca9fe\",\"type\":\"Plot\",\"subtype\":\"Figure\"},\"dimensions\":[\"width\",\"height\"],\"id\":\"dfc5d210-21c2-4941-c9e8-e315d3e43f11\",\"doc\":null,\"tags\":[]}},{\"id\":\"dbcc3eaa-b727-47b6-c720-42663355dce0\",\"type\":\"BoxZoomTool\",\"attributes\":{\"plot\":{\"id\":\"b87a236e-39de-4871-c8d4-3339d14ca9fe\",\"type\":\"Plot\",\"subtype\":\"Figure\"},\"id\":\"dbcc3eaa-b727-47b6-c720-42663355dce0\",\"tags\":[],\"doc\":null}},{\"id\":\"5009ef23-82c9-4a61-ca83-74682f17fda2\",\"type\":\"PreviewSaveTool\",\"attributes\":{\"plot\":{\"id\":\"b87a236e-39de-4871-c8d4-3339d14ca9fe\",\"type\":\"Plot\",\"subtype\":\"Figure\"},\"id\":\"5009ef23-82c9-4a61-ca83-74682f17fda2\",\"tags\":[],\"doc\":null}},{\"id\":\"cb31dc76-94d6-465b-c6f7-be2f9280a00e\",\"type\":\"ResizeTool\",\"attributes\":{\"plot\":{\"id\":\"b87a236e-39de-4871-c8d4-3339d14ca9fe\",\"type\":\"Plot\",\"subtype\":\"Figure\"},\"id\":\"cb31dc76-94d6-465b-c6f7-be2f9280a00e\",\"tags\":[],\"doc\":null}},{\"id\":\"2ce6d563-645b-437e-c3e5-955c0880629e\",\"type\":\"ResetTool\",\"attributes\":{\"plot\":{\"id\":\"b87a236e-39de-4871-c8d4-3339d14ca9fe\",\"type\":\"Plot\",\"subtype\":\"Figure\"},\"id\":\"2ce6d563-645b-437e-c3e5-955c0880629e\",\"tags\":[],\"doc\":null}},{\"id\":\"ae9bdc2a-8636-481f-c89f-c93e65dd2be2\",\"type\":\"Legend\",\"attributes\":{\"plot\":{\"id\":\"b87a236e-39de-4871-c8d4-3339d14ca9fe\",\"type\":\"Plot\",\"subtype\":\"Figure\"},\"legends\":[[\"f0\",[{\"type\":\"GlyphRenderer\",\"id\":\"3ec781e8-420c-4d75-cdcb-dee6b0d0068c\"}]]],\"id\":\"ae9bdc2a-8636-481f-c89f-c93e65dd2be2\",\"doc\":null,\"tags\":[]}},{\"id\":\"b87a236e-39de-4871-c8d4-3339d14ca9fe\",\"type\":\"Plot\",\"attributes\":{\"x_range\":{\"type\":\"DataRange1d\",\"id\":\"d3c40fd8-8b54-4e08-cecf-70e347496f7d\"},\"tool_events\":{\"type\":\"ToolEvents\",\"id\":\"676a8e95-a689-4ce2-ccdf-bc8ad9f32418\"},\"below\":[{\"type\":\"LinearAxis\",\"id\":\"598729a1-0cf7-497a-c946-bb2b6c2bb0b4\"}],\"renderers\":[{\"type\":\"GlyphRenderer\",\"id\":\"3ec781e8-420c-4d75-cdcb-dee6b0d0068c\"},{\"type\":\"LinearAxis\",\"id\":\"598729a1-0cf7-497a-c946-bb2b6c2bb0b4\"},{\"type\":\"Grid\",\"id\":\"294bc1d6-012f-4c1b-ccc7-8ff65da8cfb9\"},{\"type\":\"LinearAxis\",\"id\":\"90ac4a97-417d-4903-c98b-ed9a675d4918\"},{\"type\":\"Grid\",\"id\":\"50ab886e-2ffc-4562-c531-022fe52b2fa8\"},{\"type\":\"Legend\",\"id\":\"ae9bdc2a-8636-481f-c89f-c93e65dd2be2\"}],\"above\":[],\"tools\":[{\"type\":\"PanTool\",\"id\":\"22748664-18c5-491a-c983-aa6519a2cf3d\"},{\"type\":\"WheelZoomTool\",\"id\":\"dfc5d210-21c2-4941-c9e8-e315d3e43f11\"},{\"type\":\"BoxZoomTool\",\"id\":\"dbcc3eaa-b727-47b6-c720-42663355dce0\"},{\"type\":\"PreviewSaveTool\",\"id\":\"5009ef23-82c9-4a61-ca83-74682f17fda2\"},{\"type\":\"ResizeTool\",\"id\":\"cb31dc76-94d6-465b-c6f7-be2f9280a00e\"},{\"type\":\"ResetTool\",\"id\":\"2ce6d563-645b-437e-c3e5-955c0880629e\"}],\"doc\":null,\"right\":[],\"title\":\"Feature Observation of a Tone 2\",\"extra_x_ranges\":{},\"left\":[{\"type\":\"LinearAxis\",\"id\":\"90ac4a97-417d-4903-c98b-ed9a675d4918\"}],\"y_range\":{\"type\":\"DataRange1d\",\"id\":\"295bbb71-c767-4e62-cea9-fd82614afb58\"},\"id\":\"b87a236e-39de-4871-c8d4-3339d14ca9fe\",\"extra_y_ranges\":{},\"tags\":[]}}];\n",
       "      Bokeh.load_models(all_models);\n",
       "      var model = Bokeh.Collections(modeltype).get(modelid);\n",
       "      $(\"#6ea307e2-93aa-4cdd-cc53-0fe234bdd645\").html(''); // clear any previous plot in window_id\n",
       "      var view = new model.default_view({model: model, el: \"#6ea307e2-93aa-4cdd-cc53-0fe234bdd645\"});\n",
       "  });\n",
       "    }\n",
       "});\n",
       "</script>\n",
       "<div class=\"plotdiv\" id=\"6ea307e2-93aa-4cdd-cc53-0fe234bdd645\"></div>\n"
      ]
     },
     "metadata": {},
     "output_type": "display_data"
    },
    {
     "data": {
      "text/html": [
       "<script type=\"text/javascript\">\n",
       "$(function() {\n",
       "    if (typeof (window._bokeh_onload_callbacks) === \"undefined\"){\n",
       "  window._bokeh_onload_callbacks = [];\n",
       "    }\n",
       "    function load_lib(url, callback){\n",
       "  window._bokeh_onload_callbacks.push(callback);\n",
       "  if (window._bokeh_is_loading){\n",
       "      console.log(\"Bokeh: BokehJS is being loaded, scheduling callback at\", new Date());\n",
       "      return null;\n",
       "  }\n",
       "  console.log(\"Bokeh: BokehJS not loaded, scheduling load and callback at\", new Date());\n",
       "  window._bokeh_is_loading = true;\n",
       "  var s = document.createElement('script');\n",
       "  s.src = url;\n",
       "  s.async = true;\n",
       "  s.onreadystatechange = s.onload = function(){\n",
       "      Bokeh.embed.inject_css(\"https://cdn.pydata.org/bokeh-0.7.0.min.css\");\n",
       "      window._bokeh_onload_callbacks.forEach(function(callback){callback()});\n",
       "  };\n",
       "  s.onerror = function(){\n",
       "      console.warn(\"failed to load library \" + url);\n",
       "  };\n",
       "  document.getElementsByTagName(\"head\")[0].appendChild(s);\n",
       "    }\n",
       "\n",
       "    bokehjs_url = \"https://cdn.pydata.org/bokeh-0.7.0.min.js\"\n",
       "\n",
       "    var elt = document.getElementById(\"6ea307e2-93aa-4cdd-cc53-0fe234bdd645\");\n",
       "    if(elt==null) {\n",
       "  console.log(\"Bokeh: ERROR: autoload.js configured with elementid '6ea307e2-93aa-4cdd-cc53-0fe234bdd645'\"\n",
       "        + \"but no matching script tag was found. \")\n",
       "  return false;\n",
       "    }\n",
       "\n",
       "    if(typeof(Bokeh) !== \"undefined\") {\n",
       "  console.log(\"Bokeh: BokehJS loaded, going straight to plotting\");\n",
       "  var modelid = \"bc15cc70-ce9e-41f7-c15e-cf43818825f6\";\n",
       "  var modeltype = \"Plot\";\n",
       "  var all_models = [{\"id\":\"f58a716c-0919-4ed1-ce81-4532f5591c71\",\"type\":\"ColumnDataSource\",\"attributes\":{\"data\":{\"y\":[0,1.9701235606146,1.9138180304827,1.8704354882855,1.84086911801,1.8168852545709,1.8107733175052,1.7697748058135,1.7745549253197,1.73994570538,1.7445232384484,1.736894199513,1.7289571808467,1.7276052069128,1.7235768327759,1.7199777299104,1.7345086070744,1.7454611048778,1.7469469959778,1.7700355556636,1.7755645755896,1.7786523964004,1.7903661320354,1.7939645190148,1.826368745027,1.8028765743986,1.8519070200822,1.8469711349413,1.8876851981675,1.9183090250214,1.9836772719976,2.0176231352447,2.036804184662,2.1041617951275,2.1333082471356,2.1659418727698,2.1679746449823,2.2291842730576,2.2722145621592,2.2514491733725,2.2502240321226,2.2641980987425,2.3207219555067,2.3160648289323,2.3433341349042,2.2448947536848,2.1192612717115,0,0,0,0,0,0,0,0,0,0,0,0,0,0,0,0,0,0,0,0,0,0,0,0,0,0,0,0,0,0,0,0,0,0,0,0,0,0,0,0,0,0,0,0,0,0,0,0,0,0,0,0,0,0,0,0,0,0,0,0,0,0,0,0,0,0,0,0,0,0,0,0,0,0,0,0,0,0,0,0,0,0,0,0,0,0,0,0,0,0,0,0,0,0,0,0,0,0,0,0,0,0,0,0,0,0,0,0,0,0,0,0,0,0,0,0,0,0,0,0,0,0,0,0,0,0,0,0,0,0,0,0,0,0,0,0,0,0,0,0,0,0,0,0,0,0,0,0,0,0,0,0,0,0,0,0,0,0,0,0,0,0,0,0,0,0,0,0,0,0,0,0,0,0,0,0,0,0,0,0,0,0,0,0,0,0,0,0,0,0,0,0,0,0,0,0,0,0,0,0,0,0,0,0,0,0,0,0,0],\"x\":[1,2,3,4,5,6,7,8,9,10,11,12,13,14,15,16,17,18,19,20,21,22,23,24,25,26,27,28,29,30,31,32,33,34,35,36,37,38,39,40,41,42,43,44,45,46,47,48,49,50,51,52,53,54,55,56,57,58,59,60,61,62,63,64,65,66,67,68,69,70,71,72,73,74,75,76,77,78,79,80,81,82,83,84,85,86,87,88,89,90,91,92,93,94,95,96,97,98,99,100,101,102,103,104,105,106,107,108,109,110,111,112,113,114,115,116,117,118,119,120,121,122,123,124,125,126,127,128,129,130,131,132,133,134,135,136,137,138,139,140,141,142,143,144,145,146,147,148,149,150,151,152,153,154,155,156,157,158,159,160,161,162,163,164,165,166,167,168,169,170,171,172,173,174,175,176,177,178,179,180,181,182,183,184,185,186,187,188,189,190,191,192,193,194,195,196,197,198,199,200,201,202,203,204,205,206,207,208,209,210,211,212,213,214,215,216,217,218,219,220,221,222,223,224,225,226,227,228,229,230,231,232,233,234,235,236,237,238,239,240,241,242,243,244,245,246,247,248,249,250,251,252,253,254,255,256]},\"column_names\":[\"y\",\"x\"],\"cont_ranges\":{},\"discrete_ranges\":{},\"selected\":[],\"id\":\"f58a716c-0919-4ed1-ce81-4532f5591c71\",\"doc\":null,\"tags\":[]}},{\"id\":\"7d0e3034-00f9-433f-c303-8ee9f15f43eb\",\"type\":\"Line\",\"attributes\":{\"fill_alpha\":{\"units\":\"data\",\"value\":0.2},\"line_alpha\":{\"units\":\"data\",\"value\":1},\"doc\":null,\"size\":{\"units\":\"screen\",\"value\":10},\"fill_color\":{\"value\":\"red\"},\"line_color\":{\"value\":\"red\"},\"x\":{\"units\":\"data\",\"field\":\"x\"},\"id\":\"7d0e3034-00f9-433f-c303-8ee9f15f43eb\",\"y\":{\"units\":\"data\",\"field\":\"y\"},\"tags\":[]}},{\"id\":\"3f6751a2-733b-4934-c931-1d1d86374e94\",\"type\":\"Line\",\"attributes\":{\"fill_alpha\":{\"units\":\"data\",\"value\":0.2},\"line_alpha\":{\"units\":\"data\",\"value\":1},\"doc\":null,\"size\":{\"units\":\"screen\",\"value\":10},\"fill_color\":{\"value\":\"red\"},\"line_color\":{\"value\":\"red\"},\"x\":{\"units\":\"data\",\"field\":\"x\"},\"id\":\"3f6751a2-733b-4934-c931-1d1d86374e94\",\"y\":{\"units\":\"data\",\"field\":\"y\"},\"tags\":[]}},{\"id\":\"916b9db1-7745-489e-c89f-1f690cc20823\",\"type\":\"GlyphRenderer\",\"attributes\":{\"name\":null,\"nonselection_glyph\":{\"type\":\"Line\",\"id\":\"3f6751a2-733b-4934-c931-1d1d86374e94\"},\"doc\":null,\"server_data_source\":null,\"data_source\":{\"type\":\"ColumnDataSource\",\"id\":\"f58a716c-0919-4ed1-ce81-4532f5591c71\"},\"glyph\":{\"type\":\"Line\",\"id\":\"7d0e3034-00f9-433f-c303-8ee9f15f43eb\"},\"selection_glyph\":null,\"id\":\"916b9db1-7745-489e-c89f-1f690cc20823\",\"tags\":[]}},{\"id\":\"1abaa17f-bd72-4876-c83c-1f031df8990d\",\"type\":\"ColumnDataSource\",\"attributes\":{\"data\":{\"y\":[0,0,0,0,0,0,0,0,0,0,0,0,0,0,0,0,0,0,0,0,0,0,0,0,0,0,0,0,0,0,0,0,0,0,0,0,0,0,0,0,0,0,0,0,0,0,0,0,0,0,0,0,0,0,0,0,0,0,0,0,0,0,0,0,0,0,0,0,0,0,0,0,0,0,0,0,0,0,0,0,0,0,0,0,0,0,0,0,0,0,0,0,0,0,0,0,0,0,0,0,0,0,0,0,0,0,0,0,0,0,0,0,0,0,0,0,0,0,0,0,0,0,0,0,0,0,0,0,0,0,0,0,0,0,0,0,0,0,0,0,0,0,0,0,0,0,0,0,0,0,0,0,0,0,0,0,0,0,0,0,0,0,0,0,0,0,0,0,0,0,0,0,0,0,0,0,0,0,0,0,0,0,0,0,0,0,0,0,0,0,0,0,0,0,0,0,0,0,0,0,0,0,0,0,0,0,0,0,0,0,0,0,0,0,0,0,0,0,0,0,0,0,0,0,0,0,0,0,0,0,0,0,0,0,0,0,0,0,0,0,0,0,0,0,0,0,0,0,0,0,0,0,0,0,0,0],\"x\":[1,2,3,4,5,6,7,8,9,10,11,12,13,14,15,16,17,18,19,20,21,22,23,24,25,26,27,28,29,30,31,32,33,34,35,36,37,38,39,40,41,42,43,44,45,46,47,48,49,50,51,52,53,54,55,56,57,58,59,60,61,62,63,64,65,66,67,68,69,70,71,72,73,74,75,76,77,78,79,80,81,82,83,84,85,86,87,88,89,90,91,92,93,94,95,96,97,98,99,100,101,102,103,104,105,106,107,108,109,110,111,112,113,114,115,116,117,118,119,120,121,122,123,124,125,126,127,128,129,130,131,132,133,134,135,136,137,138,139,140,141,142,143,144,145,146,147,148,149,150,151,152,153,154,155,156,157,158,159,160,161,162,163,164,165,166,167,168,169,170,171,172,173,174,175,176,177,178,179,180,181,182,183,184,185,186,187,188,189,190,191,192,193,194,195,196,197,198,199,200,201,202,203,204,205,206,207,208,209,210,211,212,213,214,215,216,217,218,219,220,221,222,223,224,225,226,227,228,229,230,231,232,233,234,235,236,237,238,239,240,241,242,243,244,245,246,247,248,249,250,251,252,253,254,255,256]},\"column_names\":[\"y\",\"x\"],\"cont_ranges\":{},\"discrete_ranges\":{},\"selected\":[],\"id\":\"1abaa17f-bd72-4876-c83c-1f031df8990d\",\"doc\":null,\"tags\":[]}},{\"id\":\"6b9474d1-8d60-4850-c806-e7a23f5fff7f\",\"type\":\"Line\",\"attributes\":{\"fill_alpha\":{\"units\":\"data\",\"value\":0.2},\"line_alpha\":{\"units\":\"data\",\"value\":1},\"doc\":null,\"size\":{\"units\":\"screen\",\"value\":10},\"fill_color\":{\"value\":\"blue\"},\"line_color\":{\"value\":\"blue\"},\"x\":{\"units\":\"data\",\"field\":\"x\"},\"id\":\"6b9474d1-8d60-4850-c806-e7a23f5fff7f\",\"y\":{\"units\":\"data\",\"field\":\"y\"},\"tags\":[]}},{\"id\":\"a49f8f88-172c-43fc-c36e-1e4be944b303\",\"type\":\"Line\",\"attributes\":{\"fill_alpha\":{\"units\":\"data\",\"value\":0.2},\"line_alpha\":{\"units\":\"data\",\"value\":1},\"doc\":null,\"size\":{\"units\":\"screen\",\"value\":10},\"fill_color\":{\"value\":\"blue\"},\"line_color\":{\"value\":\"blue\"},\"x\":{\"units\":\"data\",\"field\":\"x\"},\"id\":\"a49f8f88-172c-43fc-c36e-1e4be944b303\",\"y\":{\"units\":\"data\",\"field\":\"y\"},\"tags\":[]}},{\"id\":\"4c92973d-d7fe-41e5-c1dd-b80d028b6905\",\"type\":\"GlyphRenderer\",\"attributes\":{\"name\":null,\"nonselection_glyph\":{\"type\":\"Line\",\"id\":\"a49f8f88-172c-43fc-c36e-1e4be944b303\"},\"doc\":null,\"server_data_source\":null,\"data_source\":{\"type\":\"ColumnDataSource\",\"id\":\"1abaa17f-bd72-4876-c83c-1f031df8990d\"},\"glyph\":{\"type\":\"Line\",\"id\":\"6b9474d1-8d60-4850-c806-e7a23f5fff7f\"},\"selection_glyph\":null,\"id\":\"4c92973d-d7fe-41e5-c1dd-b80d028b6905\",\"tags\":[]}},{\"id\":\"c1b533d8-3c18-4cdd-cc47-403647fe1018\",\"type\":\"DataRange1d\",\"attributes\":{\"sources\":[{\"columns\":[\"x\"],\"source\":{\"type\":\"ColumnDataSource\",\"id\":\"f58a716c-0919-4ed1-ce81-4532f5591c71\"}},{\"columns\":[\"x\"],\"source\":{\"type\":\"ColumnDataSource\",\"id\":\"1abaa17f-bd72-4876-c83c-1f031df8990d\"}}],\"id\":\"c1b533d8-3c18-4cdd-cc47-403647fe1018\",\"tags\":[],\"doc\":null}},{\"id\":\"f7004df0-ddf7-4d03-cdb8-4fa1de6e3bcf\",\"type\":\"DataRange1d\",\"attributes\":{\"sources\":[{\"columns\":[\"y\"],\"source\":{\"type\":\"ColumnDataSource\",\"id\":\"f58a716c-0919-4ed1-ce81-4532f5591c71\"}},{\"columns\":[\"y\"],\"source\":{\"type\":\"ColumnDataSource\",\"id\":\"1abaa17f-bd72-4876-c83c-1f031df8990d\"}}],\"id\":\"f7004df0-ddf7-4d03-cdb8-4fa1de6e3bcf\",\"tags\":[],\"doc\":null}},{\"id\":\"fc73a7e6-7404-4f02-cf0e-21bbb4c021ef\",\"type\":\"ToolEvents\",\"attributes\":{\"tags\":[],\"id\":\"fc73a7e6-7404-4f02-cf0e-21bbb4c021ef\",\"geometries\":[],\"doc\":null}},{\"id\":\"3341b4ae-cbb7-4b06-cb09-af6b68284b67\",\"type\":\"BasicTickFormatter\",\"attributes\":{\"id\":\"3341b4ae-cbb7-4b06-cb09-af6b68284b67\",\"tags\":[],\"doc\":null}},{\"id\":\"4790005a-184c-44cd-c430-d44d8e4487c9\",\"type\":\"BasicTicker\",\"attributes\":{\"num_minor_ticks\":5,\"id\":\"4790005a-184c-44cd-c430-d44d8e4487c9\",\"tags\":[],\"doc\":null}},{\"id\":\"851d1b8b-11ef-4d4f-cd56-15c4c5291a50\",\"type\":\"LinearAxis\",\"attributes\":{\"formatter\":{\"type\":\"BasicTickFormatter\",\"id\":\"3341b4ae-cbb7-4b06-cb09-af6b68284b67\"},\"ticker\":{\"type\":\"BasicTicker\",\"id\":\"4790005a-184c-44cd-c430-d44d8e4487c9\"},\"plot\":{\"id\":\"bc15cc70-ce9e-41f7-c15e-cf43818825f6\",\"type\":\"Plot\",\"subtype\":\"Figure\"},\"axis_label\":null,\"id\":\"851d1b8b-11ef-4d4f-cd56-15c4c5291a50\",\"doc\":null,\"tags\":[]}},{\"id\":\"edb83bf6-05e3-44b6-c4a2-4de8e78dc2eb\",\"type\":\"Grid\",\"attributes\":{\"dimension\":0,\"plot\":{\"id\":\"bc15cc70-ce9e-41f7-c15e-cf43818825f6\",\"type\":\"Plot\",\"subtype\":\"Figure\"},\"ticker\":{\"type\":\"BasicTicker\",\"id\":\"4790005a-184c-44cd-c430-d44d8e4487c9\"},\"id\":\"edb83bf6-05e3-44b6-c4a2-4de8e78dc2eb\",\"doc\":null,\"tags\":[]}},{\"id\":\"9ad64c8d-0dc1-490d-c9da-0dd82bac1e91\",\"type\":\"BasicTickFormatter\",\"attributes\":{\"id\":\"9ad64c8d-0dc1-490d-c9da-0dd82bac1e91\",\"tags\":[],\"doc\":null}},{\"id\":\"88fe02b4-c305-4443-c4bc-51a48e8ab53c\",\"type\":\"BasicTicker\",\"attributes\":{\"num_minor_ticks\":5,\"id\":\"88fe02b4-c305-4443-c4bc-51a48e8ab53c\",\"tags\":[],\"doc\":null}},{\"id\":\"3de3aa81-2bc2-4514-c55b-552a597be5ee\",\"type\":\"LinearAxis\",\"attributes\":{\"formatter\":{\"type\":\"BasicTickFormatter\",\"id\":\"9ad64c8d-0dc1-490d-c9da-0dd82bac1e91\"},\"ticker\":{\"type\":\"BasicTicker\",\"id\":\"88fe02b4-c305-4443-c4bc-51a48e8ab53c\"},\"plot\":{\"id\":\"bc15cc70-ce9e-41f7-c15e-cf43818825f6\",\"type\":\"Plot\",\"subtype\":\"Figure\"},\"axis_label\":null,\"id\":\"3de3aa81-2bc2-4514-c55b-552a597be5ee\",\"doc\":null,\"tags\":[]}},{\"id\":\"30478146-1415-43bc-c354-2f11b7f63741\",\"type\":\"Grid\",\"attributes\":{\"dimension\":1,\"plot\":{\"id\":\"bc15cc70-ce9e-41f7-c15e-cf43818825f6\",\"type\":\"Plot\",\"subtype\":\"Figure\"},\"ticker\":{\"type\":\"BasicTicker\",\"id\":\"88fe02b4-c305-4443-c4bc-51a48e8ab53c\"},\"id\":\"30478146-1415-43bc-c354-2f11b7f63741\",\"doc\":null,\"tags\":[]}},{\"id\":\"67fedde7-77f3-4be4-cbee-f8d7e302e1f3\",\"type\":\"PanTool\",\"attributes\":{\"plot\":{\"id\":\"bc15cc70-ce9e-41f7-c15e-cf43818825f6\",\"type\":\"Plot\",\"subtype\":\"Figure\"},\"dimensions\":[\"width\",\"height\"],\"id\":\"67fedde7-77f3-4be4-cbee-f8d7e302e1f3\",\"doc\":null,\"tags\":[]}},{\"id\":\"bf1c741c-5060-4927-c9b9-07391de6e8a4\",\"type\":\"WheelZoomTool\",\"attributes\":{\"plot\":{\"id\":\"bc15cc70-ce9e-41f7-c15e-cf43818825f6\",\"type\":\"Plot\",\"subtype\":\"Figure\"},\"dimensions\":[\"width\",\"height\"],\"id\":\"bf1c741c-5060-4927-c9b9-07391de6e8a4\",\"doc\":null,\"tags\":[]}},{\"id\":\"e4375cef-c895-46d0-c6a9-fab205519e72\",\"type\":\"BoxZoomTool\",\"attributes\":{\"plot\":{\"id\":\"bc15cc70-ce9e-41f7-c15e-cf43818825f6\",\"type\":\"Plot\",\"subtype\":\"Figure\"},\"id\":\"e4375cef-c895-46d0-c6a9-fab205519e72\",\"tags\":[],\"doc\":null}},{\"id\":\"648b2e60-e405-4c40-cc5b-fff61141078a\",\"type\":\"PreviewSaveTool\",\"attributes\":{\"plot\":{\"id\":\"bc15cc70-ce9e-41f7-c15e-cf43818825f6\",\"type\":\"Plot\",\"subtype\":\"Figure\"},\"id\":\"648b2e60-e405-4c40-cc5b-fff61141078a\",\"tags\":[],\"doc\":null}},{\"id\":\"489e075e-014c-4ef5-ce93-ac111bcdfad3\",\"type\":\"ResizeTool\",\"attributes\":{\"plot\":{\"id\":\"bc15cc70-ce9e-41f7-c15e-cf43818825f6\",\"type\":\"Plot\",\"subtype\":\"Figure\"},\"id\":\"489e075e-014c-4ef5-ce93-ac111bcdfad3\",\"tags\":[],\"doc\":null}},{\"id\":\"4323d333-fe4b-47ae-c720-624cf01f3eae\",\"type\":\"ResetTool\",\"attributes\":{\"plot\":{\"id\":\"bc15cc70-ce9e-41f7-c15e-cf43818825f6\",\"type\":\"Plot\",\"subtype\":\"Figure\"},\"id\":\"4323d333-fe4b-47ae-c720-624cf01f3eae\",\"tags\":[],\"doc\":null}},{\"id\":\"1aa638fb-0aeb-4e45-cebe-45eea8d8a6e4\",\"type\":\"Legend\",\"attributes\":{\"plot\":{\"id\":\"bc15cc70-ce9e-41f7-c15e-cf43818825f6\",\"type\":\"Plot\",\"subtype\":\"Figure\"},\"legends\":[[\"f0\",[{\"type\":\"GlyphRenderer\",\"id\":\"916b9db1-7745-489e-c89f-1f690cc20823\"}]],[\"engy\",[{\"type\":\"GlyphRenderer\",\"id\":\"4c92973d-d7fe-41e5-c1dd-b80d028b6905\"}]]],\"id\":\"1aa638fb-0aeb-4e45-cebe-45eea8d8a6e4\",\"doc\":null,\"tags\":[]}},{\"id\":\"bc15cc70-ce9e-41f7-c15e-cf43818825f6\",\"type\":\"Plot\",\"attributes\":{\"x_range\":{\"type\":\"DataRange1d\",\"id\":\"c1b533d8-3c18-4cdd-cc47-403647fe1018\"},\"tool_events\":{\"type\":\"ToolEvents\",\"id\":\"fc73a7e6-7404-4f02-cf0e-21bbb4c021ef\"},\"below\":[{\"type\":\"LinearAxis\",\"id\":\"851d1b8b-11ef-4d4f-cd56-15c4c5291a50\"}],\"renderers\":[{\"type\":\"GlyphRenderer\",\"id\":\"916b9db1-7745-489e-c89f-1f690cc20823\"},{\"type\":\"GlyphRenderer\",\"id\":\"4c92973d-d7fe-41e5-c1dd-b80d028b6905\"},{\"type\":\"LinearAxis\",\"id\":\"851d1b8b-11ef-4d4f-cd56-15c4c5291a50\"},{\"type\":\"Grid\",\"id\":\"edb83bf6-05e3-44b6-c4a2-4de8e78dc2eb\"},{\"type\":\"LinearAxis\",\"id\":\"3de3aa81-2bc2-4514-c55b-552a597be5ee\"},{\"type\":\"Grid\",\"id\":\"30478146-1415-43bc-c354-2f11b7f63741\"},{\"type\":\"Legend\",\"id\":\"1aa638fb-0aeb-4e45-cebe-45eea8d8a6e4\"}],\"above\":[],\"tools\":[{\"type\":\"PanTool\",\"id\":\"67fedde7-77f3-4be4-cbee-f8d7e302e1f3\"},{\"type\":\"WheelZoomTool\",\"id\":\"bf1c741c-5060-4927-c9b9-07391de6e8a4\"},{\"type\":\"BoxZoomTool\",\"id\":\"e4375cef-c895-46d0-c6a9-fab205519e72\"},{\"type\":\"PreviewSaveTool\",\"id\":\"648b2e60-e405-4c40-cc5b-fff61141078a\"},{\"type\":\"ResizeTool\",\"id\":\"489e075e-014c-4ef5-ce93-ac111bcdfad3\"},{\"type\":\"ResetTool\",\"id\":\"4323d333-fe4b-47ae-c720-624cf01f3eae\"}],\"doc\":null,\"right\":[],\"title\":\"Feature Observation of a Tone 2\",\"extra_x_ranges\":{},\"left\":[{\"type\":\"LinearAxis\",\"id\":\"3de3aa81-2bc2-4514-c55b-552a597be5ee\"}],\"y_range\":{\"type\":\"DataRange1d\",\"id\":\"f7004df0-ddf7-4d03-cdb8-4fa1de6e3bcf\"},\"id\":\"bc15cc70-ce9e-41f7-c15e-cf43818825f6\",\"extra_y_ranges\":{},\"tags\":[]}}];\n",
       "  Bokeh.load_models(all_models);\n",
       "  var model = Bokeh.Collections(modeltype).get(modelid);\n",
       "  $(\"#6ea307e2-93aa-4cdd-cc53-0fe234bdd645\").html(''); // clear any previous plot in window_id\n",
       "  var view = new model.default_view({model: model, el: \"#6ea307e2-93aa-4cdd-cc53-0fe234bdd645\"});\n",
       "    } else {\n",
       "  load_lib(bokehjs_url, function() {\n",
       "      console.log(\"Bokeh: BokehJS plotting callback run at\", new Date())\n",
       "      var modelid = \"bc15cc70-ce9e-41f7-c15e-cf43818825f6\";\n",
       "      var modeltype = \"Plot\";\n",
       "      var all_models = [{\"id\":\"f58a716c-0919-4ed1-ce81-4532f5591c71\",\"type\":\"ColumnDataSource\",\"attributes\":{\"data\":{\"y\":[0,1.9701235606146,1.9138180304827,1.8704354882855,1.84086911801,1.8168852545709,1.8107733175052,1.7697748058135,1.7745549253197,1.73994570538,1.7445232384484,1.736894199513,1.7289571808467,1.7276052069128,1.7235768327759,1.7199777299104,1.7345086070744,1.7454611048778,1.7469469959778,1.7700355556636,1.7755645755896,1.7786523964004,1.7903661320354,1.7939645190148,1.826368745027,1.8028765743986,1.8519070200822,1.8469711349413,1.8876851981675,1.9183090250214,1.9836772719976,2.0176231352447,2.036804184662,2.1041617951275,2.1333082471356,2.1659418727698,2.1679746449823,2.2291842730576,2.2722145621592,2.2514491733725,2.2502240321226,2.2641980987425,2.3207219555067,2.3160648289323,2.3433341349042,2.2448947536848,2.1192612717115,0,0,0,0,0,0,0,0,0,0,0,0,0,0,0,0,0,0,0,0,0,0,0,0,0,0,0,0,0,0,0,0,0,0,0,0,0,0,0,0,0,0,0,0,0,0,0,0,0,0,0,0,0,0,0,0,0,0,0,0,0,0,0,0,0,0,0,0,0,0,0,0,0,0,0,0,0,0,0,0,0,0,0,0,0,0,0,0,0,0,0,0,0,0,0,0,0,0,0,0,0,0,0,0,0,0,0,0,0,0,0,0,0,0,0,0,0,0,0,0,0,0,0,0,0,0,0,0,0,0,0,0,0,0,0,0,0,0,0,0,0,0,0,0,0,0,0,0,0,0,0,0,0,0,0,0,0,0,0,0,0,0,0,0,0,0,0,0,0,0,0,0,0,0,0,0,0,0,0,0,0,0,0,0,0,0,0,0,0,0,0,0,0,0,0,0,0,0,0,0,0,0,0,0,0,0,0,0,0],\"x\":[1,2,3,4,5,6,7,8,9,10,11,12,13,14,15,16,17,18,19,20,21,22,23,24,25,26,27,28,29,30,31,32,33,34,35,36,37,38,39,40,41,42,43,44,45,46,47,48,49,50,51,52,53,54,55,56,57,58,59,60,61,62,63,64,65,66,67,68,69,70,71,72,73,74,75,76,77,78,79,80,81,82,83,84,85,86,87,88,89,90,91,92,93,94,95,96,97,98,99,100,101,102,103,104,105,106,107,108,109,110,111,112,113,114,115,116,117,118,119,120,121,122,123,124,125,126,127,128,129,130,131,132,133,134,135,136,137,138,139,140,141,142,143,144,145,146,147,148,149,150,151,152,153,154,155,156,157,158,159,160,161,162,163,164,165,166,167,168,169,170,171,172,173,174,175,176,177,178,179,180,181,182,183,184,185,186,187,188,189,190,191,192,193,194,195,196,197,198,199,200,201,202,203,204,205,206,207,208,209,210,211,212,213,214,215,216,217,218,219,220,221,222,223,224,225,226,227,228,229,230,231,232,233,234,235,236,237,238,239,240,241,242,243,244,245,246,247,248,249,250,251,252,253,254,255,256]},\"column_names\":[\"y\",\"x\"],\"cont_ranges\":{},\"discrete_ranges\":{},\"selected\":[],\"id\":\"f58a716c-0919-4ed1-ce81-4532f5591c71\",\"doc\":null,\"tags\":[]}},{\"id\":\"7d0e3034-00f9-433f-c303-8ee9f15f43eb\",\"type\":\"Line\",\"attributes\":{\"fill_alpha\":{\"units\":\"data\",\"value\":0.2},\"line_alpha\":{\"units\":\"data\",\"value\":1},\"doc\":null,\"size\":{\"units\":\"screen\",\"value\":10},\"fill_color\":{\"value\":\"red\"},\"line_color\":{\"value\":\"red\"},\"x\":{\"units\":\"data\",\"field\":\"x\"},\"id\":\"7d0e3034-00f9-433f-c303-8ee9f15f43eb\",\"y\":{\"units\":\"data\",\"field\":\"y\"},\"tags\":[]}},{\"id\":\"3f6751a2-733b-4934-c931-1d1d86374e94\",\"type\":\"Line\",\"attributes\":{\"fill_alpha\":{\"units\":\"data\",\"value\":0.2},\"line_alpha\":{\"units\":\"data\",\"value\":1},\"doc\":null,\"size\":{\"units\":\"screen\",\"value\":10},\"fill_color\":{\"value\":\"red\"},\"line_color\":{\"value\":\"red\"},\"x\":{\"units\":\"data\",\"field\":\"x\"},\"id\":\"3f6751a2-733b-4934-c931-1d1d86374e94\",\"y\":{\"units\":\"data\",\"field\":\"y\"},\"tags\":[]}},{\"id\":\"916b9db1-7745-489e-c89f-1f690cc20823\",\"type\":\"GlyphRenderer\",\"attributes\":{\"name\":null,\"nonselection_glyph\":{\"type\":\"Line\",\"id\":\"3f6751a2-733b-4934-c931-1d1d86374e94\"},\"doc\":null,\"server_data_source\":null,\"data_source\":{\"type\":\"ColumnDataSource\",\"id\":\"f58a716c-0919-4ed1-ce81-4532f5591c71\"},\"glyph\":{\"type\":\"Line\",\"id\":\"7d0e3034-00f9-433f-c303-8ee9f15f43eb\"},\"selection_glyph\":null,\"id\":\"916b9db1-7745-489e-c89f-1f690cc20823\",\"tags\":[]}},{\"id\":\"1abaa17f-bd72-4876-c83c-1f031df8990d\",\"type\":\"ColumnDataSource\",\"attributes\":{\"data\":{\"y\":[0,0,0,0,0,0,0,0,0,0,0,0,0,0,0,0,0,0,0,0,0,0,0,0,0,0,0,0,0,0,0,0,0,0,0,0,0,0,0,0,0,0,0,0,0,0,0,0,0,0,0,0,0,0,0,0,0,0,0,0,0,0,0,0,0,0,0,0,0,0,0,0,0,0,0,0,0,0,0,0,0,0,0,0,0,0,0,0,0,0,0,0,0,0,0,0,0,0,0,0,0,0,0,0,0,0,0,0,0,0,0,0,0,0,0,0,0,0,0,0,0,0,0,0,0,0,0,0,0,0,0,0,0,0,0,0,0,0,0,0,0,0,0,0,0,0,0,0,0,0,0,0,0,0,0,0,0,0,0,0,0,0,0,0,0,0,0,0,0,0,0,0,0,0,0,0,0,0,0,0,0,0,0,0,0,0,0,0,0,0,0,0,0,0,0,0,0,0,0,0,0,0,0,0,0,0,0,0,0,0,0,0,0,0,0,0,0,0,0,0,0,0,0,0,0,0,0,0,0,0,0,0,0,0,0,0,0,0,0,0,0,0,0,0,0,0,0,0,0,0,0,0,0,0,0,0],\"x\":[1,2,3,4,5,6,7,8,9,10,11,12,13,14,15,16,17,18,19,20,21,22,23,24,25,26,27,28,29,30,31,32,33,34,35,36,37,38,39,40,41,42,43,44,45,46,47,48,49,50,51,52,53,54,55,56,57,58,59,60,61,62,63,64,65,66,67,68,69,70,71,72,73,74,75,76,77,78,79,80,81,82,83,84,85,86,87,88,89,90,91,92,93,94,95,96,97,98,99,100,101,102,103,104,105,106,107,108,109,110,111,112,113,114,115,116,117,118,119,120,121,122,123,124,125,126,127,128,129,130,131,132,133,134,135,136,137,138,139,140,141,142,143,144,145,146,147,148,149,150,151,152,153,154,155,156,157,158,159,160,161,162,163,164,165,166,167,168,169,170,171,172,173,174,175,176,177,178,179,180,181,182,183,184,185,186,187,188,189,190,191,192,193,194,195,196,197,198,199,200,201,202,203,204,205,206,207,208,209,210,211,212,213,214,215,216,217,218,219,220,221,222,223,224,225,226,227,228,229,230,231,232,233,234,235,236,237,238,239,240,241,242,243,244,245,246,247,248,249,250,251,252,253,254,255,256]},\"column_names\":[\"y\",\"x\"],\"cont_ranges\":{},\"discrete_ranges\":{},\"selected\":[],\"id\":\"1abaa17f-bd72-4876-c83c-1f031df8990d\",\"doc\":null,\"tags\":[]}},{\"id\":\"6b9474d1-8d60-4850-c806-e7a23f5fff7f\",\"type\":\"Line\",\"attributes\":{\"fill_alpha\":{\"units\":\"data\",\"value\":0.2},\"line_alpha\":{\"units\":\"data\",\"value\":1},\"doc\":null,\"size\":{\"units\":\"screen\",\"value\":10},\"fill_color\":{\"value\":\"blue\"},\"line_color\":{\"value\":\"blue\"},\"x\":{\"units\":\"data\",\"field\":\"x\"},\"id\":\"6b9474d1-8d60-4850-c806-e7a23f5fff7f\",\"y\":{\"units\":\"data\",\"field\":\"y\"},\"tags\":[]}},{\"id\":\"a49f8f88-172c-43fc-c36e-1e4be944b303\",\"type\":\"Line\",\"attributes\":{\"fill_alpha\":{\"units\":\"data\",\"value\":0.2},\"line_alpha\":{\"units\":\"data\",\"value\":1},\"doc\":null,\"size\":{\"units\":\"screen\",\"value\":10},\"fill_color\":{\"value\":\"blue\"},\"line_color\":{\"value\":\"blue\"},\"x\":{\"units\":\"data\",\"field\":\"x\"},\"id\":\"a49f8f88-172c-43fc-c36e-1e4be944b303\",\"y\":{\"units\":\"data\",\"field\":\"y\"},\"tags\":[]}},{\"id\":\"4c92973d-d7fe-41e5-c1dd-b80d028b6905\",\"type\":\"GlyphRenderer\",\"attributes\":{\"name\":null,\"nonselection_glyph\":{\"type\":\"Line\",\"id\":\"a49f8f88-172c-43fc-c36e-1e4be944b303\"},\"doc\":null,\"server_data_source\":null,\"data_source\":{\"type\":\"ColumnDataSource\",\"id\":\"1abaa17f-bd72-4876-c83c-1f031df8990d\"},\"glyph\":{\"type\":\"Line\",\"id\":\"6b9474d1-8d60-4850-c806-e7a23f5fff7f\"},\"selection_glyph\":null,\"id\":\"4c92973d-d7fe-41e5-c1dd-b80d028b6905\",\"tags\":[]}},{\"id\":\"c1b533d8-3c18-4cdd-cc47-403647fe1018\",\"type\":\"DataRange1d\",\"attributes\":{\"sources\":[{\"columns\":[\"x\"],\"source\":{\"type\":\"ColumnDataSource\",\"id\":\"f58a716c-0919-4ed1-ce81-4532f5591c71\"}},{\"columns\":[\"x\"],\"source\":{\"type\":\"ColumnDataSource\",\"id\":\"1abaa17f-bd72-4876-c83c-1f031df8990d\"}}],\"id\":\"c1b533d8-3c18-4cdd-cc47-403647fe1018\",\"tags\":[],\"doc\":null}},{\"id\":\"f7004df0-ddf7-4d03-cdb8-4fa1de6e3bcf\",\"type\":\"DataRange1d\",\"attributes\":{\"sources\":[{\"columns\":[\"y\"],\"source\":{\"type\":\"ColumnDataSource\",\"id\":\"f58a716c-0919-4ed1-ce81-4532f5591c71\"}},{\"columns\":[\"y\"],\"source\":{\"type\":\"ColumnDataSource\",\"id\":\"1abaa17f-bd72-4876-c83c-1f031df8990d\"}}],\"id\":\"f7004df0-ddf7-4d03-cdb8-4fa1de6e3bcf\",\"tags\":[],\"doc\":null}},{\"id\":\"fc73a7e6-7404-4f02-cf0e-21bbb4c021ef\",\"type\":\"ToolEvents\",\"attributes\":{\"tags\":[],\"id\":\"fc73a7e6-7404-4f02-cf0e-21bbb4c021ef\",\"geometries\":[],\"doc\":null}},{\"id\":\"3341b4ae-cbb7-4b06-cb09-af6b68284b67\",\"type\":\"BasicTickFormatter\",\"attributes\":{\"id\":\"3341b4ae-cbb7-4b06-cb09-af6b68284b67\",\"tags\":[],\"doc\":null}},{\"id\":\"4790005a-184c-44cd-c430-d44d8e4487c9\",\"type\":\"BasicTicker\",\"attributes\":{\"num_minor_ticks\":5,\"id\":\"4790005a-184c-44cd-c430-d44d8e4487c9\",\"tags\":[],\"doc\":null}},{\"id\":\"851d1b8b-11ef-4d4f-cd56-15c4c5291a50\",\"type\":\"LinearAxis\",\"attributes\":{\"formatter\":{\"type\":\"BasicTickFormatter\",\"id\":\"3341b4ae-cbb7-4b06-cb09-af6b68284b67\"},\"ticker\":{\"type\":\"BasicTicker\",\"id\":\"4790005a-184c-44cd-c430-d44d8e4487c9\"},\"plot\":{\"id\":\"bc15cc70-ce9e-41f7-c15e-cf43818825f6\",\"type\":\"Plot\",\"subtype\":\"Figure\"},\"axis_label\":null,\"id\":\"851d1b8b-11ef-4d4f-cd56-15c4c5291a50\",\"doc\":null,\"tags\":[]}},{\"id\":\"edb83bf6-05e3-44b6-c4a2-4de8e78dc2eb\",\"type\":\"Grid\",\"attributes\":{\"dimension\":0,\"plot\":{\"id\":\"bc15cc70-ce9e-41f7-c15e-cf43818825f6\",\"type\":\"Plot\",\"subtype\":\"Figure\"},\"ticker\":{\"type\":\"BasicTicker\",\"id\":\"4790005a-184c-44cd-c430-d44d8e4487c9\"},\"id\":\"edb83bf6-05e3-44b6-c4a2-4de8e78dc2eb\",\"doc\":null,\"tags\":[]}},{\"id\":\"9ad64c8d-0dc1-490d-c9da-0dd82bac1e91\",\"type\":\"BasicTickFormatter\",\"attributes\":{\"id\":\"9ad64c8d-0dc1-490d-c9da-0dd82bac1e91\",\"tags\":[],\"doc\":null}},{\"id\":\"88fe02b4-c305-4443-c4bc-51a48e8ab53c\",\"type\":\"BasicTicker\",\"attributes\":{\"num_minor_ticks\":5,\"id\":\"88fe02b4-c305-4443-c4bc-51a48e8ab53c\",\"tags\":[],\"doc\":null}},{\"id\":\"3de3aa81-2bc2-4514-c55b-552a597be5ee\",\"type\":\"LinearAxis\",\"attributes\":{\"formatter\":{\"type\":\"BasicTickFormatter\",\"id\":\"9ad64c8d-0dc1-490d-c9da-0dd82bac1e91\"},\"ticker\":{\"type\":\"BasicTicker\",\"id\":\"88fe02b4-c305-4443-c4bc-51a48e8ab53c\"},\"plot\":{\"id\":\"bc15cc70-ce9e-41f7-c15e-cf43818825f6\",\"type\":\"Plot\",\"subtype\":\"Figure\"},\"axis_label\":null,\"id\":\"3de3aa81-2bc2-4514-c55b-552a597be5ee\",\"doc\":null,\"tags\":[]}},{\"id\":\"30478146-1415-43bc-c354-2f11b7f63741\",\"type\":\"Grid\",\"attributes\":{\"dimension\":1,\"plot\":{\"id\":\"bc15cc70-ce9e-41f7-c15e-cf43818825f6\",\"type\":\"Plot\",\"subtype\":\"Figure\"},\"ticker\":{\"type\":\"BasicTicker\",\"id\":\"88fe02b4-c305-4443-c4bc-51a48e8ab53c\"},\"id\":\"30478146-1415-43bc-c354-2f11b7f63741\",\"doc\":null,\"tags\":[]}},{\"id\":\"67fedde7-77f3-4be4-cbee-f8d7e302e1f3\",\"type\":\"PanTool\",\"attributes\":{\"plot\":{\"id\":\"bc15cc70-ce9e-41f7-c15e-cf43818825f6\",\"type\":\"Plot\",\"subtype\":\"Figure\"},\"dimensions\":[\"width\",\"height\"],\"id\":\"67fedde7-77f3-4be4-cbee-f8d7e302e1f3\",\"doc\":null,\"tags\":[]}},{\"id\":\"bf1c741c-5060-4927-c9b9-07391de6e8a4\",\"type\":\"WheelZoomTool\",\"attributes\":{\"plot\":{\"id\":\"bc15cc70-ce9e-41f7-c15e-cf43818825f6\",\"type\":\"Plot\",\"subtype\":\"Figure\"},\"dimensions\":[\"width\",\"height\"],\"id\":\"bf1c741c-5060-4927-c9b9-07391de6e8a4\",\"doc\":null,\"tags\":[]}},{\"id\":\"e4375cef-c895-46d0-c6a9-fab205519e72\",\"type\":\"BoxZoomTool\",\"attributes\":{\"plot\":{\"id\":\"bc15cc70-ce9e-41f7-c15e-cf43818825f6\",\"type\":\"Plot\",\"subtype\":\"Figure\"},\"id\":\"e4375cef-c895-46d0-c6a9-fab205519e72\",\"tags\":[],\"doc\":null}},{\"id\":\"648b2e60-e405-4c40-cc5b-fff61141078a\",\"type\":\"PreviewSaveTool\",\"attributes\":{\"plot\":{\"id\":\"bc15cc70-ce9e-41f7-c15e-cf43818825f6\",\"type\":\"Plot\",\"subtype\":\"Figure\"},\"id\":\"648b2e60-e405-4c40-cc5b-fff61141078a\",\"tags\":[],\"doc\":null}},{\"id\":\"489e075e-014c-4ef5-ce93-ac111bcdfad3\",\"type\":\"ResizeTool\",\"attributes\":{\"plot\":{\"id\":\"bc15cc70-ce9e-41f7-c15e-cf43818825f6\",\"type\":\"Plot\",\"subtype\":\"Figure\"},\"id\":\"489e075e-014c-4ef5-ce93-ac111bcdfad3\",\"tags\":[],\"doc\":null}},{\"id\":\"4323d333-fe4b-47ae-c720-624cf01f3eae\",\"type\":\"ResetTool\",\"attributes\":{\"plot\":{\"id\":\"bc15cc70-ce9e-41f7-c15e-cf43818825f6\",\"type\":\"Plot\",\"subtype\":\"Figure\"},\"id\":\"4323d333-fe4b-47ae-c720-624cf01f3eae\",\"tags\":[],\"doc\":null}},{\"id\":\"1aa638fb-0aeb-4e45-cebe-45eea8d8a6e4\",\"type\":\"Legend\",\"attributes\":{\"plot\":{\"id\":\"bc15cc70-ce9e-41f7-c15e-cf43818825f6\",\"type\":\"Plot\",\"subtype\":\"Figure\"},\"legends\":[[\"f0\",[{\"type\":\"GlyphRenderer\",\"id\":\"916b9db1-7745-489e-c89f-1f690cc20823\"}]],[\"engy\",[{\"type\":\"GlyphRenderer\",\"id\":\"4c92973d-d7fe-41e5-c1dd-b80d028b6905\"}]]],\"id\":\"1aa638fb-0aeb-4e45-cebe-45eea8d8a6e4\",\"doc\":null,\"tags\":[]}},{\"id\":\"bc15cc70-ce9e-41f7-c15e-cf43818825f6\",\"type\":\"Plot\",\"attributes\":{\"x_range\":{\"type\":\"DataRange1d\",\"id\":\"c1b533d8-3c18-4cdd-cc47-403647fe1018\"},\"tool_events\":{\"type\":\"ToolEvents\",\"id\":\"fc73a7e6-7404-4f02-cf0e-21bbb4c021ef\"},\"below\":[{\"type\":\"LinearAxis\",\"id\":\"851d1b8b-11ef-4d4f-cd56-15c4c5291a50\"}],\"renderers\":[{\"type\":\"GlyphRenderer\",\"id\":\"916b9db1-7745-489e-c89f-1f690cc20823\"},{\"type\":\"GlyphRenderer\",\"id\":\"4c92973d-d7fe-41e5-c1dd-b80d028b6905\"},{\"type\":\"LinearAxis\",\"id\":\"851d1b8b-11ef-4d4f-cd56-15c4c5291a50\"},{\"type\":\"Grid\",\"id\":\"edb83bf6-05e3-44b6-c4a2-4de8e78dc2eb\"},{\"type\":\"LinearAxis\",\"id\":\"3de3aa81-2bc2-4514-c55b-552a597be5ee\"},{\"type\":\"Grid\",\"id\":\"30478146-1415-43bc-c354-2f11b7f63741\"},{\"type\":\"Legend\",\"id\":\"1aa638fb-0aeb-4e45-cebe-45eea8d8a6e4\"}],\"above\":[],\"tools\":[{\"type\":\"PanTool\",\"id\":\"67fedde7-77f3-4be4-cbee-f8d7e302e1f3\"},{\"type\":\"WheelZoomTool\",\"id\":\"bf1c741c-5060-4927-c9b9-07391de6e8a4\"},{\"type\":\"BoxZoomTool\",\"id\":\"e4375cef-c895-46d0-c6a9-fab205519e72\"},{\"type\":\"PreviewSaveTool\",\"id\":\"648b2e60-e405-4c40-cc5b-fff61141078a\"},{\"type\":\"ResizeTool\",\"id\":\"489e075e-014c-4ef5-ce93-ac111bcdfad3\"},{\"type\":\"ResetTool\",\"id\":\"4323d333-fe4b-47ae-c720-624cf01f3eae\"}],\"doc\":null,\"right\":[],\"title\":\"Feature Observation of a Tone 2\",\"extra_x_ranges\":{},\"left\":[{\"type\":\"LinearAxis\",\"id\":\"3de3aa81-2bc2-4514-c55b-552a597be5ee\"}],\"y_range\":{\"type\":\"DataRange1d\",\"id\":\"f7004df0-ddf7-4d03-cdb8-4fa1de6e3bcf\"},\"id\":\"bc15cc70-ce9e-41f7-c15e-cf43818825f6\",\"extra_y_ranges\":{},\"tags\":[]}}];\n",
       "      Bokeh.load_models(all_models);\n",
       "      var model = Bokeh.Collections(modeltype).get(modelid);\n",
       "      $(\"#6ea307e2-93aa-4cdd-cc53-0fe234bdd645\").html(''); // clear any previous plot in window_id\n",
       "      var view = new model.default_view({model: model, el: \"#6ea307e2-93aa-4cdd-cc53-0fe234bdd645\"});\n",
       "  });\n",
       "    }\n",
       "});\n",
       "</script>\n",
       "<div class=\"plotdiv\" id=\"a5b6de1d-d2b3-4e39-ce5e-d76a30234d47\"></div>\n"
      ]
     },
     "metadata": {},
     "output_type": "display_data"
    }
   ],
   "source": [
    "Plot = require 'itorch.Plot'\n",
    "local x1 = torch.range(1,MAX_LEN)\n",
    "local sampleN = 60\n",
    "local y1 = newtestset.data[{sampleN,{},1}]\n",
    "local y2 = newtestset.data[{sampleN,{},2}]\n",
    "plot = Plot():line(x1, y1,'red','f0'):legend(true):title('Feature Observation of a Tone '..newtestset.label[sampleN]):draw()\n",
    "plot:line(x1, y2,'blue','engy'):redraw()"
   ]
  },
  {
   "cell_type": "code",
   "execution_count": 5,
   "metadata": {
    "collapsed": false
   },
   "outputs": [],
   "source": [
    "require 'nn'\n",
    "local inp = 2;  -- dimensionality of one sequence element \n",
    "local outp = 5; -- number of derived features for one sequence element\n",
    "local conv_kw = 4;   -- number of sequence element kernel operates on per step\n",
    "local conv_dw = 4;   -- step dw and go on to the next sequence element\n",
    "\n",
    "local pool_kw = 4;   -- number of sequence element pooled on per step\n",
    "local pool_dw = 4;   -- step dw and go on to the next sequence element\n",
    "\n",
    "local nOutputFrame = (MAX_LEN - conv_kw) / conv_dw + 1\n",
    "local nOutputFrame = (nOutputFrame - pool_kw) / pool_dw + 1\n",
    "\n",
    "net = nn.Sequential()\n",
    "net:add(nn.TemporalConvolution(inp, outp, conv_kw, conv_dw))\n",
    "net:add(nn.ReLU())\n",
    "net:add(nn.TemporalMaxPooling(pool_kw, pool_dw))\n",
    "net:add(nn.View(outp*nOutputFrame))\n",
    "net:add(nn.Linear(outp*nOutputFrame, 64))\n",
    "net:add(nn.ReLU())\n",
    "net:add(nn.Linear(64, 4))\n",
    "net:add(nn.LogSoftMax())"
   ]
  },
  {
   "cell_type": "code",
   "execution_count": 6,
   "metadata": {
    "collapsed": false
   },
   "outputs": [
    {
     "data": {
      "text/plain": [
       "nn.Sequential {\n",
       "  [input -> (1) -> (2) -> (3) -> (4) -> (5) -> (6) -> (7) -> (8) -> output]\n",
       "  (1): nn.TemporalConvolution\n",
       "  (2): nn.ReLU\n",
       "  (3): nn.TemporalMaxPooling\n",
       "  (4): nn.View(80)\n",
       "  (5): nn.Linear(80 -> 64)\n",
       "  (6): nn.ReLU\n",
       "  (7): nn.Linear(64 -> 4)\n",
       "  (8): nn.LogSoftMax\n",
       "}\t\n"
      ]
     },
     "execution_count": 6,
     "metadata": {},
     "output_type": "execute_result"
    }
   ],
   "source": [
    "print (net:__tostring())"
   ]
  },
  {
   "cell_type": "code",
   "execution_count": 7,
   "metadata": {
    "collapsed": false
   },
   "outputs": [],
   "source": [
    "criterion = nn.ClassNLLCriterion();  \n",
    "trainer = nn.StochasticGradient(net, criterion)  \n",
    "trainer.learningRate = 0.001\n",
    "trainer.maxIteration = 200\n",
    "trainer.verbose = False"
   ]
  },
  {
   "cell_type": "code",
   "execution_count": 8,
   "metadata": {
    "collapsed": false
   },
   "outputs": [],
   "source": [
    "function cal_acc(dataset)\n",
    "    local acc = 0.0\n",
    "    for i = 1, dataset:size() do\n",
    "        _, output = torch.max(net:forward(dataset[i][1]), 1)\n",
    "        if output[1] == dataset[i][2] then\n",
    "            acc = acc + 1.0\n",
    "        end\n",
    "    end\n",
    "    acc = acc / dataset:size()\n",
    "    return acc\n",
    "end"
   ]
  },
  {
   "cell_type": "code",
   "execution_count": 9,
   "metadata": {
    "collapsed": false
   },
   "outputs": [],
   "source": [
    "recorder = {loss = {}, trainacc = {}, valacc = {}}\n",
    "trainer.hookIteration = function(obj, iteration, currentError) \n",
    "    table.insert(recorder.loss, currentError)\n",
    "    table.insert(recorder.trainacc, cal_acc(trainset))\n",
    "    table.insert(recorder.valacc, cal_acc(testset))\n",
    "    if (iteration % 10 == 0) then \n",
    "        print('Iteration '..iteration..': loss('..currentError..') train_acc('\n",
    "            ..cal_acc(trainset)..') test_acc('..cal_acc(testset)..').') \n",
    "    end\n",
    "end"
   ]
  },
  {
   "cell_type": "code",
   "execution_count": 10,
   "metadata": {
    "collapsed": false
   },
   "outputs": [
    {
     "data": {
      "text/plain": [
       "# StochasticGradient: training\t\n"
      ]
     },
     "execution_count": 10,
     "metadata": {},
     "output_type": "execute_result"
    },
    {
     "data": {
      "text/plain": [
       "Iteration 10: loss(0.52528816998077) train_acc(0.8025) test_acc(0.85).\t\n"
      ]
     },
     "execution_count": 10,
     "metadata": {},
     "output_type": "execute_result"
    },
    {
     "data": {
      "text/plain": [
       "Iteration 20: loss(0.33721775707839) train_acc(0.91) test_acc(0.9).\t\n"
      ]
     },
     "execution_count": 10,
     "metadata": {},
     "output_type": "execute_result"
    },
    {
     "data": {
      "text/plain": [
       "Iteration 30: loss(0.27129143864792) train_acc(0.94) test_acc(0.925).\t\n"
      ]
     },
     "execution_count": 10,
     "metadata": {},
     "output_type": "execute_result"
    },
    {
     "data": {
      "text/plain": [
       "Iteration 40: loss(0.24045226222827) train_acc(0.95) test_acc(0.975).\t\n"
      ]
     },
     "execution_count": 10,
     "metadata": {},
     "output_type": "execute_result"
    },
    {
     "data": {
      "text/plain": [
       "Iteration 50: loss(0.21801589895704) train_acc(0.95) test_acc(0.975).\t\n"
      ]
     },
     "execution_count": 10,
     "metadata": {},
     "output_type": "execute_result"
    },
    {
     "data": {
      "text/plain": [
       "Iteration 60: loss(0.20097907062252) train_acc(0.97) test_acc(0.975).\t\n"
      ]
     },
     "execution_count": 10,
     "metadata": {},
     "output_type": "execute_result"
    },
    {
     "data": {
      "text/plain": [
       "Iteration 70: loss(0.18680750113028) train_acc(0.97) test_acc(0.975).\t\n"
      ]
     },
     "execution_count": 10,
     "metadata": {},
     "output_type": "execute_result"
    },
    {
     "data": {
      "text/plain": [
       "Iteration 80: loss(0.17495980118318) train_acc(0.97) test_acc(0.975).\t\n"
      ]
     },
     "execution_count": 10,
     "metadata": {},
     "output_type": "execute_result"
    },
    {
     "data": {
      "text/plain": [
       "Iteration 90: loss(0.16470007927965) train_acc(0.9725) test_acc(0.975).\t\n"
      ]
     },
     "execution_count": 10,
     "metadata": {},
     "output_type": "execute_result"
    },
    {
     "data": {
      "text/plain": [
       "Iteration 100: loss(0.15578904940286) train_acc(0.975) test_acc(0.975).\t\n"
      ]
     },
     "execution_count": 10,
     "metadata": {},
     "output_type": "execute_result"
    },
    {
     "data": {
      "text/plain": [
       "Iteration 110: loss(0.14769692816478) train_acc(0.9775) test_acc(0.975).\t\n"
      ]
     },
     "execution_count": 10,
     "metadata": {},
     "output_type": "execute_result"
    },
    {
     "data": {
      "text/plain": [
       "Iteration 120: loss(0.14025398843405) train_acc(0.98) test_acc(0.975).\t\n"
      ]
     },
     "execution_count": 10,
     "metadata": {},
     "output_type": "execute_result"
    },
    {
     "data": {
      "text/plain": [
       "Iteration 130: loss(0.13330973775922) train_acc(0.98) test_acc(0.975).\t\n"
      ]
     },
     "execution_count": 10,
     "metadata": {},
     "output_type": "execute_result"
    },
    {
     "data": {
      "text/plain": [
       "Iteration 140: loss(0.12697176893922) train_acc(0.98) test_acc(0.975).\t\n"
      ]
     },
     "execution_count": 10,
     "metadata": {},
     "output_type": "execute_result"
    },
    {
     "data": {
      "text/plain": [
       "Iteration 150: loss(0.12203139087049) train_acc(0.98) test_acc(0.975).\t\n"
      ]
     },
     "execution_count": 10,
     "metadata": {},
     "output_type": "execute_result"
    },
    {
     "data": {
      "text/plain": [
       "Iteration 160: loss(0.11777277269579) train_acc(0.98) test_acc(0.975).\t\n"
      ]
     },
     "execution_count": 10,
     "metadata": {},
     "output_type": "execute_result"
    },
    {
     "data": {
      "text/plain": [
       "Iteration 170: loss(0.11454427258382) train_acc(0.98) test_acc(0.975).\t\n"
      ]
     },
     "execution_count": 10,
     "metadata": {},
     "output_type": "execute_result"
    },
    {
     "data": {
      "text/plain": [
       "Iteration 180: loss(0.11132242277332) train_acc(0.98) test_acc(0.975).\t\n"
      ]
     },
     "execution_count": 10,
     "metadata": {},
     "output_type": "execute_result"
    },
    {
     "data": {
      "text/plain": [
       "Iteration 190: loss(0.10872066682485) train_acc(0.98) test_acc(0.975).\t\n"
      ]
     },
     "execution_count": 10,
     "metadata": {},
     "output_type": "execute_result"
    },
    {
     "data": {
      "text/plain": [
       "Iteration 200: loss(0.10557050633437) train_acc(0.98) test_acc(0.975).\t\n",
       "# StochasticGradient: you have reached the maximum number of iterations\t\n",
       "# training error = 0.10557050633437\t\n",
       "\n"
      ]
     },
     "execution_count": 10,
     "metadata": {},
     "output_type": "execute_result"
    }
   ],
   "source": [
    "trainer:train(trainset)"
   ]
  },
  {
   "cell_type": "code",
   "execution_count": 11,
   "metadata": {
    "collapsed": false
   },
   "outputs": [
    {
     "data": {
      "text/html": [
       "<script type=\"text/javascript\">\n",
       "$(function() {\n",
       "    if (typeof (window._bokeh_onload_callbacks) === \"undefined\"){\n",
       "  window._bokeh_onload_callbacks = [];\n",
       "    }\n",
       "    function load_lib(url, callback){\n",
       "  window._bokeh_onload_callbacks.push(callback);\n",
       "  if (window._bokeh_is_loading){\n",
       "      console.log(\"Bokeh: BokehJS is being loaded, scheduling callback at\", new Date());\n",
       "      return null;\n",
       "  }\n",
       "  console.log(\"Bokeh: BokehJS not loaded, scheduling load and callback at\", new Date());\n",
       "  window._bokeh_is_loading = true;\n",
       "  var s = document.createElement('script');\n",
       "  s.src = url;\n",
       "  s.async = true;\n",
       "  s.onreadystatechange = s.onload = function(){\n",
       "      Bokeh.embed.inject_css(\"https://cdn.pydata.org/bokeh-0.7.0.min.css\");\n",
       "      window._bokeh_onload_callbacks.forEach(function(callback){callback()});\n",
       "  };\n",
       "  s.onerror = function(){\n",
       "      console.warn(\"failed to load library \" + url);\n",
       "  };\n",
       "  document.getElementsByTagName(\"head\")[0].appendChild(s);\n",
       "    }\n",
       "\n",
       "    bokehjs_url = \"https://cdn.pydata.org/bokeh-0.7.0.min.js\"\n",
       "\n",
       "    var elt = document.getElementById(\"aa79834e-62fe-4931-c97a-215505fb245f\");\n",
       "    if(elt==null) {\n",
       "  console.log(\"Bokeh: ERROR: autoload.js configured with elementid 'aa79834e-62fe-4931-c97a-215505fb245f'\"\n",
       "        + \"but no matching script tag was found. \")\n",
       "  return false;\n",
       "    }\n",
       "\n",
       "    if(typeof(Bokeh) !== \"undefined\") {\n",
       "  console.log(\"Bokeh: BokehJS loaded, going straight to plotting\");\n",
       "  var modelid = \"79655b13-5385-4dc0-cd9f-9c4590daca1a\";\n",
       "  var modeltype = \"Plot\";\n",
       "  var all_models = [{\"id\":\"49639db4-a51b-49a2-c935-bff03b70d736\",\"type\":\"ColumnDataSource\",\"attributes\":{\"data\":{\"y\":[1.3739635140591,1.3499962862269,1.308696105841,1.2286719130799,1.0860609337669,0.8939414962013,0.72957703451889,0.62606827084472,0.56476083305343,0.52528816998077,0.4964844645748,0.47258531264241,0.45075228211904,0.43033027781161,0.41155619357214,0.3940096404891,0.37763370079966,0.3626720383377,0.34921596744059,0.33721775707839,0.32654004769925,0.31708398234081,0.30876464616645,0.30136085119345,0.29478101560401,0.28900048476239,0.28393533159957,0.27936742067026,0.27517755481911,0.27129143864792,0.26769695163164,0.26425130009412,0.26100759756994,0.25770231252711,0.25449392060854,0.25151749860911,0.2486777625777,0.24599655389001,0.24326892184936,0.24045226222827,0.23757971345225,0.23485355610564,0.23244325925422,0.23006657840621,0.22798518551869,0.22592777478471,0.22375668232652,0.2219017744057,0.21996671360124,0.21801589895704,0.21628060055893,0.21436659836196,0.21268935685532,0.21084060378492,0.2092149325604,0.20742963695966,0.20589159548113,0.20415736135741,0.20266827054965,0.20097907062252,0.1994341644656,0.1980729404959,0.19641573071283,0.19500732265135,0.19362051339355,0.19219615096784,0.19088847550953,0.18943142681478,0.18813078363206,0.18680750113028,0.18552379180625,0.18434227376919,0.18298777683075,0.18185589251968,0.1805640949723,0.17944079671258,0.17834877148544,0.17712000478099,0.17612170131767,0.17495980118318,0.17379925602253,0.17276273338846,0.17178328406862,0.17066453515103,0.16965490049104,0.16850196953358,0.16766747701279,0.16659944385981,0.16564431894678,0.16470007927965,0.1638189575671,0.16281845380427,0.161914914461,0.16094311778282,0.16009306110462,0.15922221798355,0.15837460984044,0.15747926607757,0.15662780364433,0.15578904940286,0.15492608951418,0.15412615038615,0.15333023590457,0.15244585556285,0.15163174184674,0.15090126468078,0.15002826786144,0.14923591399356,0.14846934072992,0.14769692816478,0.14689429929438,0.14612416191023,0.14540620097229,0.14461674128249,0.14393357725512,0.14316438720138,0.1423580762715,0.14176052608989,0.14095471819272,0.14025398843405,0.13945608253519,0.1386855986475,0.13801805104358,0.13727454511242,0.13648928228533,0.13580492160986,0.13535104695906,0.13461101826663,0.13374811319782,0.13330973775922,0.13263543757065,0.13197778286565,0.13114219177978,0.13082529561376,0.13017319938904,0.12927471000911,0.1289825990863,0.12824887073569,0.12774860740021,0.12697176893922,0.12670271377268,0.12613863581222,0.12551887344345,0.12501574444408,0.12431885433393,0.1241206726542,0.12358278145649,0.12304567321626,0.12256048176144,0.12203139087049,0.12159705223026,0.12126419440229,0.12072335327474,0.12032663843086,0.11970243477208,0.11951312593613,0.11895145546305,0.11863768618797,0.11840751806798,0.11777277269579,0.11765631988142,0.1169907168608,0.11694929144956,0.116446248532,0.11609433455554,0.11592737583625,0.11531085425947,0.11534346956388,0.11465331100551,0.11454427258382,0.11387661344894,0.11406841036531,0.11346780533062,0.11339777351106,0.11291145081037,0.11248060444128,0.11225535443813,0.11181606126273,0.11190489212299,0.11132242277332,0.11103392926057,0.1108056777232,0.11041976515425,0.11028652242029,0.10977143886105,0.1098326936346,0.10934248024199,0.10926016208749,0.10861679496896,0.10872066682485,0.10820854439952,0.10827187943179,0.10754620071938,0.10738245166147,0.10722131989583,0.10654090744585,0.10692783460365,0.10636113420305,0.10606297166257,0.10557050633437],\"x\":[1,2,3,4,5,6,7,8,9,10,11,12,13,14,15,16,17,18,19,20,21,22,23,24,25,26,27,28,29,30,31,32,33,34,35,36,37,38,39,40,41,42,43,44,45,46,47,48,49,50,51,52,53,54,55,56,57,58,59,60,61,62,63,64,65,66,67,68,69,70,71,72,73,74,75,76,77,78,79,80,81,82,83,84,85,86,87,88,89,90,91,92,93,94,95,96,97,98,99,100,101,102,103,104,105,106,107,108,109,110,111,112,113,114,115,116,117,118,119,120,121,122,123,124,125,126,127,128,129,130,131,132,133,134,135,136,137,138,139,140,141,142,143,144,145,146,147,148,149,150,151,152,153,154,155,156,157,158,159,160,161,162,163,164,165,166,167,168,169,170,171,172,173,174,175,176,177,178,179,180,181,182,183,184,185,186,187,188,189,190,191,192,193,194,195,196,197,198,199,200]},\"column_names\":[\"y\",\"x\"],\"cont_ranges\":{},\"discrete_ranges\":{},\"selected\":[],\"id\":\"49639db4-a51b-49a2-c935-bff03b70d736\",\"doc\":null,\"tags\":[]}},{\"id\":\"ae0cac3b-e2e6-4604-c6ee-599419a12508\",\"type\":\"Line\",\"attributes\":{\"fill_alpha\":{\"units\":\"data\",\"value\":0.2},\"line_alpha\":{\"units\":\"data\",\"value\":1},\"doc\":null,\"size\":{\"units\":\"screen\",\"value\":10},\"fill_color\":{\"value\":\"red\"},\"line_color\":{\"value\":\"red\"},\"x\":{\"units\":\"data\",\"field\":\"x\"},\"id\":\"ae0cac3b-e2e6-4604-c6ee-599419a12508\",\"y\":{\"units\":\"data\",\"field\":\"y\"},\"tags\":[]}},{\"id\":\"68582311-abde-4789-c715-78a4d0c0d2cc\",\"type\":\"Line\",\"attributes\":{\"fill_alpha\":{\"units\":\"data\",\"value\":0.2},\"line_alpha\":{\"units\":\"data\",\"value\":1},\"doc\":null,\"size\":{\"units\":\"screen\",\"value\":10},\"fill_color\":{\"value\":\"red\"},\"line_color\":{\"value\":\"red\"},\"x\":{\"units\":\"data\",\"field\":\"x\"},\"id\":\"68582311-abde-4789-c715-78a4d0c0d2cc\",\"y\":{\"units\":\"data\",\"field\":\"y\"},\"tags\":[]}},{\"id\":\"54fb40ed-43a2-470e-c73d-0ef9f3665fbd\",\"type\":\"GlyphRenderer\",\"attributes\":{\"name\":null,\"nonselection_glyph\":{\"type\":\"Line\",\"id\":\"68582311-abde-4789-c715-78a4d0c0d2cc\"},\"doc\":null,\"server_data_source\":null,\"data_source\":{\"type\":\"ColumnDataSource\",\"id\":\"49639db4-a51b-49a2-c935-bff03b70d736\"},\"glyph\":{\"type\":\"Line\",\"id\":\"ae0cac3b-e2e6-4604-c6ee-599419a12508\"},\"selection_glyph\":null,\"id\":\"54fb40ed-43a2-470e-c73d-0ef9f3665fbd\",\"tags\":[]}},{\"id\":\"238a02b3-e1bd-462f-c61c-130de7b273f2\",\"type\":\"DataRange1d\",\"attributes\":{\"sources\":[{\"columns\":[\"x\"],\"source\":{\"type\":\"ColumnDataSource\",\"id\":\"49639db4-a51b-49a2-c935-bff03b70d736\"}}],\"id\":\"238a02b3-e1bd-462f-c61c-130de7b273f2\",\"tags\":[],\"doc\":null}},{\"id\":\"1f4bd097-4ffe-4fdd-cf4e-0f2c2a6b99f4\",\"type\":\"DataRange1d\",\"attributes\":{\"sources\":[{\"columns\":[\"y\"],\"source\":{\"type\":\"ColumnDataSource\",\"id\":\"49639db4-a51b-49a2-c935-bff03b70d736\"}}],\"id\":\"1f4bd097-4ffe-4fdd-cf4e-0f2c2a6b99f4\",\"tags\":[],\"doc\":null}},{\"id\":\"1f07709c-9180-46ad-c656-0a5c28549279\",\"type\":\"ToolEvents\",\"attributes\":{\"tags\":[],\"id\":\"1f07709c-9180-46ad-c656-0a5c28549279\",\"geometries\":[],\"doc\":null}},{\"id\":\"c9ad566e-7db4-47e1-c7e4-45f268caa4b7\",\"type\":\"BasicTickFormatter\",\"attributes\":{\"id\":\"c9ad566e-7db4-47e1-c7e4-45f268caa4b7\",\"tags\":[],\"doc\":null}},{\"id\":\"726d9651-26a7-4dbc-cde2-0196622ddb44\",\"type\":\"BasicTicker\",\"attributes\":{\"num_minor_ticks\":5,\"id\":\"726d9651-26a7-4dbc-cde2-0196622ddb44\",\"tags\":[],\"doc\":null}},{\"id\":\"86917684-608d-4f6b-cff3-146a5c5197c7\",\"type\":\"LinearAxis\",\"attributes\":{\"formatter\":{\"type\":\"BasicTickFormatter\",\"id\":\"c9ad566e-7db4-47e1-c7e4-45f268caa4b7\"},\"ticker\":{\"type\":\"BasicTicker\",\"id\":\"726d9651-26a7-4dbc-cde2-0196622ddb44\"},\"plot\":{\"id\":\"79655b13-5385-4dc0-cd9f-9c4590daca1a\",\"type\":\"Plot\",\"subtype\":\"Figure\"},\"axis_label\":null,\"id\":\"86917684-608d-4f6b-cff3-146a5c5197c7\",\"doc\":null,\"tags\":[]}},{\"id\":\"c63eef67-c46d-48fa-c885-6d2dba752924\",\"type\":\"Grid\",\"attributes\":{\"dimension\":0,\"plot\":{\"id\":\"79655b13-5385-4dc0-cd9f-9c4590daca1a\",\"type\":\"Plot\",\"subtype\":\"Figure\"},\"ticker\":{\"type\":\"BasicTicker\",\"id\":\"726d9651-26a7-4dbc-cde2-0196622ddb44\"},\"id\":\"c63eef67-c46d-48fa-c885-6d2dba752924\",\"doc\":null,\"tags\":[]}},{\"id\":\"fa53e8bb-63ea-4b35-cbbb-060d9521a3d0\",\"type\":\"BasicTickFormatter\",\"attributes\":{\"id\":\"fa53e8bb-63ea-4b35-cbbb-060d9521a3d0\",\"tags\":[],\"doc\":null}},{\"id\":\"26b910f7-7142-4da8-cdf7-b9d847846dc8\",\"type\":\"BasicTicker\",\"attributes\":{\"num_minor_ticks\":5,\"id\":\"26b910f7-7142-4da8-cdf7-b9d847846dc8\",\"tags\":[],\"doc\":null}},{\"id\":\"7e53a95b-08ef-4339-c32e-16902ef9f67f\",\"type\":\"LinearAxis\",\"attributes\":{\"formatter\":{\"type\":\"BasicTickFormatter\",\"id\":\"fa53e8bb-63ea-4b35-cbbb-060d9521a3d0\"},\"ticker\":{\"type\":\"BasicTicker\",\"id\":\"26b910f7-7142-4da8-cdf7-b9d847846dc8\"},\"plot\":{\"id\":\"79655b13-5385-4dc0-cd9f-9c4590daca1a\",\"type\":\"Plot\",\"subtype\":\"Figure\"},\"axis_label\":null,\"id\":\"7e53a95b-08ef-4339-c32e-16902ef9f67f\",\"doc\":null,\"tags\":[]}},{\"id\":\"7c1c3b2b-9737-4c82-cc53-e49f48d9a50e\",\"type\":\"Grid\",\"attributes\":{\"dimension\":1,\"plot\":{\"id\":\"79655b13-5385-4dc0-cd9f-9c4590daca1a\",\"type\":\"Plot\",\"subtype\":\"Figure\"},\"ticker\":{\"type\":\"BasicTicker\",\"id\":\"26b910f7-7142-4da8-cdf7-b9d847846dc8\"},\"id\":\"7c1c3b2b-9737-4c82-cc53-e49f48d9a50e\",\"doc\":null,\"tags\":[]}},{\"id\":\"9afa655f-a39a-4528-c531-0b258e1aed23\",\"type\":\"PanTool\",\"attributes\":{\"plot\":{\"id\":\"79655b13-5385-4dc0-cd9f-9c4590daca1a\",\"type\":\"Plot\",\"subtype\":\"Figure\"},\"dimensions\":[\"width\",\"height\"],\"id\":\"9afa655f-a39a-4528-c531-0b258e1aed23\",\"doc\":null,\"tags\":[]}},{\"id\":\"d0d4b845-1e1d-4bba-cbfe-d0a02a0f6a0b\",\"type\":\"WheelZoomTool\",\"attributes\":{\"plot\":{\"id\":\"79655b13-5385-4dc0-cd9f-9c4590daca1a\",\"type\":\"Plot\",\"subtype\":\"Figure\"},\"dimensions\":[\"width\",\"height\"],\"id\":\"d0d4b845-1e1d-4bba-cbfe-d0a02a0f6a0b\",\"doc\":null,\"tags\":[]}},{\"id\":\"b3fb7d0d-10e3-4e01-ce5f-102b01eb5a09\",\"type\":\"BoxZoomTool\",\"attributes\":{\"plot\":{\"id\":\"79655b13-5385-4dc0-cd9f-9c4590daca1a\",\"type\":\"Plot\",\"subtype\":\"Figure\"},\"id\":\"b3fb7d0d-10e3-4e01-ce5f-102b01eb5a09\",\"tags\":[],\"doc\":null}},{\"id\":\"170864b3-51c1-48bb-c8b5-822ee5016f7f\",\"type\":\"PreviewSaveTool\",\"attributes\":{\"plot\":{\"id\":\"79655b13-5385-4dc0-cd9f-9c4590daca1a\",\"type\":\"Plot\",\"subtype\":\"Figure\"},\"id\":\"170864b3-51c1-48bb-c8b5-822ee5016f7f\",\"tags\":[],\"doc\":null}},{\"id\":\"4687fd86-8de1-480a-c815-083767da76ca\",\"type\":\"ResizeTool\",\"attributes\":{\"plot\":{\"id\":\"79655b13-5385-4dc0-cd9f-9c4590daca1a\",\"type\":\"Plot\",\"subtype\":\"Figure\"},\"id\":\"4687fd86-8de1-480a-c815-083767da76ca\",\"tags\":[],\"doc\":null}},{\"id\":\"f4cb1888-616c-45a0-c59e-109620a30fc8\",\"type\":\"ResetTool\",\"attributes\":{\"plot\":{\"id\":\"79655b13-5385-4dc0-cd9f-9c4590daca1a\",\"type\":\"Plot\",\"subtype\":\"Figure\"},\"id\":\"f4cb1888-616c-45a0-c59e-109620a30fc8\",\"tags\":[],\"doc\":null}},{\"id\":\"3dd3c44c-19a3-495b-c93f-c480dbfd62f0\",\"type\":\"Legend\",\"attributes\":{\"plot\":{\"id\":\"79655b13-5385-4dc0-cd9f-9c4590daca1a\",\"type\":\"Plot\",\"subtype\":\"Figure\"},\"legends\":[[\"loss\",[{\"type\":\"GlyphRenderer\",\"id\":\"54fb40ed-43a2-470e-c73d-0ef9f3665fbd\"}]]],\"id\":\"3dd3c44c-19a3-495b-c93f-c480dbfd62f0\",\"doc\":null,\"tags\":[]}},{\"id\":\"79655b13-5385-4dc0-cd9f-9c4590daca1a\",\"type\":\"Plot\",\"attributes\":{\"x_range\":{\"type\":\"DataRange1d\",\"id\":\"238a02b3-e1bd-462f-c61c-130de7b273f2\"},\"tool_events\":{\"type\":\"ToolEvents\",\"id\":\"1f07709c-9180-46ad-c656-0a5c28549279\"},\"below\":[{\"type\":\"LinearAxis\",\"id\":\"86917684-608d-4f6b-cff3-146a5c5197c7\"}],\"renderers\":[{\"type\":\"GlyphRenderer\",\"id\":\"54fb40ed-43a2-470e-c73d-0ef9f3665fbd\"},{\"type\":\"LinearAxis\",\"id\":\"86917684-608d-4f6b-cff3-146a5c5197c7\"},{\"type\":\"Grid\",\"id\":\"c63eef67-c46d-48fa-c885-6d2dba752924\"},{\"type\":\"LinearAxis\",\"id\":\"7e53a95b-08ef-4339-c32e-16902ef9f67f\"},{\"type\":\"Grid\",\"id\":\"7c1c3b2b-9737-4c82-cc53-e49f48d9a50e\"},{\"type\":\"Legend\",\"id\":\"3dd3c44c-19a3-495b-c93f-c480dbfd62f0\"}],\"above\":[],\"tools\":[{\"type\":\"PanTool\",\"id\":\"9afa655f-a39a-4528-c531-0b258e1aed23\"},{\"type\":\"WheelZoomTool\",\"id\":\"d0d4b845-1e1d-4bba-cbfe-d0a02a0f6a0b\"},{\"type\":\"BoxZoomTool\",\"id\":\"b3fb7d0d-10e3-4e01-ce5f-102b01eb5a09\"},{\"type\":\"PreviewSaveTool\",\"id\":\"170864b3-51c1-48bb-c8b5-822ee5016f7f\"},{\"type\":\"ResizeTool\",\"id\":\"4687fd86-8de1-480a-c815-083767da76ca\"},{\"type\":\"ResetTool\",\"id\":\"f4cb1888-616c-45a0-c59e-109620a30fc8\"}],\"doc\":null,\"right\":[],\"title\":\"Train Loss\",\"extra_x_ranges\":{},\"left\":[{\"type\":\"LinearAxis\",\"id\":\"7e53a95b-08ef-4339-c32e-16902ef9f67f\"}],\"y_range\":{\"type\":\"DataRange1d\",\"id\":\"1f4bd097-4ffe-4fdd-cf4e-0f2c2a6b99f4\"},\"id\":\"79655b13-5385-4dc0-cd9f-9c4590daca1a\",\"extra_y_ranges\":{},\"tags\":[]}}];\n",
       "  Bokeh.load_models(all_models);\n",
       "  var model = Bokeh.Collections(modeltype).get(modelid);\n",
       "  $(\"#aa79834e-62fe-4931-c97a-215505fb245f\").html(''); // clear any previous plot in window_id\n",
       "  var view = new model.default_view({model: model, el: \"#aa79834e-62fe-4931-c97a-215505fb245f\"});\n",
       "    } else {\n",
       "  load_lib(bokehjs_url, function() {\n",
       "      console.log(\"Bokeh: BokehJS plotting callback run at\", new Date())\n",
       "      var modelid = \"79655b13-5385-4dc0-cd9f-9c4590daca1a\";\n",
       "      var modeltype = \"Plot\";\n",
       "      var all_models = [{\"id\":\"49639db4-a51b-49a2-c935-bff03b70d736\",\"type\":\"ColumnDataSource\",\"attributes\":{\"data\":{\"y\":[1.3739635140591,1.3499962862269,1.308696105841,1.2286719130799,1.0860609337669,0.8939414962013,0.72957703451889,0.62606827084472,0.56476083305343,0.52528816998077,0.4964844645748,0.47258531264241,0.45075228211904,0.43033027781161,0.41155619357214,0.3940096404891,0.37763370079966,0.3626720383377,0.34921596744059,0.33721775707839,0.32654004769925,0.31708398234081,0.30876464616645,0.30136085119345,0.29478101560401,0.28900048476239,0.28393533159957,0.27936742067026,0.27517755481911,0.27129143864792,0.26769695163164,0.26425130009412,0.26100759756994,0.25770231252711,0.25449392060854,0.25151749860911,0.2486777625777,0.24599655389001,0.24326892184936,0.24045226222827,0.23757971345225,0.23485355610564,0.23244325925422,0.23006657840621,0.22798518551869,0.22592777478471,0.22375668232652,0.2219017744057,0.21996671360124,0.21801589895704,0.21628060055893,0.21436659836196,0.21268935685532,0.21084060378492,0.2092149325604,0.20742963695966,0.20589159548113,0.20415736135741,0.20266827054965,0.20097907062252,0.1994341644656,0.1980729404959,0.19641573071283,0.19500732265135,0.19362051339355,0.19219615096784,0.19088847550953,0.18943142681478,0.18813078363206,0.18680750113028,0.18552379180625,0.18434227376919,0.18298777683075,0.18185589251968,0.1805640949723,0.17944079671258,0.17834877148544,0.17712000478099,0.17612170131767,0.17495980118318,0.17379925602253,0.17276273338846,0.17178328406862,0.17066453515103,0.16965490049104,0.16850196953358,0.16766747701279,0.16659944385981,0.16564431894678,0.16470007927965,0.1638189575671,0.16281845380427,0.161914914461,0.16094311778282,0.16009306110462,0.15922221798355,0.15837460984044,0.15747926607757,0.15662780364433,0.15578904940286,0.15492608951418,0.15412615038615,0.15333023590457,0.15244585556285,0.15163174184674,0.15090126468078,0.15002826786144,0.14923591399356,0.14846934072992,0.14769692816478,0.14689429929438,0.14612416191023,0.14540620097229,0.14461674128249,0.14393357725512,0.14316438720138,0.1423580762715,0.14176052608989,0.14095471819272,0.14025398843405,0.13945608253519,0.1386855986475,0.13801805104358,0.13727454511242,0.13648928228533,0.13580492160986,0.13535104695906,0.13461101826663,0.13374811319782,0.13330973775922,0.13263543757065,0.13197778286565,0.13114219177978,0.13082529561376,0.13017319938904,0.12927471000911,0.1289825990863,0.12824887073569,0.12774860740021,0.12697176893922,0.12670271377268,0.12613863581222,0.12551887344345,0.12501574444408,0.12431885433393,0.1241206726542,0.12358278145649,0.12304567321626,0.12256048176144,0.12203139087049,0.12159705223026,0.12126419440229,0.12072335327474,0.12032663843086,0.11970243477208,0.11951312593613,0.11895145546305,0.11863768618797,0.11840751806798,0.11777277269579,0.11765631988142,0.1169907168608,0.11694929144956,0.116446248532,0.11609433455554,0.11592737583625,0.11531085425947,0.11534346956388,0.11465331100551,0.11454427258382,0.11387661344894,0.11406841036531,0.11346780533062,0.11339777351106,0.11291145081037,0.11248060444128,0.11225535443813,0.11181606126273,0.11190489212299,0.11132242277332,0.11103392926057,0.1108056777232,0.11041976515425,0.11028652242029,0.10977143886105,0.1098326936346,0.10934248024199,0.10926016208749,0.10861679496896,0.10872066682485,0.10820854439952,0.10827187943179,0.10754620071938,0.10738245166147,0.10722131989583,0.10654090744585,0.10692783460365,0.10636113420305,0.10606297166257,0.10557050633437],\"x\":[1,2,3,4,5,6,7,8,9,10,11,12,13,14,15,16,17,18,19,20,21,22,23,24,25,26,27,28,29,30,31,32,33,34,35,36,37,38,39,40,41,42,43,44,45,46,47,48,49,50,51,52,53,54,55,56,57,58,59,60,61,62,63,64,65,66,67,68,69,70,71,72,73,74,75,76,77,78,79,80,81,82,83,84,85,86,87,88,89,90,91,92,93,94,95,96,97,98,99,100,101,102,103,104,105,106,107,108,109,110,111,112,113,114,115,116,117,118,119,120,121,122,123,124,125,126,127,128,129,130,131,132,133,134,135,136,137,138,139,140,141,142,143,144,145,146,147,148,149,150,151,152,153,154,155,156,157,158,159,160,161,162,163,164,165,166,167,168,169,170,171,172,173,174,175,176,177,178,179,180,181,182,183,184,185,186,187,188,189,190,191,192,193,194,195,196,197,198,199,200]},\"column_names\":[\"y\",\"x\"],\"cont_ranges\":{},\"discrete_ranges\":{},\"selected\":[],\"id\":\"49639db4-a51b-49a2-c935-bff03b70d736\",\"doc\":null,\"tags\":[]}},{\"id\":\"ae0cac3b-e2e6-4604-c6ee-599419a12508\",\"type\":\"Line\",\"attributes\":{\"fill_alpha\":{\"units\":\"data\",\"value\":0.2},\"line_alpha\":{\"units\":\"data\",\"value\":1},\"doc\":null,\"size\":{\"units\":\"screen\",\"value\":10},\"fill_color\":{\"value\":\"red\"},\"line_color\":{\"value\":\"red\"},\"x\":{\"units\":\"data\",\"field\":\"x\"},\"id\":\"ae0cac3b-e2e6-4604-c6ee-599419a12508\",\"y\":{\"units\":\"data\",\"field\":\"y\"},\"tags\":[]}},{\"id\":\"68582311-abde-4789-c715-78a4d0c0d2cc\",\"type\":\"Line\",\"attributes\":{\"fill_alpha\":{\"units\":\"data\",\"value\":0.2},\"line_alpha\":{\"units\":\"data\",\"value\":1},\"doc\":null,\"size\":{\"units\":\"screen\",\"value\":10},\"fill_color\":{\"value\":\"red\"},\"line_color\":{\"value\":\"red\"},\"x\":{\"units\":\"data\",\"field\":\"x\"},\"id\":\"68582311-abde-4789-c715-78a4d0c0d2cc\",\"y\":{\"units\":\"data\",\"field\":\"y\"},\"tags\":[]}},{\"id\":\"54fb40ed-43a2-470e-c73d-0ef9f3665fbd\",\"type\":\"GlyphRenderer\",\"attributes\":{\"name\":null,\"nonselection_glyph\":{\"type\":\"Line\",\"id\":\"68582311-abde-4789-c715-78a4d0c0d2cc\"},\"doc\":null,\"server_data_source\":null,\"data_source\":{\"type\":\"ColumnDataSource\",\"id\":\"49639db4-a51b-49a2-c935-bff03b70d736\"},\"glyph\":{\"type\":\"Line\",\"id\":\"ae0cac3b-e2e6-4604-c6ee-599419a12508\"},\"selection_glyph\":null,\"id\":\"54fb40ed-43a2-470e-c73d-0ef9f3665fbd\",\"tags\":[]}},{\"id\":\"238a02b3-e1bd-462f-c61c-130de7b273f2\",\"type\":\"DataRange1d\",\"attributes\":{\"sources\":[{\"columns\":[\"x\"],\"source\":{\"type\":\"ColumnDataSource\",\"id\":\"49639db4-a51b-49a2-c935-bff03b70d736\"}}],\"id\":\"238a02b3-e1bd-462f-c61c-130de7b273f2\",\"tags\":[],\"doc\":null}},{\"id\":\"1f4bd097-4ffe-4fdd-cf4e-0f2c2a6b99f4\",\"type\":\"DataRange1d\",\"attributes\":{\"sources\":[{\"columns\":[\"y\"],\"source\":{\"type\":\"ColumnDataSource\",\"id\":\"49639db4-a51b-49a2-c935-bff03b70d736\"}}],\"id\":\"1f4bd097-4ffe-4fdd-cf4e-0f2c2a6b99f4\",\"tags\":[],\"doc\":null}},{\"id\":\"1f07709c-9180-46ad-c656-0a5c28549279\",\"type\":\"ToolEvents\",\"attributes\":{\"tags\":[],\"id\":\"1f07709c-9180-46ad-c656-0a5c28549279\",\"geometries\":[],\"doc\":null}},{\"id\":\"c9ad566e-7db4-47e1-c7e4-45f268caa4b7\",\"type\":\"BasicTickFormatter\",\"attributes\":{\"id\":\"c9ad566e-7db4-47e1-c7e4-45f268caa4b7\",\"tags\":[],\"doc\":null}},{\"id\":\"726d9651-26a7-4dbc-cde2-0196622ddb44\",\"type\":\"BasicTicker\",\"attributes\":{\"num_minor_ticks\":5,\"id\":\"726d9651-26a7-4dbc-cde2-0196622ddb44\",\"tags\":[],\"doc\":null}},{\"id\":\"86917684-608d-4f6b-cff3-146a5c5197c7\",\"type\":\"LinearAxis\",\"attributes\":{\"formatter\":{\"type\":\"BasicTickFormatter\",\"id\":\"c9ad566e-7db4-47e1-c7e4-45f268caa4b7\"},\"ticker\":{\"type\":\"BasicTicker\",\"id\":\"726d9651-26a7-4dbc-cde2-0196622ddb44\"},\"plot\":{\"id\":\"79655b13-5385-4dc0-cd9f-9c4590daca1a\",\"type\":\"Plot\",\"subtype\":\"Figure\"},\"axis_label\":null,\"id\":\"86917684-608d-4f6b-cff3-146a5c5197c7\",\"doc\":null,\"tags\":[]}},{\"id\":\"c63eef67-c46d-48fa-c885-6d2dba752924\",\"type\":\"Grid\",\"attributes\":{\"dimension\":0,\"plot\":{\"id\":\"79655b13-5385-4dc0-cd9f-9c4590daca1a\",\"type\":\"Plot\",\"subtype\":\"Figure\"},\"ticker\":{\"type\":\"BasicTicker\",\"id\":\"726d9651-26a7-4dbc-cde2-0196622ddb44\"},\"id\":\"c63eef67-c46d-48fa-c885-6d2dba752924\",\"doc\":null,\"tags\":[]}},{\"id\":\"fa53e8bb-63ea-4b35-cbbb-060d9521a3d0\",\"type\":\"BasicTickFormatter\",\"attributes\":{\"id\":\"fa53e8bb-63ea-4b35-cbbb-060d9521a3d0\",\"tags\":[],\"doc\":null}},{\"id\":\"26b910f7-7142-4da8-cdf7-b9d847846dc8\",\"type\":\"BasicTicker\",\"attributes\":{\"num_minor_ticks\":5,\"id\":\"26b910f7-7142-4da8-cdf7-b9d847846dc8\",\"tags\":[],\"doc\":null}},{\"id\":\"7e53a95b-08ef-4339-c32e-16902ef9f67f\",\"type\":\"LinearAxis\",\"attributes\":{\"formatter\":{\"type\":\"BasicTickFormatter\",\"id\":\"fa53e8bb-63ea-4b35-cbbb-060d9521a3d0\"},\"ticker\":{\"type\":\"BasicTicker\",\"id\":\"26b910f7-7142-4da8-cdf7-b9d847846dc8\"},\"plot\":{\"id\":\"79655b13-5385-4dc0-cd9f-9c4590daca1a\",\"type\":\"Plot\",\"subtype\":\"Figure\"},\"axis_label\":null,\"id\":\"7e53a95b-08ef-4339-c32e-16902ef9f67f\",\"doc\":null,\"tags\":[]}},{\"id\":\"7c1c3b2b-9737-4c82-cc53-e49f48d9a50e\",\"type\":\"Grid\",\"attributes\":{\"dimension\":1,\"plot\":{\"id\":\"79655b13-5385-4dc0-cd9f-9c4590daca1a\",\"type\":\"Plot\",\"subtype\":\"Figure\"},\"ticker\":{\"type\":\"BasicTicker\",\"id\":\"26b910f7-7142-4da8-cdf7-b9d847846dc8\"},\"id\":\"7c1c3b2b-9737-4c82-cc53-e49f48d9a50e\",\"doc\":null,\"tags\":[]}},{\"id\":\"9afa655f-a39a-4528-c531-0b258e1aed23\",\"type\":\"PanTool\",\"attributes\":{\"plot\":{\"id\":\"79655b13-5385-4dc0-cd9f-9c4590daca1a\",\"type\":\"Plot\",\"subtype\":\"Figure\"},\"dimensions\":[\"width\",\"height\"],\"id\":\"9afa655f-a39a-4528-c531-0b258e1aed23\",\"doc\":null,\"tags\":[]}},{\"id\":\"d0d4b845-1e1d-4bba-cbfe-d0a02a0f6a0b\",\"type\":\"WheelZoomTool\",\"attributes\":{\"plot\":{\"id\":\"79655b13-5385-4dc0-cd9f-9c4590daca1a\",\"type\":\"Plot\",\"subtype\":\"Figure\"},\"dimensions\":[\"width\",\"height\"],\"id\":\"d0d4b845-1e1d-4bba-cbfe-d0a02a0f6a0b\",\"doc\":null,\"tags\":[]}},{\"id\":\"b3fb7d0d-10e3-4e01-ce5f-102b01eb5a09\",\"type\":\"BoxZoomTool\",\"attributes\":{\"plot\":{\"id\":\"79655b13-5385-4dc0-cd9f-9c4590daca1a\",\"type\":\"Plot\",\"subtype\":\"Figure\"},\"id\":\"b3fb7d0d-10e3-4e01-ce5f-102b01eb5a09\",\"tags\":[],\"doc\":null}},{\"id\":\"170864b3-51c1-48bb-c8b5-822ee5016f7f\",\"type\":\"PreviewSaveTool\",\"attributes\":{\"plot\":{\"id\":\"79655b13-5385-4dc0-cd9f-9c4590daca1a\",\"type\":\"Plot\",\"subtype\":\"Figure\"},\"id\":\"170864b3-51c1-48bb-c8b5-822ee5016f7f\",\"tags\":[],\"doc\":null}},{\"id\":\"4687fd86-8de1-480a-c815-083767da76ca\",\"type\":\"ResizeTool\",\"attributes\":{\"plot\":{\"id\":\"79655b13-5385-4dc0-cd9f-9c4590daca1a\",\"type\":\"Plot\",\"subtype\":\"Figure\"},\"id\":\"4687fd86-8de1-480a-c815-083767da76ca\",\"tags\":[],\"doc\":null}},{\"id\":\"f4cb1888-616c-45a0-c59e-109620a30fc8\",\"type\":\"ResetTool\",\"attributes\":{\"plot\":{\"id\":\"79655b13-5385-4dc0-cd9f-9c4590daca1a\",\"type\":\"Plot\",\"subtype\":\"Figure\"},\"id\":\"f4cb1888-616c-45a0-c59e-109620a30fc8\",\"tags\":[],\"doc\":null}},{\"id\":\"3dd3c44c-19a3-495b-c93f-c480dbfd62f0\",\"type\":\"Legend\",\"attributes\":{\"plot\":{\"id\":\"79655b13-5385-4dc0-cd9f-9c4590daca1a\",\"type\":\"Plot\",\"subtype\":\"Figure\"},\"legends\":[[\"loss\",[{\"type\":\"GlyphRenderer\",\"id\":\"54fb40ed-43a2-470e-c73d-0ef9f3665fbd\"}]]],\"id\":\"3dd3c44c-19a3-495b-c93f-c480dbfd62f0\",\"doc\":null,\"tags\":[]}},{\"id\":\"79655b13-5385-4dc0-cd9f-9c4590daca1a\",\"type\":\"Plot\",\"attributes\":{\"x_range\":{\"type\":\"DataRange1d\",\"id\":\"238a02b3-e1bd-462f-c61c-130de7b273f2\"},\"tool_events\":{\"type\":\"ToolEvents\",\"id\":\"1f07709c-9180-46ad-c656-0a5c28549279\"},\"below\":[{\"type\":\"LinearAxis\",\"id\":\"86917684-608d-4f6b-cff3-146a5c5197c7\"}],\"renderers\":[{\"type\":\"GlyphRenderer\",\"id\":\"54fb40ed-43a2-470e-c73d-0ef9f3665fbd\"},{\"type\":\"LinearAxis\",\"id\":\"86917684-608d-4f6b-cff3-146a5c5197c7\"},{\"type\":\"Grid\",\"id\":\"c63eef67-c46d-48fa-c885-6d2dba752924\"},{\"type\":\"LinearAxis\",\"id\":\"7e53a95b-08ef-4339-c32e-16902ef9f67f\"},{\"type\":\"Grid\",\"id\":\"7c1c3b2b-9737-4c82-cc53-e49f48d9a50e\"},{\"type\":\"Legend\",\"id\":\"3dd3c44c-19a3-495b-c93f-c480dbfd62f0\"}],\"above\":[],\"tools\":[{\"type\":\"PanTool\",\"id\":\"9afa655f-a39a-4528-c531-0b258e1aed23\"},{\"type\":\"WheelZoomTool\",\"id\":\"d0d4b845-1e1d-4bba-cbfe-d0a02a0f6a0b\"},{\"type\":\"BoxZoomTool\",\"id\":\"b3fb7d0d-10e3-4e01-ce5f-102b01eb5a09\"},{\"type\":\"PreviewSaveTool\",\"id\":\"170864b3-51c1-48bb-c8b5-822ee5016f7f\"},{\"type\":\"ResizeTool\",\"id\":\"4687fd86-8de1-480a-c815-083767da76ca\"},{\"type\":\"ResetTool\",\"id\":\"f4cb1888-616c-45a0-c59e-109620a30fc8\"}],\"doc\":null,\"right\":[],\"title\":\"Train Loss\",\"extra_x_ranges\":{},\"left\":[{\"type\":\"LinearAxis\",\"id\":\"7e53a95b-08ef-4339-c32e-16902ef9f67f\"}],\"y_range\":{\"type\":\"DataRange1d\",\"id\":\"1f4bd097-4ffe-4fdd-cf4e-0f2c2a6b99f4\"},\"id\":\"79655b13-5385-4dc0-cd9f-9c4590daca1a\",\"extra_y_ranges\":{},\"tags\":[]}}];\n",
       "      Bokeh.load_models(all_models);\n",
       "      var model = Bokeh.Collections(modeltype).get(modelid);\n",
       "      $(\"#aa79834e-62fe-4931-c97a-215505fb245f\").html(''); // clear any previous plot in window_id\n",
       "      var view = new model.default_view({model: model, el: \"#aa79834e-62fe-4931-c97a-215505fb245f\"});\n",
       "  });\n",
       "    }\n",
       "});\n",
       "</script>\n",
       "<div class=\"plotdiv\" id=\"aa79834e-62fe-4931-c97a-215505fb245f\"></div>\n"
      ]
     },
     "metadata": {},
     "output_type": "display_data"
    },
    {
     "data": {
      "text/html": [
       "<script type=\"text/javascript\">\n",
       "$(function() {\n",
       "    if (typeof (window._bokeh_onload_callbacks) === \"undefined\"){\n",
       "  window._bokeh_onload_callbacks = [];\n",
       "    }\n",
       "    function load_lib(url, callback){\n",
       "  window._bokeh_onload_callbacks.push(callback);\n",
       "  if (window._bokeh_is_loading){\n",
       "      console.log(\"Bokeh: BokehJS is being loaded, scheduling callback at\", new Date());\n",
       "      return null;\n",
       "  }\n",
       "  console.log(\"Bokeh: BokehJS not loaded, scheduling load and callback at\", new Date());\n",
       "  window._bokeh_is_loading = true;\n",
       "  var s = document.createElement('script');\n",
       "  s.src = url;\n",
       "  s.async = true;\n",
       "  s.onreadystatechange = s.onload = function(){\n",
       "      Bokeh.embed.inject_css(\"https://cdn.pydata.org/bokeh-0.7.0.min.css\");\n",
       "      window._bokeh_onload_callbacks.forEach(function(callback){callback()});\n",
       "  };\n",
       "  s.onerror = function(){\n",
       "      console.warn(\"failed to load library \" + url);\n",
       "  };\n",
       "  document.getElementsByTagName(\"head\")[0].appendChild(s);\n",
       "    }\n",
       "\n",
       "    bokehjs_url = \"https://cdn.pydata.org/bokeh-0.7.0.min.js\"\n",
       "\n",
       "    var elt = document.getElementById(\"5ca795bb-e696-4f46-cf25-a9f5564f16c4\");\n",
       "    if(elt==null) {\n",
       "  console.log(\"Bokeh: ERROR: autoload.js configured with elementid '5ca795bb-e696-4f46-cf25-a9f5564f16c4'\"\n",
       "        + \"but no matching script tag was found. \")\n",
       "  return false;\n",
       "    }\n",
       "\n",
       "    if(typeof(Bokeh) !== \"undefined\") {\n",
       "  console.log(\"Bokeh: BokehJS loaded, going straight to plotting\");\n",
       "  var modelid = \"0e95a6a2-8d86-410c-c12b-7da8a7372f42\";\n",
       "  var modeltype = \"Plot\";\n",
       "  var all_models = [{\"id\":\"646beeb2-f4a7-41fc-c111-cf6af0eff6d8\",\"type\":\"ColumnDataSource\",\"attributes\":{\"data\":{\"y\":[0.255,0.34,0.6325,0.73,0.7975,0.7775,0.7675,0.78,0.7825,0.8025,0.825,0.8325,0.845,0.855,0.8625,0.87,0.8875,0.8975,0.9075,0.91,0.92,0.9225,0.9275,0.9275,0.93,0.935,0.935,0.94,0.94,0.94,0.94,0.94,0.94,0.945,0.945,0.945,0.945,0.945,0.9475,0.95,0.95,0.95,0.95,0.95,0.95,0.95,0.95,0.95,0.9525,0.95,0.955,0.9575,0.9625,0.9625,0.97,0.97,0.97,0.97,0.97,0.97,0.97,0.97,0.97,0.97,0.97,0.97,0.97,0.97,0.97,0.97,0.97,0.97,0.97,0.97,0.97,0.97,0.97,0.97,0.97,0.97,0.97,0.97,0.97,0.97,0.97,0.97,0.97,0.9725,0.9725,0.9725,0.9725,0.9725,0.9725,0.9725,0.9725,0.9725,0.9725,0.975,0.975,0.975,0.9775,0.9775,0.9775,0.9775,0.9775,0.9775,0.9775,0.9775,0.9775,0.9775,0.9775,0.9775,0.9775,0.9775,0.9775,0.98,0.98,0.98,0.98,0.98,0.98,0.98,0.98,0.98,0.98,0.98,0.98,0.98,0.98,0.98,0.98,0.98,0.98,0.98,0.98,0.98,0.98,0.98,0.98,0.98,0.98,0.98,0.98,0.98,0.98,0.98,0.98,0.98,0.98,0.98,0.98,0.98,0.98,0.98,0.98,0.98,0.98,0.98,0.98,0.98,0.98,0.98,0.98,0.98,0.98,0.98,0.98,0.98,0.98,0.98,0.98,0.98,0.98,0.98,0.98,0.98,0.98,0.98,0.98,0.98,0.98,0.98,0.98,0.98,0.98,0.98,0.98,0.98,0.98,0.98,0.98,0.98,0.98,0.98,0.98,0.98,0.98,0.98,0.98,0.98],\"x\":[1,2,3,4,5,6,7,8,9,10,11,12,13,14,15,16,17,18,19,20,21,22,23,24,25,26,27,28,29,30,31,32,33,34,35,36,37,38,39,40,41,42,43,44,45,46,47,48,49,50,51,52,53,54,55,56,57,58,59,60,61,62,63,64,65,66,67,68,69,70,71,72,73,74,75,76,77,78,79,80,81,82,83,84,85,86,87,88,89,90,91,92,93,94,95,96,97,98,99,100,101,102,103,104,105,106,107,108,109,110,111,112,113,114,115,116,117,118,119,120,121,122,123,124,125,126,127,128,129,130,131,132,133,134,135,136,137,138,139,140,141,142,143,144,145,146,147,148,149,150,151,152,153,154,155,156,157,158,159,160,161,162,163,164,165,166,167,168,169,170,171,172,173,174,175,176,177,178,179,180,181,182,183,184,185,186,187,188,189,190,191,192,193,194,195,196,197,198,199,200]},\"column_names\":[\"y\",\"x\"],\"cont_ranges\":{},\"discrete_ranges\":{},\"selected\":[],\"id\":\"646beeb2-f4a7-41fc-c111-cf6af0eff6d8\",\"doc\":null,\"tags\":[]}},{\"id\":\"4f4d10f5-e388-4b9b-cbf9-c9449d93716f\",\"type\":\"Line\",\"attributes\":{\"fill_alpha\":{\"units\":\"data\",\"value\":0.2},\"line_alpha\":{\"units\":\"data\",\"value\":1},\"doc\":null,\"size\":{\"units\":\"screen\",\"value\":10},\"fill_color\":{\"value\":\"blue\"},\"line_color\":{\"value\":\"blue\"},\"x\":{\"units\":\"data\",\"field\":\"x\"},\"id\":\"4f4d10f5-e388-4b9b-cbf9-c9449d93716f\",\"y\":{\"units\":\"data\",\"field\":\"y\"},\"tags\":[]}},{\"id\":\"640a6289-e4fe-4237-c22a-04d575afa26a\",\"type\":\"Line\",\"attributes\":{\"fill_alpha\":{\"units\":\"data\",\"value\":0.2},\"line_alpha\":{\"units\":\"data\",\"value\":1},\"doc\":null,\"size\":{\"units\":\"screen\",\"value\":10},\"fill_color\":{\"value\":\"blue\"},\"line_color\":{\"value\":\"blue\"},\"x\":{\"units\":\"data\",\"field\":\"x\"},\"id\":\"640a6289-e4fe-4237-c22a-04d575afa26a\",\"y\":{\"units\":\"data\",\"field\":\"y\"},\"tags\":[]}},{\"id\":\"23a6007e-c94b-4abe-ca14-4511e4e7105c\",\"type\":\"GlyphRenderer\",\"attributes\":{\"name\":null,\"nonselection_glyph\":{\"type\":\"Line\",\"id\":\"640a6289-e4fe-4237-c22a-04d575afa26a\"},\"doc\":null,\"server_data_source\":null,\"data_source\":{\"type\":\"ColumnDataSource\",\"id\":\"646beeb2-f4a7-41fc-c111-cf6af0eff6d8\"},\"glyph\":{\"type\":\"Line\",\"id\":\"4f4d10f5-e388-4b9b-cbf9-c9449d93716f\"},\"selection_glyph\":null,\"id\":\"23a6007e-c94b-4abe-ca14-4511e4e7105c\",\"tags\":[]}},{\"id\":\"6df259df-00d6-4c1d-cc95-9a45b54cc3c1\",\"type\":\"DataRange1d\",\"attributes\":{\"sources\":[{\"columns\":[\"x\"],\"source\":{\"type\":\"ColumnDataSource\",\"id\":\"646beeb2-f4a7-41fc-c111-cf6af0eff6d8\"}}],\"id\":\"6df259df-00d6-4c1d-cc95-9a45b54cc3c1\",\"tags\":[],\"doc\":null}},{\"id\":\"859ec279-368f-4bd5-cbfe-edc6559df4c5\",\"type\":\"DataRange1d\",\"attributes\":{\"sources\":[{\"columns\":[\"y\"],\"source\":{\"type\":\"ColumnDataSource\",\"id\":\"646beeb2-f4a7-41fc-c111-cf6af0eff6d8\"}}],\"id\":\"859ec279-368f-4bd5-cbfe-edc6559df4c5\",\"tags\":[],\"doc\":null}},{\"id\":\"3efc495f-e3c2-448d-c46e-43fafc3c538e\",\"type\":\"ToolEvents\",\"attributes\":{\"tags\":[],\"id\":\"3efc495f-e3c2-448d-c46e-43fafc3c538e\",\"geometries\":[],\"doc\":null}},{\"id\":\"a2845367-8bc9-4a0d-cab4-c2a59b2b0972\",\"type\":\"BasicTickFormatter\",\"attributes\":{\"id\":\"a2845367-8bc9-4a0d-cab4-c2a59b2b0972\",\"tags\":[],\"doc\":null}},{\"id\":\"a04ed1b4-3c62-4b65-cbb4-c3d180329b66\",\"type\":\"BasicTicker\",\"attributes\":{\"num_minor_ticks\":5,\"id\":\"a04ed1b4-3c62-4b65-cbb4-c3d180329b66\",\"tags\":[],\"doc\":null}},{\"id\":\"77eec186-0054-431c-c372-a14b085461d5\",\"type\":\"LinearAxis\",\"attributes\":{\"formatter\":{\"type\":\"BasicTickFormatter\",\"id\":\"a2845367-8bc9-4a0d-cab4-c2a59b2b0972\"},\"ticker\":{\"type\":\"BasicTicker\",\"id\":\"a04ed1b4-3c62-4b65-cbb4-c3d180329b66\"},\"plot\":{\"id\":\"0e95a6a2-8d86-410c-c12b-7da8a7372f42\",\"type\":\"Plot\",\"subtype\":\"Figure\"},\"axis_label\":null,\"id\":\"77eec186-0054-431c-c372-a14b085461d5\",\"doc\":null,\"tags\":[]}},{\"id\":\"5a5b9abf-c699-4165-c113-4182642f97d5\",\"type\":\"Grid\",\"attributes\":{\"dimension\":0,\"plot\":{\"id\":\"0e95a6a2-8d86-410c-c12b-7da8a7372f42\",\"type\":\"Plot\",\"subtype\":\"Figure\"},\"ticker\":{\"type\":\"BasicTicker\",\"id\":\"a04ed1b4-3c62-4b65-cbb4-c3d180329b66\"},\"id\":\"5a5b9abf-c699-4165-c113-4182642f97d5\",\"doc\":null,\"tags\":[]}},{\"id\":\"595acf0b-a9ae-4013-c05d-28642b4958df\",\"type\":\"BasicTickFormatter\",\"attributes\":{\"id\":\"595acf0b-a9ae-4013-c05d-28642b4958df\",\"tags\":[],\"doc\":null}},{\"id\":\"e9c556fc-44be-4b94-cb22-6242330a5b29\",\"type\":\"BasicTicker\",\"attributes\":{\"num_minor_ticks\":5,\"id\":\"e9c556fc-44be-4b94-cb22-6242330a5b29\",\"tags\":[],\"doc\":null}},{\"id\":\"63cdae29-d8e5-4d25-cd6f-c002c1bdd632\",\"type\":\"LinearAxis\",\"attributes\":{\"formatter\":{\"type\":\"BasicTickFormatter\",\"id\":\"595acf0b-a9ae-4013-c05d-28642b4958df\"},\"ticker\":{\"type\":\"BasicTicker\",\"id\":\"e9c556fc-44be-4b94-cb22-6242330a5b29\"},\"plot\":{\"id\":\"0e95a6a2-8d86-410c-c12b-7da8a7372f42\",\"type\":\"Plot\",\"subtype\":\"Figure\"},\"axis_label\":null,\"id\":\"63cdae29-d8e5-4d25-cd6f-c002c1bdd632\",\"doc\":null,\"tags\":[]}},{\"id\":\"879eedd4-3204-4e47-ce4f-e4eee7874098\",\"type\":\"Grid\",\"attributes\":{\"dimension\":1,\"plot\":{\"id\":\"0e95a6a2-8d86-410c-c12b-7da8a7372f42\",\"type\":\"Plot\",\"subtype\":\"Figure\"},\"ticker\":{\"type\":\"BasicTicker\",\"id\":\"e9c556fc-44be-4b94-cb22-6242330a5b29\"},\"id\":\"879eedd4-3204-4e47-ce4f-e4eee7874098\",\"doc\":null,\"tags\":[]}},{\"id\":\"d912b050-9b49-47dd-c708-a95a55d6bb2b\",\"type\":\"PanTool\",\"attributes\":{\"plot\":{\"id\":\"0e95a6a2-8d86-410c-c12b-7da8a7372f42\",\"type\":\"Plot\",\"subtype\":\"Figure\"},\"dimensions\":[\"width\",\"height\"],\"id\":\"d912b050-9b49-47dd-c708-a95a55d6bb2b\",\"doc\":null,\"tags\":[]}},{\"id\":\"83cf6174-83d8-4560-c54d-eeb4c0590d89\",\"type\":\"WheelZoomTool\",\"attributes\":{\"plot\":{\"id\":\"0e95a6a2-8d86-410c-c12b-7da8a7372f42\",\"type\":\"Plot\",\"subtype\":\"Figure\"},\"dimensions\":[\"width\",\"height\"],\"id\":\"83cf6174-83d8-4560-c54d-eeb4c0590d89\",\"doc\":null,\"tags\":[]}},{\"id\":\"c3e338b3-6705-46a9-c67d-b37158e63e27\",\"type\":\"BoxZoomTool\",\"attributes\":{\"plot\":{\"id\":\"0e95a6a2-8d86-410c-c12b-7da8a7372f42\",\"type\":\"Plot\",\"subtype\":\"Figure\"},\"id\":\"c3e338b3-6705-46a9-c67d-b37158e63e27\",\"tags\":[],\"doc\":null}},{\"id\":\"84082131-4e92-4dae-cd99-46d07a0861bd\",\"type\":\"PreviewSaveTool\",\"attributes\":{\"plot\":{\"id\":\"0e95a6a2-8d86-410c-c12b-7da8a7372f42\",\"type\":\"Plot\",\"subtype\":\"Figure\"},\"id\":\"84082131-4e92-4dae-cd99-46d07a0861bd\",\"tags\":[],\"doc\":null}},{\"id\":\"3b2ab9be-6086-4d96-cd0b-29e168a85086\",\"type\":\"ResizeTool\",\"attributes\":{\"plot\":{\"id\":\"0e95a6a2-8d86-410c-c12b-7da8a7372f42\",\"type\":\"Plot\",\"subtype\":\"Figure\"},\"id\":\"3b2ab9be-6086-4d96-cd0b-29e168a85086\",\"tags\":[],\"doc\":null}},{\"id\":\"d5b747fd-daeb-4556-c591-a030e515e25b\",\"type\":\"ResetTool\",\"attributes\":{\"plot\":{\"id\":\"0e95a6a2-8d86-410c-c12b-7da8a7372f42\",\"type\":\"Plot\",\"subtype\":\"Figure\"},\"id\":\"d5b747fd-daeb-4556-c591-a030e515e25b\",\"tags\":[],\"doc\":null}},{\"id\":\"69164ef6-6c17-4715-c721-37c02b62bef0\",\"type\":\"Legend\",\"attributes\":{\"plot\":{\"id\":\"0e95a6a2-8d86-410c-c12b-7da8a7372f42\",\"type\":\"Plot\",\"subtype\":\"Figure\"},\"legends\":[[\"train_acc\",[{\"type\":\"GlyphRenderer\",\"id\":\"23a6007e-c94b-4abe-ca14-4511e4e7105c\"}]]],\"id\":\"69164ef6-6c17-4715-c721-37c02b62bef0\",\"doc\":null,\"tags\":[]}},{\"id\":\"0e95a6a2-8d86-410c-c12b-7da8a7372f42\",\"type\":\"Plot\",\"attributes\":{\"x_range\":{\"type\":\"DataRange1d\",\"id\":\"6df259df-00d6-4c1d-cc95-9a45b54cc3c1\"},\"tool_events\":{\"type\":\"ToolEvents\",\"id\":\"3efc495f-e3c2-448d-c46e-43fafc3c538e\"},\"below\":[{\"type\":\"LinearAxis\",\"id\":\"77eec186-0054-431c-c372-a14b085461d5\"}],\"renderers\":[{\"type\":\"GlyphRenderer\",\"id\":\"23a6007e-c94b-4abe-ca14-4511e4e7105c\"},{\"type\":\"LinearAxis\",\"id\":\"77eec186-0054-431c-c372-a14b085461d5\"},{\"type\":\"Grid\",\"id\":\"5a5b9abf-c699-4165-c113-4182642f97d5\"},{\"type\":\"LinearAxis\",\"id\":\"63cdae29-d8e5-4d25-cd6f-c002c1bdd632\"},{\"type\":\"Grid\",\"id\":\"879eedd4-3204-4e47-ce4f-e4eee7874098\"},{\"type\":\"Legend\",\"id\":\"69164ef6-6c17-4715-c721-37c02b62bef0\"}],\"above\":[],\"tools\":[{\"type\":\"PanTool\",\"id\":\"d912b050-9b49-47dd-c708-a95a55d6bb2b\"},{\"type\":\"WheelZoomTool\",\"id\":\"83cf6174-83d8-4560-c54d-eeb4c0590d89\"},{\"type\":\"BoxZoomTool\",\"id\":\"c3e338b3-6705-46a9-c67d-b37158e63e27\"},{\"type\":\"PreviewSaveTool\",\"id\":\"84082131-4e92-4dae-cd99-46d07a0861bd\"},{\"type\":\"ResizeTool\",\"id\":\"3b2ab9be-6086-4d96-cd0b-29e168a85086\"},{\"type\":\"ResetTool\",\"id\":\"d5b747fd-daeb-4556-c591-a030e515e25b\"}],\"doc\":null,\"right\":[],\"title\":\"Accuracy\",\"extra_x_ranges\":{},\"left\":[{\"type\":\"LinearAxis\",\"id\":\"63cdae29-d8e5-4d25-cd6f-c002c1bdd632\"}],\"y_range\":{\"type\":\"DataRange1d\",\"id\":\"859ec279-368f-4bd5-cbfe-edc6559df4c5\"},\"id\":\"0e95a6a2-8d86-410c-c12b-7da8a7372f42\",\"extra_y_ranges\":{},\"tags\":[]}}];\n",
       "  Bokeh.load_models(all_models);\n",
       "  var model = Bokeh.Collections(modeltype).get(modelid);\n",
       "  $(\"#5ca795bb-e696-4f46-cf25-a9f5564f16c4\").html(''); // clear any previous plot in window_id\n",
       "  var view = new model.default_view({model: model, el: \"#5ca795bb-e696-4f46-cf25-a9f5564f16c4\"});\n",
       "    } else {\n",
       "  load_lib(bokehjs_url, function() {\n",
       "      console.log(\"Bokeh: BokehJS plotting callback run at\", new Date())\n",
       "      var modelid = \"0e95a6a2-8d86-410c-c12b-7da8a7372f42\";\n",
       "      var modeltype = \"Plot\";\n",
       "      var all_models = [{\"id\":\"646beeb2-f4a7-41fc-c111-cf6af0eff6d8\",\"type\":\"ColumnDataSource\",\"attributes\":{\"data\":{\"y\":[0.255,0.34,0.6325,0.73,0.7975,0.7775,0.7675,0.78,0.7825,0.8025,0.825,0.8325,0.845,0.855,0.8625,0.87,0.8875,0.8975,0.9075,0.91,0.92,0.9225,0.9275,0.9275,0.93,0.935,0.935,0.94,0.94,0.94,0.94,0.94,0.94,0.945,0.945,0.945,0.945,0.945,0.9475,0.95,0.95,0.95,0.95,0.95,0.95,0.95,0.95,0.95,0.9525,0.95,0.955,0.9575,0.9625,0.9625,0.97,0.97,0.97,0.97,0.97,0.97,0.97,0.97,0.97,0.97,0.97,0.97,0.97,0.97,0.97,0.97,0.97,0.97,0.97,0.97,0.97,0.97,0.97,0.97,0.97,0.97,0.97,0.97,0.97,0.97,0.97,0.97,0.97,0.9725,0.9725,0.9725,0.9725,0.9725,0.9725,0.9725,0.9725,0.9725,0.9725,0.975,0.975,0.975,0.9775,0.9775,0.9775,0.9775,0.9775,0.9775,0.9775,0.9775,0.9775,0.9775,0.9775,0.9775,0.9775,0.9775,0.9775,0.98,0.98,0.98,0.98,0.98,0.98,0.98,0.98,0.98,0.98,0.98,0.98,0.98,0.98,0.98,0.98,0.98,0.98,0.98,0.98,0.98,0.98,0.98,0.98,0.98,0.98,0.98,0.98,0.98,0.98,0.98,0.98,0.98,0.98,0.98,0.98,0.98,0.98,0.98,0.98,0.98,0.98,0.98,0.98,0.98,0.98,0.98,0.98,0.98,0.98,0.98,0.98,0.98,0.98,0.98,0.98,0.98,0.98,0.98,0.98,0.98,0.98,0.98,0.98,0.98,0.98,0.98,0.98,0.98,0.98,0.98,0.98,0.98,0.98,0.98,0.98,0.98,0.98,0.98,0.98,0.98,0.98,0.98,0.98,0.98],\"x\":[1,2,3,4,5,6,7,8,9,10,11,12,13,14,15,16,17,18,19,20,21,22,23,24,25,26,27,28,29,30,31,32,33,34,35,36,37,38,39,40,41,42,43,44,45,46,47,48,49,50,51,52,53,54,55,56,57,58,59,60,61,62,63,64,65,66,67,68,69,70,71,72,73,74,75,76,77,78,79,80,81,82,83,84,85,86,87,88,89,90,91,92,93,94,95,96,97,98,99,100,101,102,103,104,105,106,107,108,109,110,111,112,113,114,115,116,117,118,119,120,121,122,123,124,125,126,127,128,129,130,131,132,133,134,135,136,137,138,139,140,141,142,143,144,145,146,147,148,149,150,151,152,153,154,155,156,157,158,159,160,161,162,163,164,165,166,167,168,169,170,171,172,173,174,175,176,177,178,179,180,181,182,183,184,185,186,187,188,189,190,191,192,193,194,195,196,197,198,199,200]},\"column_names\":[\"y\",\"x\"],\"cont_ranges\":{},\"discrete_ranges\":{},\"selected\":[],\"id\":\"646beeb2-f4a7-41fc-c111-cf6af0eff6d8\",\"doc\":null,\"tags\":[]}},{\"id\":\"4f4d10f5-e388-4b9b-cbf9-c9449d93716f\",\"type\":\"Line\",\"attributes\":{\"fill_alpha\":{\"units\":\"data\",\"value\":0.2},\"line_alpha\":{\"units\":\"data\",\"value\":1},\"doc\":null,\"size\":{\"units\":\"screen\",\"value\":10},\"fill_color\":{\"value\":\"blue\"},\"line_color\":{\"value\":\"blue\"},\"x\":{\"units\":\"data\",\"field\":\"x\"},\"id\":\"4f4d10f5-e388-4b9b-cbf9-c9449d93716f\",\"y\":{\"units\":\"data\",\"field\":\"y\"},\"tags\":[]}},{\"id\":\"640a6289-e4fe-4237-c22a-04d575afa26a\",\"type\":\"Line\",\"attributes\":{\"fill_alpha\":{\"units\":\"data\",\"value\":0.2},\"line_alpha\":{\"units\":\"data\",\"value\":1},\"doc\":null,\"size\":{\"units\":\"screen\",\"value\":10},\"fill_color\":{\"value\":\"blue\"},\"line_color\":{\"value\":\"blue\"},\"x\":{\"units\":\"data\",\"field\":\"x\"},\"id\":\"640a6289-e4fe-4237-c22a-04d575afa26a\",\"y\":{\"units\":\"data\",\"field\":\"y\"},\"tags\":[]}},{\"id\":\"23a6007e-c94b-4abe-ca14-4511e4e7105c\",\"type\":\"GlyphRenderer\",\"attributes\":{\"name\":null,\"nonselection_glyph\":{\"type\":\"Line\",\"id\":\"640a6289-e4fe-4237-c22a-04d575afa26a\"},\"doc\":null,\"server_data_source\":null,\"data_source\":{\"type\":\"ColumnDataSource\",\"id\":\"646beeb2-f4a7-41fc-c111-cf6af0eff6d8\"},\"glyph\":{\"type\":\"Line\",\"id\":\"4f4d10f5-e388-4b9b-cbf9-c9449d93716f\"},\"selection_glyph\":null,\"id\":\"23a6007e-c94b-4abe-ca14-4511e4e7105c\",\"tags\":[]}},{\"id\":\"6df259df-00d6-4c1d-cc95-9a45b54cc3c1\",\"type\":\"DataRange1d\",\"attributes\":{\"sources\":[{\"columns\":[\"x\"],\"source\":{\"type\":\"ColumnDataSource\",\"id\":\"646beeb2-f4a7-41fc-c111-cf6af0eff6d8\"}}],\"id\":\"6df259df-00d6-4c1d-cc95-9a45b54cc3c1\",\"tags\":[],\"doc\":null}},{\"id\":\"859ec279-368f-4bd5-cbfe-edc6559df4c5\",\"type\":\"DataRange1d\",\"attributes\":{\"sources\":[{\"columns\":[\"y\"],\"source\":{\"type\":\"ColumnDataSource\",\"id\":\"646beeb2-f4a7-41fc-c111-cf6af0eff6d8\"}}],\"id\":\"859ec279-368f-4bd5-cbfe-edc6559df4c5\",\"tags\":[],\"doc\":null}},{\"id\":\"3efc495f-e3c2-448d-c46e-43fafc3c538e\",\"type\":\"ToolEvents\",\"attributes\":{\"tags\":[],\"id\":\"3efc495f-e3c2-448d-c46e-43fafc3c538e\",\"geometries\":[],\"doc\":null}},{\"id\":\"a2845367-8bc9-4a0d-cab4-c2a59b2b0972\",\"type\":\"BasicTickFormatter\",\"attributes\":{\"id\":\"a2845367-8bc9-4a0d-cab4-c2a59b2b0972\",\"tags\":[],\"doc\":null}},{\"id\":\"a04ed1b4-3c62-4b65-cbb4-c3d180329b66\",\"type\":\"BasicTicker\",\"attributes\":{\"num_minor_ticks\":5,\"id\":\"a04ed1b4-3c62-4b65-cbb4-c3d180329b66\",\"tags\":[],\"doc\":null}},{\"id\":\"77eec186-0054-431c-c372-a14b085461d5\",\"type\":\"LinearAxis\",\"attributes\":{\"formatter\":{\"type\":\"BasicTickFormatter\",\"id\":\"a2845367-8bc9-4a0d-cab4-c2a59b2b0972\"},\"ticker\":{\"type\":\"BasicTicker\",\"id\":\"a04ed1b4-3c62-4b65-cbb4-c3d180329b66\"},\"plot\":{\"id\":\"0e95a6a2-8d86-410c-c12b-7da8a7372f42\",\"type\":\"Plot\",\"subtype\":\"Figure\"},\"axis_label\":null,\"id\":\"77eec186-0054-431c-c372-a14b085461d5\",\"doc\":null,\"tags\":[]}},{\"id\":\"5a5b9abf-c699-4165-c113-4182642f97d5\",\"type\":\"Grid\",\"attributes\":{\"dimension\":0,\"plot\":{\"id\":\"0e95a6a2-8d86-410c-c12b-7da8a7372f42\",\"type\":\"Plot\",\"subtype\":\"Figure\"},\"ticker\":{\"type\":\"BasicTicker\",\"id\":\"a04ed1b4-3c62-4b65-cbb4-c3d180329b66\"},\"id\":\"5a5b9abf-c699-4165-c113-4182642f97d5\",\"doc\":null,\"tags\":[]}},{\"id\":\"595acf0b-a9ae-4013-c05d-28642b4958df\",\"type\":\"BasicTickFormatter\",\"attributes\":{\"id\":\"595acf0b-a9ae-4013-c05d-28642b4958df\",\"tags\":[],\"doc\":null}},{\"id\":\"e9c556fc-44be-4b94-cb22-6242330a5b29\",\"type\":\"BasicTicker\",\"attributes\":{\"num_minor_ticks\":5,\"id\":\"e9c556fc-44be-4b94-cb22-6242330a5b29\",\"tags\":[],\"doc\":null}},{\"id\":\"63cdae29-d8e5-4d25-cd6f-c002c1bdd632\",\"type\":\"LinearAxis\",\"attributes\":{\"formatter\":{\"type\":\"BasicTickFormatter\",\"id\":\"595acf0b-a9ae-4013-c05d-28642b4958df\"},\"ticker\":{\"type\":\"BasicTicker\",\"id\":\"e9c556fc-44be-4b94-cb22-6242330a5b29\"},\"plot\":{\"id\":\"0e95a6a2-8d86-410c-c12b-7da8a7372f42\",\"type\":\"Plot\",\"subtype\":\"Figure\"},\"axis_label\":null,\"id\":\"63cdae29-d8e5-4d25-cd6f-c002c1bdd632\",\"doc\":null,\"tags\":[]}},{\"id\":\"879eedd4-3204-4e47-ce4f-e4eee7874098\",\"type\":\"Grid\",\"attributes\":{\"dimension\":1,\"plot\":{\"id\":\"0e95a6a2-8d86-410c-c12b-7da8a7372f42\",\"type\":\"Plot\",\"subtype\":\"Figure\"},\"ticker\":{\"type\":\"BasicTicker\",\"id\":\"e9c556fc-44be-4b94-cb22-6242330a5b29\"},\"id\":\"879eedd4-3204-4e47-ce4f-e4eee7874098\",\"doc\":null,\"tags\":[]}},{\"id\":\"d912b050-9b49-47dd-c708-a95a55d6bb2b\",\"type\":\"PanTool\",\"attributes\":{\"plot\":{\"id\":\"0e95a6a2-8d86-410c-c12b-7da8a7372f42\",\"type\":\"Plot\",\"subtype\":\"Figure\"},\"dimensions\":[\"width\",\"height\"],\"id\":\"d912b050-9b49-47dd-c708-a95a55d6bb2b\",\"doc\":null,\"tags\":[]}},{\"id\":\"83cf6174-83d8-4560-c54d-eeb4c0590d89\",\"type\":\"WheelZoomTool\",\"attributes\":{\"plot\":{\"id\":\"0e95a6a2-8d86-410c-c12b-7da8a7372f42\",\"type\":\"Plot\",\"subtype\":\"Figure\"},\"dimensions\":[\"width\",\"height\"],\"id\":\"83cf6174-83d8-4560-c54d-eeb4c0590d89\",\"doc\":null,\"tags\":[]}},{\"id\":\"c3e338b3-6705-46a9-c67d-b37158e63e27\",\"type\":\"BoxZoomTool\",\"attributes\":{\"plot\":{\"id\":\"0e95a6a2-8d86-410c-c12b-7da8a7372f42\",\"type\":\"Plot\",\"subtype\":\"Figure\"},\"id\":\"c3e338b3-6705-46a9-c67d-b37158e63e27\",\"tags\":[],\"doc\":null}},{\"id\":\"84082131-4e92-4dae-cd99-46d07a0861bd\",\"type\":\"PreviewSaveTool\",\"attributes\":{\"plot\":{\"id\":\"0e95a6a2-8d86-410c-c12b-7da8a7372f42\",\"type\":\"Plot\",\"subtype\":\"Figure\"},\"id\":\"84082131-4e92-4dae-cd99-46d07a0861bd\",\"tags\":[],\"doc\":null}},{\"id\":\"3b2ab9be-6086-4d96-cd0b-29e168a85086\",\"type\":\"ResizeTool\",\"attributes\":{\"plot\":{\"id\":\"0e95a6a2-8d86-410c-c12b-7da8a7372f42\",\"type\":\"Plot\",\"subtype\":\"Figure\"},\"id\":\"3b2ab9be-6086-4d96-cd0b-29e168a85086\",\"tags\":[],\"doc\":null}},{\"id\":\"d5b747fd-daeb-4556-c591-a030e515e25b\",\"type\":\"ResetTool\",\"attributes\":{\"plot\":{\"id\":\"0e95a6a2-8d86-410c-c12b-7da8a7372f42\",\"type\":\"Plot\",\"subtype\":\"Figure\"},\"id\":\"d5b747fd-daeb-4556-c591-a030e515e25b\",\"tags\":[],\"doc\":null}},{\"id\":\"69164ef6-6c17-4715-c721-37c02b62bef0\",\"type\":\"Legend\",\"attributes\":{\"plot\":{\"id\":\"0e95a6a2-8d86-410c-c12b-7da8a7372f42\",\"type\":\"Plot\",\"subtype\":\"Figure\"},\"legends\":[[\"train_acc\",[{\"type\":\"GlyphRenderer\",\"id\":\"23a6007e-c94b-4abe-ca14-4511e4e7105c\"}]]],\"id\":\"69164ef6-6c17-4715-c721-37c02b62bef0\",\"doc\":null,\"tags\":[]}},{\"id\":\"0e95a6a2-8d86-410c-c12b-7da8a7372f42\",\"type\":\"Plot\",\"attributes\":{\"x_range\":{\"type\":\"DataRange1d\",\"id\":\"6df259df-00d6-4c1d-cc95-9a45b54cc3c1\"},\"tool_events\":{\"type\":\"ToolEvents\",\"id\":\"3efc495f-e3c2-448d-c46e-43fafc3c538e\"},\"below\":[{\"type\":\"LinearAxis\",\"id\":\"77eec186-0054-431c-c372-a14b085461d5\"}],\"renderers\":[{\"type\":\"GlyphRenderer\",\"id\":\"23a6007e-c94b-4abe-ca14-4511e4e7105c\"},{\"type\":\"LinearAxis\",\"id\":\"77eec186-0054-431c-c372-a14b085461d5\"},{\"type\":\"Grid\",\"id\":\"5a5b9abf-c699-4165-c113-4182642f97d5\"},{\"type\":\"LinearAxis\",\"id\":\"63cdae29-d8e5-4d25-cd6f-c002c1bdd632\"},{\"type\":\"Grid\",\"id\":\"879eedd4-3204-4e47-ce4f-e4eee7874098\"},{\"type\":\"Legend\",\"id\":\"69164ef6-6c17-4715-c721-37c02b62bef0\"}],\"above\":[],\"tools\":[{\"type\":\"PanTool\",\"id\":\"d912b050-9b49-47dd-c708-a95a55d6bb2b\"},{\"type\":\"WheelZoomTool\",\"id\":\"83cf6174-83d8-4560-c54d-eeb4c0590d89\"},{\"type\":\"BoxZoomTool\",\"id\":\"c3e338b3-6705-46a9-c67d-b37158e63e27\"},{\"type\":\"PreviewSaveTool\",\"id\":\"84082131-4e92-4dae-cd99-46d07a0861bd\"},{\"type\":\"ResizeTool\",\"id\":\"3b2ab9be-6086-4d96-cd0b-29e168a85086\"},{\"type\":\"ResetTool\",\"id\":\"d5b747fd-daeb-4556-c591-a030e515e25b\"}],\"doc\":null,\"right\":[],\"title\":\"Accuracy\",\"extra_x_ranges\":{},\"left\":[{\"type\":\"LinearAxis\",\"id\":\"63cdae29-d8e5-4d25-cd6f-c002c1bdd632\"}],\"y_range\":{\"type\":\"DataRange1d\",\"id\":\"859ec279-368f-4bd5-cbfe-edc6559df4c5\"},\"id\":\"0e95a6a2-8d86-410c-c12b-7da8a7372f42\",\"extra_y_ranges\":{},\"tags\":[]}}];\n",
       "      Bokeh.load_models(all_models);\n",
       "      var model = Bokeh.Collections(modeltype).get(modelid);\n",
       "      $(\"#5ca795bb-e696-4f46-cf25-a9f5564f16c4\").html(''); // clear any previous plot in window_id\n",
       "      var view = new model.default_view({model: model, el: \"#5ca795bb-e696-4f46-cf25-a9f5564f16c4\"});\n",
       "  });\n",
       "    }\n",
       "});\n",
       "</script>\n",
       "<div class=\"plotdiv\" id=\"5ca795bb-e696-4f46-cf25-a9f5564f16c4\"></div>\n"
      ]
     },
     "metadata": {},
     "output_type": "display_data"
    },
    {
     "data": {
      "text/html": [
       "<script type=\"text/javascript\">\n",
       "$(function() {\n",
       "    if (typeof (window._bokeh_onload_callbacks) === \"undefined\"){\n",
       "  window._bokeh_onload_callbacks = [];\n",
       "    }\n",
       "    function load_lib(url, callback){\n",
       "  window._bokeh_onload_callbacks.push(callback);\n",
       "  if (window._bokeh_is_loading){\n",
       "      console.log(\"Bokeh: BokehJS is being loaded, scheduling callback at\", new Date());\n",
       "      return null;\n",
       "  }\n",
       "  console.log(\"Bokeh: BokehJS not loaded, scheduling load and callback at\", new Date());\n",
       "  window._bokeh_is_loading = true;\n",
       "  var s = document.createElement('script');\n",
       "  s.src = url;\n",
       "  s.async = true;\n",
       "  s.onreadystatechange = s.onload = function(){\n",
       "      Bokeh.embed.inject_css(\"https://cdn.pydata.org/bokeh-0.7.0.min.css\");\n",
       "      window._bokeh_onload_callbacks.forEach(function(callback){callback()});\n",
       "  };\n",
       "  s.onerror = function(){\n",
       "      console.warn(\"failed to load library \" + url);\n",
       "  };\n",
       "  document.getElementsByTagName(\"head\")[0].appendChild(s);\n",
       "    }\n",
       "\n",
       "    bokehjs_url = \"https://cdn.pydata.org/bokeh-0.7.0.min.js\"\n",
       "\n",
       "    var elt = document.getElementById(\"5ca795bb-e696-4f46-cf25-a9f5564f16c4\");\n",
       "    if(elt==null) {\n",
       "  console.log(\"Bokeh: ERROR: autoload.js configured with elementid '5ca795bb-e696-4f46-cf25-a9f5564f16c4'\"\n",
       "        + \"but no matching script tag was found. \")\n",
       "  return false;\n",
       "    }\n",
       "\n",
       "    if(typeof(Bokeh) !== \"undefined\") {\n",
       "  console.log(\"Bokeh: BokehJS loaded, going straight to plotting\");\n",
       "  var modelid = \"68f2fcf8-32da-40e7-c0d0-7a2a27313279\";\n",
       "  var modeltype = \"Plot\";\n",
       "  var all_models = [{\"id\":\"5a378944-7b3c-4520-c586-07b43985377b\",\"type\":\"ColumnDataSource\",\"attributes\":{\"data\":{\"y\":[0.255,0.34,0.6325,0.73,0.7975,0.7775,0.7675,0.78,0.7825,0.8025,0.825,0.8325,0.845,0.855,0.8625,0.87,0.8875,0.8975,0.9075,0.91,0.92,0.9225,0.9275,0.9275,0.93,0.935,0.935,0.94,0.94,0.94,0.94,0.94,0.94,0.945,0.945,0.945,0.945,0.945,0.9475,0.95,0.95,0.95,0.95,0.95,0.95,0.95,0.95,0.95,0.9525,0.95,0.955,0.9575,0.9625,0.9625,0.97,0.97,0.97,0.97,0.97,0.97,0.97,0.97,0.97,0.97,0.97,0.97,0.97,0.97,0.97,0.97,0.97,0.97,0.97,0.97,0.97,0.97,0.97,0.97,0.97,0.97,0.97,0.97,0.97,0.97,0.97,0.97,0.97,0.9725,0.9725,0.9725,0.9725,0.9725,0.9725,0.9725,0.9725,0.9725,0.9725,0.975,0.975,0.975,0.9775,0.9775,0.9775,0.9775,0.9775,0.9775,0.9775,0.9775,0.9775,0.9775,0.9775,0.9775,0.9775,0.9775,0.9775,0.98,0.98,0.98,0.98,0.98,0.98,0.98,0.98,0.98,0.98,0.98,0.98,0.98,0.98,0.98,0.98,0.98,0.98,0.98,0.98,0.98,0.98,0.98,0.98,0.98,0.98,0.98,0.98,0.98,0.98,0.98,0.98,0.98,0.98,0.98,0.98,0.98,0.98,0.98,0.98,0.98,0.98,0.98,0.98,0.98,0.98,0.98,0.98,0.98,0.98,0.98,0.98,0.98,0.98,0.98,0.98,0.98,0.98,0.98,0.98,0.98,0.98,0.98,0.98,0.98,0.98,0.98,0.98,0.98,0.98,0.98,0.98,0.98,0.98,0.98,0.98,0.98,0.98,0.98,0.98,0.98,0.98,0.98,0.98,0.98],\"x\":[1,2,3,4,5,6,7,8,9,10,11,12,13,14,15,16,17,18,19,20,21,22,23,24,25,26,27,28,29,30,31,32,33,34,35,36,37,38,39,40,41,42,43,44,45,46,47,48,49,50,51,52,53,54,55,56,57,58,59,60,61,62,63,64,65,66,67,68,69,70,71,72,73,74,75,76,77,78,79,80,81,82,83,84,85,86,87,88,89,90,91,92,93,94,95,96,97,98,99,100,101,102,103,104,105,106,107,108,109,110,111,112,113,114,115,116,117,118,119,120,121,122,123,124,125,126,127,128,129,130,131,132,133,134,135,136,137,138,139,140,141,142,143,144,145,146,147,148,149,150,151,152,153,154,155,156,157,158,159,160,161,162,163,164,165,166,167,168,169,170,171,172,173,174,175,176,177,178,179,180,181,182,183,184,185,186,187,188,189,190,191,192,193,194,195,196,197,198,199,200]},\"column_names\":[\"y\",\"x\"],\"cont_ranges\":{},\"discrete_ranges\":{},\"selected\":[],\"id\":\"5a378944-7b3c-4520-c586-07b43985377b\",\"doc\":null,\"tags\":[]}},{\"id\":\"374867bb-f5ed-4c03-cc94-c879f6a8e7fd\",\"type\":\"Line\",\"attributes\":{\"fill_alpha\":{\"units\":\"data\",\"value\":0.2},\"line_alpha\":{\"units\":\"data\",\"value\":1},\"doc\":null,\"size\":{\"units\":\"screen\",\"value\":10},\"fill_color\":{\"value\":\"blue\"},\"line_color\":{\"value\":\"blue\"},\"x\":{\"units\":\"data\",\"field\":\"x\"},\"id\":\"374867bb-f5ed-4c03-cc94-c879f6a8e7fd\",\"y\":{\"units\":\"data\",\"field\":\"y\"},\"tags\":[]}},{\"id\":\"e25517cd-3e4d-4ec9-ce13-b140731388c2\",\"type\":\"Line\",\"attributes\":{\"fill_alpha\":{\"units\":\"data\",\"value\":0.2},\"line_alpha\":{\"units\":\"data\",\"value\":1},\"doc\":null,\"size\":{\"units\":\"screen\",\"value\":10},\"fill_color\":{\"value\":\"blue\"},\"line_color\":{\"value\":\"blue\"},\"x\":{\"units\":\"data\",\"field\":\"x\"},\"id\":\"e25517cd-3e4d-4ec9-ce13-b140731388c2\",\"y\":{\"units\":\"data\",\"field\":\"y\"},\"tags\":[]}},{\"id\":\"621fe168-14ef-4273-c28b-8b87a11b42a0\",\"type\":\"GlyphRenderer\",\"attributes\":{\"name\":null,\"nonselection_glyph\":{\"type\":\"Line\",\"id\":\"e25517cd-3e4d-4ec9-ce13-b140731388c2\"},\"doc\":null,\"server_data_source\":null,\"data_source\":{\"type\":\"ColumnDataSource\",\"id\":\"5a378944-7b3c-4520-c586-07b43985377b\"},\"glyph\":{\"type\":\"Line\",\"id\":\"374867bb-f5ed-4c03-cc94-c879f6a8e7fd\"},\"selection_glyph\":null,\"id\":\"621fe168-14ef-4273-c28b-8b87a11b42a0\",\"tags\":[]}},{\"id\":\"38328263-8a7c-46bb-c6f9-c44451eaef01\",\"type\":\"ColumnDataSource\",\"attributes\":{\"data\":{\"y\":[0.25,0.4,0.55,0.725,0.775,0.775,0.775,0.825,0.85,0.85,0.85,0.875,0.875,0.875,0.875,0.875,0.875,0.875,0.9,0.9,0.925,0.925,0.925,0.925,0.925,0.925,0.925,0.925,0.925,0.925,0.95,0.95,0.95,0.925,0.925,0.95,0.95,0.95,0.95,0.975,0.975,0.975,0.975,0.975,0.975,0.975,0.975,0.975,0.975,0.975,0.975,0.975,0.975,0.975,0.975,0.975,0.975,0.975,0.975,0.975,0.975,0.975,0.975,0.975,0.975,0.975,0.975,0.975,0.975,0.975,0.975,0.975,0.975,0.975,0.975,0.975,0.975,0.975,0.975,0.975,0.975,0.975,0.975,0.975,0.975,0.975,0.975,0.975,0.975,0.975,0.975,0.975,0.975,0.975,0.975,0.975,0.975,0.975,0.975,0.975,0.975,0.975,0.975,0.975,0.975,0.975,0.975,0.975,0.975,0.975,0.975,0.975,0.975,0.975,0.975,0.975,0.975,0.975,0.975,0.975,0.975,0.975,0.975,0.975,0.975,0.975,0.975,0.975,0.975,0.975,0.975,0.975,0.975,0.975,0.975,0.975,0.975,0.975,0.975,0.975,0.975,0.975,0.975,0.975,0.975,0.975,0.975,0.975,0.975,0.975,0.975,0.975,0.975,0.975,0.975,0.975,0.975,0.975,0.975,0.975,0.975,0.975,0.975,0.975,0.975,0.975,0.975,0.975,0.975,0.975,0.975,0.975,0.975,0.975,0.975,0.975,0.975,0.975,0.975,0.975,0.975,0.975,0.975,0.975,0.975,0.975,0.975,0.975,0.975,0.975,0.975,0.975,0.975,0.975,0.975,0.975,0.975,0.975,0.975,0.975],\"x\":[1,2,3,4,5,6,7,8,9,10,11,12,13,14,15,16,17,18,19,20,21,22,23,24,25,26,27,28,29,30,31,32,33,34,35,36,37,38,39,40,41,42,43,44,45,46,47,48,49,50,51,52,53,54,55,56,57,58,59,60,61,62,63,64,65,66,67,68,69,70,71,72,73,74,75,76,77,78,79,80,81,82,83,84,85,86,87,88,89,90,91,92,93,94,95,96,97,98,99,100,101,102,103,104,105,106,107,108,109,110,111,112,113,114,115,116,117,118,119,120,121,122,123,124,125,126,127,128,129,130,131,132,133,134,135,136,137,138,139,140,141,142,143,144,145,146,147,148,149,150,151,152,153,154,155,156,157,158,159,160,161,162,163,164,165,166,167,168,169,170,171,172,173,174,175,176,177,178,179,180,181,182,183,184,185,186,187,188,189,190,191,192,193,194,195,196,197,198,199,200]},\"column_names\":[\"y\",\"x\"],\"cont_ranges\":{},\"discrete_ranges\":{},\"selected\":[],\"id\":\"38328263-8a7c-46bb-c6f9-c44451eaef01\",\"doc\":null,\"tags\":[]}},{\"id\":\"77dff367-a034-4c70-cc05-f6348dfc3182\",\"type\":\"Line\",\"attributes\":{\"fill_alpha\":{\"units\":\"data\",\"value\":0.2},\"line_alpha\":{\"units\":\"data\",\"value\":1},\"doc\":null,\"size\":{\"units\":\"screen\",\"value\":10},\"fill_color\":{\"value\":\"green\"},\"line_color\":{\"value\":\"green\"},\"x\":{\"units\":\"data\",\"field\":\"x\"},\"id\":\"77dff367-a034-4c70-cc05-f6348dfc3182\",\"y\":{\"units\":\"data\",\"field\":\"y\"},\"tags\":[]}},{\"id\":\"720ce3f4-adbd-4759-c74d-6d1c03a579fa\",\"type\":\"Line\",\"attributes\":{\"fill_alpha\":{\"units\":\"data\",\"value\":0.2},\"line_alpha\":{\"units\":\"data\",\"value\":1},\"doc\":null,\"size\":{\"units\":\"screen\",\"value\":10},\"fill_color\":{\"value\":\"green\"},\"line_color\":{\"value\":\"green\"},\"x\":{\"units\":\"data\",\"field\":\"x\"},\"id\":\"720ce3f4-adbd-4759-c74d-6d1c03a579fa\",\"y\":{\"units\":\"data\",\"field\":\"y\"},\"tags\":[]}},{\"id\":\"1ca17190-8551-4779-c7cb-80a9f4e2a7df\",\"type\":\"GlyphRenderer\",\"attributes\":{\"name\":null,\"nonselection_glyph\":{\"type\":\"Line\",\"id\":\"720ce3f4-adbd-4759-c74d-6d1c03a579fa\"},\"doc\":null,\"server_data_source\":null,\"data_source\":{\"type\":\"ColumnDataSource\",\"id\":\"38328263-8a7c-46bb-c6f9-c44451eaef01\"},\"glyph\":{\"type\":\"Line\",\"id\":\"77dff367-a034-4c70-cc05-f6348dfc3182\"},\"selection_glyph\":null,\"id\":\"1ca17190-8551-4779-c7cb-80a9f4e2a7df\",\"tags\":[]}},{\"id\":\"2f86fe8e-949c-4a13-caa9-3e5857977ae1\",\"type\":\"DataRange1d\",\"attributes\":{\"sources\":[{\"columns\":[\"x\"],\"source\":{\"type\":\"ColumnDataSource\",\"id\":\"5a378944-7b3c-4520-c586-07b43985377b\"}},{\"columns\":[\"x\"],\"source\":{\"type\":\"ColumnDataSource\",\"id\":\"38328263-8a7c-46bb-c6f9-c44451eaef01\"}}],\"id\":\"2f86fe8e-949c-4a13-caa9-3e5857977ae1\",\"tags\":[],\"doc\":null}},{\"id\":\"09dfa364-055c-4f2d-cfeb-3c05cb99a532\",\"type\":\"DataRange1d\",\"attributes\":{\"sources\":[{\"columns\":[\"y\"],\"source\":{\"type\":\"ColumnDataSource\",\"id\":\"5a378944-7b3c-4520-c586-07b43985377b\"}},{\"columns\":[\"y\"],\"source\":{\"type\":\"ColumnDataSource\",\"id\":\"38328263-8a7c-46bb-c6f9-c44451eaef01\"}}],\"id\":\"09dfa364-055c-4f2d-cfeb-3c05cb99a532\",\"tags\":[],\"doc\":null}},{\"id\":\"852ef399-86af-4f40-cff6-91572f09d876\",\"type\":\"ToolEvents\",\"attributes\":{\"tags\":[],\"id\":\"852ef399-86af-4f40-cff6-91572f09d876\",\"geometries\":[],\"doc\":null}},{\"id\":\"c7484057-4e31-4147-c105-8a831a95b851\",\"type\":\"BasicTickFormatter\",\"attributes\":{\"id\":\"c7484057-4e31-4147-c105-8a831a95b851\",\"tags\":[],\"doc\":null}},{\"id\":\"7ca36d43-9f1c-4602-c6f8-e30d7fb8cc4f\",\"type\":\"BasicTicker\",\"attributes\":{\"num_minor_ticks\":5,\"id\":\"7ca36d43-9f1c-4602-c6f8-e30d7fb8cc4f\",\"tags\":[],\"doc\":null}},{\"id\":\"f6d71c74-7cfb-4362-c349-3a585482f586\",\"type\":\"LinearAxis\",\"attributes\":{\"formatter\":{\"type\":\"BasicTickFormatter\",\"id\":\"c7484057-4e31-4147-c105-8a831a95b851\"},\"ticker\":{\"type\":\"BasicTicker\",\"id\":\"7ca36d43-9f1c-4602-c6f8-e30d7fb8cc4f\"},\"plot\":{\"id\":\"68f2fcf8-32da-40e7-c0d0-7a2a27313279\",\"type\":\"Plot\",\"subtype\":\"Figure\"},\"axis_label\":null,\"id\":\"f6d71c74-7cfb-4362-c349-3a585482f586\",\"doc\":null,\"tags\":[]}},{\"id\":\"351ac447-c818-4f0b-cf4b-2ef056d2039a\",\"type\":\"Grid\",\"attributes\":{\"dimension\":0,\"plot\":{\"id\":\"68f2fcf8-32da-40e7-c0d0-7a2a27313279\",\"type\":\"Plot\",\"subtype\":\"Figure\"},\"ticker\":{\"type\":\"BasicTicker\",\"id\":\"7ca36d43-9f1c-4602-c6f8-e30d7fb8cc4f\"},\"id\":\"351ac447-c818-4f0b-cf4b-2ef056d2039a\",\"doc\":null,\"tags\":[]}},{\"id\":\"68469f62-13e4-4d27-cda5-3d3e095dc96f\",\"type\":\"BasicTickFormatter\",\"attributes\":{\"id\":\"68469f62-13e4-4d27-cda5-3d3e095dc96f\",\"tags\":[],\"doc\":null}},{\"id\":\"5555784c-21ae-4b1e-cbe6-692d6625e94c\",\"type\":\"BasicTicker\",\"attributes\":{\"num_minor_ticks\":5,\"id\":\"5555784c-21ae-4b1e-cbe6-692d6625e94c\",\"tags\":[],\"doc\":null}},{\"id\":\"8e06e78b-290c-40ab-c0e2-f20a21239b49\",\"type\":\"LinearAxis\",\"attributes\":{\"formatter\":{\"type\":\"BasicTickFormatter\",\"id\":\"68469f62-13e4-4d27-cda5-3d3e095dc96f\"},\"ticker\":{\"type\":\"BasicTicker\",\"id\":\"5555784c-21ae-4b1e-cbe6-692d6625e94c\"},\"plot\":{\"id\":\"68f2fcf8-32da-40e7-c0d0-7a2a27313279\",\"type\":\"Plot\",\"subtype\":\"Figure\"},\"axis_label\":null,\"id\":\"8e06e78b-290c-40ab-c0e2-f20a21239b49\",\"doc\":null,\"tags\":[]}},{\"id\":\"889063d5-6197-4825-c801-0943a9477086\",\"type\":\"Grid\",\"attributes\":{\"dimension\":1,\"plot\":{\"id\":\"68f2fcf8-32da-40e7-c0d0-7a2a27313279\",\"type\":\"Plot\",\"subtype\":\"Figure\"},\"ticker\":{\"type\":\"BasicTicker\",\"id\":\"5555784c-21ae-4b1e-cbe6-692d6625e94c\"},\"id\":\"889063d5-6197-4825-c801-0943a9477086\",\"doc\":null,\"tags\":[]}},{\"id\":\"003a2821-2281-4bb6-cb26-fed19c8bdf36\",\"type\":\"PanTool\",\"attributes\":{\"plot\":{\"id\":\"68f2fcf8-32da-40e7-c0d0-7a2a27313279\",\"type\":\"Plot\",\"subtype\":\"Figure\"},\"dimensions\":[\"width\",\"height\"],\"id\":\"003a2821-2281-4bb6-cb26-fed19c8bdf36\",\"doc\":null,\"tags\":[]}},{\"id\":\"3b6f28be-87f8-41e7-c1f7-4faf32e3fce3\",\"type\":\"WheelZoomTool\",\"attributes\":{\"plot\":{\"id\":\"68f2fcf8-32da-40e7-c0d0-7a2a27313279\",\"type\":\"Plot\",\"subtype\":\"Figure\"},\"dimensions\":[\"width\",\"height\"],\"id\":\"3b6f28be-87f8-41e7-c1f7-4faf32e3fce3\",\"doc\":null,\"tags\":[]}},{\"id\":\"6f897ac0-ff26-4519-c5f3-08c00d0b87cd\",\"type\":\"BoxZoomTool\",\"attributes\":{\"plot\":{\"id\":\"68f2fcf8-32da-40e7-c0d0-7a2a27313279\",\"type\":\"Plot\",\"subtype\":\"Figure\"},\"id\":\"6f897ac0-ff26-4519-c5f3-08c00d0b87cd\",\"tags\":[],\"doc\":null}},{\"id\":\"68663a4c-d5b7-41f0-c190-4f71050f6364\",\"type\":\"PreviewSaveTool\",\"attributes\":{\"plot\":{\"id\":\"68f2fcf8-32da-40e7-c0d0-7a2a27313279\",\"type\":\"Plot\",\"subtype\":\"Figure\"},\"id\":\"68663a4c-d5b7-41f0-c190-4f71050f6364\",\"tags\":[],\"doc\":null}},{\"id\":\"13820127-d537-41f7-c15d-06b0f3819c39\",\"type\":\"ResizeTool\",\"attributes\":{\"plot\":{\"id\":\"68f2fcf8-32da-40e7-c0d0-7a2a27313279\",\"type\":\"Plot\",\"subtype\":\"Figure\"},\"id\":\"13820127-d537-41f7-c15d-06b0f3819c39\",\"tags\":[],\"doc\":null}},{\"id\":\"d161191c-007f-4c6b-cc08-aae107767589\",\"type\":\"ResetTool\",\"attributes\":{\"plot\":{\"id\":\"68f2fcf8-32da-40e7-c0d0-7a2a27313279\",\"type\":\"Plot\",\"subtype\":\"Figure\"},\"id\":\"d161191c-007f-4c6b-cc08-aae107767589\",\"tags\":[],\"doc\":null}},{\"id\":\"8524d7ff-26bb-47ea-c79d-84963ca7d69f\",\"type\":\"Legend\",\"attributes\":{\"plot\":{\"id\":\"68f2fcf8-32da-40e7-c0d0-7a2a27313279\",\"type\":\"Plot\",\"subtype\":\"Figure\"},\"legends\":[[\"train_acc\",[{\"type\":\"GlyphRenderer\",\"id\":\"621fe168-14ef-4273-c28b-8b87a11b42a0\"}]],[\"val_acc\",[{\"type\":\"GlyphRenderer\",\"id\":\"1ca17190-8551-4779-c7cb-80a9f4e2a7df\"}]]],\"id\":\"8524d7ff-26bb-47ea-c79d-84963ca7d69f\",\"doc\":null,\"tags\":[]}},{\"id\":\"68f2fcf8-32da-40e7-c0d0-7a2a27313279\",\"type\":\"Plot\",\"attributes\":{\"x_range\":{\"type\":\"DataRange1d\",\"id\":\"2f86fe8e-949c-4a13-caa9-3e5857977ae1\"},\"tool_events\":{\"type\":\"ToolEvents\",\"id\":\"852ef399-86af-4f40-cff6-91572f09d876\"},\"below\":[{\"type\":\"LinearAxis\",\"id\":\"f6d71c74-7cfb-4362-c349-3a585482f586\"}],\"renderers\":[{\"type\":\"GlyphRenderer\",\"id\":\"621fe168-14ef-4273-c28b-8b87a11b42a0\"},{\"type\":\"GlyphRenderer\",\"id\":\"1ca17190-8551-4779-c7cb-80a9f4e2a7df\"},{\"type\":\"LinearAxis\",\"id\":\"f6d71c74-7cfb-4362-c349-3a585482f586\"},{\"type\":\"Grid\",\"id\":\"351ac447-c818-4f0b-cf4b-2ef056d2039a\"},{\"type\":\"LinearAxis\",\"id\":\"8e06e78b-290c-40ab-c0e2-f20a21239b49\"},{\"type\":\"Grid\",\"id\":\"889063d5-6197-4825-c801-0943a9477086\"},{\"type\":\"Legend\",\"id\":\"8524d7ff-26bb-47ea-c79d-84963ca7d69f\"}],\"above\":[],\"tools\":[{\"type\":\"PanTool\",\"id\":\"003a2821-2281-4bb6-cb26-fed19c8bdf36\"},{\"type\":\"WheelZoomTool\",\"id\":\"3b6f28be-87f8-41e7-c1f7-4faf32e3fce3\"},{\"type\":\"BoxZoomTool\",\"id\":\"6f897ac0-ff26-4519-c5f3-08c00d0b87cd\"},{\"type\":\"PreviewSaveTool\",\"id\":\"68663a4c-d5b7-41f0-c190-4f71050f6364\"},{\"type\":\"ResizeTool\",\"id\":\"13820127-d537-41f7-c15d-06b0f3819c39\"},{\"type\":\"ResetTool\",\"id\":\"d161191c-007f-4c6b-cc08-aae107767589\"}],\"doc\":null,\"right\":[],\"title\":\"Accuracy\",\"extra_x_ranges\":{},\"left\":[{\"type\":\"LinearAxis\",\"id\":\"8e06e78b-290c-40ab-c0e2-f20a21239b49\"}],\"y_range\":{\"type\":\"DataRange1d\",\"id\":\"09dfa364-055c-4f2d-cfeb-3c05cb99a532\"},\"id\":\"68f2fcf8-32da-40e7-c0d0-7a2a27313279\",\"extra_y_ranges\":{},\"tags\":[]}}];\n",
       "  Bokeh.load_models(all_models);\n",
       "  var model = Bokeh.Collections(modeltype).get(modelid);\n",
       "  $(\"#5ca795bb-e696-4f46-cf25-a9f5564f16c4\").html(''); // clear any previous plot in window_id\n",
       "  var view = new model.default_view({model: model, el: \"#5ca795bb-e696-4f46-cf25-a9f5564f16c4\"});\n",
       "    } else {\n",
       "  load_lib(bokehjs_url, function() {\n",
       "      console.log(\"Bokeh: BokehJS plotting callback run at\", new Date())\n",
       "      var modelid = \"68f2fcf8-32da-40e7-c0d0-7a2a27313279\";\n",
       "      var modeltype = \"Plot\";\n",
       "      var all_models = [{\"id\":\"5a378944-7b3c-4520-c586-07b43985377b\",\"type\":\"ColumnDataSource\",\"attributes\":{\"data\":{\"y\":[0.255,0.34,0.6325,0.73,0.7975,0.7775,0.7675,0.78,0.7825,0.8025,0.825,0.8325,0.845,0.855,0.8625,0.87,0.8875,0.8975,0.9075,0.91,0.92,0.9225,0.9275,0.9275,0.93,0.935,0.935,0.94,0.94,0.94,0.94,0.94,0.94,0.945,0.945,0.945,0.945,0.945,0.9475,0.95,0.95,0.95,0.95,0.95,0.95,0.95,0.95,0.95,0.9525,0.95,0.955,0.9575,0.9625,0.9625,0.97,0.97,0.97,0.97,0.97,0.97,0.97,0.97,0.97,0.97,0.97,0.97,0.97,0.97,0.97,0.97,0.97,0.97,0.97,0.97,0.97,0.97,0.97,0.97,0.97,0.97,0.97,0.97,0.97,0.97,0.97,0.97,0.97,0.9725,0.9725,0.9725,0.9725,0.9725,0.9725,0.9725,0.9725,0.9725,0.9725,0.975,0.975,0.975,0.9775,0.9775,0.9775,0.9775,0.9775,0.9775,0.9775,0.9775,0.9775,0.9775,0.9775,0.9775,0.9775,0.9775,0.9775,0.98,0.98,0.98,0.98,0.98,0.98,0.98,0.98,0.98,0.98,0.98,0.98,0.98,0.98,0.98,0.98,0.98,0.98,0.98,0.98,0.98,0.98,0.98,0.98,0.98,0.98,0.98,0.98,0.98,0.98,0.98,0.98,0.98,0.98,0.98,0.98,0.98,0.98,0.98,0.98,0.98,0.98,0.98,0.98,0.98,0.98,0.98,0.98,0.98,0.98,0.98,0.98,0.98,0.98,0.98,0.98,0.98,0.98,0.98,0.98,0.98,0.98,0.98,0.98,0.98,0.98,0.98,0.98,0.98,0.98,0.98,0.98,0.98,0.98,0.98,0.98,0.98,0.98,0.98,0.98,0.98,0.98,0.98,0.98,0.98],\"x\":[1,2,3,4,5,6,7,8,9,10,11,12,13,14,15,16,17,18,19,20,21,22,23,24,25,26,27,28,29,30,31,32,33,34,35,36,37,38,39,40,41,42,43,44,45,46,47,48,49,50,51,52,53,54,55,56,57,58,59,60,61,62,63,64,65,66,67,68,69,70,71,72,73,74,75,76,77,78,79,80,81,82,83,84,85,86,87,88,89,90,91,92,93,94,95,96,97,98,99,100,101,102,103,104,105,106,107,108,109,110,111,112,113,114,115,116,117,118,119,120,121,122,123,124,125,126,127,128,129,130,131,132,133,134,135,136,137,138,139,140,141,142,143,144,145,146,147,148,149,150,151,152,153,154,155,156,157,158,159,160,161,162,163,164,165,166,167,168,169,170,171,172,173,174,175,176,177,178,179,180,181,182,183,184,185,186,187,188,189,190,191,192,193,194,195,196,197,198,199,200]},\"column_names\":[\"y\",\"x\"],\"cont_ranges\":{},\"discrete_ranges\":{},\"selected\":[],\"id\":\"5a378944-7b3c-4520-c586-07b43985377b\",\"doc\":null,\"tags\":[]}},{\"id\":\"374867bb-f5ed-4c03-cc94-c879f6a8e7fd\",\"type\":\"Line\",\"attributes\":{\"fill_alpha\":{\"units\":\"data\",\"value\":0.2},\"line_alpha\":{\"units\":\"data\",\"value\":1},\"doc\":null,\"size\":{\"units\":\"screen\",\"value\":10},\"fill_color\":{\"value\":\"blue\"},\"line_color\":{\"value\":\"blue\"},\"x\":{\"units\":\"data\",\"field\":\"x\"},\"id\":\"374867bb-f5ed-4c03-cc94-c879f6a8e7fd\",\"y\":{\"units\":\"data\",\"field\":\"y\"},\"tags\":[]}},{\"id\":\"e25517cd-3e4d-4ec9-ce13-b140731388c2\",\"type\":\"Line\",\"attributes\":{\"fill_alpha\":{\"units\":\"data\",\"value\":0.2},\"line_alpha\":{\"units\":\"data\",\"value\":1},\"doc\":null,\"size\":{\"units\":\"screen\",\"value\":10},\"fill_color\":{\"value\":\"blue\"},\"line_color\":{\"value\":\"blue\"},\"x\":{\"units\":\"data\",\"field\":\"x\"},\"id\":\"e25517cd-3e4d-4ec9-ce13-b140731388c2\",\"y\":{\"units\":\"data\",\"field\":\"y\"},\"tags\":[]}},{\"id\":\"621fe168-14ef-4273-c28b-8b87a11b42a0\",\"type\":\"GlyphRenderer\",\"attributes\":{\"name\":null,\"nonselection_glyph\":{\"type\":\"Line\",\"id\":\"e25517cd-3e4d-4ec9-ce13-b140731388c2\"},\"doc\":null,\"server_data_source\":null,\"data_source\":{\"type\":\"ColumnDataSource\",\"id\":\"5a378944-7b3c-4520-c586-07b43985377b\"},\"glyph\":{\"type\":\"Line\",\"id\":\"374867bb-f5ed-4c03-cc94-c879f6a8e7fd\"},\"selection_glyph\":null,\"id\":\"621fe168-14ef-4273-c28b-8b87a11b42a0\",\"tags\":[]}},{\"id\":\"38328263-8a7c-46bb-c6f9-c44451eaef01\",\"type\":\"ColumnDataSource\",\"attributes\":{\"data\":{\"y\":[0.25,0.4,0.55,0.725,0.775,0.775,0.775,0.825,0.85,0.85,0.85,0.875,0.875,0.875,0.875,0.875,0.875,0.875,0.9,0.9,0.925,0.925,0.925,0.925,0.925,0.925,0.925,0.925,0.925,0.925,0.95,0.95,0.95,0.925,0.925,0.95,0.95,0.95,0.95,0.975,0.975,0.975,0.975,0.975,0.975,0.975,0.975,0.975,0.975,0.975,0.975,0.975,0.975,0.975,0.975,0.975,0.975,0.975,0.975,0.975,0.975,0.975,0.975,0.975,0.975,0.975,0.975,0.975,0.975,0.975,0.975,0.975,0.975,0.975,0.975,0.975,0.975,0.975,0.975,0.975,0.975,0.975,0.975,0.975,0.975,0.975,0.975,0.975,0.975,0.975,0.975,0.975,0.975,0.975,0.975,0.975,0.975,0.975,0.975,0.975,0.975,0.975,0.975,0.975,0.975,0.975,0.975,0.975,0.975,0.975,0.975,0.975,0.975,0.975,0.975,0.975,0.975,0.975,0.975,0.975,0.975,0.975,0.975,0.975,0.975,0.975,0.975,0.975,0.975,0.975,0.975,0.975,0.975,0.975,0.975,0.975,0.975,0.975,0.975,0.975,0.975,0.975,0.975,0.975,0.975,0.975,0.975,0.975,0.975,0.975,0.975,0.975,0.975,0.975,0.975,0.975,0.975,0.975,0.975,0.975,0.975,0.975,0.975,0.975,0.975,0.975,0.975,0.975,0.975,0.975,0.975,0.975,0.975,0.975,0.975,0.975,0.975,0.975,0.975,0.975,0.975,0.975,0.975,0.975,0.975,0.975,0.975,0.975,0.975,0.975,0.975,0.975,0.975,0.975,0.975,0.975,0.975,0.975,0.975,0.975],\"x\":[1,2,3,4,5,6,7,8,9,10,11,12,13,14,15,16,17,18,19,20,21,22,23,24,25,26,27,28,29,30,31,32,33,34,35,36,37,38,39,40,41,42,43,44,45,46,47,48,49,50,51,52,53,54,55,56,57,58,59,60,61,62,63,64,65,66,67,68,69,70,71,72,73,74,75,76,77,78,79,80,81,82,83,84,85,86,87,88,89,90,91,92,93,94,95,96,97,98,99,100,101,102,103,104,105,106,107,108,109,110,111,112,113,114,115,116,117,118,119,120,121,122,123,124,125,126,127,128,129,130,131,132,133,134,135,136,137,138,139,140,141,142,143,144,145,146,147,148,149,150,151,152,153,154,155,156,157,158,159,160,161,162,163,164,165,166,167,168,169,170,171,172,173,174,175,176,177,178,179,180,181,182,183,184,185,186,187,188,189,190,191,192,193,194,195,196,197,198,199,200]},\"column_names\":[\"y\",\"x\"],\"cont_ranges\":{},\"discrete_ranges\":{},\"selected\":[],\"id\":\"38328263-8a7c-46bb-c6f9-c44451eaef01\",\"doc\":null,\"tags\":[]}},{\"id\":\"77dff367-a034-4c70-cc05-f6348dfc3182\",\"type\":\"Line\",\"attributes\":{\"fill_alpha\":{\"units\":\"data\",\"value\":0.2},\"line_alpha\":{\"units\":\"data\",\"value\":1},\"doc\":null,\"size\":{\"units\":\"screen\",\"value\":10},\"fill_color\":{\"value\":\"green\"},\"line_color\":{\"value\":\"green\"},\"x\":{\"units\":\"data\",\"field\":\"x\"},\"id\":\"77dff367-a034-4c70-cc05-f6348dfc3182\",\"y\":{\"units\":\"data\",\"field\":\"y\"},\"tags\":[]}},{\"id\":\"720ce3f4-adbd-4759-c74d-6d1c03a579fa\",\"type\":\"Line\",\"attributes\":{\"fill_alpha\":{\"units\":\"data\",\"value\":0.2},\"line_alpha\":{\"units\":\"data\",\"value\":1},\"doc\":null,\"size\":{\"units\":\"screen\",\"value\":10},\"fill_color\":{\"value\":\"green\"},\"line_color\":{\"value\":\"green\"},\"x\":{\"units\":\"data\",\"field\":\"x\"},\"id\":\"720ce3f4-adbd-4759-c74d-6d1c03a579fa\",\"y\":{\"units\":\"data\",\"field\":\"y\"},\"tags\":[]}},{\"id\":\"1ca17190-8551-4779-c7cb-80a9f4e2a7df\",\"type\":\"GlyphRenderer\",\"attributes\":{\"name\":null,\"nonselection_glyph\":{\"type\":\"Line\",\"id\":\"720ce3f4-adbd-4759-c74d-6d1c03a579fa\"},\"doc\":null,\"server_data_source\":null,\"data_source\":{\"type\":\"ColumnDataSource\",\"id\":\"38328263-8a7c-46bb-c6f9-c44451eaef01\"},\"glyph\":{\"type\":\"Line\",\"id\":\"77dff367-a034-4c70-cc05-f6348dfc3182\"},\"selection_glyph\":null,\"id\":\"1ca17190-8551-4779-c7cb-80a9f4e2a7df\",\"tags\":[]}},{\"id\":\"2f86fe8e-949c-4a13-caa9-3e5857977ae1\",\"type\":\"DataRange1d\",\"attributes\":{\"sources\":[{\"columns\":[\"x\"],\"source\":{\"type\":\"ColumnDataSource\",\"id\":\"5a378944-7b3c-4520-c586-07b43985377b\"}},{\"columns\":[\"x\"],\"source\":{\"type\":\"ColumnDataSource\",\"id\":\"38328263-8a7c-46bb-c6f9-c44451eaef01\"}}],\"id\":\"2f86fe8e-949c-4a13-caa9-3e5857977ae1\",\"tags\":[],\"doc\":null}},{\"id\":\"09dfa364-055c-4f2d-cfeb-3c05cb99a532\",\"type\":\"DataRange1d\",\"attributes\":{\"sources\":[{\"columns\":[\"y\"],\"source\":{\"type\":\"ColumnDataSource\",\"id\":\"5a378944-7b3c-4520-c586-07b43985377b\"}},{\"columns\":[\"y\"],\"source\":{\"type\":\"ColumnDataSource\",\"id\":\"38328263-8a7c-46bb-c6f9-c44451eaef01\"}}],\"id\":\"09dfa364-055c-4f2d-cfeb-3c05cb99a532\",\"tags\":[],\"doc\":null}},{\"id\":\"852ef399-86af-4f40-cff6-91572f09d876\",\"type\":\"ToolEvents\",\"attributes\":{\"tags\":[],\"id\":\"852ef399-86af-4f40-cff6-91572f09d876\",\"geometries\":[],\"doc\":null}},{\"id\":\"c7484057-4e31-4147-c105-8a831a95b851\",\"type\":\"BasicTickFormatter\",\"attributes\":{\"id\":\"c7484057-4e31-4147-c105-8a831a95b851\",\"tags\":[],\"doc\":null}},{\"id\":\"7ca36d43-9f1c-4602-c6f8-e30d7fb8cc4f\",\"type\":\"BasicTicker\",\"attributes\":{\"num_minor_ticks\":5,\"id\":\"7ca36d43-9f1c-4602-c6f8-e30d7fb8cc4f\",\"tags\":[],\"doc\":null}},{\"id\":\"f6d71c74-7cfb-4362-c349-3a585482f586\",\"type\":\"LinearAxis\",\"attributes\":{\"formatter\":{\"type\":\"BasicTickFormatter\",\"id\":\"c7484057-4e31-4147-c105-8a831a95b851\"},\"ticker\":{\"type\":\"BasicTicker\",\"id\":\"7ca36d43-9f1c-4602-c6f8-e30d7fb8cc4f\"},\"plot\":{\"id\":\"68f2fcf8-32da-40e7-c0d0-7a2a27313279\",\"type\":\"Plot\",\"subtype\":\"Figure\"},\"axis_label\":null,\"id\":\"f6d71c74-7cfb-4362-c349-3a585482f586\",\"doc\":null,\"tags\":[]}},{\"id\":\"351ac447-c818-4f0b-cf4b-2ef056d2039a\",\"type\":\"Grid\",\"attributes\":{\"dimension\":0,\"plot\":{\"id\":\"68f2fcf8-32da-40e7-c0d0-7a2a27313279\",\"type\":\"Plot\",\"subtype\":\"Figure\"},\"ticker\":{\"type\":\"BasicTicker\",\"id\":\"7ca36d43-9f1c-4602-c6f8-e30d7fb8cc4f\"},\"id\":\"351ac447-c818-4f0b-cf4b-2ef056d2039a\",\"doc\":null,\"tags\":[]}},{\"id\":\"68469f62-13e4-4d27-cda5-3d3e095dc96f\",\"type\":\"BasicTickFormatter\",\"attributes\":{\"id\":\"68469f62-13e4-4d27-cda5-3d3e095dc96f\",\"tags\":[],\"doc\":null}},{\"id\":\"5555784c-21ae-4b1e-cbe6-692d6625e94c\",\"type\":\"BasicTicker\",\"attributes\":{\"num_minor_ticks\":5,\"id\":\"5555784c-21ae-4b1e-cbe6-692d6625e94c\",\"tags\":[],\"doc\":null}},{\"id\":\"8e06e78b-290c-40ab-c0e2-f20a21239b49\",\"type\":\"LinearAxis\",\"attributes\":{\"formatter\":{\"type\":\"BasicTickFormatter\",\"id\":\"68469f62-13e4-4d27-cda5-3d3e095dc96f\"},\"ticker\":{\"type\":\"BasicTicker\",\"id\":\"5555784c-21ae-4b1e-cbe6-692d6625e94c\"},\"plot\":{\"id\":\"68f2fcf8-32da-40e7-c0d0-7a2a27313279\",\"type\":\"Plot\",\"subtype\":\"Figure\"},\"axis_label\":null,\"id\":\"8e06e78b-290c-40ab-c0e2-f20a21239b49\",\"doc\":null,\"tags\":[]}},{\"id\":\"889063d5-6197-4825-c801-0943a9477086\",\"type\":\"Grid\",\"attributes\":{\"dimension\":1,\"plot\":{\"id\":\"68f2fcf8-32da-40e7-c0d0-7a2a27313279\",\"type\":\"Plot\",\"subtype\":\"Figure\"},\"ticker\":{\"type\":\"BasicTicker\",\"id\":\"5555784c-21ae-4b1e-cbe6-692d6625e94c\"},\"id\":\"889063d5-6197-4825-c801-0943a9477086\",\"doc\":null,\"tags\":[]}},{\"id\":\"003a2821-2281-4bb6-cb26-fed19c8bdf36\",\"type\":\"PanTool\",\"attributes\":{\"plot\":{\"id\":\"68f2fcf8-32da-40e7-c0d0-7a2a27313279\",\"type\":\"Plot\",\"subtype\":\"Figure\"},\"dimensions\":[\"width\",\"height\"],\"id\":\"003a2821-2281-4bb6-cb26-fed19c8bdf36\",\"doc\":null,\"tags\":[]}},{\"id\":\"3b6f28be-87f8-41e7-c1f7-4faf32e3fce3\",\"type\":\"WheelZoomTool\",\"attributes\":{\"plot\":{\"id\":\"68f2fcf8-32da-40e7-c0d0-7a2a27313279\",\"type\":\"Plot\",\"subtype\":\"Figure\"},\"dimensions\":[\"width\",\"height\"],\"id\":\"3b6f28be-87f8-41e7-c1f7-4faf32e3fce3\",\"doc\":null,\"tags\":[]}},{\"id\":\"6f897ac0-ff26-4519-c5f3-08c00d0b87cd\",\"type\":\"BoxZoomTool\",\"attributes\":{\"plot\":{\"id\":\"68f2fcf8-32da-40e7-c0d0-7a2a27313279\",\"type\":\"Plot\",\"subtype\":\"Figure\"},\"id\":\"6f897ac0-ff26-4519-c5f3-08c00d0b87cd\",\"tags\":[],\"doc\":null}},{\"id\":\"68663a4c-d5b7-41f0-c190-4f71050f6364\",\"type\":\"PreviewSaveTool\",\"attributes\":{\"plot\":{\"id\":\"68f2fcf8-32da-40e7-c0d0-7a2a27313279\",\"type\":\"Plot\",\"subtype\":\"Figure\"},\"id\":\"68663a4c-d5b7-41f0-c190-4f71050f6364\",\"tags\":[],\"doc\":null}},{\"id\":\"13820127-d537-41f7-c15d-06b0f3819c39\",\"type\":\"ResizeTool\",\"attributes\":{\"plot\":{\"id\":\"68f2fcf8-32da-40e7-c0d0-7a2a27313279\",\"type\":\"Plot\",\"subtype\":\"Figure\"},\"id\":\"13820127-d537-41f7-c15d-06b0f3819c39\",\"tags\":[],\"doc\":null}},{\"id\":\"d161191c-007f-4c6b-cc08-aae107767589\",\"type\":\"ResetTool\",\"attributes\":{\"plot\":{\"id\":\"68f2fcf8-32da-40e7-c0d0-7a2a27313279\",\"type\":\"Plot\",\"subtype\":\"Figure\"},\"id\":\"d161191c-007f-4c6b-cc08-aae107767589\",\"tags\":[],\"doc\":null}},{\"id\":\"8524d7ff-26bb-47ea-c79d-84963ca7d69f\",\"type\":\"Legend\",\"attributes\":{\"plot\":{\"id\":\"68f2fcf8-32da-40e7-c0d0-7a2a27313279\",\"type\":\"Plot\",\"subtype\":\"Figure\"},\"legends\":[[\"train_acc\",[{\"type\":\"GlyphRenderer\",\"id\":\"621fe168-14ef-4273-c28b-8b87a11b42a0\"}]],[\"val_acc\",[{\"type\":\"GlyphRenderer\",\"id\":\"1ca17190-8551-4779-c7cb-80a9f4e2a7df\"}]]],\"id\":\"8524d7ff-26bb-47ea-c79d-84963ca7d69f\",\"doc\":null,\"tags\":[]}},{\"id\":\"68f2fcf8-32da-40e7-c0d0-7a2a27313279\",\"type\":\"Plot\",\"attributes\":{\"x_range\":{\"type\":\"DataRange1d\",\"id\":\"2f86fe8e-949c-4a13-caa9-3e5857977ae1\"},\"tool_events\":{\"type\":\"ToolEvents\",\"id\":\"852ef399-86af-4f40-cff6-91572f09d876\"},\"below\":[{\"type\":\"LinearAxis\",\"id\":\"f6d71c74-7cfb-4362-c349-3a585482f586\"}],\"renderers\":[{\"type\":\"GlyphRenderer\",\"id\":\"621fe168-14ef-4273-c28b-8b87a11b42a0\"},{\"type\":\"GlyphRenderer\",\"id\":\"1ca17190-8551-4779-c7cb-80a9f4e2a7df\"},{\"type\":\"LinearAxis\",\"id\":\"f6d71c74-7cfb-4362-c349-3a585482f586\"},{\"type\":\"Grid\",\"id\":\"351ac447-c818-4f0b-cf4b-2ef056d2039a\"},{\"type\":\"LinearAxis\",\"id\":\"8e06e78b-290c-40ab-c0e2-f20a21239b49\"},{\"type\":\"Grid\",\"id\":\"889063d5-6197-4825-c801-0943a9477086\"},{\"type\":\"Legend\",\"id\":\"8524d7ff-26bb-47ea-c79d-84963ca7d69f\"}],\"above\":[],\"tools\":[{\"type\":\"PanTool\",\"id\":\"003a2821-2281-4bb6-cb26-fed19c8bdf36\"},{\"type\":\"WheelZoomTool\",\"id\":\"3b6f28be-87f8-41e7-c1f7-4faf32e3fce3\"},{\"type\":\"BoxZoomTool\",\"id\":\"6f897ac0-ff26-4519-c5f3-08c00d0b87cd\"},{\"type\":\"PreviewSaveTool\",\"id\":\"68663a4c-d5b7-41f0-c190-4f71050f6364\"},{\"type\":\"ResizeTool\",\"id\":\"13820127-d537-41f7-c15d-06b0f3819c39\"},{\"type\":\"ResetTool\",\"id\":\"d161191c-007f-4c6b-cc08-aae107767589\"}],\"doc\":null,\"right\":[],\"title\":\"Accuracy\",\"extra_x_ranges\":{},\"left\":[{\"type\":\"LinearAxis\",\"id\":\"8e06e78b-290c-40ab-c0e2-f20a21239b49\"}],\"y_range\":{\"type\":\"DataRange1d\",\"id\":\"09dfa364-055c-4f2d-cfeb-3c05cb99a532\"},\"id\":\"68f2fcf8-32da-40e7-c0d0-7a2a27313279\",\"extra_y_ranges\":{},\"tags\":[]}}];\n",
       "      Bokeh.load_models(all_models);\n",
       "      var model = Bokeh.Collections(modeltype).get(modelid);\n",
       "      $(\"#5ca795bb-e696-4f46-cf25-a9f5564f16c4\").html(''); // clear any previous plot in window_id\n",
       "      var view = new model.default_view({model: model, el: \"#5ca795bb-e696-4f46-cf25-a9f5564f16c4\"});\n",
       "  });\n",
       "    }\n",
       "});\n",
       "</script>\n",
       "<div class=\"plotdiv\" id=\"c1508e7a-feda-48bc-c844-99fecdf5c70f\"></div>\n"
      ]
     },
     "metadata": {},
     "output_type": "display_data"
    }
   ],
   "source": [
    "local x = torch.range(1, #recorder.loss)\n",
    "plt = Plot():line(x, recorder.loss,'red','loss'):legend(true):title('Train Loss'):draw()\n",
    "plt = Plot():line(x, recorder.trainacc,'blue','train_acc'):legend(true):title('Accuracy'):draw()\n",
    "plt:line(x, recorder.valacc,'green','val_acc'):redraw()"
   ]
  },
  {
   "cell_type": "code",
   "execution_count": 12,
   "metadata": {
    "collapsed": false
   },
   "outputs": [
    {
     "data": {
      "text/plain": [
       "accuracy on train set 0.98\t\n"
      ]
     },
     "execution_count": 12,
     "metadata": {},
     "output_type": "execute_result"
    },
    {
     "data": {
      "text/plain": [
       "accuracy on test set 0.975\t\n"
      ]
     },
     "execution_count": 12,
     "metadata": {},
     "output_type": "execute_result"
    },
    {
     "data": {
      "text/plain": [
       "accuracy on new test set 0.76315789473684\t\n"
      ]
     },
     "execution_count": 12,
     "metadata": {},
     "output_type": "execute_result"
    }
   ],
   "source": [
    "print ('accuracy on train set '..cal_acc(trainset))\n",
    "print ('accuracy on test set '..cal_acc(testset))\n",
    "print ('accuracy on new test set '..cal_acc(newtestset))"
   ]
  },
  {
   "cell_type": "code",
   "execution_count": null,
   "metadata": {
    "collapsed": true
   },
   "outputs": [],
   "source": []
  },
  {
   "cell_type": "code",
   "execution_count": null,
   "metadata": {
    "collapsed": true
   },
   "outputs": [],
   "source": []
  },
  {
   "cell_type": "code",
   "execution_count": null,
   "metadata": {
    "collapsed": true
   },
   "outputs": [],
   "source": []
  },
  {
   "cell_type": "code",
   "execution_count": null,
   "metadata": {
    "collapsed": true
   },
   "outputs": [],
   "source": []
  },
  {
   "cell_type": "code",
   "execution_count": null,
   "metadata": {
    "collapsed": true
   },
   "outputs": [],
   "source": []
  }
 ],
 "metadata": {
  "kernelspec": {
   "display_name": "iTorch",
   "language": "lua",
   "name": "itorch"
  },
  "language_info": {
   "name": "lua",
   "version": "5.1"
  }
 },
 "nbformat": 4,
 "nbformat_minor": 0
}
